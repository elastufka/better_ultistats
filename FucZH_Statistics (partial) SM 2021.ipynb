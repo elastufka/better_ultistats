{
 "cells": [
  {
   "cell_type": "markdown",
   "metadata": {
    "slideshow": {
     "slide_type": "slide"
    }
   },
   "source": [
    "# Mixed SM 2021 \n",
    "\n",
    "<table><tr>\n",
    "<td><img src=\"https://raw.githubusercontent.com/elastufka/presentations/master/images/ZU_logo1.png\" width=\"200\"></td>\n",
    " <td><img src=\"https://encrypted-tbn0.gstatic.com/images?q=tbn:ANd9GcSOgmNJ347YwD-sfSxjATPgVkPQh6XknjCv4Q&usqp=CAU\" width='200'></td></tr>\n",
    "    </table>\n",
    "    \n",
    " **Some (incomplete) statistics, now with more information content**\n",
    " "
   ]
  },
  {
   "cell_type": "markdown",
   "metadata": {
    "slideshow": {
     "slide_type": "fragment"
    }
   },
   "source": [
    "## About the Plots\n",
    "\n",
    "They are fully interactive! Just in case you have not encountered this before... it should be pretty easy to figure out when you hover your mouse in random places and it tells you what you can do.\n",
    "\n",
    "I would not advise looking at this on a mobile phone.\n",
    "\n",
    "## About the Data\n",
    "**Skip if you're impatient**\n",
    "\n",
    "- Statistics taken with UltiAnalytics app using GoPro footage. I couldn't always see the endzones...\n",
    "\n",
    "- Limitations of UltiAnalytics: All turns from our team are either drops or throwaways. So if a player got D'd it's counted as one of those (usually depending on how close to the camera it happened - if it was closer chances are higher I counted it as a drop because I could see what was going on)\n",
    "\n",
    "- Timing data was useless here since I was often pausing or rewinding the video feed to try and figure out who was who \n",
    "\n",
    "- Data is anonymized since this is public (but probably hard to find) \n",
    "\n",
    "- Anonymized data and code available [here]()"
   ]
  },
  {
   "cell_type": "code",
   "execution_count": null,
   "metadata": {
    "slideshow": {
     "slide_type": "fragment"
    }
   },
   "outputs": [],
   "source": []
  },
  {
   "cell_type": "code",
   "execution_count": null,
   "metadata": {
    "slideshow": {
     "slide_type": "fragment"
    }
   },
   "outputs": [],
   "source": []
  },
  {
   "cell_type": "code",
   "execution_count": 1,
   "metadata": {
    "slideshow": {
     "slide_type": "skip"
    }
   },
   "outputs": [],
   "source": [
    "#py37\n",
    "import pandas as pd \n",
    "import plotly\n",
    "from plotly import graph_objects as go\n",
    "import plotly.express as px\n",
    "from PIL import ImageColor\n",
    "from ultistats_utils import *\n",
    "from visualization_tools import *"
   ]
  },
  {
   "cell_type": "code",
   "execution_count": 2,
   "metadata": {
    "slideshow": {
     "slide_type": "skip"
    }
   },
   "outputs": [],
   "source": [
    "#slideshow stuff\n",
    "from IPython.display import Javascript\n",
    "from plotly.offline import get_plotlyjs\n",
    "Javascript(get_plotlyjs())\n",
    "slidew=850\n",
    "slideh=600\n",
    "set_pride_template()"
   ]
  },
  {
   "cell_type": "code",
   "execution_count": 3,
   "metadata": {
    "slideshow": {
     "slide_type": "skip"
    }
   },
   "outputs": [],
   "source": [
    "pcolors=pride_colors_plotly()\n",
    "bcolors=pride_colors_plotly(flag='bi')\n",
    "logo_layout=global_layout()"
   ]
  },
  {
   "cell_type": "markdown",
   "metadata": {
    "slideshow": {
     "slide_type": "skip"
    }
   },
   "source": [
    "## Load & Prep Data"
   ]
  },
  {
   "cell_type": "code",
   "execution_count": 219,
   "metadata": {
    "slideshow": {
     "slide_type": "skip"
    }
   },
   "outputs": [],
   "source": [
    "df=pd.read_csv('FucZH-stats.csv')"
   ]
  },
  {
   "cell_type": "code",
   "execution_count": 220,
   "metadata": {
    "slideshow": {
     "slide_type": "skip"
    }
   },
   "outputs": [],
   "source": [
    "df.drop(columns=list(df.keys())[20:],inplace=True)"
   ]
  },
  {
   "cell_type": "code",
   "execution_count": 222,
   "metadata": {
    "slideshow": {
     "slide_type": "skip"
    }
   },
   "outputs": [],
   "source": [
    "df['Passer_matchup']=['W' if p in wline else 'M' if p in mline else 'U' if p== 'Anonymous' else p for p in df.Passer]\n",
    "df['Receiver_matchup']=['W' if p in wline else 'M' if p in mline else 'U' if p== 'Anonymous' else p for p in df.Receiver]\n",
    "df['Defender_matchup']=['W' if p in wline else 'M' if p in mline else 'U' if p== 'Anonymous' else p for p in df.Defender]"
   ]
  },
  {
   "cell_type": "code",
   "execution_count": 224,
   "metadata": {
    "slideshow": {
     "slide_type": "skip"
    }
   },
   "outputs": [],
   "source": [
    "break_type,hockey_assist,assist,scorer,gng,gngm,gngn,opp_ta=[],[],[],[],[],[],[],[]\n",
    "turns,touches=[],[]\n",
    "W4_M3=[]\n",
    "M4_W3=[]\n",
    "\n",
    "for idx,row in df.iterrows():\n",
    "    #print(row,row['Line'])\n",
    "    turns.append(is_turn(row))\n",
    "    touches.append(sort_touches(row))\n",
    "    assist.append(is_assist(row))\n",
    "    scorer.append(goal_scorer(row))\n",
    "    seven_on=[row[k] for k in row.keys() if 'Player' in k]\n",
    "    #print(seven_on)\n",
    "    if gender_ratio(seven_on,wline,mline) == 1:\n",
    "        W4_M3.append(1)\n",
    "        M4_W3.append(0)\n",
    "    else:\n",
    "        W4_M3.append(0)\n",
    "        M4_W3.append(1)\n",
    "    #opponent throwaway?\n",
    "    if row.Action=='Throwaway' and type(row.Passer)==float: #nan\n",
    "        opp_ta.append(1)\n",
    "    else:\n",
    "        opp_ta.append(0)\n",
    "    try:\n",
    "        isgng,gm,gn=give_and_go(df,idx,row)\n",
    "        if type(gn)==list:\n",
    "            gn.sort()\n",
    "            gn=tuple(gn)\n",
    "        gng.append(isgng)\n",
    "        gngm.append(gm)\n",
    "        gngn.append(gn)\n",
    "        hockey_assist.append(is_hockey_assist(df,idx,row))\n",
    "    except (KeyError,IndexError) as e:\n",
    "        hockey_assist.append(None)\n",
    "        gng.append(None)\n",
    "        gngm.append(None)\n",
    "        gngn.append(None)\n",
    "        pass\n",
    "    if idx >0:\n",
    "        break_type.append(is_break(row['Line'],row['Action'],row['Receiver']))\n",
    "        #print(row['Line'],row['Action'],row['Receiver'],break_type)\n",
    "    else:\n",
    "        break_type.append(None)"
   ]
  },
  {
   "cell_type": "code",
   "execution_count": 225,
   "metadata": {
    "slideshow": {
     "slide_type": "skip"
    }
   },
   "outputs": [],
   "source": [
    "#anonymize - might need to run this at the end just in case\n",
    "for k,v in anony_dict.items():\n",
    "    df.replace(k,v,inplace=True)"
   ]
  },
  {
   "cell_type": "code",
   "execution_count": 226,
   "metadata": {
    "slideshow": {
     "slide_type": "skip"
    }
   },
   "outputs": [],
   "source": [
    "df['W4_M3']=W4_M3\n",
    "df['M4_W3']=M4_W3\n",
    "df['Offense_line']=[1 if l == 'O' else 0 for l in df.Line]"
   ]
  },
  {
   "cell_type": "code",
   "execution_count": 227,
   "metadata": {},
   "outputs": [],
   "source": [
    "game_dict={'Fly High Lausanne':1,'Wombats Willisau':2,'Wizards Geneva':3,'FSL':4,'FSL (Quarters)':5,'Fly High (Semis)':6,'Crazy Dogs':7}"
   ]
  },
  {
   "cell_type": "code",
   "execution_count": 228,
   "metadata": {},
   "outputs": [],
   "source": [
    "df['Game_Number']=[game_dict[row.Opponent] for _,row in df.iterrows()]"
   ]
  },
  {
   "cell_type": "code",
   "execution_count": 229,
   "metadata": {
    "slideshow": {
     "slide_type": "skip"
    }
   },
   "outputs": [],
   "source": [
    "df['Break']=break_type\n",
    "df['Hockey_assist']=hockey_assist\n",
    "df['Scorer']=scorer\n",
    "df['Assist']=assist\n",
    "df['Turn']=turns\n",
    "df['Touches']=touches\n",
    "df['give-and-go']=gng\n",
    "df['give-and-go_matchup']=gngm\n",
    "df['give-and-go_pairs']=gngn\n",
    "df['opponent_throwaway']=opp_ta"
   ]
  },
  {
   "cell_type": "code",
   "execution_count": 230,
   "metadata": {
    "slideshow": {
     "slide_type": "skip"
    }
   },
   "outputs": [],
   "source": [
    "df['Pass_matchup']=df.Passer_matchup+df.Receiver_matchup\n",
    "df['PointID']=[o+f\"{op:02d}\"+f\"{tp:02d}\" for o,op,tp in zip(df.Opponent,df['Our Score - End of Point'],df['Their Score - End of Point'])]"
   ]
  },
  {
   "cell_type": "code",
   "execution_count": 237,
   "metadata": {
    "slideshow": {
     "slide_type": "skip"
    }
   },
   "outputs": [
    {
     "data": {
      "text/html": [
       "<div>\n",
       "<style scoped>\n",
       "    .dataframe tbody tr th:only-of-type {\n",
       "        vertical-align: middle;\n",
       "    }\n",
       "\n",
       "    .dataframe tbody tr th {\n",
       "        vertical-align: top;\n",
       "    }\n",
       "\n",
       "    .dataframe thead th {\n",
       "        text-align: right;\n",
       "    }\n",
       "</style>\n",
       "<table border=\"1\" class=\"dataframe\">\n",
       "  <thead>\n",
       "    <tr style=\"text-align: right;\">\n",
       "      <th></th>\n",
       "      <th>Date/Time</th>\n",
       "      <th>Tournamemnt</th>\n",
       "      <th>Opponent</th>\n",
       "      <th>Point Elapsed Seconds</th>\n",
       "      <th>Line</th>\n",
       "      <th>Our Score - End of Point</th>\n",
       "      <th>Their Score - End of Point</th>\n",
       "      <th>Event Type</th>\n",
       "      <th>Action</th>\n",
       "      <th>Passer</th>\n",
       "      <th>...</th>\n",
       "      <th>EndOfThirdQuarter</th>\n",
       "      <th>GameOver</th>\n",
       "      <th>Goal</th>\n",
       "      <th>Halftime</th>\n",
       "      <th>Pull</th>\n",
       "      <th>PullOb</th>\n",
       "      <th>Throwaway</th>\n",
       "      <th>Touch_M</th>\n",
       "      <th>Touch_U</th>\n",
       "      <th>Touch_W</th>\n",
       "    </tr>\n",
       "  </thead>\n",
       "  <tbody>\n",
       "    <tr>\n",
       "      <th>0</th>\n",
       "      <td>2021-09-20 13:34</td>\n",
       "      <td>Mixed SM 2021</td>\n",
       "      <td>Crazy Dogs</td>\n",
       "      <td>130</td>\n",
       "      <td>D</td>\n",
       "      <td>0</td>\n",
       "      <td>1</td>\n",
       "      <td>Defense</td>\n",
       "      <td>Pull</td>\n",
       "      <td>NaN</td>\n",
       "      <td>...</td>\n",
       "      <td>0</td>\n",
       "      <td>0</td>\n",
       "      <td>0</td>\n",
       "      <td>0</td>\n",
       "      <td>1</td>\n",
       "      <td>0</td>\n",
       "      <td>0</td>\n",
       "      <td>0</td>\n",
       "      <td>0</td>\n",
       "      <td>0</td>\n",
       "    </tr>\n",
       "    <tr>\n",
       "      <th>1</th>\n",
       "      <td>2021-09-20 13:34</td>\n",
       "      <td>Mixed SM 2021</td>\n",
       "      <td>Crazy Dogs</td>\n",
       "      <td>130</td>\n",
       "      <td>D</td>\n",
       "      <td>0</td>\n",
       "      <td>1</td>\n",
       "      <td>Defense</td>\n",
       "      <td>D</td>\n",
       "      <td>NaN</td>\n",
       "      <td>...</td>\n",
       "      <td>0</td>\n",
       "      <td>0</td>\n",
       "      <td>0</td>\n",
       "      <td>0</td>\n",
       "      <td>0</td>\n",
       "      <td>0</td>\n",
       "      <td>0</td>\n",
       "      <td>1</td>\n",
       "      <td>0</td>\n",
       "      <td>0</td>\n",
       "    </tr>\n",
       "    <tr>\n",
       "      <th>2</th>\n",
       "      <td>2021-09-20 13:34</td>\n",
       "      <td>Mixed SM 2021</td>\n",
       "      <td>Crazy Dogs</td>\n",
       "      <td>130</td>\n",
       "      <td>D</td>\n",
       "      <td>0</td>\n",
       "      <td>1</td>\n",
       "      <td>Offense</td>\n",
       "      <td>Catch</td>\n",
       "      <td>FS</td>\n",
       "      <td>...</td>\n",
       "      <td>0</td>\n",
       "      <td>0</td>\n",
       "      <td>0</td>\n",
       "      <td>0</td>\n",
       "      <td>0</td>\n",
       "      <td>0</td>\n",
       "      <td>0</td>\n",
       "      <td>1</td>\n",
       "      <td>0</td>\n",
       "      <td>0</td>\n",
       "    </tr>\n",
       "    <tr>\n",
       "      <th>3</th>\n",
       "      <td>2021-09-20 13:34</td>\n",
       "      <td>Mixed SM 2021</td>\n",
       "      <td>Crazy Dogs</td>\n",
       "      <td>130</td>\n",
       "      <td>D</td>\n",
       "      <td>0</td>\n",
       "      <td>1</td>\n",
       "      <td>Offense</td>\n",
       "      <td>Catch</td>\n",
       "      <td>CS</td>\n",
       "      <td>...</td>\n",
       "      <td>0</td>\n",
       "      <td>0</td>\n",
       "      <td>0</td>\n",
       "      <td>0</td>\n",
       "      <td>0</td>\n",
       "      <td>0</td>\n",
       "      <td>0</td>\n",
       "      <td>1</td>\n",
       "      <td>0</td>\n",
       "      <td>0</td>\n",
       "    </tr>\n",
       "    <tr>\n",
       "      <th>4</th>\n",
       "      <td>2021-09-20 13:34</td>\n",
       "      <td>Mixed SM 2021</td>\n",
       "      <td>Crazy Dogs</td>\n",
       "      <td>130</td>\n",
       "      <td>D</td>\n",
       "      <td>0</td>\n",
       "      <td>1</td>\n",
       "      <td>Offense</td>\n",
       "      <td>Drop</td>\n",
       "      <td>SG</td>\n",
       "      <td>...</td>\n",
       "      <td>0</td>\n",
       "      <td>0</td>\n",
       "      <td>0</td>\n",
       "      <td>0</td>\n",
       "      <td>0</td>\n",
       "      <td>0</td>\n",
       "      <td>0</td>\n",
       "      <td>1</td>\n",
       "      <td>0</td>\n",
       "      <td>0</td>\n",
       "    </tr>\n",
       "    <tr>\n",
       "      <th>5</th>\n",
       "      <td>2021-09-20 13:34</td>\n",
       "      <td>Mixed SM 2021</td>\n",
       "      <td>Crazy Dogs</td>\n",
       "      <td>130</td>\n",
       "      <td>D</td>\n",
       "      <td>0</td>\n",
       "      <td>1</td>\n",
       "      <td>Defense</td>\n",
       "      <td>Goal</td>\n",
       "      <td>NaN</td>\n",
       "      <td>...</td>\n",
       "      <td>0</td>\n",
       "      <td>0</td>\n",
       "      <td>1</td>\n",
       "      <td>0</td>\n",
       "      <td>0</td>\n",
       "      <td>0</td>\n",
       "      <td>0</td>\n",
       "      <td>0</td>\n",
       "      <td>0</td>\n",
       "      <td>0</td>\n",
       "    </tr>\n",
       "    <tr>\n",
       "      <th>6</th>\n",
       "      <td>2021-09-20 13:34</td>\n",
       "      <td>Mixed SM 2021</td>\n",
       "      <td>Crazy Dogs</td>\n",
       "      <td>163</td>\n",
       "      <td>O</td>\n",
       "      <td>1</td>\n",
       "      <td>1</td>\n",
       "      <td>Offense</td>\n",
       "      <td>Catch</td>\n",
       "      <td>SH</td>\n",
       "      <td>...</td>\n",
       "      <td>0</td>\n",
       "      <td>0</td>\n",
       "      <td>0</td>\n",
       "      <td>0</td>\n",
       "      <td>0</td>\n",
       "      <td>0</td>\n",
       "      <td>0</td>\n",
       "      <td>1</td>\n",
       "      <td>0</td>\n",
       "      <td>0</td>\n",
       "    </tr>\n",
       "    <tr>\n",
       "      <th>7</th>\n",
       "      <td>2021-09-20 13:34</td>\n",
       "      <td>Mixed SM 2021</td>\n",
       "      <td>Crazy Dogs</td>\n",
       "      <td>163</td>\n",
       "      <td>O</td>\n",
       "      <td>1</td>\n",
       "      <td>1</td>\n",
       "      <td>Offense</td>\n",
       "      <td>Catch</td>\n",
       "      <td>GA</td>\n",
       "      <td>...</td>\n",
       "      <td>0</td>\n",
       "      <td>0</td>\n",
       "      <td>0</td>\n",
       "      <td>0</td>\n",
       "      <td>0</td>\n",
       "      <td>0</td>\n",
       "      <td>0</td>\n",
       "      <td>1</td>\n",
       "      <td>0</td>\n",
       "      <td>0</td>\n",
       "    </tr>\n",
       "    <tr>\n",
       "      <th>8</th>\n",
       "      <td>2021-09-20 13:34</td>\n",
       "      <td>Mixed SM 2021</td>\n",
       "      <td>Crazy Dogs</td>\n",
       "      <td>163</td>\n",
       "      <td>O</td>\n",
       "      <td>1</td>\n",
       "      <td>1</td>\n",
       "      <td>Offense</td>\n",
       "      <td>Catch</td>\n",
       "      <td>FS</td>\n",
       "      <td>...</td>\n",
       "      <td>0</td>\n",
       "      <td>0</td>\n",
       "      <td>0</td>\n",
       "      <td>0</td>\n",
       "      <td>0</td>\n",
       "      <td>0</td>\n",
       "      <td>0</td>\n",
       "      <td>1</td>\n",
       "      <td>0</td>\n",
       "      <td>0</td>\n",
       "    </tr>\n",
       "    <tr>\n",
       "      <th>9</th>\n",
       "      <td>2021-09-20 13:34</td>\n",
       "      <td>Mixed SM 2021</td>\n",
       "      <td>Crazy Dogs</td>\n",
       "      <td>163</td>\n",
       "      <td>O</td>\n",
       "      <td>1</td>\n",
       "      <td>1</td>\n",
       "      <td>Offense</td>\n",
       "      <td>Catch</td>\n",
       "      <td>GA</td>\n",
       "      <td>...</td>\n",
       "      <td>0</td>\n",
       "      <td>0</td>\n",
       "      <td>0</td>\n",
       "      <td>0</td>\n",
       "      <td>0</td>\n",
       "      <td>0</td>\n",
       "      <td>0</td>\n",
       "      <td>1</td>\n",
       "      <td>0</td>\n",
       "      <td>0</td>\n",
       "    </tr>\n",
       "  </tbody>\n",
       "</table>\n",
       "<p>10 rows × 53 columns</p>\n",
       "</div>"
      ],
      "text/plain": [
       "          Date/Time    Tournamemnt    Opponent  Point Elapsed Seconds Line  \\\n",
       "0  2021-09-20 13:34  Mixed SM 2021  Crazy Dogs                    130    D   \n",
       "1  2021-09-20 13:34  Mixed SM 2021  Crazy Dogs                    130    D   \n",
       "2  2021-09-20 13:34  Mixed SM 2021  Crazy Dogs                    130    D   \n",
       "3  2021-09-20 13:34  Mixed SM 2021  Crazy Dogs                    130    D   \n",
       "4  2021-09-20 13:34  Mixed SM 2021  Crazy Dogs                    130    D   \n",
       "5  2021-09-20 13:34  Mixed SM 2021  Crazy Dogs                    130    D   \n",
       "6  2021-09-20 13:34  Mixed SM 2021  Crazy Dogs                    163    O   \n",
       "7  2021-09-20 13:34  Mixed SM 2021  Crazy Dogs                    163    O   \n",
       "8  2021-09-20 13:34  Mixed SM 2021  Crazy Dogs                    163    O   \n",
       "9  2021-09-20 13:34  Mixed SM 2021  Crazy Dogs                    163    O   \n",
       "\n",
       "   Our Score - End of Point  Their Score - End of Point Event Type Action  \\\n",
       "0                         0                           1    Defense   Pull   \n",
       "1                         0                           1    Defense      D   \n",
       "2                         0                           1    Offense  Catch   \n",
       "3                         0                           1    Offense  Catch   \n",
       "4                         0                           1    Offense   Drop   \n",
       "5                         0                           1    Defense   Goal   \n",
       "6                         1                           1    Offense  Catch   \n",
       "7                         1                           1    Offense  Catch   \n",
       "8                         1                           1    Offense  Catch   \n",
       "9                         1                           1    Offense  Catch   \n",
       "\n",
       "  Passer  ... EndOfThirdQuarter GameOver  Goal Halftime Pull PullOb Throwaway  \\\n",
       "0    NaN  ...                 0        0     0        0    1      0         0   \n",
       "1    NaN  ...                 0        0     0        0    0      0         0   \n",
       "2     FS  ...                 0        0     0        0    0      0         0   \n",
       "3     CS  ...                 0        0     0        0    0      0         0   \n",
       "4     SG  ...                 0        0     0        0    0      0         0   \n",
       "5    NaN  ...                 0        0     1        0    0      0         0   \n",
       "6     SH  ...                 0        0     0        0    0      0         0   \n",
       "7     GA  ...                 0        0     0        0    0      0         0   \n",
       "8     FS  ...                 0        0     0        0    0      0         0   \n",
       "9     GA  ...                 0        0     0        0    0      0         0   \n",
       "\n",
       "  Touch_M Touch_U Touch_W  \n",
       "0       0       0       0  \n",
       "1       1       0       0  \n",
       "2       1       0       0  \n",
       "3       1       0       0  \n",
       "4       1       0       0  \n",
       "5       0       0       0  \n",
       "6       1       0       0  \n",
       "7       1       0       0  \n",
       "8       1       0       0  \n",
       "9       1       0       0  \n",
       "\n",
       "[10 rows x 53 columns]"
      ]
     },
     "execution_count": 237,
     "metadata": {},
     "output_type": "execute_result"
    }
   ],
   "source": [
    "#dummies for 'Action' colump\n",
    "adf=pd.get_dummies(df.Action)\n",
    "#bdf=pd.get_dummies(df.Break)\n",
    "#pmdf0=pd.get_dummies(df.Pass_matchup)\n",
    "#pmdf0.rename(columns={'MW':'Pass_matchup_MW','WM':'Pass_matchup_WM','MM':'Pass_matchup_MM','WW':'Pass_matchup_WW','MU':'Pass_matchup_MU','UM':'Pass_matchup_UM','WU':'Pass_matchup_WU','UW':'Pass_matchup_UW'},inplace=True)\n",
    "pmdf=pd.get_dummies(df.Touches)\n",
    "pmdf.rename(columns={'U':'Touch_U','W':'Touch_W','M':'Touch_M'},inplace=True)\n",
    "# rmdf=pd.get_dummies(df.Receiver_matchup)\n",
    "# rmdf.rename(columns={'U':'Receiver_matchup_U','W':'Receiver_matchup_W','M':'Receiver_matchup_M'},inplace=True)\n",
    "# dmdf=pd.get_dummies(df.Defender_matchup)\n",
    "# dmdf.rename(columns={'U':'Defender_matchup_U','W':'Defender_matchup_W','M':'Defender_matchup_M'},inplace=True)\n",
    "df=df.merge(adf,left_index=True,right_index=True)\n",
    "#df=df.merge(bdf,left_index=True,right_index=True)\n",
    "#df=df.merge(pmdf0,left_index=True,right_index=True)\n",
    "df=df.merge(pmdf,left_index=True,right_index=True)\n",
    "#df=df.merge(rmdf,left_index=True,right_index=True)\n",
    "#df=df.merge(dmdf,left_index=True,right_index=True)\n",
    "df.head(10)"
   ]
  },
  {
   "cell_type": "code",
   "execution_count": 238,
   "metadata": {
    "slideshow": {
     "slide_type": "skip"
    }
   },
   "outputs": [
    {
     "data": {
      "text/plain": [
       "Index(['Date/Time', 'Tournamemnt', 'Opponent', 'Point Elapsed Seconds', 'Line',\n",
       "       'Our Score - End of Point', 'Their Score - End of Point', 'Event Type',\n",
       "       'Action', 'Passer', 'Receiver', 'Defender', 'Hang Time (secs)',\n",
       "       'Player 0', 'Player 1', 'Player 2', 'Player 3', 'Player 4', 'Player 5',\n",
       "       'Player 6', 'Passer_matchup', 'Receiver_matchup', 'Defender_matchup',\n",
       "       'W4_M3', 'M4_W3', 'Offense_line', 'Game_Number', 'Break',\n",
       "       'Hockey_assist', 'Scorer', 'Assist', 'Turn', 'Touches', 'give-and-go',\n",
       "       'give-and-go_matchup', 'give-and-go_pairs', 'opponent_throwaway',\n",
       "       'Pass_matchup', 'PointID', 'Catch', 'D', 'Drop', 'EndOfFirstQuarter',\n",
       "       'EndOfThirdQuarter', 'GameOver', 'Goal', 'Halftime', 'Pull', 'PullOb',\n",
       "       'Throwaway', 'Touch_M', 'Touch_U', 'Touch_W'],\n",
       "      dtype='object')"
      ]
     },
     "execution_count": 238,
     "metadata": {},
     "output_type": "execute_result"
    }
   ],
   "source": [
    "df.keys()"
   ]
  },
  {
   "cell_type": "code",
   "execution_count": 239,
   "metadata": {
    "slideshow": {
     "slide_type": "skip"
    }
   },
   "outputs": [],
   "source": [
    "df.to_csv('FucZH_SM_anonymized.csv')"
   ]
  },
  {
   "cell_type": "markdown",
   "metadata": {
    "slideshow": {
     "slide_type": "skip"
    }
   },
   "source": [
    "### group by point"
   ]
  },
  {
   "cell_type": "code",
   "execution_count": 40,
   "metadata": {
    "slideshow": {
     "slide_type": "skip"
    }
   },
   "outputs": [],
   "source": [
    "gdf=df.groupby('PointID')"
   ]
  },
  {
   "cell_type": "markdown",
   "metadata": {
    "slideshow": {
     "slide_type": "skip"
    }
   },
   "source": [
    "## Plots - overall"
   ]
  },
  {
   "cell_type": "markdown",
   "metadata": {
    "slideshow": {
     "slide_type": "slide"
    }
   },
   "source": [
    "## Game progression\n",
    "\n",
    "Definitions:\n",
    "- Hold = Start & Score on Offense\n",
    "- Break = Start & Score on Defense"
   ]
  },
  {
   "cell_type": "markdown",
   "metadata": {
    "slideshow": {
     "slide_type": "fragment"
    }
   },
   "source": [
    "## Round 1"
   ]
  },
  {
   "cell_type": "code",
   "execution_count": 94,
   "metadata": {
    "slideshow": {
     "slide_type": "skip"
    }
   },
   "outputs": [],
   "source": [
    "ordered_games=['Fly High Lausanne','Wombats Willisau','Wizards Geneva','FSL','FSL (Quarters)','Fly High (Semis)','Crazy Dogs']"
   ]
  },
  {
   "cell_type": "code",
   "execution_count": 147,
   "metadata": {
    "slideshow": {
     "slide_type": "fragment"
    },
    "tags": [
     "to_remove"
    ]
   },
   "outputs": [
    {
     "data": {
      "application/vnd.plotly.v1+json": {
       "config": {
        "plotlyServerURL": "https://plotly.com"
       },
       "data": [
        {
         "mode": "lines+markers",
         "type": "scatter",
         "x": [
          0
         ],
         "y": [
          0
         ]
        }
       ],
       "frames": [
        {
         "data": [
          {
           "line": {
            "shape": "hv"
           },
           "mode": "lines+markers",
           "type": "scatter",
           "x": [
            0
           ],
           "y": [
            0
           ]
          }
         ],
         "name": "frame0"
        },
        {
         "data": [
          {
           "line": {
            "shape": "hvh"
           },
           "mode": "lines+markers",
           "type": "scatter",
           "x": [
            1
           ],
           "y": [
            -0.5
           ]
          }
         ],
         "layout": {
          "annotations": [
           {
            "font": {
             "color": "blue"
            },
            "text": "4W3M: JL,MV,MR,CC,LB,JS,SG",
            "x": 1,
            "xref": "x",
            "y": -0.5,
            "yref": "y"
           },
           {
            "font": {
             "color": "orange",
             "size": 18
            },
            "showarrow": false,
            "text": "FucZH 0-1 Fly High Lausanne",
            "x": 0.5,
            "xref": "paper",
            "y": 1.4,
            "yref": "y"
           },
           {
            "showarrow": false,
            "text": "Completed Passes: 0,Turns: 2",
            "x": 17,
            "xref": "x",
            "y": 1.3,
            "yref": "y"
           }
          ]
         },
         "name": "frame1"
        },
        {
         "data": [
          {
           "line": {
            "shape": "hvh"
           },
           "mode": "lines+markers",
           "type": "scatter",
           "x": [
            1,
            2
           ],
           "y": [
            -0.5,
            0.5
           ]
          }
         ],
         "layout": {
          "annotations": [
           {
            "font": {
             "color": "blue"
            },
            "text": "4M3W: AY,SB,FS,SH,EL,JV,GA",
            "x": 2,
            "xref": "x",
            "y": 0.5,
            "yref": "y"
           },
           {
            "font": {
             "color": "orange",
             "size": 18
            },
            "showarrow": false,
            "text": "FucZH 1-1 Fly High Lausanne",
            "x": 0.5,
            "xref": "paper",
            "y": 1.4,
            "yref": "y"
           },
           {
            "showarrow": false,
            "text": "Completed Passes: 22,Turns: 0",
            "x": 17,
            "xref": "x",
            "y": 1.3,
            "yref": "y"
           },
           {
            "showarrow": false,
            "text": "Assist: SH, Goal:Anonymous",
            "x": 17,
            "xref": "x",
            "y": 1.4,
            "yref": "y"
           }
          ]
         },
         "name": "frame2"
        },
        {
         "data": [
          {
           "line": {
            "shape": "hvh"
           },
           "mode": "lines+markers",
           "type": "scatter",
           "x": [
            1,
            2,
            3
           ],
           "y": [
            -0.5,
            0.5,
            1
           ]
          }
         ],
         "layout": {
          "annotations": [
           {
            "font": {
             "color": "blue"
            },
            "text": "4M3W: JL,MV,MR,CS,CC,JS,SG",
            "x": 3,
            "xref": "x",
            "y": 1,
            "yref": "y"
           },
           {
            "font": {
             "color": "orange",
             "size": 18
            },
            "showarrow": false,
            "text": "FucZH 2-1 Fly High Lausanne",
            "x": 0.5,
            "xref": "paper",
            "y": 1.4,
            "yref": "y"
           },
           {
            "showarrow": false,
            "text": "Completed Passes: 0,Turns: 3",
            "x": 17,
            "xref": "x",
            "y": 1.3,
            "yref": "y"
           },
           {
            "showarrow": false,
            "text": "Assist: SG, Goal:MR",
            "x": 17,
            "xref": "x",
            "y": 1.4,
            "yref": "y"
           }
          ]
         },
         "name": "frame3"
        },
        {
         "data": [
          {
           "line": {
            "shape": "hvh"
           },
           "mode": "lines+markers",
           "type": "scatter",
           "x": [
            1,
            2,
            3,
            4
           ],
           "y": [
            -0.5,
            0.5,
            1,
            1
           ]
          }
         ],
         "layout": {
          "annotations": [
           {
            "font": {
             "color": "blue"
            },
            "text": "4W3M: JL,MV,CS,LB,EL,JV,SG",
            "x": 4,
            "xref": "x",
            "y": 1,
            "yref": "y"
           },
           {
            "font": {
             "color": "orange",
             "size": 18
            },
            "showarrow": false,
            "text": "FucZH 3-1 Fly High Lausanne",
            "x": 0.5,
            "xref": "paper",
            "y": 1.4,
            "yref": "y"
           },
           {
            "showarrow": false,
            "text": "Completed Passes: 5,Turns: 1",
            "x": 17,
            "xref": "x",
            "y": 1.3,
            "yref": "y"
           },
           {
            "showarrow": false,
            "text": "Assist: CS, Goal:JV",
            "x": 17,
            "xref": "x",
            "y": 1.4,
            "yref": "y"
           }
          ]
         },
         "name": "frame4"
        },
        {
         "data": [
          {
           "line": {
            "shape": "hvh"
           },
           "mode": "lines+markers",
           "type": "scatter",
           "x": [
            1,
            2,
            3,
            4,
            5
           ],
           "y": [
            -0.5,
            0.5,
            1,
            1,
            -0.5
           ]
          }
         ],
         "layout": {
          "annotations": [
           {
            "font": {
             "color": "blue"
            },
            "text": "4W3M: SB,MV,MR,CC,EL,JS,SG",
            "x": 5,
            "xref": "x",
            "y": -0.5,
            "yref": "y"
           },
           {
            "font": {
             "color": "orange",
             "size": 18
            },
            "showarrow": false,
            "text": "FucZH 3-2 Fly High Lausanne",
            "x": 0.5,
            "xref": "paper",
            "y": 1.4,
            "yref": "y"
           },
           {
            "showarrow": false,
            "text": "Completed Passes: 0,Turns: 0",
            "x": 17,
            "xref": "x",
            "y": 1.3,
            "yref": "y"
           }
          ]
         },
         "name": "frame5"
        },
        {
         "data": [
          {
           "line": {
            "shape": "hvh"
           },
           "mode": "lines+markers",
           "type": "scatter",
           "x": [
            1,
            2,
            3,
            4,
            5,
            6
           ],
           "y": [
            -0.5,
            0.5,
            1,
            1,
            -0.5,
            0.5
           ]
          }
         ],
         "layout": {
          "annotations": [
           {
            "font": {
             "color": "blue"
            },
            "text": "4M3W: FS,JL,AY,SB,SH,JV,GA",
            "x": 6,
            "xref": "x",
            "y": 0.5,
            "yref": "y"
           },
           {
            "font": {
             "color": "orange",
             "size": 18
            },
            "showarrow": false,
            "text": "FucZH 4-2 Fly High Lausanne",
            "x": 0.5,
            "xref": "paper",
            "y": 1.4,
            "yref": "y"
           },
           {
            "showarrow": false,
            "text": "Completed Passes: 19,Turns: 2",
            "x": 17,
            "xref": "x",
            "y": 1.3,
            "yref": "y"
           },
           {
            "showarrow": false,
            "text": "Assist: Anonymous, Goal:JL",
            "x": 17,
            "xref": "x",
            "y": 1.4,
            "yref": "y"
           }
          ]
         },
         "name": "frame6"
        },
        {
         "data": [
          {
           "line": {
            "shape": "hvh"
           },
           "mode": "lines+markers",
           "type": "scatter",
           "x": [
            1,
            2,
            3,
            4,
            5,
            6,
            7
           ],
           "y": [
            -0.5,
            0.5,
            1,
            1,
            -0.5,
            0.5,
            -0.5
           ]
          }
         ],
         "layout": {
          "annotations": [
           {
            "font": {
             "color": "blue"
            },
            "text": "4M3W: MR,CC,CS,LB,EL,JS,SG",
            "x": 7,
            "xref": "x",
            "y": -0.5,
            "yref": "y"
           },
           {
            "font": {
             "color": "orange",
             "size": 18
            },
            "showarrow": false,
            "text": "FucZH 4-3 Fly High Lausanne",
            "x": 0.5,
            "xref": "paper",
            "y": 1.4,
            "yref": "y"
           },
           {
            "showarrow": false,
            "text": "Completed Passes: 0,Turns: 2",
            "x": 17,
            "xref": "x",
            "y": 1.3,
            "yref": "y"
           }
          ]
         },
         "name": "frame7"
        },
        {
         "data": [
          {
           "line": {
            "shape": "hvh"
           },
           "mode": "lines+markers",
           "type": "scatter",
           "x": [
            1,
            2,
            3,
            4,
            5,
            6,
            7,
            8
           ],
           "y": [
            -0.5,
            0.5,
            1,
            1,
            -0.5,
            0.5,
            -0.5,
            -1
           ]
          }
         ],
         "layout": {
          "annotations": [
           {
            "font": {
             "color": "blue"
            },
            "text": "4W3M: AY,FS,JL,SB,MV,SH,GA",
            "x": 8,
            "xref": "x",
            "y": -1,
            "yref": "y"
           },
           {
            "font": {
             "color": "orange",
             "size": 18
            },
            "showarrow": false,
            "text": "FucZH 4-4 Fly High Lausanne",
            "x": 0.5,
            "xref": "paper",
            "y": 1.4,
            "yref": "y"
           },
           {
            "showarrow": false,
            "text": "Completed Passes: 6,Turns: 3",
            "x": 17,
            "xref": "x",
            "y": 1.3,
            "yref": "y"
           }
          ]
         },
         "name": "frame8"
        },
        {
         "data": [
          {
           "line": {
            "shape": "hvh"
           },
           "mode": "lines+markers",
           "type": "scatter",
           "x": [
            1,
            2,
            3,
            4,
            5,
            6,
            7,
            8,
            9
           ],
           "y": [
            -0.5,
            0.5,
            1,
            1,
            -0.5,
            0.5,
            -0.5,
            -1,
            -1
           ]
          }
         ],
         "layout": {
          "annotations": [
           {
            "font": {
             "color": "blue"
            },
            "text": "4W3M: SB,AY,FS,CC,SH,EL,JV",
            "x": 9,
            "xref": "x",
            "y": -1,
            "yref": "y"
           },
           {
            "font": {
             "color": "orange",
             "size": 18
            },
            "showarrow": false,
            "text": "FucZH 4-5 Fly High Lausanne",
            "x": 0.5,
            "xref": "paper",
            "y": 1.4,
            "yref": "y"
           },
           {
            "showarrow": false,
            "text": "Completed Passes: 4,Turns: 3",
            "x": 17,
            "xref": "x",
            "y": 1.3,
            "yref": "y"
           }
          ]
         },
         "name": "frame9"
        },
        {
         "data": [
          {
           "line": {
            "shape": "hvh"
           },
           "mode": "lines+markers",
           "type": "scatter",
           "x": [
            1,
            2,
            3,
            4,
            5,
            6,
            7,
            8,
            9,
            10
           ],
           "y": [
            -0.5,
            0.5,
            1,
            1,
            -0.5,
            0.5,
            -0.5,
            -1,
            -1,
            -1
           ]
          }
         ],
         "layout": {
          "annotations": [
           {
            "font": {
             "color": "blue"
            },
            "text": "4M3W: JL,MV,MR,SH,LB,GA,SG",
            "x": 10,
            "xref": "x",
            "y": -1,
            "yref": "y"
           },
           {
            "font": {
             "color": "orange",
             "size": 18
            },
            "showarrow": false,
            "text": "FucZH 4-6 Fly High Lausanne",
            "x": 0.5,
            "xref": "paper",
            "y": 1.4,
            "yref": "y"
           },
           {
            "showarrow": false,
            "text": "Completed Passes: 1,Turns: 1",
            "x": 17,
            "xref": "x",
            "y": 1.3,
            "yref": "y"
           }
          ]
         },
         "name": "frame10"
        },
        {
         "data": [
          {
           "line": {
            "shape": "hvh"
           },
           "mode": "lines+markers",
           "type": "scatter",
           "x": [
            1,
            2,
            3,
            4,
            5,
            6,
            7,
            8,
            9,
            10,
            11
           ],
           "y": [
            -0.5,
            0.5,
            1,
            1,
            -0.5,
            0.5,
            -0.5,
            -1,
            -1,
            -1,
            0.5
           ]
          }
         ],
         "layout": {
          "annotations": [
           {
            "font": {
             "color": "blue"
            },
            "text": "4M3W: FS,AY,CC,SH,EL,JV,GA",
            "x": 11,
            "xref": "x",
            "y": 0.5,
            "yref": "y"
           },
           {
            "font": {
             "color": "orange",
             "size": 18
            },
            "showarrow": false,
            "text": "FucZH 5-6 Fly High Lausanne",
            "x": 0.5,
            "xref": "paper",
            "y": 1.4,
            "yref": "y"
           },
           {
            "showarrow": false,
            "text": "Completed Passes: 16,Turns: 0",
            "x": 17,
            "xref": "x",
            "y": 1.3,
            "yref": "y"
           },
           {
            "showarrow": false,
            "text": "Assist: SH, Goal:Anonymous",
            "x": 17,
            "xref": "x",
            "y": 1.4,
            "yref": "y"
           }
          ]
         },
         "name": "frame11"
        },
        {
         "data": [
          {
           "line": {
            "shape": "hvh"
           },
           "mode": "lines+markers",
           "type": "scatter",
           "x": [
            1,
            2,
            3,
            4,
            5,
            6,
            7,
            8,
            9,
            10,
            11,
            12
           ],
           "y": [
            -0.5,
            0.5,
            1,
            1,
            -0.5,
            0.5,
            -0.5,
            -1,
            -1,
            -1,
            0.5,
            1
           ]
          }
         ],
         "layout": {
          "annotations": [
           {
            "font": {
             "color": "blue"
            },
            "text": "4W3M: JL,SB,MV,MR,LB,JS,SG",
            "x": 12,
            "xref": "x",
            "y": 1,
            "yref": "y"
           },
           {
            "font": {
             "color": "orange",
             "size": 18
            },
            "showarrow": false,
            "text": "FucZH 6-6 Fly High Lausanne",
            "x": 0.5,
            "xref": "paper",
            "y": 1.4,
            "yref": "y"
           },
           {
            "showarrow": false,
            "text": "Completed Passes: 0,Turns: 1",
            "x": 17,
            "xref": "x",
            "y": 1.3,
            "yref": "y"
           },
           {
            "showarrow": false,
            "text": "Assist: SG, Goal:MR",
            "x": 17,
            "xref": "x",
            "y": 1.4,
            "yref": "y"
           }
          ]
         },
         "name": "frame12"
        },
        {
         "data": [
          {
           "line": {
            "shape": "hvh"
           },
           "mode": "lines+markers",
           "type": "scatter",
           "x": [
            1,
            2,
            3,
            4,
            5,
            6,
            7,
            8,
            9,
            10,
            11,
            12,
            13
           ],
           "y": [
            -0.5,
            0.5,
            1,
            1,
            -0.5,
            0.5,
            -0.5,
            -1,
            -1,
            -1,
            0.5,
            1,
            -0.5
           ]
          }
         ],
         "layout": {
          "annotations": [
           {
            "font": {
             "color": "blue"
            },
            "text": "4W3M: JL,MV,CS,LB,EL,JV,SG",
            "x": 13,
            "xref": "x",
            "y": -0.5,
            "yref": "y"
           },
           {
            "font": {
             "color": "orange",
             "size": 18
            },
            "showarrow": false,
            "text": "FucZH 6-7 Fly High Lausanne",
            "x": 0.5,
            "xref": "paper",
            "y": 1.4,
            "yref": "y"
           },
           {
            "showarrow": false,
            "text": "Completed Passes: 0,Turns: 0",
            "x": 17,
            "xref": "x",
            "y": 1.3,
            "yref": "y"
           }
          ]
         },
         "name": "frame13"
        },
        {
         "data": [
          {
           "line": {
            "shape": "hvh"
           },
           "mode": "lines+markers",
           "type": "scatter",
           "x": [
            1,
            2,
            3,
            4,
            5,
            6,
            7,
            8,
            9,
            10,
            11,
            12,
            13,
            14
           ],
           "y": [
            -0.5,
            0.5,
            1,
            1,
            -0.5,
            0.5,
            -0.5,
            -1,
            -1,
            -1,
            0.5,
            1,
            -0.5,
            0.5
           ]
          }
         ],
         "layout": {
          "annotations": [
           {
            "font": {
             "color": "blue"
            },
            "text": "4M3W: AY,SB,FS,CC,SH,JS,GA",
            "x": 14,
            "xref": "x",
            "y": 0.5,
            "yref": "y"
           },
           {
            "font": {
             "color": "orange",
             "size": 18
            },
            "showarrow": false,
            "text": "FucZH 7-7 Fly High Lausanne",
            "x": 0.5,
            "xref": "paper",
            "y": 1.4,
            "yref": "y"
           },
           {
            "showarrow": false,
            "text": "Completed Passes: 9,Turns: 0",
            "x": 17,
            "xref": "x",
            "y": 1.3,
            "yref": "y"
           },
           {
            "showarrow": false,
            "text": "Assist: GA, Goal:SH",
            "x": 17,
            "xref": "x",
            "y": 1.4,
            "yref": "y"
           }
          ]
         },
         "name": "frame14"
        },
        {
         "data": [
          {
           "line": {
            "shape": "hvh"
           },
           "mode": "lines+markers",
           "type": "scatter",
           "x": [
            1,
            2,
            3,
            4,
            5,
            6,
            7,
            8,
            9,
            10,
            11,
            12,
            13,
            14,
            15
           ],
           "y": [
            -0.5,
            0.5,
            1,
            1,
            -0.5,
            0.5,
            -0.5,
            -1,
            -1,
            -1,
            0.5,
            1,
            -0.5,
            0.5,
            -0.5
           ]
          }
         ],
         "layout": {
          "annotations": [
           {
            "font": {
             "color": "blue"
            },
            "text": "4M3W: JL,MV,MR,CS,LB,JV,SG",
            "x": 15,
            "xref": "x",
            "y": -0.5,
            "yref": "y"
           },
           {
            "font": {
             "color": "orange",
             "size": 18
            },
            "showarrow": false,
            "text": "FucZH 7-8 Fly High Lausanne",
            "x": 0.5,
            "xref": "paper",
            "y": 1.4,
            "yref": "y"
           },
           {
            "showarrow": false,
            "text": "Completed Passes: 3,Turns: 2",
            "x": 17,
            "xref": "x",
            "y": 1.3,
            "yref": "y"
           }
          ]
         },
         "name": "frame15"
        },
        {
         "data": [
          {
           "line": {
            "shape": "hvh"
           },
           "mode": "lines+markers",
           "type": "scatter",
           "x": [
            1,
            2,
            3,
            4,
            5,
            6,
            7,
            8,
            9,
            10,
            11,
            12,
            13,
            14,
            15,
            16
           ],
           "y": [
            -0.5,
            0.5,
            1,
            1,
            -0.5,
            0.5,
            -0.5,
            -1,
            -1,
            -1,
            0.5,
            1,
            -0.5,
            0.5,
            -0.5,
            -1
           ]
          }
         ],
         "layout": {
          "annotations": [
           {
            "font": {
             "color": "blue"
            },
            "text": "4W3M: SB,FS,AY,CC,SH,EL,GA",
            "x": 16,
            "xref": "x",
            "y": -1,
            "yref": "y"
           },
           {
            "font": {
             "color": "orange",
             "size": 18
            },
            "showarrow": false,
            "text": "FucZH 7-9 Fly High Lausanne",
            "x": 0.5,
            "xref": "paper",
            "y": 1.4,
            "yref": "y"
           },
           {
            "showarrow": false,
            "text": "Completed Passes: 8,Turns: 5",
            "x": 17,
            "xref": "x",
            "y": 1.3,
            "yref": "y"
           }
          ]
         },
         "name": "frame16"
        },
        {
         "data": [
          {
           "line": {
            "shape": "hvh"
           },
           "mode": "lines+markers",
           "type": "scatter",
           "x": [
            1,
            2,
            3,
            4,
            5,
            6,
            7,
            8,
            9,
            10,
            11,
            12,
            13,
            14,
            15,
            16,
            17
           ],
           "y": [
            -0.5,
            0.5,
            1,
            1,
            -0.5,
            0.5,
            -0.5,
            -1,
            -1,
            -1,
            0.5,
            1,
            -0.5,
            0.5,
            -0.5,
            -1,
            0.5
           ]
          }
         ],
         "layout": {
          "annotations": [
           {
            "font": {
             "color": "blue"
            },
            "text": "4W3M: AY,FS,JL,MV,MR,LB,SG",
            "x": 17,
            "xref": "x",
            "y": 0.5,
            "yref": "y"
           },
           {
            "font": {
             "color": "orange",
             "size": 18
            },
            "showarrow": false,
            "text": "FucZH 8-9 Fly High Lausanne",
            "x": 0.5,
            "xref": "paper",
            "y": 1.4,
            "yref": "y"
           },
           {
            "showarrow": false,
            "text": "Completed Passes: 13,Turns: 2",
            "x": 17,
            "xref": "x",
            "y": 1.3,
            "yref": "y"
           },
           {
            "showarrow": false,
            "text": "Assist: SG, Goal:Anonymous",
            "x": 17,
            "xref": "x",
            "y": 1.4,
            "yref": "y"
           }
          ]
         },
         "name": "frame17"
        },
        {
         "data": [
          {
           "line": {
            "shape": "hvh"
           },
           "mode": "lines+markers",
           "type": "scatter",
           "x": [
            1,
            2,
            3,
            4,
            5,
            6,
            7,
            8,
            9,
            10,
            11,
            12,
            13,
            14,
            15,
            16,
            17,
            18
           ],
           "y": [
            -0.5,
            0.5,
            1,
            1,
            -0.5,
            0.5,
            -0.5,
            -1,
            -1,
            -1,
            0.5,
            1,
            -0.5,
            0.5,
            -0.5,
            -1,
            0.5,
            -0.5
           ]
          }
         ],
         "layout": {
          "annotations": [
           {
            "font": {
             "color": "blue"
            },
            "text": "4M3W: SB,MV,MR,CS,EL,JV,SG",
            "x": 18,
            "xref": "x",
            "y": -0.5,
            "yref": "y"
           },
           {
            "font": {
             "color": "orange",
             "size": 18
            },
            "showarrow": false,
            "text": "FucZH 8-10 Fly High Lausanne",
            "x": 0.5,
            "xref": "paper",
            "y": 1.4,
            "yref": "y"
           },
           {
            "showarrow": false,
            "text": "Completed Passes: 0,Turns: 0",
            "x": 17,
            "xref": "x",
            "y": 1.3,
            "yref": "y"
           }
          ]
         },
         "name": "frame18"
        },
        {
         "data": [
          {
           "line": {
            "shape": "hvh"
           },
           "mode": "lines+markers",
           "type": "scatter",
           "x": [
            1,
            2,
            3,
            4,
            5,
            6,
            7,
            8,
            9,
            10,
            11,
            12,
            13,
            14,
            15,
            16,
            17,
            18,
            19
           ],
           "y": [
            -0.5,
            0.5,
            1,
            1,
            -0.5,
            0.5,
            -0.5,
            -1,
            -1,
            -1,
            0.5,
            1,
            -0.5,
            0.5,
            -0.5,
            -1,
            0.5,
            -0.5,
            0.5
           ]
          }
         ],
         "layout": {
          "annotations": [
           {
            "font": {
             "color": "blue"
            },
            "text": "4M3W: FS,AY,CC,SH,LB,JS,GA",
            "x": 19,
            "xref": "x",
            "y": 0.5,
            "yref": "y"
           },
           {
            "font": {
             "color": "orange",
             "size": 18
            },
            "showarrow": false,
            "text": "FucZH 9-10 Fly High Lausanne",
            "x": 0.5,
            "xref": "paper",
            "y": 1.4,
            "yref": "y"
           },
           {
            "showarrow": false,
            "text": "Completed Passes: 11,Turns: 0",
            "x": 17,
            "xref": "x",
            "y": 1.3,
            "yref": "y"
           },
           {
            "showarrow": false,
            "text": "Assist: AY, Goal:CC",
            "x": 17,
            "xref": "x",
            "y": 1.4,
            "yref": "y"
           }
          ]
         },
         "name": "frame19"
        }
       ],
       "layout": {
        "height": 600,
        "hovermode": "closest",
        "images": [
         {
          "sizex": 0.2,
          "sizey": 0.2,
          "source": "https://raw.githubusercontent.com/elastufka/presentations/master/images/ZU_logo1.png",
          "x": 0,
          "xanchor": "right",
          "xref": "paper",
          "y": 1.05,
          "yanchor": "bottom",
          "yref": "paper"
         }
        ],
        "sliders": [
         {
          "active": 0,
          "currentvalue": {
           "font": {
            "size": 14
           },
           "prefix": "Point:",
           "visible": true,
           "xanchor": "right"
          },
          "len": 0.9,
          "pad": {
           "b": 10,
           "t": 10
          },
          "steps": [
           {
            "args": [
             [
              "frame1"
             ],
             {
              "frame": {
               "duration": 300,
               "redraw": false
              },
              "mode": "immediate",
              "transition": {
               "duration": 300
              }
             }
            ],
            "label": "1",
            "method": "animate"
           },
           {
            "args": [
             [
              "frame2"
             ],
             {
              "frame": {
               "duration": 300,
               "redraw": false
              },
              "mode": "immediate",
              "transition": {
               "duration": 300
              }
             }
            ],
            "label": "2",
            "method": "animate"
           },
           {
            "args": [
             [
              "frame3"
             ],
             {
              "frame": {
               "duration": 300,
               "redraw": false
              },
              "mode": "immediate",
              "transition": {
               "duration": 300
              }
             }
            ],
            "label": "3",
            "method": "animate"
           },
           {
            "args": [
             [
              "frame4"
             ],
             {
              "frame": {
               "duration": 300,
               "redraw": false
              },
              "mode": "immediate",
              "transition": {
               "duration": 300
              }
             }
            ],
            "label": "4",
            "method": "animate"
           },
           {
            "args": [
             [
              "frame5"
             ],
             {
              "frame": {
               "duration": 300,
               "redraw": false
              },
              "mode": "immediate",
              "transition": {
               "duration": 300
              }
             }
            ],
            "label": "5",
            "method": "animate"
           },
           {
            "args": [
             [
              "frame6"
             ],
             {
              "frame": {
               "duration": 300,
               "redraw": false
              },
              "mode": "immediate",
              "transition": {
               "duration": 300
              }
             }
            ],
            "label": "6",
            "method": "animate"
           },
           {
            "args": [
             [
              "frame7"
             ],
             {
              "frame": {
               "duration": 300,
               "redraw": false
              },
              "mode": "immediate",
              "transition": {
               "duration": 300
              }
             }
            ],
            "label": "7",
            "method": "animate"
           },
           {
            "args": [
             [
              "frame8"
             ],
             {
              "frame": {
               "duration": 300,
               "redraw": false
              },
              "mode": "immediate",
              "transition": {
               "duration": 300
              }
             }
            ],
            "label": "8",
            "method": "animate"
           },
           {
            "args": [
             [
              "frame9"
             ],
             {
              "frame": {
               "duration": 300,
               "redraw": false
              },
              "mode": "immediate",
              "transition": {
               "duration": 300
              }
             }
            ],
            "label": "9",
            "method": "animate"
           },
           {
            "args": [
             [
              "frame10"
             ],
             {
              "frame": {
               "duration": 300,
               "redraw": false
              },
              "mode": "immediate",
              "transition": {
               "duration": 300
              }
             }
            ],
            "label": "10",
            "method": "animate"
           },
           {
            "args": [
             [
              "frame11"
             ],
             {
              "frame": {
               "duration": 300,
               "redraw": false
              },
              "mode": "immediate",
              "transition": {
               "duration": 300
              }
             }
            ],
            "label": "11",
            "method": "animate"
           },
           {
            "args": [
             [
              "frame12"
             ],
             {
              "frame": {
               "duration": 300,
               "redraw": false
              },
              "mode": "immediate",
              "transition": {
               "duration": 300
              }
             }
            ],
            "label": "12",
            "method": "animate"
           },
           {
            "args": [
             [
              "frame13"
             ],
             {
              "frame": {
               "duration": 300,
               "redraw": false
              },
              "mode": "immediate",
              "transition": {
               "duration": 300
              }
             }
            ],
            "label": "13",
            "method": "animate"
           },
           {
            "args": [
             [
              "frame14"
             ],
             {
              "frame": {
               "duration": 300,
               "redraw": false
              },
              "mode": "immediate",
              "transition": {
               "duration": 300
              }
             }
            ],
            "label": "14",
            "method": "animate"
           },
           {
            "args": [
             [
              "frame15"
             ],
             {
              "frame": {
               "duration": 300,
               "redraw": false
              },
              "mode": "immediate",
              "transition": {
               "duration": 300
              }
             }
            ],
            "label": "15",
            "method": "animate"
           },
           {
            "args": [
             [
              "frame16"
             ],
             {
              "frame": {
               "duration": 300,
               "redraw": false
              },
              "mode": "immediate",
              "transition": {
               "duration": 300
              }
             }
            ],
            "label": "16",
            "method": "animate"
           },
           {
            "args": [
             [
              "frame17"
             ],
             {
              "frame": {
               "duration": 300,
               "redraw": false
              },
              "mode": "immediate",
              "transition": {
               "duration": 300
              }
             }
            ],
            "label": "17",
            "method": "animate"
           },
           {
            "args": [
             [
              "frame18"
             ],
             {
              "frame": {
               "duration": 300,
               "redraw": false
              },
              "mode": "immediate",
              "transition": {
               "duration": 300
              }
             }
            ],
            "label": "18",
            "method": "animate"
           },
           {
            "args": [
             [
              "frame19"
             ],
             {
              "frame": {
               "duration": 300,
               "redraw": false
              },
              "mode": "immediate",
              "transition": {
               "duration": 300
              }
             }
            ],
            "label": "19",
            "method": "animate"
           }
          ],
          "transition": {
           "duration": 300,
           "easing": "cubic-in-out"
          },
          "x": 1,
          "xanchor": "right",
          "y": -0.4,
          "yanchor": "bottom"
         }
        ],
        "template": {
         "layout": {
          "colorway": [
           "#000000",
           "#784F17",
           "#FF0018",
           "#FFA52C",
           "#FFFF41",
           "#008018",
           "#0000F9",
           "#86007D"
          ],
          "plot_bgcolor": "lightgrey"
         }
        },
        "title": {
         "text": "Game Flow"
        },
        "updatemenus": [
         {
          "buttons": [
           {
            "args": [
             null,
             {
              "frame": {
               "duration": 500,
               "redraw": false
              },
              "fromcurrent": true,
              "transition": {
               "duration": 300,
               "easing": "quadratic-in-out"
              }
             }
            ],
            "label": "Play",
            "method": "animate"
           },
           {
            "args": [
             [
              null
             ],
             {
              "frame": {
               "duration": 0,
               "redraw": false
              },
              "mode": "immediate",
              "transition": {
               "duration": 0
              }
             }
            ],
            "label": "Pause",
            "method": "animate"
           }
          ],
          "direction": "left",
          "pad": {
           "r": 10,
           "t": 87
          },
          "showactive": false,
          "type": "buttons",
          "x": 0.1,
          "xanchor": "right",
          "y": 0,
          "yanchor": "top"
         }
        ],
        "width": 850,
        "xaxis": {
         "range": [
          0.5,
          20.5
         ],
         "title": {
          "text": "Points"
         }
        },
        "yaxis": {
         "range": [
          -1.1,
          1.5
         ],
         "ticktext": [
          "Their Break",
          "Their Hold",
          "",
          "Our Hold",
          "Our Break"
         ],
         "tickvals": [
          -1,
          -0.5,
          0,
          0.5,
          1
         ],
         "title": {
          "text": "Point Type"
         }
        }
       }
      },
      "text/html": [
       "<div>                            <div id=\"9a646a19-c6da-43af-930b-c625281721df\" class=\"plotly-graph-div\" style=\"height:600px; width:850px;\"></div>            <script type=\"text/javascript\">                require([\"plotly\"], function(Plotly) {                    window.PLOTLYENV=window.PLOTLYENV || {};                                    if (document.getElementById(\"9a646a19-c6da-43af-930b-c625281721df\")) {                    Plotly.newPlot(                        \"9a646a19-c6da-43af-930b-c625281721df\",                        [{\"mode\":\"lines+markers\",\"type\":\"scatter\",\"x\":[0],\"y\":[0]}],                        {\"height\":600,\"hovermode\":\"closest\",\"images\":[{\"sizex\":0.2,\"sizey\":0.2,\"source\":\"https://raw.githubusercontent.com/elastufka/presentations/master/images/ZU_logo1.png\",\"x\":0,\"xanchor\":\"right\",\"xref\":\"paper\",\"y\":1.05,\"yanchor\":\"bottom\",\"yref\":\"paper\"}],\"sliders\":[{\"active\":0,\"currentvalue\":{\"font\":{\"size\":14},\"prefix\":\"Point:\",\"visible\":true,\"xanchor\":\"right\"},\"len\":0.9,\"pad\":{\"b\":10,\"t\":10},\"steps\":[{\"args\":[[\"frame1\"],{\"frame\":{\"duration\":300,\"redraw\":false},\"mode\":\"immediate\",\"transition\":{\"duration\":300}}],\"label\":\"1\",\"method\":\"animate\"},{\"args\":[[\"frame2\"],{\"frame\":{\"duration\":300,\"redraw\":false},\"mode\":\"immediate\",\"transition\":{\"duration\":300}}],\"label\":\"2\",\"method\":\"animate\"},{\"args\":[[\"frame3\"],{\"frame\":{\"duration\":300,\"redraw\":false},\"mode\":\"immediate\",\"transition\":{\"duration\":300}}],\"label\":\"3\",\"method\":\"animate\"},{\"args\":[[\"frame4\"],{\"frame\":{\"duration\":300,\"redraw\":false},\"mode\":\"immediate\",\"transition\":{\"duration\":300}}],\"label\":\"4\",\"method\":\"animate\"},{\"args\":[[\"frame5\"],{\"frame\":{\"duration\":300,\"redraw\":false},\"mode\":\"immediate\",\"transition\":{\"duration\":300}}],\"label\":\"5\",\"method\":\"animate\"},{\"args\":[[\"frame6\"],{\"frame\":{\"duration\":300,\"redraw\":false},\"mode\":\"immediate\",\"transition\":{\"duration\":300}}],\"label\":\"6\",\"method\":\"animate\"},{\"args\":[[\"frame7\"],{\"frame\":{\"duration\":300,\"redraw\":false},\"mode\":\"immediate\",\"transition\":{\"duration\":300}}],\"label\":\"7\",\"method\":\"animate\"},{\"args\":[[\"frame8\"],{\"frame\":{\"duration\":300,\"redraw\":false},\"mode\":\"immediate\",\"transition\":{\"duration\":300}}],\"label\":\"8\",\"method\":\"animate\"},{\"args\":[[\"frame9\"],{\"frame\":{\"duration\":300,\"redraw\":false},\"mode\":\"immediate\",\"transition\":{\"duration\":300}}],\"label\":\"9\",\"method\":\"animate\"},{\"args\":[[\"frame10\"],{\"frame\":{\"duration\":300,\"redraw\":false},\"mode\":\"immediate\",\"transition\":{\"duration\":300}}],\"label\":\"10\",\"method\":\"animate\"},{\"args\":[[\"frame11\"],{\"frame\":{\"duration\":300,\"redraw\":false},\"mode\":\"immediate\",\"transition\":{\"duration\":300}}],\"label\":\"11\",\"method\":\"animate\"},{\"args\":[[\"frame12\"],{\"frame\":{\"duration\":300,\"redraw\":false},\"mode\":\"immediate\",\"transition\":{\"duration\":300}}],\"label\":\"12\",\"method\":\"animate\"},{\"args\":[[\"frame13\"],{\"frame\":{\"duration\":300,\"redraw\":false},\"mode\":\"immediate\",\"transition\":{\"duration\":300}}],\"label\":\"13\",\"method\":\"animate\"},{\"args\":[[\"frame14\"],{\"frame\":{\"duration\":300,\"redraw\":false},\"mode\":\"immediate\",\"transition\":{\"duration\":300}}],\"label\":\"14\",\"method\":\"animate\"},{\"args\":[[\"frame15\"],{\"frame\":{\"duration\":300,\"redraw\":false},\"mode\":\"immediate\",\"transition\":{\"duration\":300}}],\"label\":\"15\",\"method\":\"animate\"},{\"args\":[[\"frame16\"],{\"frame\":{\"duration\":300,\"redraw\":false},\"mode\":\"immediate\",\"transition\":{\"duration\":300}}],\"label\":\"16\",\"method\":\"animate\"},{\"args\":[[\"frame17\"],{\"frame\":{\"duration\":300,\"redraw\":false},\"mode\":\"immediate\",\"transition\":{\"duration\":300}}],\"label\":\"17\",\"method\":\"animate\"},{\"args\":[[\"frame18\"],{\"frame\":{\"duration\":300,\"redraw\":false},\"mode\":\"immediate\",\"transition\":{\"duration\":300}}],\"label\":\"18\",\"method\":\"animate\"},{\"args\":[[\"frame19\"],{\"frame\":{\"duration\":300,\"redraw\":false},\"mode\":\"immediate\",\"transition\":{\"duration\":300}}],\"label\":\"19\",\"method\":\"animate\"}],\"transition\":{\"duration\":300,\"easing\":\"cubic-in-out\"},\"x\":1,\"xanchor\":\"right\",\"y\":-0.4,\"yanchor\":\"bottom\"}],\"template\":{\"layout\":{\"colorway\":[\"#000000\",\"#784F17\",\"#FF0018\",\"#FFA52C\",\"#FFFF41\",\"#008018\",\"#0000F9\",\"#86007D\"],\"plot_bgcolor\":\"lightgrey\"}},\"title\":{\"text\":\"Game Flow\"},\"updatemenus\":[{\"buttons\":[{\"args\":[null,{\"frame\":{\"duration\":500,\"redraw\":false},\"fromcurrent\":true,\"transition\":{\"duration\":300,\"easing\":\"quadratic-in-out\"}}],\"label\":\"Play\",\"method\":\"animate\"},{\"args\":[[null],{\"frame\":{\"duration\":0,\"redraw\":false},\"mode\":\"immediate\",\"transition\":{\"duration\":0}}],\"label\":\"Pause\",\"method\":\"animate\"}],\"direction\":\"left\",\"pad\":{\"r\":10,\"t\":87},\"showactive\":false,\"type\":\"buttons\",\"x\":0.1,\"xanchor\":\"right\",\"y\":0,\"yanchor\":\"top\"}],\"width\":850,\"xaxis\":{\"range\":[0.5,20.5],\"title\":{\"text\":\"Points\"}},\"yaxis\":{\"range\":[-1.1,1.5],\"ticktext\":[\"Their Break\",\"Their Hold\",\"\",\"Our Hold\",\"Our Break\"],\"tickvals\":[-1,-0.5,0,0.5,1],\"title\":{\"text\":\"Point Type\"}}},                        {\"responsive\": true}                    ).then(function(){\n",
       "                            Plotly.addFrames('9a646a19-c6da-43af-930b-c625281721df', [{\"data\":[{\"line\":{\"shape\":\"hv\"},\"mode\":\"lines+markers\",\"type\":\"scatter\",\"x\":[0],\"y\":[0]}],\"name\":\"frame0\"},{\"data\":[{\"line\":{\"shape\":\"hvh\"},\"mode\":\"lines+markers\",\"type\":\"scatter\",\"x\":[1],\"y\":[-0.5]}],\"layout\":{\"annotations\":[{\"font\":{\"color\":\"blue\"},\"text\":\"4W3M: JL,MV,MR,CC,LB,JS,SG\",\"x\":1,\"xref\":\"x\",\"y\":-0.5,\"yref\":\"y\"},{\"font\":{\"color\":\"orange\",\"size\":18},\"showarrow\":false,\"text\":\"FucZH 0-1 Fly High Lausanne\",\"x\":0.5,\"xref\":\"paper\",\"y\":1.4,\"yref\":\"y\"},{\"showarrow\":false,\"text\":\"Completed Passes: 0,Turns: 2\",\"x\":17,\"xref\":\"x\",\"y\":1.3,\"yref\":\"y\"}]},\"name\":\"frame1\"},{\"data\":[{\"line\":{\"shape\":\"hvh\"},\"mode\":\"lines+markers\",\"type\":\"scatter\",\"x\":[1,2],\"y\":[-0.5,0.5]}],\"layout\":{\"annotations\":[{\"font\":{\"color\":\"blue\"},\"text\":\"4M3W: AY,SB,FS,SH,EL,JV,GA\",\"x\":2,\"xref\":\"x\",\"y\":0.5,\"yref\":\"y\"},{\"font\":{\"color\":\"orange\",\"size\":18},\"showarrow\":false,\"text\":\"FucZH 1-1 Fly High Lausanne\",\"x\":0.5,\"xref\":\"paper\",\"y\":1.4,\"yref\":\"y\"},{\"showarrow\":false,\"text\":\"Completed Passes: 22,Turns: 0\",\"x\":17,\"xref\":\"x\",\"y\":1.3,\"yref\":\"y\"},{\"showarrow\":false,\"text\":\"Assist: SH, Goal:Anonymous\",\"x\":17,\"xref\":\"x\",\"y\":1.4,\"yref\":\"y\"}]},\"name\":\"frame2\"},{\"data\":[{\"line\":{\"shape\":\"hvh\"},\"mode\":\"lines+markers\",\"type\":\"scatter\",\"x\":[1,2,3],\"y\":[-0.5,0.5,1.0]}],\"layout\":{\"annotations\":[{\"font\":{\"color\":\"blue\"},\"text\":\"4M3W: JL,MV,MR,CS,CC,JS,SG\",\"x\":3,\"xref\":\"x\",\"y\":1.0,\"yref\":\"y\"},{\"font\":{\"color\":\"orange\",\"size\":18},\"showarrow\":false,\"text\":\"FucZH 2-1 Fly High Lausanne\",\"x\":0.5,\"xref\":\"paper\",\"y\":1.4,\"yref\":\"y\"},{\"showarrow\":false,\"text\":\"Completed Passes: 0,Turns: 3\",\"x\":17,\"xref\":\"x\",\"y\":1.3,\"yref\":\"y\"},{\"showarrow\":false,\"text\":\"Assist: SG, Goal:MR\",\"x\":17,\"xref\":\"x\",\"y\":1.4,\"yref\":\"y\"}]},\"name\":\"frame3\"},{\"data\":[{\"line\":{\"shape\":\"hvh\"},\"mode\":\"lines+markers\",\"type\":\"scatter\",\"x\":[1,2,3,4],\"y\":[-0.5,0.5,1.0,1.0]}],\"layout\":{\"annotations\":[{\"font\":{\"color\":\"blue\"},\"text\":\"4W3M: JL,MV,CS,LB,EL,JV,SG\",\"x\":4,\"xref\":\"x\",\"y\":1.0,\"yref\":\"y\"},{\"font\":{\"color\":\"orange\",\"size\":18},\"showarrow\":false,\"text\":\"FucZH 3-1 Fly High Lausanne\",\"x\":0.5,\"xref\":\"paper\",\"y\":1.4,\"yref\":\"y\"},{\"showarrow\":false,\"text\":\"Completed Passes: 5,Turns: 1\",\"x\":17,\"xref\":\"x\",\"y\":1.3,\"yref\":\"y\"},{\"showarrow\":false,\"text\":\"Assist: CS, Goal:JV\",\"x\":17,\"xref\":\"x\",\"y\":1.4,\"yref\":\"y\"}]},\"name\":\"frame4\"},{\"data\":[{\"line\":{\"shape\":\"hvh\"},\"mode\":\"lines+markers\",\"type\":\"scatter\",\"x\":[1,2,3,4,5],\"y\":[-0.5,0.5,1.0,1.0,-0.5]}],\"layout\":{\"annotations\":[{\"font\":{\"color\":\"blue\"},\"text\":\"4W3M: SB,MV,MR,CC,EL,JS,SG\",\"x\":5,\"xref\":\"x\",\"y\":-0.5,\"yref\":\"y\"},{\"font\":{\"color\":\"orange\",\"size\":18},\"showarrow\":false,\"text\":\"FucZH 3-2 Fly High Lausanne\",\"x\":0.5,\"xref\":\"paper\",\"y\":1.4,\"yref\":\"y\"},{\"showarrow\":false,\"text\":\"Completed Passes: 0,Turns: 0\",\"x\":17,\"xref\":\"x\",\"y\":1.3,\"yref\":\"y\"}]},\"name\":\"frame5\"},{\"data\":[{\"line\":{\"shape\":\"hvh\"},\"mode\":\"lines+markers\",\"type\":\"scatter\",\"x\":[1,2,3,4,5,6],\"y\":[-0.5,0.5,1.0,1.0,-0.5,0.5]}],\"layout\":{\"annotations\":[{\"font\":{\"color\":\"blue\"},\"text\":\"4M3W: FS,JL,AY,SB,SH,JV,GA\",\"x\":6,\"xref\":\"x\",\"y\":0.5,\"yref\":\"y\"},{\"font\":{\"color\":\"orange\",\"size\":18},\"showarrow\":false,\"text\":\"FucZH 4-2 Fly High Lausanne\",\"x\":0.5,\"xref\":\"paper\",\"y\":1.4,\"yref\":\"y\"},{\"showarrow\":false,\"text\":\"Completed Passes: 19,Turns: 2\",\"x\":17,\"xref\":\"x\",\"y\":1.3,\"yref\":\"y\"},{\"showarrow\":false,\"text\":\"Assist: Anonymous, Goal:JL\",\"x\":17,\"xref\":\"x\",\"y\":1.4,\"yref\":\"y\"}]},\"name\":\"frame6\"},{\"data\":[{\"line\":{\"shape\":\"hvh\"},\"mode\":\"lines+markers\",\"type\":\"scatter\",\"x\":[1,2,3,4,5,6,7],\"y\":[-0.5,0.5,1.0,1.0,-0.5,0.5,-0.5]}],\"layout\":{\"annotations\":[{\"font\":{\"color\":\"blue\"},\"text\":\"4M3W: MR,CC,CS,LB,EL,JS,SG\",\"x\":7,\"xref\":\"x\",\"y\":-0.5,\"yref\":\"y\"},{\"font\":{\"color\":\"orange\",\"size\":18},\"showarrow\":false,\"text\":\"FucZH 4-3 Fly High Lausanne\",\"x\":0.5,\"xref\":\"paper\",\"y\":1.4,\"yref\":\"y\"},{\"showarrow\":false,\"text\":\"Completed Passes: 0,Turns: 2\",\"x\":17,\"xref\":\"x\",\"y\":1.3,\"yref\":\"y\"}]},\"name\":\"frame7\"},{\"data\":[{\"line\":{\"shape\":\"hvh\"},\"mode\":\"lines+markers\",\"type\":\"scatter\",\"x\":[1,2,3,4,5,6,7,8],\"y\":[-0.5,0.5,1.0,1.0,-0.5,0.5,-0.5,-1.0]}],\"layout\":{\"annotations\":[{\"font\":{\"color\":\"blue\"},\"text\":\"4W3M: AY,FS,JL,SB,MV,SH,GA\",\"x\":8,\"xref\":\"x\",\"y\":-1.0,\"yref\":\"y\"},{\"font\":{\"color\":\"orange\",\"size\":18},\"showarrow\":false,\"text\":\"FucZH 4-4 Fly High Lausanne\",\"x\":0.5,\"xref\":\"paper\",\"y\":1.4,\"yref\":\"y\"},{\"showarrow\":false,\"text\":\"Completed Passes: 6,Turns: 3\",\"x\":17,\"xref\":\"x\",\"y\":1.3,\"yref\":\"y\"}]},\"name\":\"frame8\"},{\"data\":[{\"line\":{\"shape\":\"hvh\"},\"mode\":\"lines+markers\",\"type\":\"scatter\",\"x\":[1,2,3,4,5,6,7,8,9],\"y\":[-0.5,0.5,1.0,1.0,-0.5,0.5,-0.5,-1.0,-1.0]}],\"layout\":{\"annotations\":[{\"font\":{\"color\":\"blue\"},\"text\":\"4W3M: SB,AY,FS,CC,SH,EL,JV\",\"x\":9,\"xref\":\"x\",\"y\":-1.0,\"yref\":\"y\"},{\"font\":{\"color\":\"orange\",\"size\":18},\"showarrow\":false,\"text\":\"FucZH 4-5 Fly High Lausanne\",\"x\":0.5,\"xref\":\"paper\",\"y\":1.4,\"yref\":\"y\"},{\"showarrow\":false,\"text\":\"Completed Passes: 4,Turns: 3\",\"x\":17,\"xref\":\"x\",\"y\":1.3,\"yref\":\"y\"}]},\"name\":\"frame9\"},{\"data\":[{\"line\":{\"shape\":\"hvh\"},\"mode\":\"lines+markers\",\"type\":\"scatter\",\"x\":[1,2,3,4,5,6,7,8,9,10],\"y\":[-0.5,0.5,1.0,1.0,-0.5,0.5,-0.5,-1.0,-1.0,-1.0]}],\"layout\":{\"annotations\":[{\"font\":{\"color\":\"blue\"},\"text\":\"4M3W: JL,MV,MR,SH,LB,GA,SG\",\"x\":10,\"xref\":\"x\",\"y\":-1.0,\"yref\":\"y\"},{\"font\":{\"color\":\"orange\",\"size\":18},\"showarrow\":false,\"text\":\"FucZH 4-6 Fly High Lausanne\",\"x\":0.5,\"xref\":\"paper\",\"y\":1.4,\"yref\":\"y\"},{\"showarrow\":false,\"text\":\"Completed Passes: 1,Turns: 1\",\"x\":17,\"xref\":\"x\",\"y\":1.3,\"yref\":\"y\"}]},\"name\":\"frame10\"},{\"data\":[{\"line\":{\"shape\":\"hvh\"},\"mode\":\"lines+markers\",\"type\":\"scatter\",\"x\":[1,2,3,4,5,6,7,8,9,10,11],\"y\":[-0.5,0.5,1.0,1.0,-0.5,0.5,-0.5,-1.0,-1.0,-1.0,0.5]}],\"layout\":{\"annotations\":[{\"font\":{\"color\":\"blue\"},\"text\":\"4M3W: FS,AY,CC,SH,EL,JV,GA\",\"x\":11,\"xref\":\"x\",\"y\":0.5,\"yref\":\"y\"},{\"font\":{\"color\":\"orange\",\"size\":18},\"showarrow\":false,\"text\":\"FucZH 5-6 Fly High Lausanne\",\"x\":0.5,\"xref\":\"paper\",\"y\":1.4,\"yref\":\"y\"},{\"showarrow\":false,\"text\":\"Completed Passes: 16,Turns: 0\",\"x\":17,\"xref\":\"x\",\"y\":1.3,\"yref\":\"y\"},{\"showarrow\":false,\"text\":\"Assist: SH, Goal:Anonymous\",\"x\":17,\"xref\":\"x\",\"y\":1.4,\"yref\":\"y\"}]},\"name\":\"frame11\"},{\"data\":[{\"line\":{\"shape\":\"hvh\"},\"mode\":\"lines+markers\",\"type\":\"scatter\",\"x\":[1,2,3,4,5,6,7,8,9,10,11,12],\"y\":[-0.5,0.5,1.0,1.0,-0.5,0.5,-0.5,-1.0,-1.0,-1.0,0.5,1.0]}],\"layout\":{\"annotations\":[{\"font\":{\"color\":\"blue\"},\"text\":\"4W3M: JL,SB,MV,MR,LB,JS,SG\",\"x\":12,\"xref\":\"x\",\"y\":1.0,\"yref\":\"y\"},{\"font\":{\"color\":\"orange\",\"size\":18},\"showarrow\":false,\"text\":\"FucZH 6-6 Fly High Lausanne\",\"x\":0.5,\"xref\":\"paper\",\"y\":1.4,\"yref\":\"y\"},{\"showarrow\":false,\"text\":\"Completed Passes: 0,Turns: 1\",\"x\":17,\"xref\":\"x\",\"y\":1.3,\"yref\":\"y\"},{\"showarrow\":false,\"text\":\"Assist: SG, Goal:MR\",\"x\":17,\"xref\":\"x\",\"y\":1.4,\"yref\":\"y\"}]},\"name\":\"frame12\"},{\"data\":[{\"line\":{\"shape\":\"hvh\"},\"mode\":\"lines+markers\",\"type\":\"scatter\",\"x\":[1,2,3,4,5,6,7,8,9,10,11,12,13],\"y\":[-0.5,0.5,1.0,1.0,-0.5,0.5,-0.5,-1.0,-1.0,-1.0,0.5,1.0,-0.5]}],\"layout\":{\"annotations\":[{\"font\":{\"color\":\"blue\"},\"text\":\"4W3M: JL,MV,CS,LB,EL,JV,SG\",\"x\":13,\"xref\":\"x\",\"y\":-0.5,\"yref\":\"y\"},{\"font\":{\"color\":\"orange\",\"size\":18},\"showarrow\":false,\"text\":\"FucZH 6-7 Fly High Lausanne\",\"x\":0.5,\"xref\":\"paper\",\"y\":1.4,\"yref\":\"y\"},{\"showarrow\":false,\"text\":\"Completed Passes: 0,Turns: 0\",\"x\":17,\"xref\":\"x\",\"y\":1.3,\"yref\":\"y\"}]},\"name\":\"frame13\"},{\"data\":[{\"line\":{\"shape\":\"hvh\"},\"mode\":\"lines+markers\",\"type\":\"scatter\",\"x\":[1,2,3,4,5,6,7,8,9,10,11,12,13,14],\"y\":[-0.5,0.5,1.0,1.0,-0.5,0.5,-0.5,-1.0,-1.0,-1.0,0.5,1.0,-0.5,0.5]}],\"layout\":{\"annotations\":[{\"font\":{\"color\":\"blue\"},\"text\":\"4M3W: AY,SB,FS,CC,SH,JS,GA\",\"x\":14,\"xref\":\"x\",\"y\":0.5,\"yref\":\"y\"},{\"font\":{\"color\":\"orange\",\"size\":18},\"showarrow\":false,\"text\":\"FucZH 7-7 Fly High Lausanne\",\"x\":0.5,\"xref\":\"paper\",\"y\":1.4,\"yref\":\"y\"},{\"showarrow\":false,\"text\":\"Completed Passes: 9,Turns: 0\",\"x\":17,\"xref\":\"x\",\"y\":1.3,\"yref\":\"y\"},{\"showarrow\":false,\"text\":\"Assist: GA, Goal:SH\",\"x\":17,\"xref\":\"x\",\"y\":1.4,\"yref\":\"y\"}]},\"name\":\"frame14\"},{\"data\":[{\"line\":{\"shape\":\"hvh\"},\"mode\":\"lines+markers\",\"type\":\"scatter\",\"x\":[1,2,3,4,5,6,7,8,9,10,11,12,13,14,15],\"y\":[-0.5,0.5,1.0,1.0,-0.5,0.5,-0.5,-1.0,-1.0,-1.0,0.5,1.0,-0.5,0.5,-0.5]}],\"layout\":{\"annotations\":[{\"font\":{\"color\":\"blue\"},\"text\":\"4M3W: JL,MV,MR,CS,LB,JV,SG\",\"x\":15,\"xref\":\"x\",\"y\":-0.5,\"yref\":\"y\"},{\"font\":{\"color\":\"orange\",\"size\":18},\"showarrow\":false,\"text\":\"FucZH 7-8 Fly High Lausanne\",\"x\":0.5,\"xref\":\"paper\",\"y\":1.4,\"yref\":\"y\"},{\"showarrow\":false,\"text\":\"Completed Passes: 3,Turns: 2\",\"x\":17,\"xref\":\"x\",\"y\":1.3,\"yref\":\"y\"}]},\"name\":\"frame15\"},{\"data\":[{\"line\":{\"shape\":\"hvh\"},\"mode\":\"lines+markers\",\"type\":\"scatter\",\"x\":[1,2,3,4,5,6,7,8,9,10,11,12,13,14,15,16],\"y\":[-0.5,0.5,1.0,1.0,-0.5,0.5,-0.5,-1.0,-1.0,-1.0,0.5,1.0,-0.5,0.5,-0.5,-1.0]}],\"layout\":{\"annotations\":[{\"font\":{\"color\":\"blue\"},\"text\":\"4W3M: SB,FS,AY,CC,SH,EL,GA\",\"x\":16,\"xref\":\"x\",\"y\":-1.0,\"yref\":\"y\"},{\"font\":{\"color\":\"orange\",\"size\":18},\"showarrow\":false,\"text\":\"FucZH 7-9 Fly High Lausanne\",\"x\":0.5,\"xref\":\"paper\",\"y\":1.4,\"yref\":\"y\"},{\"showarrow\":false,\"text\":\"Completed Passes: 8,Turns: 5\",\"x\":17,\"xref\":\"x\",\"y\":1.3,\"yref\":\"y\"}]},\"name\":\"frame16\"},{\"data\":[{\"line\":{\"shape\":\"hvh\"},\"mode\":\"lines+markers\",\"type\":\"scatter\",\"x\":[1,2,3,4,5,6,7,8,9,10,11,12,13,14,15,16,17],\"y\":[-0.5,0.5,1.0,1.0,-0.5,0.5,-0.5,-1.0,-1.0,-1.0,0.5,1.0,-0.5,0.5,-0.5,-1.0,0.5]}],\"layout\":{\"annotations\":[{\"font\":{\"color\":\"blue\"},\"text\":\"4W3M: AY,FS,JL,MV,MR,LB,SG\",\"x\":17,\"xref\":\"x\",\"y\":0.5,\"yref\":\"y\"},{\"font\":{\"color\":\"orange\",\"size\":18},\"showarrow\":false,\"text\":\"FucZH 8-9 Fly High Lausanne\",\"x\":0.5,\"xref\":\"paper\",\"y\":1.4,\"yref\":\"y\"},{\"showarrow\":false,\"text\":\"Completed Passes: 13,Turns: 2\",\"x\":17,\"xref\":\"x\",\"y\":1.3,\"yref\":\"y\"},{\"showarrow\":false,\"text\":\"Assist: SG, Goal:Anonymous\",\"x\":17,\"xref\":\"x\",\"y\":1.4,\"yref\":\"y\"}]},\"name\":\"frame17\"},{\"data\":[{\"line\":{\"shape\":\"hvh\"},\"mode\":\"lines+markers\",\"type\":\"scatter\",\"x\":[1,2,3,4,5,6,7,8,9,10,11,12,13,14,15,16,17,18],\"y\":[-0.5,0.5,1.0,1.0,-0.5,0.5,-0.5,-1.0,-1.0,-1.0,0.5,1.0,-0.5,0.5,-0.5,-1.0,0.5,-0.5]}],\"layout\":{\"annotations\":[{\"font\":{\"color\":\"blue\"},\"text\":\"4M3W: SB,MV,MR,CS,EL,JV,SG\",\"x\":18,\"xref\":\"x\",\"y\":-0.5,\"yref\":\"y\"},{\"font\":{\"color\":\"orange\",\"size\":18},\"showarrow\":false,\"text\":\"FucZH 8-10 Fly High Lausanne\",\"x\":0.5,\"xref\":\"paper\",\"y\":1.4,\"yref\":\"y\"},{\"showarrow\":false,\"text\":\"Completed Passes: 0,Turns: 0\",\"x\":17,\"xref\":\"x\",\"y\":1.3,\"yref\":\"y\"}]},\"name\":\"frame18\"},{\"data\":[{\"line\":{\"shape\":\"hvh\"},\"mode\":\"lines+markers\",\"type\":\"scatter\",\"x\":[1,2,3,4,5,6,7,8,9,10,11,12,13,14,15,16,17,18,19],\"y\":[-0.5,0.5,1.0,1.0,-0.5,0.5,-0.5,-1.0,-1.0,-1.0,0.5,1.0,-0.5,0.5,-0.5,-1.0,0.5,-0.5,0.5]}],\"layout\":{\"annotations\":[{\"font\":{\"color\":\"blue\"},\"text\":\"4M3W: FS,AY,CC,SH,LB,JS,GA\",\"x\":19,\"xref\":\"x\",\"y\":0.5,\"yref\":\"y\"},{\"font\":{\"color\":\"orange\",\"size\":18},\"showarrow\":false,\"text\":\"FucZH 9-10 Fly High Lausanne\",\"x\":0.5,\"xref\":\"paper\",\"y\":1.4,\"yref\":\"y\"},{\"showarrow\":false,\"text\":\"Completed Passes: 11,Turns: 0\",\"x\":17,\"xref\":\"x\",\"y\":1.3,\"yref\":\"y\"},{\"showarrow\":false,\"text\":\"Assist: AY, Goal:CC\",\"x\":17,\"xref\":\"x\",\"y\":1.4,\"yref\":\"y\"}]},\"name\":\"frame19\"}]);\n",
       "                        }).then(function(){\n",
       "                            \n",
       "var gd = document.getElementById('9a646a19-c6da-43af-930b-c625281721df');\n",
       "var x = new MutationObserver(function (mutations, observer) {{\n",
       "        var display = window.getComputedStyle(gd).display;\n",
       "        if (!display || display === 'none') {{\n",
       "            console.log([gd, 'removed!']);\n",
       "            Plotly.purge(gd);\n",
       "            observer.disconnect();\n",
       "        }}\n",
       "}});\n",
       "\n",
       "// Listen for the removal of the full notebook cells\n",
       "var notebookContainer = gd.closest('#notebook-container');\n",
       "if (notebookContainer) {{\n",
       "    x.observe(notebookContainer, {childList: true});\n",
       "}}\n",
       "\n",
       "// Listen for the clearing of the current output cell\n",
       "var outputEl = gd.closest('.output');\n",
       "if (outputEl) {{\n",
       "    x.observe(outputEl, {childList: true});\n",
       "}}\n",
       "\n",
       "                        })                };                });            </script>        </div>"
      ]
     },
     "metadata": {},
     "output_type": "display_data"
    }
   ],
   "source": [
    "fig=game_flow_fig(df,'Fly High Lausanne',slidew,slideh)\n",
    "fig.show()"
   ]
  },
  {
   "cell_type": "code",
   "execution_count": 148,
   "metadata": {
    "slideshow": {
     "slide_type": "fragment"
    },
    "tags": [
     "to_remove"
    ]
   },
   "outputs": [
    {
     "data": {
      "application/vnd.plotly.v1+json": {
       "config": {
        "plotlyServerURL": "https://plotly.com"
       },
       "data": [
        {
         "mode": "lines+markers",
         "type": "scatter",
         "x": [
          0
         ],
         "y": [
          0
         ]
        }
       ],
       "frames": [
        {
         "data": [
          {
           "line": {
            "shape": "hv"
           },
           "mode": "lines+markers",
           "type": "scatter",
           "x": [
            0
           ],
           "y": [
            0
           ]
          }
         ],
         "name": "frame0"
        },
        {
         "data": [
          {
           "line": {
            "shape": "hvh"
           },
           "mode": "lines+markers",
           "type": "scatter",
           "x": [
            1
           ],
           "y": [
            1
           ]
          }
         ],
         "layout": {
          "annotations": [
           {
            "font": {
             "color": "blue"
            },
            "text": "4M3W: JL,MV,MR,LB,JV,JS,SG",
            "x": 1,
            "xref": "x",
            "y": 1,
            "yref": "y"
           },
           {
            "font": {
             "color": "orange",
             "size": 18
            },
            "showarrow": false,
            "text": "FucZH 1-0 Wombats Willisau",
            "x": 0.5,
            "xref": "paper",
            "y": 1.4,
            "yref": "y"
           },
           {
            "showarrow": false,
            "text": "Completed Passes: 9,Turns: 5",
            "x": 14,
            "xref": "x",
            "y": 1.3,
            "yref": "y"
           },
           {
            "showarrow": false,
            "text": "Assist: MR, Goal:JS",
            "x": 14,
            "xref": "x",
            "y": 1.4,
            "yref": "y"
           }
          ]
         },
         "name": "frame1"
        },
        {
         "data": [
          {
           "line": {
            "shape": "hvh"
           },
           "mode": "lines+markers",
           "type": "scatter",
           "x": [
            1,
            2
           ],
           "y": [
            1,
            1
           ]
          }
         ],
         "layout": {
          "annotations": [
           {
            "font": {
             "color": "blue"
            },
            "text": "4W3M: FS,MV,CC,LB,EL,JV,SG",
            "x": 2,
            "xref": "x",
            "y": 1,
            "yref": "y"
           },
           {
            "font": {
             "color": "orange",
             "size": 18
            },
            "showarrow": false,
            "text": "FucZH 2-0 Wombats Willisau",
            "x": 0.5,
            "xref": "paper",
            "y": 1.4,
            "yref": "y"
           },
           {
            "showarrow": false,
            "text": "Completed Passes: 4,Turns: 1",
            "x": 14,
            "xref": "x",
            "y": 1.3,
            "yref": "y"
           },
           {
            "showarrow": false,
            "text": "Assist: SG, Goal:JV",
            "x": 14,
            "xref": "x",
            "y": 1.4,
            "yref": "y"
           }
          ]
         },
         "name": "frame2"
        },
        {
         "data": [
          {
           "line": {
            "shape": "hvh"
           },
           "mode": "lines+markers",
           "type": "scatter",
           "x": [
            1,
            2,
            3
           ],
           "y": [
            1,
            1,
            1
           ]
          }
         ],
         "layout": {
          "annotations": [
           {
            "font": {
             "color": "blue"
            },
            "text": "4W3M: JL,SB,MV,MR,CS,SH,LB",
            "x": 3,
            "xref": "x",
            "y": 1,
            "yref": "y"
           },
           {
            "font": {
             "color": "orange",
             "size": 18
            },
            "showarrow": false,
            "text": "FucZH 3-0 Wombats Willisau",
            "x": 0.5,
            "xref": "paper",
            "y": 1.4,
            "yref": "y"
           },
           {
            "showarrow": false,
            "text": "Completed Passes: 0,Turns: 1",
            "x": 14,
            "xref": "x",
            "y": 1.3,
            "yref": "y"
           },
           {
            "showarrow": false,
            "text": "Assist: SH, Goal:MR",
            "x": 14,
            "xref": "x",
            "y": 1.4,
            "yref": "y"
           }
          ]
         },
         "name": "frame3"
        },
        {
         "data": [
          {
           "line": {
            "shape": "hvh"
           },
           "mode": "lines+markers",
           "type": "scatter",
           "x": [
            1,
            2,
            3,
            4
           ],
           "y": [
            1,
            1,
            1,
            -0.5
           ]
          }
         ],
         "layout": {
          "annotations": [
           {
            "font": {
             "color": "blue"
            },
            "text": "4M3W: SB,JL,CC,JV,JS,SG,GA",
            "x": 4,
            "xref": "x",
            "y": -0.5,
            "yref": "y"
           },
           {
            "font": {
             "color": "orange",
             "size": 18
            },
            "showarrow": false,
            "text": "FucZH 3-1 Wombats Willisau",
            "x": 0.5,
            "xref": "paper",
            "y": 1.4,
            "yref": "y"
           },
           {
            "showarrow": false,
            "text": "Completed Passes: 3,Turns: 4",
            "x": 14,
            "xref": "x",
            "y": 1.3,
            "yref": "y"
           }
          ]
         },
         "name": "frame4"
        },
        {
         "data": [
          {
           "line": {
            "shape": "hvh"
           },
           "mode": "lines+markers",
           "type": "scatter",
           "x": [
            1,
            2,
            3,
            4,
            5
           ],
           "y": [
            1,
            1,
            1,
            -0.5,
            0.5
           ]
          }
         ],
         "layout": {
          "annotations": [
           {
            "font": {
             "color": "blue"
            },
            "text": "4M3W: AY,FS,MV,CS,SH,EL,GA",
            "x": 5,
            "xref": "x",
            "y": 0.5,
            "yref": "y"
           },
           {
            "font": {
             "color": "orange",
             "size": 18
            },
            "showarrow": false,
            "text": "FucZH 4-1 Wombats Willisau",
            "x": 0.5,
            "xref": "paper",
            "y": 1.4,
            "yref": "y"
           },
           {
            "showarrow": false,
            "text": "Completed Passes: 12,Turns: 2",
            "x": 14,
            "xref": "x",
            "y": 1.3,
            "yref": "y"
           },
           {
            "showarrow": false,
            "text": "Assist: AY, Goal:FS",
            "x": 14,
            "xref": "x",
            "y": 1.4,
            "yref": "y"
           }
          ]
         },
         "name": "frame5"
        },
        {
         "data": [
          {
           "line": {
            "shape": "hvh"
           },
           "mode": "lines+markers",
           "type": "scatter",
           "x": [
            1,
            2,
            3,
            4,
            5,
            6
           ],
           "y": [
            1,
            1,
            1,
            -0.5,
            0.5,
            -0.5
           ]
          }
         ],
         "layout": {
          "annotations": [
           {
            "font": {
             "color": "blue"
            },
            "text": "4W3M: SB,JL,MR,CC,EL,JV,SG",
            "x": 6,
            "xref": "x",
            "y": -0.5,
            "yref": "y"
           },
           {
            "font": {
             "color": "orange",
             "size": 18
            },
            "showarrow": false,
            "text": "FucZH 4-2 Wombats Willisau",
            "x": 0.5,
            "xref": "paper",
            "y": 1.4,
            "yref": "y"
           },
           {
            "showarrow": false,
            "text": "Completed Passes: 0,Turns: 0",
            "x": 14,
            "xref": "x",
            "y": 1.3,
            "yref": "y"
           }
          ]
         },
         "name": "frame6"
        },
        {
         "data": [
          {
           "line": {
            "shape": "hvh"
           },
           "mode": "lines+markers",
           "type": "scatter",
           "x": [
            1,
            2,
            3,
            4,
            5,
            6,
            7
           ],
           "y": [
            1,
            1,
            1,
            -0.5,
            0.5,
            -0.5,
            0.5
           ]
          }
         ],
         "layout": {
          "annotations": [
           {
            "font": {
             "color": "blue"
            },
            "text": "4W3M: AY,SB,MV,CS,SH,LB,GA",
            "x": 7,
            "xref": "x",
            "y": 0.5,
            "yref": "y"
           },
           {
            "font": {
             "color": "orange",
             "size": 18
            },
            "showarrow": false,
            "text": "FucZH 5-2 Wombats Willisau",
            "x": 0.5,
            "xref": "paper",
            "y": 1.4,
            "yref": "y"
           },
           {
            "showarrow": false,
            "text": "Completed Passes: 11,Turns: 0",
            "x": 14,
            "xref": "x",
            "y": 1.3,
            "yref": "y"
           },
           {
            "showarrow": false,
            "text": "Assist: MV, Goal:Anonymous",
            "x": 14,
            "xref": "x",
            "y": 1.4,
            "yref": "y"
           }
          ]
         },
         "name": "frame7"
        },
        {
         "data": [
          {
           "line": {
            "shape": "hvh"
           },
           "mode": "lines+markers",
           "type": "scatter",
           "x": [
            1,
            2,
            3,
            4,
            5,
            6,
            7,
            8
           ],
           "y": [
            1,
            1,
            1,
            -0.5,
            0.5,
            -0.5,
            0.5,
            -0.5
           ]
          }
         ],
         "layout": {
          "annotations": [
           {
            "font": {
             "color": "blue"
            },
            "text": "4M3W: JL,MR,CC,EL,JV,JS,SG",
            "x": 8,
            "xref": "x",
            "y": -0.5,
            "yref": "y"
           },
           {
            "font": {
             "color": "orange",
             "size": 18
            },
            "showarrow": false,
            "text": "FucZH 5-3 Wombats Willisau",
            "x": 0.5,
            "xref": "paper",
            "y": 1.4,
            "yref": "y"
           },
           {
            "showarrow": false,
            "text": "Completed Passes: 0,Turns: 0",
            "x": 14,
            "xref": "x",
            "y": 1.3,
            "yref": "y"
           }
          ]
         },
         "name": "frame8"
        },
        {
         "data": [
          {
           "line": {
            "shape": "hvh"
           },
           "mode": "lines+markers",
           "type": "scatter",
           "x": [
            1,
            2,
            3,
            4,
            5,
            6,
            7,
            8,
            9
           ],
           "y": [
            1,
            1,
            1,
            -0.5,
            0.5,
            -0.5,
            0.5,
            -0.5,
            0.5
           ]
          }
         ],
         "layout": {
          "annotations": [
           {
            "font": {
             "color": "blue"
            },
            "text": "4M3W: AY,SB,FS,MV,CS,SH,GA",
            "x": 9,
            "xref": "x",
            "y": 0.5,
            "yref": "y"
           },
           {
            "font": {
             "color": "orange",
             "size": 18
            },
            "showarrow": false,
            "text": "FucZH 6-3 Wombats Willisau",
            "x": 0.5,
            "xref": "paper",
            "y": 1.4,
            "yref": "y"
           },
           {
            "showarrow": false,
            "text": "Completed Passes: 14,Turns: 0",
            "x": 14,
            "xref": "x",
            "y": 1.3,
            "yref": "y"
           },
           {
            "showarrow": false,
            "text": "Assist: FS, Goal:SH",
            "x": 14,
            "xref": "x",
            "y": 1.4,
            "yref": "y"
           }
          ]
         },
         "name": "frame9"
        },
        {
         "data": [
          {
           "line": {
            "shape": "hvh"
           },
           "mode": "lines+markers",
           "type": "scatter",
           "x": [
            1,
            2,
            3,
            4,
            5,
            6,
            7,
            8,
            9,
            10
           ],
           "y": [
            1,
            1,
            1,
            -0.5,
            0.5,
            -0.5,
            0.5,
            -0.5,
            0.5,
            -0.5
           ]
          }
         ],
         "layout": {
          "annotations": [
           {
            "font": {
             "color": "blue"
            },
            "text": "4W3M: JL,MR,CC,LB,EL,JV,SG",
            "x": 10,
            "xref": "x",
            "y": -0.5,
            "yref": "y"
           },
           {
            "font": {
             "color": "orange",
             "size": 18
            },
            "showarrow": false,
            "text": "FucZH 6-4 Wombats Willisau",
            "x": 0.5,
            "xref": "paper",
            "y": 1.4,
            "yref": "y"
           },
           {
            "showarrow": false,
            "text": "Completed Passes: 0,Turns: 0",
            "x": 14,
            "xref": "x",
            "y": 1.3,
            "yref": "y"
           }
          ]
         },
         "name": "frame10"
        },
        {
         "data": [
          {
           "line": {
            "shape": "hvh"
           },
           "mode": "lines+markers",
           "type": "scatter",
           "x": [
            1,
            2,
            3,
            4,
            5,
            6,
            7,
            8,
            9,
            10,
            11
           ],
           "y": [
            1,
            1,
            1,
            -0.5,
            0.5,
            -0.5,
            0.5,
            -0.5,
            0.5,
            -0.5,
            -1
           ]
          }
         ],
         "layout": {
          "annotations": [
           {
            "font": {
             "color": "blue"
            },
            "text": "4W3M: AY,SB,MV,CS,SH,LB,GA",
            "x": 11,
            "xref": "x",
            "y": -1,
            "yref": "y"
           },
           {
            "font": {
             "color": "orange",
             "size": 18
            },
            "showarrow": false,
            "text": "FucZH 6-5 Wombats Willisau",
            "x": 0.5,
            "xref": "paper",
            "y": 1.4,
            "yref": "y"
           },
           {
            "showarrow": false,
            "text": "Completed Passes: 13,Turns: 3",
            "x": 14,
            "xref": "x",
            "y": 1.3,
            "yref": "y"
           }
          ]
         },
         "name": "frame11"
        },
        {
         "data": [
          {
           "line": {
            "shape": "hvh"
           },
           "mode": "lines+markers",
           "type": "scatter",
           "x": [
            1,
            2,
            3,
            4,
            5,
            6,
            7,
            8,
            9,
            10,
            11,
            12
           ],
           "y": [
            1,
            1,
            1,
            -0.5,
            0.5,
            -0.5,
            0.5,
            -0.5,
            0.5,
            -0.5,
            -1,
            -1
           ]
          }
         ],
         "layout": {
          "annotations": [
           {
            "font": {
             "color": "blue"
            },
            "text": "4M3W: AY,JL,CC,SH,JS,GA,SG",
            "x": 12,
            "xref": "x",
            "y": -1,
            "yref": "y"
           },
           {
            "font": {
             "color": "orange",
             "size": 18
            },
            "showarrow": false,
            "text": "FucZH 6-6 Wombats Willisau",
            "x": 0.5,
            "xref": "paper",
            "y": 1.4,
            "yref": "y"
           },
           {
            "showarrow": false,
            "text": "Completed Passes: 17,Turns: 1",
            "x": 14,
            "xref": "x",
            "y": 1.3,
            "yref": "y"
           }
          ]
         },
         "name": "frame12"
        },
        {
         "data": [
          {
           "line": {
            "shape": "hvh"
           },
           "mode": "lines+markers",
           "type": "scatter",
           "x": [
            1,
            2,
            3,
            4,
            5,
            6,
            7,
            8,
            9,
            10,
            11,
            12,
            13
           ],
           "y": [
            1,
            1,
            1,
            -0.5,
            0.5,
            -0.5,
            0.5,
            -0.5,
            0.5,
            -0.5,
            -1,
            -1,
            0.5
           ]
          }
         ],
         "layout": {
          "annotations": [
           {
            "font": {
             "color": "blue"
            },
            "text": "4W3M: SB,FS,MV,MR,CS,LB,EL",
            "x": 13,
            "xref": "x",
            "y": 0.5,
            "yref": "y"
           },
           {
            "font": {
             "color": "orange",
             "size": 18
            },
            "showarrow": false,
            "text": "FucZH 7-6 Wombats Willisau",
            "x": 0.5,
            "xref": "paper",
            "y": 1.4,
            "yref": "y"
           },
           {
            "showarrow": false,
            "text": "Completed Passes: 6,Turns: 0",
            "x": 14,
            "xref": "x",
            "y": 1.3,
            "yref": "y"
           },
           {
            "showarrow": false,
            "text": "Assist: MR, Goal:Anonymous",
            "x": 14,
            "xref": "x",
            "y": 1.4,
            "yref": "y"
           }
          ]
         },
         "name": "frame13"
        },
        {
         "data": [
          {
           "line": {
            "shape": "hvh"
           },
           "mode": "lines+markers",
           "type": "scatter",
           "x": [
            1,
            2,
            3,
            4,
            5,
            6,
            7,
            8,
            9,
            10,
            11,
            12,
            13,
            14
           ],
           "y": [
            1,
            1,
            1,
            -0.5,
            0.5,
            -0.5,
            0.5,
            -0.5,
            0.5,
            -0.5,
            -1,
            -1,
            0.5,
            1
           ]
          }
         ],
         "layout": {
          "annotations": [
           {
            "font": {
             "color": "blue"
            },
            "text": "4W3M: JL,MV,MR,LB,EL,JV,SG",
            "x": 14,
            "xref": "x",
            "y": 1,
            "yref": "y"
           },
           {
            "font": {
             "color": "orange",
             "size": 18
            },
            "showarrow": false,
            "text": "FucZH 8-6 Wombats Willisau",
            "x": 0.5,
            "xref": "paper",
            "y": 1.4,
            "yref": "y"
           },
           {
            "showarrow": false,
            "text": "Completed Passes: 0,Turns: 1",
            "x": 14,
            "xref": "x",
            "y": 1.3,
            "yref": "y"
           },
           {
            "showarrow": false,
            "text": "Assist: SG, Goal:JV",
            "x": 14,
            "xref": "x",
            "y": 1.4,
            "yref": "y"
           }
          ]
         },
         "name": "frame14"
        },
        {
         "data": [
          {
           "line": {
            "shape": "hvh"
           },
           "mode": "lines+markers",
           "type": "scatter",
           "x": [
            1,
            2,
            3,
            4,
            5,
            6,
            7,
            8,
            9,
            10,
            11,
            12,
            13,
            14,
            15
           ],
           "y": [
            1,
            1,
            1,
            -0.5,
            0.5,
            -0.5,
            0.5,
            -0.5,
            0.5,
            -0.5,
            -1,
            -1,
            0.5,
            1,
            0.5
           ]
          }
         ],
         "layout": {
          "annotations": [
           {
            "font": {
             "color": "blue"
            },
            "text": "4W3M: AY,SB,MV,CC,SH,SG,GA",
            "x": 15,
            "xref": "x",
            "y": 0.5,
            "yref": "y"
           },
           {
            "font": {
             "color": "orange",
             "size": 18
            },
            "showarrow": false,
            "text": "FucZH 9-6 Wombats Willisau",
            "x": 0.5,
            "xref": "paper",
            "y": 1.4,
            "yref": "y"
           },
           {
            "showarrow": false,
            "text": "Completed Passes: 8,Turns: 0",
            "x": 14,
            "xref": "x",
            "y": 1.3,
            "yref": "y"
           },
           {
            "showarrow": false,
            "text": "Assist: GA, Goal:SB",
            "x": 14,
            "xref": "x",
            "y": 1.4,
            "yref": "y"
           }
          ]
         },
         "name": "frame15"
        },
        {
         "data": [
          {
           "line": {
            "shape": "hvh"
           },
           "mode": "lines+markers",
           "type": "scatter",
           "x": [
            1,
            2,
            3,
            4,
            5,
            6,
            7,
            8,
            9,
            10,
            11,
            12,
            13,
            14,
            15,
            16
           ],
           "y": [
            1,
            1,
            1,
            -0.5,
            0.5,
            -0.5,
            0.5,
            -0.5,
            0.5,
            -0.5,
            -1,
            -1,
            0.5,
            1,
            0.5,
            -0.5
           ]
          }
         ],
         "layout": {
          "annotations": [
           {
            "font": {
             "color": "blue"
            },
            "text": "4M3W: JL,MR,SH,LB,EL,JS,JV",
            "x": 16,
            "xref": "x",
            "y": -0.5,
            "yref": "y"
           },
           {
            "font": {
             "color": "orange",
             "size": 18
            },
            "showarrow": false,
            "text": "FucZH 9-7 Wombats Willisau",
            "x": 0.5,
            "xref": "paper",
            "y": 1.4,
            "yref": "y"
           },
           {
            "showarrow": false,
            "text": "Completed Passes: 0,Turns: 0",
            "x": 14,
            "xref": "x",
            "y": 1.3,
            "yref": "y"
           }
          ]
         },
         "name": "frame16"
        }
       ],
       "layout": {
        "height": 600,
        "hovermode": "closest",
        "images": [
         {
          "sizex": 0.2,
          "sizey": 0.2,
          "source": "https://raw.githubusercontent.com/elastufka/presentations/master/images/ZU_logo1.png",
          "x": 0,
          "xanchor": "right",
          "xref": "paper",
          "y": 1.05,
          "yanchor": "bottom",
          "yref": "paper"
         }
        ],
        "sliders": [
         {
          "active": 0,
          "currentvalue": {
           "font": {
            "size": 14
           },
           "prefix": "Point:",
           "visible": true,
           "xanchor": "right"
          },
          "len": 0.9,
          "pad": {
           "b": 10,
           "t": 10
          },
          "steps": [
           {
            "args": [
             [
              "frame1"
             ],
             {
              "frame": {
               "duration": 300,
               "redraw": false
              },
              "mode": "immediate",
              "transition": {
               "duration": 300
              }
             }
            ],
            "label": "1",
            "method": "animate"
           },
           {
            "args": [
             [
              "frame2"
             ],
             {
              "frame": {
               "duration": 300,
               "redraw": false
              },
              "mode": "immediate",
              "transition": {
               "duration": 300
              }
             }
            ],
            "label": "2",
            "method": "animate"
           },
           {
            "args": [
             [
              "frame3"
             ],
             {
              "frame": {
               "duration": 300,
               "redraw": false
              },
              "mode": "immediate",
              "transition": {
               "duration": 300
              }
             }
            ],
            "label": "3",
            "method": "animate"
           },
           {
            "args": [
             [
              "frame4"
             ],
             {
              "frame": {
               "duration": 300,
               "redraw": false
              },
              "mode": "immediate",
              "transition": {
               "duration": 300
              }
             }
            ],
            "label": "4",
            "method": "animate"
           },
           {
            "args": [
             [
              "frame5"
             ],
             {
              "frame": {
               "duration": 300,
               "redraw": false
              },
              "mode": "immediate",
              "transition": {
               "duration": 300
              }
             }
            ],
            "label": "5",
            "method": "animate"
           },
           {
            "args": [
             [
              "frame6"
             ],
             {
              "frame": {
               "duration": 300,
               "redraw": false
              },
              "mode": "immediate",
              "transition": {
               "duration": 300
              }
             }
            ],
            "label": "6",
            "method": "animate"
           },
           {
            "args": [
             [
              "frame7"
             ],
             {
              "frame": {
               "duration": 300,
               "redraw": false
              },
              "mode": "immediate",
              "transition": {
               "duration": 300
              }
             }
            ],
            "label": "7",
            "method": "animate"
           },
           {
            "args": [
             [
              "frame8"
             ],
             {
              "frame": {
               "duration": 300,
               "redraw": false
              },
              "mode": "immediate",
              "transition": {
               "duration": 300
              }
             }
            ],
            "label": "8",
            "method": "animate"
           },
           {
            "args": [
             [
              "frame9"
             ],
             {
              "frame": {
               "duration": 300,
               "redraw": false
              },
              "mode": "immediate",
              "transition": {
               "duration": 300
              }
             }
            ],
            "label": "9",
            "method": "animate"
           },
           {
            "args": [
             [
              "frame10"
             ],
             {
              "frame": {
               "duration": 300,
               "redraw": false
              },
              "mode": "immediate",
              "transition": {
               "duration": 300
              }
             }
            ],
            "label": "10",
            "method": "animate"
           },
           {
            "args": [
             [
              "frame11"
             ],
             {
              "frame": {
               "duration": 300,
               "redraw": false
              },
              "mode": "immediate",
              "transition": {
               "duration": 300
              }
             }
            ],
            "label": "11",
            "method": "animate"
           },
           {
            "args": [
             [
              "frame12"
             ],
             {
              "frame": {
               "duration": 300,
               "redraw": false
              },
              "mode": "immediate",
              "transition": {
               "duration": 300
              }
             }
            ],
            "label": "12",
            "method": "animate"
           },
           {
            "args": [
             [
              "frame13"
             ],
             {
              "frame": {
               "duration": 300,
               "redraw": false
              },
              "mode": "immediate",
              "transition": {
               "duration": 300
              }
             }
            ],
            "label": "13",
            "method": "animate"
           },
           {
            "args": [
             [
              "frame14"
             ],
             {
              "frame": {
               "duration": 300,
               "redraw": false
              },
              "mode": "immediate",
              "transition": {
               "duration": 300
              }
             }
            ],
            "label": "14",
            "method": "animate"
           },
           {
            "args": [
             [
              "frame15"
             ],
             {
              "frame": {
               "duration": 300,
               "redraw": false
              },
              "mode": "immediate",
              "transition": {
               "duration": 300
              }
             }
            ],
            "label": "15",
            "method": "animate"
           },
           {
            "args": [
             [
              "frame16"
             ],
             {
              "frame": {
               "duration": 300,
               "redraw": false
              },
              "mode": "immediate",
              "transition": {
               "duration": 300
              }
             }
            ],
            "label": "16",
            "method": "animate"
           }
          ],
          "transition": {
           "duration": 300,
           "easing": "cubic-in-out"
          },
          "x": 1,
          "xanchor": "right",
          "y": -0.4,
          "yanchor": "bottom"
         }
        ],
        "template": {
         "layout": {
          "colorway": [
           "#000000",
           "#784F17",
           "#FF0018",
           "#FFA52C",
           "#FFFF41",
           "#008018",
           "#0000F9",
           "#86007D"
          ],
          "plot_bgcolor": "lightgrey"
         }
        },
        "title": {
         "text": "Game Flow"
        },
        "updatemenus": [
         {
          "buttons": [
           {
            "args": [
             null,
             {
              "frame": {
               "duration": 500,
               "redraw": false
              },
              "fromcurrent": true,
              "transition": {
               "duration": 300,
               "easing": "quadratic-in-out"
              }
             }
            ],
            "label": "Play",
            "method": "animate"
           },
           {
            "args": [
             [
              null
             ],
             {
              "frame": {
               "duration": 0,
               "redraw": false
              },
              "mode": "immediate",
              "transition": {
               "duration": 0
              }
             }
            ],
            "label": "Pause",
            "method": "animate"
           }
          ],
          "direction": "left",
          "pad": {
           "r": 10,
           "t": 87
          },
          "showactive": false,
          "type": "buttons",
          "x": 0.1,
          "xanchor": "right",
          "y": 0,
          "yanchor": "top"
         }
        ],
        "width": 850,
        "xaxis": {
         "range": [
          0.5,
          17.5
         ],
         "title": {
          "text": "Points"
         }
        },
        "yaxis": {
         "range": [
          -1.1,
          1.5
         ],
         "ticktext": [
          "Their Break",
          "Their Hold",
          "",
          "Our Hold",
          "Our Break"
         ],
         "tickvals": [
          -1,
          -0.5,
          0,
          0.5,
          1
         ],
         "title": {
          "text": "Point Type"
         }
        }
       }
      },
      "text/html": [
       "<div>                            <div id=\"d7bb2c24-729e-427b-a628-6846423ddcb5\" class=\"plotly-graph-div\" style=\"height:600px; width:850px;\"></div>            <script type=\"text/javascript\">                require([\"plotly\"], function(Plotly) {                    window.PLOTLYENV=window.PLOTLYENV || {};                                    if (document.getElementById(\"d7bb2c24-729e-427b-a628-6846423ddcb5\")) {                    Plotly.newPlot(                        \"d7bb2c24-729e-427b-a628-6846423ddcb5\",                        [{\"mode\":\"lines+markers\",\"type\":\"scatter\",\"x\":[0],\"y\":[0]}],                        {\"height\":600,\"hovermode\":\"closest\",\"images\":[{\"sizex\":0.2,\"sizey\":0.2,\"source\":\"https://raw.githubusercontent.com/elastufka/presentations/master/images/ZU_logo1.png\",\"x\":0,\"xanchor\":\"right\",\"xref\":\"paper\",\"y\":1.05,\"yanchor\":\"bottom\",\"yref\":\"paper\"}],\"sliders\":[{\"active\":0,\"currentvalue\":{\"font\":{\"size\":14},\"prefix\":\"Point:\",\"visible\":true,\"xanchor\":\"right\"},\"len\":0.9,\"pad\":{\"b\":10,\"t\":10},\"steps\":[{\"args\":[[\"frame1\"],{\"frame\":{\"duration\":300,\"redraw\":false},\"mode\":\"immediate\",\"transition\":{\"duration\":300}}],\"label\":\"1\",\"method\":\"animate\"},{\"args\":[[\"frame2\"],{\"frame\":{\"duration\":300,\"redraw\":false},\"mode\":\"immediate\",\"transition\":{\"duration\":300}}],\"label\":\"2\",\"method\":\"animate\"},{\"args\":[[\"frame3\"],{\"frame\":{\"duration\":300,\"redraw\":false},\"mode\":\"immediate\",\"transition\":{\"duration\":300}}],\"label\":\"3\",\"method\":\"animate\"},{\"args\":[[\"frame4\"],{\"frame\":{\"duration\":300,\"redraw\":false},\"mode\":\"immediate\",\"transition\":{\"duration\":300}}],\"label\":\"4\",\"method\":\"animate\"},{\"args\":[[\"frame5\"],{\"frame\":{\"duration\":300,\"redraw\":false},\"mode\":\"immediate\",\"transition\":{\"duration\":300}}],\"label\":\"5\",\"method\":\"animate\"},{\"args\":[[\"frame6\"],{\"frame\":{\"duration\":300,\"redraw\":false},\"mode\":\"immediate\",\"transition\":{\"duration\":300}}],\"label\":\"6\",\"method\":\"animate\"},{\"args\":[[\"frame7\"],{\"frame\":{\"duration\":300,\"redraw\":false},\"mode\":\"immediate\",\"transition\":{\"duration\":300}}],\"label\":\"7\",\"method\":\"animate\"},{\"args\":[[\"frame8\"],{\"frame\":{\"duration\":300,\"redraw\":false},\"mode\":\"immediate\",\"transition\":{\"duration\":300}}],\"label\":\"8\",\"method\":\"animate\"},{\"args\":[[\"frame9\"],{\"frame\":{\"duration\":300,\"redraw\":false},\"mode\":\"immediate\",\"transition\":{\"duration\":300}}],\"label\":\"9\",\"method\":\"animate\"},{\"args\":[[\"frame10\"],{\"frame\":{\"duration\":300,\"redraw\":false},\"mode\":\"immediate\",\"transition\":{\"duration\":300}}],\"label\":\"10\",\"method\":\"animate\"},{\"args\":[[\"frame11\"],{\"frame\":{\"duration\":300,\"redraw\":false},\"mode\":\"immediate\",\"transition\":{\"duration\":300}}],\"label\":\"11\",\"method\":\"animate\"},{\"args\":[[\"frame12\"],{\"frame\":{\"duration\":300,\"redraw\":false},\"mode\":\"immediate\",\"transition\":{\"duration\":300}}],\"label\":\"12\",\"method\":\"animate\"},{\"args\":[[\"frame13\"],{\"frame\":{\"duration\":300,\"redraw\":false},\"mode\":\"immediate\",\"transition\":{\"duration\":300}}],\"label\":\"13\",\"method\":\"animate\"},{\"args\":[[\"frame14\"],{\"frame\":{\"duration\":300,\"redraw\":false},\"mode\":\"immediate\",\"transition\":{\"duration\":300}}],\"label\":\"14\",\"method\":\"animate\"},{\"args\":[[\"frame15\"],{\"frame\":{\"duration\":300,\"redraw\":false},\"mode\":\"immediate\",\"transition\":{\"duration\":300}}],\"label\":\"15\",\"method\":\"animate\"},{\"args\":[[\"frame16\"],{\"frame\":{\"duration\":300,\"redraw\":false},\"mode\":\"immediate\",\"transition\":{\"duration\":300}}],\"label\":\"16\",\"method\":\"animate\"}],\"transition\":{\"duration\":300,\"easing\":\"cubic-in-out\"},\"x\":1,\"xanchor\":\"right\",\"y\":-0.4,\"yanchor\":\"bottom\"}],\"template\":{\"layout\":{\"colorway\":[\"#000000\",\"#784F17\",\"#FF0018\",\"#FFA52C\",\"#FFFF41\",\"#008018\",\"#0000F9\",\"#86007D\"],\"plot_bgcolor\":\"lightgrey\"}},\"title\":{\"text\":\"Game Flow\"},\"updatemenus\":[{\"buttons\":[{\"args\":[null,{\"frame\":{\"duration\":500,\"redraw\":false},\"fromcurrent\":true,\"transition\":{\"duration\":300,\"easing\":\"quadratic-in-out\"}}],\"label\":\"Play\",\"method\":\"animate\"},{\"args\":[[null],{\"frame\":{\"duration\":0,\"redraw\":false},\"mode\":\"immediate\",\"transition\":{\"duration\":0}}],\"label\":\"Pause\",\"method\":\"animate\"}],\"direction\":\"left\",\"pad\":{\"r\":10,\"t\":87},\"showactive\":false,\"type\":\"buttons\",\"x\":0.1,\"xanchor\":\"right\",\"y\":0,\"yanchor\":\"top\"}],\"width\":850,\"xaxis\":{\"range\":[0.5,17.5],\"title\":{\"text\":\"Points\"}},\"yaxis\":{\"range\":[-1.1,1.5],\"ticktext\":[\"Their Break\",\"Their Hold\",\"\",\"Our Hold\",\"Our Break\"],\"tickvals\":[-1,-0.5,0,0.5,1],\"title\":{\"text\":\"Point Type\"}}},                        {\"responsive\": true}                    ).then(function(){\n",
       "                            Plotly.addFrames('d7bb2c24-729e-427b-a628-6846423ddcb5', [{\"data\":[{\"line\":{\"shape\":\"hv\"},\"mode\":\"lines+markers\",\"type\":\"scatter\",\"x\":[0],\"y\":[0]}],\"name\":\"frame0\"},{\"data\":[{\"line\":{\"shape\":\"hvh\"},\"mode\":\"lines+markers\",\"type\":\"scatter\",\"x\":[1],\"y\":[1.0]}],\"layout\":{\"annotations\":[{\"font\":{\"color\":\"blue\"},\"text\":\"4M3W: JL,MV,MR,LB,JV,JS,SG\",\"x\":1,\"xref\":\"x\",\"y\":1.0,\"yref\":\"y\"},{\"font\":{\"color\":\"orange\",\"size\":18},\"showarrow\":false,\"text\":\"FucZH 1-0 Wombats Willisau\",\"x\":0.5,\"xref\":\"paper\",\"y\":1.4,\"yref\":\"y\"},{\"showarrow\":false,\"text\":\"Completed Passes: 9,Turns: 5\",\"x\":14,\"xref\":\"x\",\"y\":1.3,\"yref\":\"y\"},{\"showarrow\":false,\"text\":\"Assist: MR, Goal:JS\",\"x\":14,\"xref\":\"x\",\"y\":1.4,\"yref\":\"y\"}]},\"name\":\"frame1\"},{\"data\":[{\"line\":{\"shape\":\"hvh\"},\"mode\":\"lines+markers\",\"type\":\"scatter\",\"x\":[1,2],\"y\":[1.0,1.0]}],\"layout\":{\"annotations\":[{\"font\":{\"color\":\"blue\"},\"text\":\"4W3M: FS,MV,CC,LB,EL,JV,SG\",\"x\":2,\"xref\":\"x\",\"y\":1.0,\"yref\":\"y\"},{\"font\":{\"color\":\"orange\",\"size\":18},\"showarrow\":false,\"text\":\"FucZH 2-0 Wombats Willisau\",\"x\":0.5,\"xref\":\"paper\",\"y\":1.4,\"yref\":\"y\"},{\"showarrow\":false,\"text\":\"Completed Passes: 4,Turns: 1\",\"x\":14,\"xref\":\"x\",\"y\":1.3,\"yref\":\"y\"},{\"showarrow\":false,\"text\":\"Assist: SG, Goal:JV\",\"x\":14,\"xref\":\"x\",\"y\":1.4,\"yref\":\"y\"}]},\"name\":\"frame2\"},{\"data\":[{\"line\":{\"shape\":\"hvh\"},\"mode\":\"lines+markers\",\"type\":\"scatter\",\"x\":[1,2,3],\"y\":[1.0,1.0,1.0]}],\"layout\":{\"annotations\":[{\"font\":{\"color\":\"blue\"},\"text\":\"4W3M: JL,SB,MV,MR,CS,SH,LB\",\"x\":3,\"xref\":\"x\",\"y\":1.0,\"yref\":\"y\"},{\"font\":{\"color\":\"orange\",\"size\":18},\"showarrow\":false,\"text\":\"FucZH 3-0 Wombats Willisau\",\"x\":0.5,\"xref\":\"paper\",\"y\":1.4,\"yref\":\"y\"},{\"showarrow\":false,\"text\":\"Completed Passes: 0,Turns: 1\",\"x\":14,\"xref\":\"x\",\"y\":1.3,\"yref\":\"y\"},{\"showarrow\":false,\"text\":\"Assist: SH, Goal:MR\",\"x\":14,\"xref\":\"x\",\"y\":1.4,\"yref\":\"y\"}]},\"name\":\"frame3\"},{\"data\":[{\"line\":{\"shape\":\"hvh\"},\"mode\":\"lines+markers\",\"type\":\"scatter\",\"x\":[1,2,3,4],\"y\":[1.0,1.0,1.0,-0.5]}],\"layout\":{\"annotations\":[{\"font\":{\"color\":\"blue\"},\"text\":\"4M3W: SB,JL,CC,JV,JS,SG,GA\",\"x\":4,\"xref\":\"x\",\"y\":-0.5,\"yref\":\"y\"},{\"font\":{\"color\":\"orange\",\"size\":18},\"showarrow\":false,\"text\":\"FucZH 3-1 Wombats Willisau\",\"x\":0.5,\"xref\":\"paper\",\"y\":1.4,\"yref\":\"y\"},{\"showarrow\":false,\"text\":\"Completed Passes: 3,Turns: 4\",\"x\":14,\"xref\":\"x\",\"y\":1.3,\"yref\":\"y\"}]},\"name\":\"frame4\"},{\"data\":[{\"line\":{\"shape\":\"hvh\"},\"mode\":\"lines+markers\",\"type\":\"scatter\",\"x\":[1,2,3,4,5],\"y\":[1.0,1.0,1.0,-0.5,0.5]}],\"layout\":{\"annotations\":[{\"font\":{\"color\":\"blue\"},\"text\":\"4M3W: AY,FS,MV,CS,SH,EL,GA\",\"x\":5,\"xref\":\"x\",\"y\":0.5,\"yref\":\"y\"},{\"font\":{\"color\":\"orange\",\"size\":18},\"showarrow\":false,\"text\":\"FucZH 4-1 Wombats Willisau\",\"x\":0.5,\"xref\":\"paper\",\"y\":1.4,\"yref\":\"y\"},{\"showarrow\":false,\"text\":\"Completed Passes: 12,Turns: 2\",\"x\":14,\"xref\":\"x\",\"y\":1.3,\"yref\":\"y\"},{\"showarrow\":false,\"text\":\"Assist: AY, Goal:FS\",\"x\":14,\"xref\":\"x\",\"y\":1.4,\"yref\":\"y\"}]},\"name\":\"frame5\"},{\"data\":[{\"line\":{\"shape\":\"hvh\"},\"mode\":\"lines+markers\",\"type\":\"scatter\",\"x\":[1,2,3,4,5,6],\"y\":[1.0,1.0,1.0,-0.5,0.5,-0.5]}],\"layout\":{\"annotations\":[{\"font\":{\"color\":\"blue\"},\"text\":\"4W3M: SB,JL,MR,CC,EL,JV,SG\",\"x\":6,\"xref\":\"x\",\"y\":-0.5,\"yref\":\"y\"},{\"font\":{\"color\":\"orange\",\"size\":18},\"showarrow\":false,\"text\":\"FucZH 4-2 Wombats Willisau\",\"x\":0.5,\"xref\":\"paper\",\"y\":1.4,\"yref\":\"y\"},{\"showarrow\":false,\"text\":\"Completed Passes: 0,Turns: 0\",\"x\":14,\"xref\":\"x\",\"y\":1.3,\"yref\":\"y\"}]},\"name\":\"frame6\"},{\"data\":[{\"line\":{\"shape\":\"hvh\"},\"mode\":\"lines+markers\",\"type\":\"scatter\",\"x\":[1,2,3,4,5,6,7],\"y\":[1.0,1.0,1.0,-0.5,0.5,-0.5,0.5]}],\"layout\":{\"annotations\":[{\"font\":{\"color\":\"blue\"},\"text\":\"4W3M: AY,SB,MV,CS,SH,LB,GA\",\"x\":7,\"xref\":\"x\",\"y\":0.5,\"yref\":\"y\"},{\"font\":{\"color\":\"orange\",\"size\":18},\"showarrow\":false,\"text\":\"FucZH 5-2 Wombats Willisau\",\"x\":0.5,\"xref\":\"paper\",\"y\":1.4,\"yref\":\"y\"},{\"showarrow\":false,\"text\":\"Completed Passes: 11,Turns: 0\",\"x\":14,\"xref\":\"x\",\"y\":1.3,\"yref\":\"y\"},{\"showarrow\":false,\"text\":\"Assist: MV, Goal:Anonymous\",\"x\":14,\"xref\":\"x\",\"y\":1.4,\"yref\":\"y\"}]},\"name\":\"frame7\"},{\"data\":[{\"line\":{\"shape\":\"hvh\"},\"mode\":\"lines+markers\",\"type\":\"scatter\",\"x\":[1,2,3,4,5,6,7,8],\"y\":[1.0,1.0,1.0,-0.5,0.5,-0.5,0.5,-0.5]}],\"layout\":{\"annotations\":[{\"font\":{\"color\":\"blue\"},\"text\":\"4M3W: JL,MR,CC,EL,JV,JS,SG\",\"x\":8,\"xref\":\"x\",\"y\":-0.5,\"yref\":\"y\"},{\"font\":{\"color\":\"orange\",\"size\":18},\"showarrow\":false,\"text\":\"FucZH 5-3 Wombats Willisau\",\"x\":0.5,\"xref\":\"paper\",\"y\":1.4,\"yref\":\"y\"},{\"showarrow\":false,\"text\":\"Completed Passes: 0,Turns: 0\",\"x\":14,\"xref\":\"x\",\"y\":1.3,\"yref\":\"y\"}]},\"name\":\"frame8\"},{\"data\":[{\"line\":{\"shape\":\"hvh\"},\"mode\":\"lines+markers\",\"type\":\"scatter\",\"x\":[1,2,3,4,5,6,7,8,9],\"y\":[1.0,1.0,1.0,-0.5,0.5,-0.5,0.5,-0.5,0.5]}],\"layout\":{\"annotations\":[{\"font\":{\"color\":\"blue\"},\"text\":\"4M3W: AY,SB,FS,MV,CS,SH,GA\",\"x\":9,\"xref\":\"x\",\"y\":0.5,\"yref\":\"y\"},{\"font\":{\"color\":\"orange\",\"size\":18},\"showarrow\":false,\"text\":\"FucZH 6-3 Wombats Willisau\",\"x\":0.5,\"xref\":\"paper\",\"y\":1.4,\"yref\":\"y\"},{\"showarrow\":false,\"text\":\"Completed Passes: 14,Turns: 0\",\"x\":14,\"xref\":\"x\",\"y\":1.3,\"yref\":\"y\"},{\"showarrow\":false,\"text\":\"Assist: FS, Goal:SH\",\"x\":14,\"xref\":\"x\",\"y\":1.4,\"yref\":\"y\"}]},\"name\":\"frame9\"},{\"data\":[{\"line\":{\"shape\":\"hvh\"},\"mode\":\"lines+markers\",\"type\":\"scatter\",\"x\":[1,2,3,4,5,6,7,8,9,10],\"y\":[1.0,1.0,1.0,-0.5,0.5,-0.5,0.5,-0.5,0.5,-0.5]}],\"layout\":{\"annotations\":[{\"font\":{\"color\":\"blue\"},\"text\":\"4W3M: JL,MR,CC,LB,EL,JV,SG\",\"x\":10,\"xref\":\"x\",\"y\":-0.5,\"yref\":\"y\"},{\"font\":{\"color\":\"orange\",\"size\":18},\"showarrow\":false,\"text\":\"FucZH 6-4 Wombats Willisau\",\"x\":0.5,\"xref\":\"paper\",\"y\":1.4,\"yref\":\"y\"},{\"showarrow\":false,\"text\":\"Completed Passes: 0,Turns: 0\",\"x\":14,\"xref\":\"x\",\"y\":1.3,\"yref\":\"y\"}]},\"name\":\"frame10\"},{\"data\":[{\"line\":{\"shape\":\"hvh\"},\"mode\":\"lines+markers\",\"type\":\"scatter\",\"x\":[1,2,3,4,5,6,7,8,9,10,11],\"y\":[1.0,1.0,1.0,-0.5,0.5,-0.5,0.5,-0.5,0.5,-0.5,-1.0]}],\"layout\":{\"annotations\":[{\"font\":{\"color\":\"blue\"},\"text\":\"4W3M: AY,SB,MV,CS,SH,LB,GA\",\"x\":11,\"xref\":\"x\",\"y\":-1.0,\"yref\":\"y\"},{\"font\":{\"color\":\"orange\",\"size\":18},\"showarrow\":false,\"text\":\"FucZH 6-5 Wombats Willisau\",\"x\":0.5,\"xref\":\"paper\",\"y\":1.4,\"yref\":\"y\"},{\"showarrow\":false,\"text\":\"Completed Passes: 13,Turns: 3\",\"x\":14,\"xref\":\"x\",\"y\":1.3,\"yref\":\"y\"}]},\"name\":\"frame11\"},{\"data\":[{\"line\":{\"shape\":\"hvh\"},\"mode\":\"lines+markers\",\"type\":\"scatter\",\"x\":[1,2,3,4,5,6,7,8,9,10,11,12],\"y\":[1.0,1.0,1.0,-0.5,0.5,-0.5,0.5,-0.5,0.5,-0.5,-1.0,-1.0]}],\"layout\":{\"annotations\":[{\"font\":{\"color\":\"blue\"},\"text\":\"4M3W: AY,JL,CC,SH,JS,GA,SG\",\"x\":12,\"xref\":\"x\",\"y\":-1.0,\"yref\":\"y\"},{\"font\":{\"color\":\"orange\",\"size\":18},\"showarrow\":false,\"text\":\"FucZH 6-6 Wombats Willisau\",\"x\":0.5,\"xref\":\"paper\",\"y\":1.4,\"yref\":\"y\"},{\"showarrow\":false,\"text\":\"Completed Passes: 17,Turns: 1\",\"x\":14,\"xref\":\"x\",\"y\":1.3,\"yref\":\"y\"}]},\"name\":\"frame12\"},{\"data\":[{\"line\":{\"shape\":\"hvh\"},\"mode\":\"lines+markers\",\"type\":\"scatter\",\"x\":[1,2,3,4,5,6,7,8,9,10,11,12,13],\"y\":[1.0,1.0,1.0,-0.5,0.5,-0.5,0.5,-0.5,0.5,-0.5,-1.0,-1.0,0.5]}],\"layout\":{\"annotations\":[{\"font\":{\"color\":\"blue\"},\"text\":\"4W3M: SB,FS,MV,MR,CS,LB,EL\",\"x\":13,\"xref\":\"x\",\"y\":0.5,\"yref\":\"y\"},{\"font\":{\"color\":\"orange\",\"size\":18},\"showarrow\":false,\"text\":\"FucZH 7-6 Wombats Willisau\",\"x\":0.5,\"xref\":\"paper\",\"y\":1.4,\"yref\":\"y\"},{\"showarrow\":false,\"text\":\"Completed Passes: 6,Turns: 0\",\"x\":14,\"xref\":\"x\",\"y\":1.3,\"yref\":\"y\"},{\"showarrow\":false,\"text\":\"Assist: MR, Goal:Anonymous\",\"x\":14,\"xref\":\"x\",\"y\":1.4,\"yref\":\"y\"}]},\"name\":\"frame13\"},{\"data\":[{\"line\":{\"shape\":\"hvh\"},\"mode\":\"lines+markers\",\"type\":\"scatter\",\"x\":[1,2,3,4,5,6,7,8,9,10,11,12,13,14],\"y\":[1.0,1.0,1.0,-0.5,0.5,-0.5,0.5,-0.5,0.5,-0.5,-1.0,-1.0,0.5,1.0]}],\"layout\":{\"annotations\":[{\"font\":{\"color\":\"blue\"},\"text\":\"4W3M: JL,MV,MR,LB,EL,JV,SG\",\"x\":14,\"xref\":\"x\",\"y\":1.0,\"yref\":\"y\"},{\"font\":{\"color\":\"orange\",\"size\":18},\"showarrow\":false,\"text\":\"FucZH 8-6 Wombats Willisau\",\"x\":0.5,\"xref\":\"paper\",\"y\":1.4,\"yref\":\"y\"},{\"showarrow\":false,\"text\":\"Completed Passes: 0,Turns: 1\",\"x\":14,\"xref\":\"x\",\"y\":1.3,\"yref\":\"y\"},{\"showarrow\":false,\"text\":\"Assist: SG, Goal:JV\",\"x\":14,\"xref\":\"x\",\"y\":1.4,\"yref\":\"y\"}]},\"name\":\"frame14\"},{\"data\":[{\"line\":{\"shape\":\"hvh\"},\"mode\":\"lines+markers\",\"type\":\"scatter\",\"x\":[1,2,3,4,5,6,7,8,9,10,11,12,13,14,15],\"y\":[1.0,1.0,1.0,-0.5,0.5,-0.5,0.5,-0.5,0.5,-0.5,-1.0,-1.0,0.5,1.0,0.5]}],\"layout\":{\"annotations\":[{\"font\":{\"color\":\"blue\"},\"text\":\"4W3M: AY,SB,MV,CC,SH,SG,GA\",\"x\":15,\"xref\":\"x\",\"y\":0.5,\"yref\":\"y\"},{\"font\":{\"color\":\"orange\",\"size\":18},\"showarrow\":false,\"text\":\"FucZH 9-6 Wombats Willisau\",\"x\":0.5,\"xref\":\"paper\",\"y\":1.4,\"yref\":\"y\"},{\"showarrow\":false,\"text\":\"Completed Passes: 8,Turns: 0\",\"x\":14,\"xref\":\"x\",\"y\":1.3,\"yref\":\"y\"},{\"showarrow\":false,\"text\":\"Assist: GA, Goal:SB\",\"x\":14,\"xref\":\"x\",\"y\":1.4,\"yref\":\"y\"}]},\"name\":\"frame15\"},{\"data\":[{\"line\":{\"shape\":\"hvh\"},\"mode\":\"lines+markers\",\"type\":\"scatter\",\"x\":[1,2,3,4,5,6,7,8,9,10,11,12,13,14,15,16],\"y\":[1.0,1.0,1.0,-0.5,0.5,-0.5,0.5,-0.5,0.5,-0.5,-1.0,-1.0,0.5,1.0,0.5,-0.5]}],\"layout\":{\"annotations\":[{\"font\":{\"color\":\"blue\"},\"text\":\"4M3W: JL,MR,SH,LB,EL,JS,JV\",\"x\":16,\"xref\":\"x\",\"y\":-0.5,\"yref\":\"y\"},{\"font\":{\"color\":\"orange\",\"size\":18},\"showarrow\":false,\"text\":\"FucZH 9-7 Wombats Willisau\",\"x\":0.5,\"xref\":\"paper\",\"y\":1.4,\"yref\":\"y\"},{\"showarrow\":false,\"text\":\"Completed Passes: 0,Turns: 0\",\"x\":14,\"xref\":\"x\",\"y\":1.3,\"yref\":\"y\"}]},\"name\":\"frame16\"}]);\n",
       "                        }).then(function(){\n",
       "                            \n",
       "var gd = document.getElementById('d7bb2c24-729e-427b-a628-6846423ddcb5');\n",
       "var x = new MutationObserver(function (mutations, observer) {{\n",
       "        var display = window.getComputedStyle(gd).display;\n",
       "        if (!display || display === 'none') {{\n",
       "            console.log([gd, 'removed!']);\n",
       "            Plotly.purge(gd);\n",
       "            observer.disconnect();\n",
       "        }}\n",
       "}});\n",
       "\n",
       "// Listen for the removal of the full notebook cells\n",
       "var notebookContainer = gd.closest('#notebook-container');\n",
       "if (notebookContainer) {{\n",
       "    x.observe(notebookContainer, {childList: true});\n",
       "}}\n",
       "\n",
       "// Listen for the clearing of the current output cell\n",
       "var outputEl = gd.closest('.output');\n",
       "if (outputEl) {{\n",
       "    x.observe(outputEl, {childList: true});\n",
       "}}\n",
       "\n",
       "                        })                };                });            </script>        </div>"
      ]
     },
     "metadata": {},
     "output_type": "display_data"
    }
   ],
   "source": [
    "fig=game_flow_fig(df,'Wombats Willisau',slidew,slideh)\n",
    "fig.show()"
   ]
  },
  {
   "cell_type": "code",
   "execution_count": 149,
   "metadata": {
    "slideshow": {
     "slide_type": "fragment"
    },
    "tags": [
     "to_remove"
    ]
   },
   "outputs": [
    {
     "data": {
      "application/vnd.plotly.v1+json": {
       "config": {
        "plotlyServerURL": "https://plotly.com"
       },
       "data": [
        {
         "mode": "lines+markers",
         "type": "scatter",
         "x": [
          0
         ],
         "y": [
          0
         ]
        }
       ],
       "frames": [
        {
         "data": [
          {
           "line": {
            "shape": "hv"
           },
           "mode": "lines+markers",
           "type": "scatter",
           "x": [
            0
           ],
           "y": [
            0
           ]
          }
         ],
         "name": "frame0"
        },
        {
         "data": [
          {
           "line": {
            "shape": "hvh"
           },
           "mode": "lines+markers",
           "type": "scatter",
           "x": [
            1
           ],
           "y": [
            1
           ]
          }
         ],
         "layout": {
          "annotations": [
           {
            "font": {
             "color": "blue"
            },
            "text": "4W3M: JL,MV,CC,LB,JV,JS,SG",
            "x": 1,
            "xref": "x",
            "y": 1,
            "yref": "y"
           },
           {
            "font": {
             "color": "orange",
             "size": 18
            },
            "showarrow": false,
            "text": "FucZH 1-0 Wizards Geneva",
            "x": 0.5,
            "xref": "paper",
            "y": 1.4,
            "yref": "y"
           },
           {
            "showarrow": false,
            "text": "Completed Passes: 0,Turns: 1",
            "x": 21,
            "xref": "x",
            "y": 1.3,
            "yref": "y"
           },
           {
            "showarrow": false,
            "text": "Assist: SG, Goal:JV",
            "x": 21,
            "xref": "x",
            "y": 1.4,
            "yref": "y"
           }
          ]
         },
         "name": "frame1"
        },
        {
         "data": [
          {
           "line": {
            "shape": "hvh"
           },
           "mode": "lines+markers",
           "type": "scatter",
           "x": [
            1,
            2
           ],
           "y": [
            1,
            -0.5
           ]
          }
         ],
         "layout": {
          "annotations": [
           {
            "font": {
             "color": "blue"
            },
            "text": "4M3W: SB,MV,CS,EL,JV,JS,SG",
            "x": 2,
            "xref": "x",
            "y": -0.5,
            "yref": "y"
           },
           {
            "font": {
             "color": "orange",
             "size": 18
            },
            "showarrow": false,
            "text": "FucZH 1-1 Wizards Geneva",
            "x": 0.5,
            "xref": "paper",
            "y": 1.4,
            "yref": "y"
           },
           {
            "showarrow": false,
            "text": "Completed Passes: 0,Turns: 0",
            "x": 21,
            "xref": "x",
            "y": 1.3,
            "yref": "y"
           }
          ]
         },
         "name": "frame2"
        },
        {
         "data": [
          {
           "line": {
            "shape": "hvh"
           },
           "mode": "lines+markers",
           "type": "scatter",
           "x": [
            1,
            2,
            3
           ],
           "y": [
            1,
            -0.5,
            0.5
           ]
          }
         ],
         "layout": {
          "annotations": [
           {
            "font": {
             "color": "blue"
            },
            "text": "4M3W: SB,AY,FS,AL,CS,SH,GA",
            "x": 3,
            "xref": "x",
            "y": 0.5,
            "yref": "y"
           },
           {
            "font": {
             "color": "orange",
             "size": 18
            },
            "showarrow": false,
            "text": "FucZH 2-1 Wizards Geneva",
            "x": 0.5,
            "xref": "paper",
            "y": 1.4,
            "yref": "y"
           },
           {
            "showarrow": false,
            "text": "Completed Passes: 3,Turns: 0",
            "x": 21,
            "xref": "x",
            "y": 1.3,
            "yref": "y"
           },
           {
            "showarrow": false,
            "text": "Assist: FS, Goal:Anonymous",
            "x": 21,
            "xref": "x",
            "y": 1.4,
            "yref": "y"
           }
          ]
         },
         "name": "frame3"
        },
        {
         "data": [
          {
           "line": {
            "shape": "hvh"
           },
           "mode": "lines+markers",
           "type": "scatter",
           "x": [
            1,
            2,
            3,
            4
           ],
           "y": [
            1,
            -0.5,
            0.5,
            -0.5
           ]
          }
         ],
         "layout": {
          "annotations": [
           {
            "font": {
             "color": "blue"
            },
            "text": "4W3M: JL,MV,CC,EL,JV,JS,SG",
            "x": 4,
            "xref": "x",
            "y": -0.5,
            "yref": "y"
           },
           {
            "font": {
             "color": "orange",
             "size": 18
            },
            "showarrow": false,
            "text": "FucZH 2-2 Wizards Geneva",
            "x": 0.5,
            "xref": "paper",
            "y": 1.4,
            "yref": "y"
           },
           {
            "showarrow": false,
            "text": "Completed Passes: 5,Turns: 2",
            "x": 21,
            "xref": "x",
            "y": 1.3,
            "yref": "y"
           }
          ]
         },
         "name": "frame4"
        },
        {
         "data": [
          {
           "line": {
            "shape": "hvh"
           },
           "mode": "lines+markers",
           "type": "scatter",
           "x": [
            1,
            2,
            3,
            4,
            5
           ],
           "y": [
            1,
            -0.5,
            0.5,
            -0.5,
            0.5
           ]
          }
         ],
         "layout": {
          "annotations": [
           {
            "font": {
             "color": "blue"
            },
            "text": "4W3M: AY,SB,AL,CS,SH,LB,GA",
            "x": 5,
            "xref": "x",
            "y": 0.5,
            "yref": "y"
           },
           {
            "font": {
             "color": "orange",
             "size": 18
            },
            "showarrow": false,
            "text": "FucZH 3-2 Wizards Geneva",
            "x": 0.5,
            "xref": "paper",
            "y": 1.4,
            "yref": "y"
           },
           {
            "showarrow": false,
            "text": "Completed Passes: 2,Turns: 0",
            "x": 21,
            "xref": "x",
            "y": 1.3,
            "yref": "y"
           },
           {
            "showarrow": false,
            "text": "Assist: GA, Goal:Anonymous",
            "x": 21,
            "xref": "x",
            "y": 1.4,
            "yref": "y"
           }
          ]
         },
         "name": "frame5"
        },
        {
         "data": [
          {
           "line": {
            "shape": "hvh"
           },
           "mode": "lines+markers",
           "type": "scatter",
           "x": [
            1,
            2,
            3,
            4,
            5,
            6
           ],
           "y": [
            1,
            -0.5,
            0.5,
            -0.5,
            0.5,
            -0.5
           ]
          }
         ],
         "layout": {
          "annotations": [
           {
            "font": {
             "color": "blue"
            },
            "text": "4M3W: FS,JL,MV,SH,EL,JV,SG",
            "x": 6,
            "xref": "x",
            "y": -0.5,
            "yref": "y"
           },
           {
            "font": {
             "color": "orange",
             "size": 18
            },
            "showarrow": false,
            "text": "FucZH 3-3 Wizards Geneva",
            "x": 0.5,
            "xref": "paper",
            "y": 1.4,
            "yref": "y"
           },
           {
            "showarrow": false,
            "text": "Completed Passes: 0,Turns: 0",
            "x": 21,
            "xref": "x",
            "y": 1.3,
            "yref": "y"
           }
          ]
         },
         "name": "frame6"
        },
        {
         "data": [
          {
           "line": {
            "shape": "hvh"
           },
           "mode": "lines+markers",
           "type": "scatter",
           "x": [
            1,
            2,
            3,
            4,
            5,
            6,
            7
           ],
           "y": [
            1,
            -0.5,
            0.5,
            -0.5,
            0.5,
            -0.5,
            0.5
           ]
          }
         ],
         "layout": {
          "annotations": [
           {
            "font": {
             "color": "blue"
            },
            "text": "4M3W: AY,SB,FS,CS,SH,LB,GA",
            "x": 7,
            "xref": "x",
            "y": 0.5,
            "yref": "y"
           },
           {
            "font": {
             "color": "orange",
             "size": 18
            },
            "showarrow": false,
            "text": "FucZH 4-3 Wizards Geneva",
            "x": 0.5,
            "xref": "paper",
            "y": 1.4,
            "yref": "y"
           },
           {
            "showarrow": false,
            "text": "Completed Passes: 8,Turns: 0",
            "x": 21,
            "xref": "x",
            "y": 1.3,
            "yref": "y"
           },
           {
            "showarrow": false,
            "text": "Assist: SH, Goal:GA",
            "x": 21,
            "xref": "x",
            "y": 1.4,
            "yref": "y"
           }
          ]
         },
         "name": "frame7"
        },
        {
         "data": [
          {
           "line": {
            "shape": "hvh"
           },
           "mode": "lines+markers",
           "type": "scatter",
           "x": [
            1,
            2,
            3,
            4,
            5,
            6,
            7,
            8
           ],
           "y": [
            1,
            -0.5,
            0.5,
            -0.5,
            0.5,
            -0.5,
            0.5,
            -0.5
           ]
          }
         ],
         "layout": {
          "annotations": [
           {
            "font": {
             "color": "blue"
            },
            "text": "4W3M: JL,AL,CC,LB,JV,JS,SG",
            "x": 8,
            "xref": "x",
            "y": -0.5,
            "yref": "y"
           },
           {
            "font": {
             "color": "orange",
             "size": 18
            },
            "showarrow": false,
            "text": "FucZH 4-4 Wizards Geneva",
            "x": 0.5,
            "xref": "paper",
            "y": 1.4,
            "yref": "y"
           },
           {
            "showarrow": false,
            "text": "Completed Passes: 3,Turns: 2",
            "x": 21,
            "xref": "x",
            "y": 1.3,
            "yref": "y"
           }
          ]
         },
         "name": "frame8"
        },
        {
         "data": [
          {
           "line": {
            "shape": "hvh"
           },
           "mode": "lines+markers",
           "type": "scatter",
           "x": [
            1,
            2,
            3,
            4,
            5,
            6,
            7,
            8,
            9
           ],
           "y": [
            1,
            -0.5,
            0.5,
            -0.5,
            0.5,
            -0.5,
            0.5,
            -0.5,
            0.5
           ]
          }
         ],
         "layout": {
          "annotations": [
           {
            "font": {
             "color": "blue"
            },
            "text": "4W3M: AY,SB,FS,JL,SH,EL,GA",
            "x": 9,
            "xref": "x",
            "y": 0.5,
            "yref": "y"
           },
           {
            "font": {
             "color": "orange",
             "size": 18
            },
            "showarrow": false,
            "text": "FucZH 5-4 Wizards Geneva",
            "x": 0.5,
            "xref": "paper",
            "y": 1.4,
            "yref": "y"
           },
           {
            "showarrow": false,
            "text": "Completed Passes: 4,Turns: 0",
            "x": 21,
            "xref": "x",
            "y": 1.3,
            "yref": "y"
           },
           {
            "showarrow": false,
            "text": "Assist: GA, Goal:Anonymous",
            "x": 21,
            "xref": "x",
            "y": 1.4,
            "yref": "y"
           }
          ]
         },
         "name": "frame9"
        },
        {
         "data": [
          {
           "line": {
            "shape": "hvh"
           },
           "mode": "lines+markers",
           "type": "scatter",
           "x": [
            1,
            2,
            3,
            4,
            5,
            6,
            7,
            8,
            9,
            10
           ],
           "y": [
            1,
            -0.5,
            0.5,
            -0.5,
            0.5,
            -0.5,
            0.5,
            -0.5,
            0.5,
            1
           ]
          }
         ],
         "layout": {
          "annotations": [
           {
            "font": {
             "color": "blue"
            },
            "text": "4W3M: MV,AL,CC,LB,JV,JS,SG",
            "x": 10,
            "xref": "x",
            "y": 1,
            "yref": "y"
           },
           {
            "font": {
             "color": "orange",
             "size": 18
            },
            "showarrow": false,
            "text": "FucZH 6-4 Wizards Geneva",
            "x": 0.5,
            "xref": "paper",
            "y": 1.4,
            "yref": "y"
           },
           {
            "showarrow": false,
            "text": "Completed Passes: 0,Turns: 1",
            "x": 21,
            "xref": "x",
            "y": 1.3,
            "yref": "y"
           },
           {
            "showarrow": false,
            "text": "Assist: SG, Goal:JS",
            "x": 21,
            "xref": "x",
            "y": 1.4,
            "yref": "y"
           }
          ]
         },
         "name": "frame10"
        },
        {
         "data": [
          {
           "line": {
            "shape": "hvh"
           },
           "mode": "lines+markers",
           "type": "scatter",
           "x": [
            1,
            2,
            3,
            4,
            5,
            6,
            7,
            8,
            9,
            10,
            11
           ],
           "y": [
            1,
            -0.5,
            0.5,
            -0.5,
            0.5,
            -0.5,
            0.5,
            -0.5,
            0.5,
            1,
            -0.5
           ]
          }
         ],
         "layout": {
          "annotations": [
           {
            "font": {
             "color": "blue"
            },
            "text": "4M3W: JL,FS,AL,SH,EL,SG,GA",
            "x": 11,
            "xref": "x",
            "y": -0.5,
            "yref": "y"
           },
           {
            "font": {
             "color": "orange",
             "size": 18
            },
            "showarrow": false,
            "text": "FucZH 6-5 Wizards Geneva",
            "x": 0.5,
            "xref": "paper",
            "y": 1.4,
            "yref": "y"
           },
           {
            "showarrow": false,
            "text": "Completed Passes: 0,Turns: 2",
            "x": 21,
            "xref": "x",
            "y": 1.3,
            "yref": "y"
           }
          ]
         },
         "name": "frame11"
        },
        {
         "data": [
          {
           "line": {
            "shape": "hvh"
           },
           "mode": "lines+markers",
           "type": "scatter",
           "x": [
            1,
            2,
            3,
            4,
            5,
            6,
            7,
            8,
            9,
            10,
            11,
            12
           ],
           "y": [
            1,
            -0.5,
            0.5,
            -0.5,
            0.5,
            -0.5,
            0.5,
            -0.5,
            0.5,
            1,
            -0.5,
            0.5
           ]
          }
         ],
         "layout": {
          "annotations": [
           {
            "font": {
             "color": "blue"
            },
            "text": "4W3M: FS,SB,AY,MV,CC,SH,GA",
            "x": 12,
            "xref": "x",
            "y": 0.5,
            "yref": "y"
           },
           {
            "font": {
             "color": "orange",
             "size": 18
            },
            "showarrow": false,
            "text": "FucZH 7-5 Wizards Geneva",
            "x": 0.5,
            "xref": "paper",
            "y": 1.4,
            "yref": "y"
           },
           {
            "showarrow": false,
            "text": "Completed Passes: 12,Turns: 0",
            "x": 21,
            "xref": "x",
            "y": 1.3,
            "yref": "y"
           },
           {
            "showarrow": false,
            "text": "Assist: SH, Goal:GA",
            "x": 21,
            "xref": "x",
            "y": 1.4,
            "yref": "y"
           }
          ]
         },
         "name": "frame12"
        },
        {
         "data": [
          {
           "line": {
            "shape": "hvh"
           },
           "mode": "lines+markers",
           "type": "scatter",
           "x": [
            1,
            2,
            3,
            4,
            5,
            6,
            7,
            8,
            9,
            10,
            11,
            12,
            13
           ],
           "y": [
            1,
            -0.5,
            0.5,
            -0.5,
            0.5,
            -0.5,
            0.5,
            -0.5,
            0.5,
            1,
            -0.5,
            0.5,
            -0.5
           ]
          }
         ],
         "layout": {
          "annotations": [
           {
            "font": {
             "color": "blue"
            },
            "text": "4W3M: JL,AL,LB,EL,JS,JV,SG",
            "x": 13,
            "xref": "x",
            "y": -0.5,
            "yref": "y"
           },
           {
            "font": {
             "color": "orange",
             "size": 18
            },
            "showarrow": false,
            "text": "FucZH 7-6 Wizards Geneva",
            "x": 0.5,
            "xref": "paper",
            "y": 1.4,
            "yref": "y"
           },
           {
            "showarrow": false,
            "text": "Completed Passes: 3,Turns: 2",
            "x": 21,
            "xref": "x",
            "y": 1.3,
            "yref": "y"
           }
          ]
         },
         "name": "frame13"
        },
        {
         "data": [
          {
           "line": {
            "shape": "hvh"
           },
           "mode": "lines+markers",
           "type": "scatter",
           "x": [
            1,
            2,
            3,
            4,
            5,
            6,
            7,
            8,
            9,
            10,
            11,
            12,
            13,
            14
           ],
           "y": [
            1,
            -0.5,
            0.5,
            -0.5,
            0.5,
            -0.5,
            0.5,
            -0.5,
            0.5,
            1,
            -0.5,
            0.5,
            -0.5,
            0.5
           ]
          }
         ],
         "layout": {
          "annotations": [
           {
            "font": {
             "color": "blue"
            },
            "text": "4M3W: FS,SB,AY,MV,CS,SH,GA",
            "x": 14,
            "xref": "x",
            "y": 0.5,
            "yref": "y"
           },
           {
            "font": {
             "color": "orange",
             "size": 18
            },
            "showarrow": false,
            "text": "FucZH 8-6 Wizards Geneva",
            "x": 0.5,
            "xref": "paper",
            "y": 1.4,
            "yref": "y"
           },
           {
            "showarrow": false,
            "text": "Completed Passes: 23,Turns: 0",
            "x": 21,
            "xref": "x",
            "y": 1.3,
            "yref": "y"
           },
           {
            "showarrow": false,
            "text": "Assist: CS, Goal:FS",
            "x": 21,
            "xref": "x",
            "y": 1.4,
            "yref": "y"
           }
          ]
         },
         "name": "frame14"
        },
        {
         "data": [
          {
           "line": {
            "shape": "hvh"
           },
           "mode": "lines+markers",
           "type": "scatter",
           "x": [
            1,
            2,
            3,
            4,
            5,
            6,
            7,
            8,
            9,
            10,
            11,
            12,
            13,
            14,
            15
           ],
           "y": [
            1,
            -0.5,
            0.5,
            -0.5,
            0.5,
            -0.5,
            0.5,
            -0.5,
            0.5,
            1,
            -0.5,
            0.5,
            -0.5,
            0.5,
            0.5
           ]
          }
         ],
         "layout": {
          "annotations": [
           {
            "font": {
             "color": "blue"
            },
            "text": "4W3M: AY,FS,SB,AL,SH,LB,GA",
            "x": 15,
            "xref": "x",
            "y": 0.5,
            "yref": "y"
           },
           {
            "font": {
             "color": "orange",
             "size": 18
            },
            "showarrow": false,
            "text": "FucZH 9-6 Wizards Geneva",
            "x": 0.5,
            "xref": "paper",
            "y": 1.4,
            "yref": "y"
           },
           {
            "showarrow": false,
            "text": "Completed Passes: 8,Turns: 0",
            "x": 21,
            "xref": "x",
            "y": 1.3,
            "yref": "y"
           },
           {
            "showarrow": false,
            "text": "Assist: SH, Goal:AL",
            "x": 21,
            "xref": "x",
            "y": 1.4,
            "yref": "y"
           }
          ]
         },
         "name": "frame15"
        },
        {
         "data": [
          {
           "line": {
            "shape": "hvh"
           },
           "mode": "lines+markers",
           "type": "scatter",
           "x": [
            1,
            2,
            3,
            4,
            5,
            6,
            7,
            8,
            9,
            10,
            11,
            12,
            13,
            14,
            15,
            16
           ],
           "y": [
            1,
            -0.5,
            0.5,
            -0.5,
            0.5,
            -0.5,
            0.5,
            -0.5,
            0.5,
            1,
            -0.5,
            0.5,
            -0.5,
            0.5,
            0.5,
            -0.5
           ]
          }
         ],
         "layout": {
          "annotations": [
           {
            "font": {
             "color": "blue"
            },
            "text": "4M3W: JL,CS,CC,EL,JS,JV,SG",
            "x": 16,
            "xref": "x",
            "y": -0.5,
            "yref": "y"
           },
           {
            "font": {
             "color": "orange",
             "size": 18
            },
            "showarrow": false,
            "text": "FucZH 9-7 Wizards Geneva",
            "x": 0.5,
            "xref": "paper",
            "y": 1.4,
            "yref": "y"
           },
           {
            "showarrow": false,
            "text": "Completed Passes: 0,Turns: 0",
            "x": 21,
            "xref": "x",
            "y": 1.3,
            "yref": "y"
           }
          ]
         },
         "name": "frame16"
        },
        {
         "data": [
          {
           "line": {
            "shape": "hvh"
           },
           "mode": "lines+markers",
           "type": "scatter",
           "x": [
            1,
            2,
            3,
            4,
            5,
            6,
            7,
            8,
            9,
            10,
            11,
            12,
            13,
            14,
            15,
            16,
            17
           ],
           "y": [
            1,
            -0.5,
            0.5,
            -0.5,
            0.5,
            -0.5,
            0.5,
            -0.5,
            0.5,
            1,
            -0.5,
            0.5,
            -0.5,
            0.5,
            0.5,
            -0.5,
            0.5
           ]
          }
         ],
         "layout": {
          "annotations": [
           {
            "font": {
             "color": "blue"
            },
            "text": "4W3M: AY,FS,SB,AL,SH,LB,GA",
            "x": 17,
            "xref": "x",
            "y": 0.5,
            "yref": "y"
           },
           {
            "font": {
             "color": "orange",
             "size": 18
            },
            "showarrow": false,
            "text": "FucZH 10-7 Wizards Geneva",
            "x": 0.5,
            "xref": "paper",
            "y": 1.4,
            "yref": "y"
           },
           {
            "showarrow": false,
            "text": "Completed Passes: 20,Turns: 2",
            "x": 21,
            "xref": "x",
            "y": 1.3,
            "yref": "y"
           },
           {
            "showarrow": false,
            "text": "Assist: SH, Goal:AY",
            "x": 21,
            "xref": "x",
            "y": 1.4,
            "yref": "y"
           }
          ]
         },
         "name": "frame17"
        },
        {
         "data": [
          {
           "line": {
            "shape": "hvh"
           },
           "mode": "lines+markers",
           "type": "scatter",
           "x": [
            1,
            2,
            3,
            4,
            5,
            6,
            7,
            8,
            9,
            10,
            11,
            12,
            13,
            14,
            15,
            16,
            17,
            18
           ],
           "y": [
            1,
            -0.5,
            0.5,
            -0.5,
            0.5,
            -0.5,
            0.5,
            -0.5,
            0.5,
            1,
            -0.5,
            0.5,
            -0.5,
            0.5,
            0.5,
            -0.5,
            0.5,
            1
           ]
          }
         ],
         "layout": {
          "annotations": [
           {
            "font": {
             "color": "blue"
            },
            "text": "4M3W: MV,CC,CS,EL,JS,JV,SG",
            "x": 18,
            "xref": "x",
            "y": 1,
            "yref": "y"
           },
           {
            "font": {
             "color": "orange",
             "size": 18
            },
            "showarrow": false,
            "text": "FucZH 11-7 Wizards Geneva",
            "x": 0.5,
            "xref": "paper",
            "y": 1.4,
            "yref": "y"
           },
           {
            "showarrow": false,
            "text": "Completed Passes: 4,Turns: 3",
            "x": 21,
            "xref": "x",
            "y": 1.3,
            "yref": "y"
           },
           {
            "showarrow": false,
            "text": "Assist: EL, Goal:Anonymous",
            "x": 21,
            "xref": "x",
            "y": 1.4,
            "yref": "y"
           }
          ]
         },
         "name": "frame18"
        },
        {
         "data": [
          {
           "line": {
            "shape": "hvh"
           },
           "mode": "lines+markers",
           "type": "scatter",
           "x": [
            1,
            2,
            3,
            4,
            5,
            6,
            7,
            8,
            9,
            10,
            11,
            12,
            13,
            14,
            15,
            16,
            17,
            18,
            19
           ],
           "y": [
            1,
            -0.5,
            0.5,
            -0.5,
            0.5,
            -0.5,
            0.5,
            -0.5,
            0.5,
            1,
            -0.5,
            0.5,
            -0.5,
            0.5,
            0.5,
            -0.5,
            0.5,
            1,
            -0.5
           ]
          }
         ],
         "layout": {
          "annotations": [
           {
            "font": {
             "color": "blue"
            },
            "text": "4M3W: JL,MV,AL,JS,JV,GA,SG",
            "x": 19,
            "xref": "x",
            "y": -0.5,
            "yref": "y"
           },
           {
            "font": {
             "color": "orange",
             "size": 18
            },
            "showarrow": false,
            "text": "FucZH 11-8 Wizards Geneva",
            "x": 0.5,
            "xref": "paper",
            "y": 1.4,
            "yref": "y"
           },
           {
            "showarrow": false,
            "text": "Completed Passes: 0,Turns: 0",
            "x": 21,
            "xref": "x",
            "y": 1.3,
            "yref": "y"
           }
          ]
         },
         "name": "frame19"
        },
        {
         "data": [
          {
           "line": {
            "shape": "hvh"
           },
           "mode": "lines+markers",
           "type": "scatter",
           "x": [
            1,
            2,
            3,
            4,
            5,
            6,
            7,
            8,
            9,
            10,
            11,
            12,
            13,
            14,
            15,
            16,
            17,
            18,
            19,
            20
           ],
           "y": [
            1,
            -0.5,
            0.5,
            -0.5,
            0.5,
            -0.5,
            0.5,
            -0.5,
            0.5,
            1,
            -0.5,
            0.5,
            -0.5,
            0.5,
            0.5,
            -0.5,
            0.5,
            1,
            -0.5,
            -1
           ]
          }
         ],
         "layout": {
          "annotations": [
           {
            "font": {
             "color": "blue"
            },
            "text": "4W3M: AY,FS,SB,CC,SH,LB,GA",
            "x": 20,
            "xref": "x",
            "y": -1,
            "yref": "y"
           },
           {
            "font": {
             "color": "orange",
             "size": 18
            },
            "showarrow": false,
            "text": "FucZH 11-9 Wizards Geneva",
            "x": 0.5,
            "xref": "paper",
            "y": 1.4,
            "yref": "y"
           },
           {
            "showarrow": false,
            "text": "Completed Passes: 24,Turns: 5",
            "x": 21,
            "xref": "x",
            "y": 1.3,
            "yref": "y"
           }
          ]
         },
         "name": "frame20"
        },
        {
         "data": [
          {
           "line": {
            "shape": "hvh"
           },
           "mode": "lines+markers",
           "type": "scatter",
           "x": [
            1,
            2,
            3,
            4,
            5,
            6,
            7,
            8,
            9,
            10,
            11,
            12,
            13,
            14,
            15,
            16,
            17,
            18,
            19,
            20,
            21
           ],
           "y": [
            1,
            -0.5,
            0.5,
            -0.5,
            0.5,
            -0.5,
            0.5,
            -0.5,
            0.5,
            1,
            -0.5,
            0.5,
            -0.5,
            0.5,
            0.5,
            -0.5,
            0.5,
            1,
            -0.5,
            -1,
            0.5
           ]
          }
         ],
         "layout": {
          "annotations": [
           {
            "font": {
             "color": "blue"
            },
            "text": "4W3M: AY,JL,AL,CS,SH,EL,GA",
            "x": 21,
            "xref": "x",
            "y": 0.5,
            "yref": "y"
           },
           {
            "font": {
             "color": "orange",
             "size": 18
            },
            "showarrow": false,
            "text": "FucZH 12-9 Wizards Geneva",
            "x": 0.5,
            "xref": "paper",
            "y": 1.4,
            "yref": "y"
           },
           {
            "showarrow": false,
            "text": "Completed Passes: 11,Turns: 0",
            "x": 21,
            "xref": "x",
            "y": 1.3,
            "yref": "y"
           },
           {
            "showarrow": false,
            "text": "Assist: SH, Goal:EL",
            "x": 21,
            "xref": "x",
            "y": 1.4,
            "yref": "y"
           }
          ]
         },
         "name": "frame21"
        },
        {
         "data": [
          {
           "line": {
            "shape": "hvh"
           },
           "mode": "lines+markers",
           "type": "scatter",
           "x": [
            1,
            2,
            3,
            4,
            5,
            6,
            7,
            8,
            9,
            10,
            11,
            12,
            13,
            14,
            15,
            16,
            17,
            18,
            19,
            20,
            21,
            22
           ],
           "y": [
            1,
            -0.5,
            0.5,
            -0.5,
            0.5,
            -0.5,
            0.5,
            -0.5,
            0.5,
            1,
            -0.5,
            0.5,
            -0.5,
            0.5,
            0.5,
            -0.5,
            0.5,
            1,
            -0.5,
            -1,
            0.5,
            -0.5
           ]
          }
         ],
         "layout": {
          "annotations": [
           {
            "font": {
             "color": "blue"
            },
            "text": "4M3W: SB,MV,CC,CS,JS,JV,SG",
            "x": 22,
            "xref": "x",
            "y": -0.5,
            "yref": "y"
           },
           {
            "font": {
             "color": "orange",
             "size": 18
            },
            "showarrow": false,
            "text": "FucZH 12-10 Wizards Geneva",
            "x": 0.5,
            "xref": "paper",
            "y": 1.4,
            "yref": "y"
           },
           {
            "showarrow": false,
            "text": "Completed Passes: 0,Turns: 0",
            "x": 21,
            "xref": "x",
            "y": 1.3,
            "yref": "y"
           }
          ]
         },
         "name": "frame22"
        },
        {
         "data": [
          {
           "line": {
            "shape": "hvh"
           },
           "mode": "lines+markers",
           "type": "scatter",
           "x": [
            1,
            2,
            3,
            4,
            5,
            6,
            7,
            8,
            9,
            10,
            11,
            12,
            13,
            14,
            15,
            16,
            17,
            18,
            19,
            20,
            21,
            22,
            23
           ],
           "y": [
            1,
            -0.5,
            0.5,
            -0.5,
            0.5,
            -0.5,
            0.5,
            -0.5,
            0.5,
            1,
            -0.5,
            0.5,
            -0.5,
            0.5,
            0.5,
            -0.5,
            0.5,
            1,
            -0.5,
            -1,
            0.5,
            -0.5,
            -1
           ]
          }
         ],
         "layout": {
          "annotations": [
           {
            "font": {
             "color": "blue"
            },
            "text": "4M3W: FS,JL,AL,CS,SH,EL,GA",
            "x": 23,
            "xref": "x",
            "y": -1,
            "yref": "y"
           },
           {
            "font": {
             "color": "orange",
             "size": 18
            },
            "showarrow": false,
            "text": "FucZH 12-11 Wizards Geneva",
            "x": 0.5,
            "xref": "paper",
            "y": 1.4,
            "yref": "y"
           },
           {
            "showarrow": false,
            "text": "Completed Passes: 5,Turns: 1",
            "x": 21,
            "xref": "x",
            "y": 1.3,
            "yref": "y"
           }
          ]
         },
         "name": "frame23"
        }
       ],
       "layout": {
        "height": 600,
        "hovermode": "closest",
        "images": [
         {
          "sizex": 0.2,
          "sizey": 0.2,
          "source": "https://raw.githubusercontent.com/elastufka/presentations/master/images/ZU_logo1.png",
          "x": 0,
          "xanchor": "right",
          "xref": "paper",
          "y": 1.05,
          "yanchor": "bottom",
          "yref": "paper"
         }
        ],
        "sliders": [
         {
          "active": 0,
          "currentvalue": {
           "font": {
            "size": 14
           },
           "prefix": "Point:",
           "visible": true,
           "xanchor": "right"
          },
          "len": 0.9,
          "pad": {
           "b": 10,
           "t": 10
          },
          "steps": [
           {
            "args": [
             [
              "frame1"
             ],
             {
              "frame": {
               "duration": 300,
               "redraw": false
              },
              "mode": "immediate",
              "transition": {
               "duration": 300
              }
             }
            ],
            "label": "1",
            "method": "animate"
           },
           {
            "args": [
             [
              "frame2"
             ],
             {
              "frame": {
               "duration": 300,
               "redraw": false
              },
              "mode": "immediate",
              "transition": {
               "duration": 300
              }
             }
            ],
            "label": "2",
            "method": "animate"
           },
           {
            "args": [
             [
              "frame3"
             ],
             {
              "frame": {
               "duration": 300,
               "redraw": false
              },
              "mode": "immediate",
              "transition": {
               "duration": 300
              }
             }
            ],
            "label": "3",
            "method": "animate"
           },
           {
            "args": [
             [
              "frame4"
             ],
             {
              "frame": {
               "duration": 300,
               "redraw": false
              },
              "mode": "immediate",
              "transition": {
               "duration": 300
              }
             }
            ],
            "label": "4",
            "method": "animate"
           },
           {
            "args": [
             [
              "frame5"
             ],
             {
              "frame": {
               "duration": 300,
               "redraw": false
              },
              "mode": "immediate",
              "transition": {
               "duration": 300
              }
             }
            ],
            "label": "5",
            "method": "animate"
           },
           {
            "args": [
             [
              "frame6"
             ],
             {
              "frame": {
               "duration": 300,
               "redraw": false
              },
              "mode": "immediate",
              "transition": {
               "duration": 300
              }
             }
            ],
            "label": "6",
            "method": "animate"
           },
           {
            "args": [
             [
              "frame7"
             ],
             {
              "frame": {
               "duration": 300,
               "redraw": false
              },
              "mode": "immediate",
              "transition": {
               "duration": 300
              }
             }
            ],
            "label": "7",
            "method": "animate"
           },
           {
            "args": [
             [
              "frame8"
             ],
             {
              "frame": {
               "duration": 300,
               "redraw": false
              },
              "mode": "immediate",
              "transition": {
               "duration": 300
              }
             }
            ],
            "label": "8",
            "method": "animate"
           },
           {
            "args": [
             [
              "frame9"
             ],
             {
              "frame": {
               "duration": 300,
               "redraw": false
              },
              "mode": "immediate",
              "transition": {
               "duration": 300
              }
             }
            ],
            "label": "9",
            "method": "animate"
           },
           {
            "args": [
             [
              "frame10"
             ],
             {
              "frame": {
               "duration": 300,
               "redraw": false
              },
              "mode": "immediate",
              "transition": {
               "duration": 300
              }
             }
            ],
            "label": "10",
            "method": "animate"
           },
           {
            "args": [
             [
              "frame11"
             ],
             {
              "frame": {
               "duration": 300,
               "redraw": false
              },
              "mode": "immediate",
              "transition": {
               "duration": 300
              }
             }
            ],
            "label": "11",
            "method": "animate"
           },
           {
            "args": [
             [
              "frame12"
             ],
             {
              "frame": {
               "duration": 300,
               "redraw": false
              },
              "mode": "immediate",
              "transition": {
               "duration": 300
              }
             }
            ],
            "label": "12",
            "method": "animate"
           },
           {
            "args": [
             [
              "frame13"
             ],
             {
              "frame": {
               "duration": 300,
               "redraw": false
              },
              "mode": "immediate",
              "transition": {
               "duration": 300
              }
             }
            ],
            "label": "13",
            "method": "animate"
           },
           {
            "args": [
             [
              "frame14"
             ],
             {
              "frame": {
               "duration": 300,
               "redraw": false
              },
              "mode": "immediate",
              "transition": {
               "duration": 300
              }
             }
            ],
            "label": "14",
            "method": "animate"
           },
           {
            "args": [
             [
              "frame15"
             ],
             {
              "frame": {
               "duration": 300,
               "redraw": false
              },
              "mode": "immediate",
              "transition": {
               "duration": 300
              }
             }
            ],
            "label": "15",
            "method": "animate"
           },
           {
            "args": [
             [
              "frame16"
             ],
             {
              "frame": {
               "duration": 300,
               "redraw": false
              },
              "mode": "immediate",
              "transition": {
               "duration": 300
              }
             }
            ],
            "label": "16",
            "method": "animate"
           },
           {
            "args": [
             [
              "frame17"
             ],
             {
              "frame": {
               "duration": 300,
               "redraw": false
              },
              "mode": "immediate",
              "transition": {
               "duration": 300
              }
             }
            ],
            "label": "17",
            "method": "animate"
           },
           {
            "args": [
             [
              "frame18"
             ],
             {
              "frame": {
               "duration": 300,
               "redraw": false
              },
              "mode": "immediate",
              "transition": {
               "duration": 300
              }
             }
            ],
            "label": "18",
            "method": "animate"
           },
           {
            "args": [
             [
              "frame19"
             ],
             {
              "frame": {
               "duration": 300,
               "redraw": false
              },
              "mode": "immediate",
              "transition": {
               "duration": 300
              }
             }
            ],
            "label": "19",
            "method": "animate"
           },
           {
            "args": [
             [
              "frame20"
             ],
             {
              "frame": {
               "duration": 300,
               "redraw": false
              },
              "mode": "immediate",
              "transition": {
               "duration": 300
              }
             }
            ],
            "label": "20",
            "method": "animate"
           },
           {
            "args": [
             [
              "frame21"
             ],
             {
              "frame": {
               "duration": 300,
               "redraw": false
              },
              "mode": "immediate",
              "transition": {
               "duration": 300
              }
             }
            ],
            "label": "21",
            "method": "animate"
           },
           {
            "args": [
             [
              "frame22"
             ],
             {
              "frame": {
               "duration": 300,
               "redraw": false
              },
              "mode": "immediate",
              "transition": {
               "duration": 300
              }
             }
            ],
            "label": "22",
            "method": "animate"
           },
           {
            "args": [
             [
              "frame23"
             ],
             {
              "frame": {
               "duration": 300,
               "redraw": false
              },
              "mode": "immediate",
              "transition": {
               "duration": 300
              }
             }
            ],
            "label": "23",
            "method": "animate"
           }
          ],
          "transition": {
           "duration": 300,
           "easing": "cubic-in-out"
          },
          "x": 1,
          "xanchor": "right",
          "y": -0.4,
          "yanchor": "bottom"
         }
        ],
        "template": {
         "layout": {
          "colorway": [
           "#000000",
           "#784F17",
           "#FF0018",
           "#FFA52C",
           "#FFFF41",
           "#008018",
           "#0000F9",
           "#86007D"
          ],
          "plot_bgcolor": "lightgrey"
         }
        },
        "title": {
         "text": "Game Flow"
        },
        "updatemenus": [
         {
          "buttons": [
           {
            "args": [
             null,
             {
              "frame": {
               "duration": 500,
               "redraw": false
              },
              "fromcurrent": true,
              "transition": {
               "duration": 300,
               "easing": "quadratic-in-out"
              }
             }
            ],
            "label": "Play",
            "method": "animate"
           },
           {
            "args": [
             [
              null
             ],
             {
              "frame": {
               "duration": 0,
               "redraw": false
              },
              "mode": "immediate",
              "transition": {
               "duration": 0
              }
             }
            ],
            "label": "Pause",
            "method": "animate"
           }
          ],
          "direction": "left",
          "pad": {
           "r": 10,
           "t": 87
          },
          "showactive": false,
          "type": "buttons",
          "x": 0.1,
          "xanchor": "right",
          "y": 0,
          "yanchor": "top"
         }
        ],
        "width": 850,
        "xaxis": {
         "range": [
          0.5,
          24.5
         ],
         "title": {
          "text": "Points"
         }
        },
        "yaxis": {
         "range": [
          -1.1,
          1.5
         ],
         "ticktext": [
          "Their Break",
          "Their Hold",
          "",
          "Our Hold",
          "Our Break"
         ],
         "tickvals": [
          -1,
          -0.5,
          0,
          0.5,
          1
         ],
         "title": {
          "text": "Point Type"
         }
        }
       }
      },
      "text/html": [
       "<div>                            <div id=\"20366e06-4eb3-4f5d-8639-06d54f7960b1\" class=\"plotly-graph-div\" style=\"height:600px; width:850px;\"></div>            <script type=\"text/javascript\">                require([\"plotly\"], function(Plotly) {                    window.PLOTLYENV=window.PLOTLYENV || {};                                    if (document.getElementById(\"20366e06-4eb3-4f5d-8639-06d54f7960b1\")) {                    Plotly.newPlot(                        \"20366e06-4eb3-4f5d-8639-06d54f7960b1\",                        [{\"mode\":\"lines+markers\",\"type\":\"scatter\",\"x\":[0],\"y\":[0]}],                        {\"height\":600,\"hovermode\":\"closest\",\"images\":[{\"sizex\":0.2,\"sizey\":0.2,\"source\":\"https://raw.githubusercontent.com/elastufka/presentations/master/images/ZU_logo1.png\",\"x\":0,\"xanchor\":\"right\",\"xref\":\"paper\",\"y\":1.05,\"yanchor\":\"bottom\",\"yref\":\"paper\"}],\"sliders\":[{\"active\":0,\"currentvalue\":{\"font\":{\"size\":14},\"prefix\":\"Point:\",\"visible\":true,\"xanchor\":\"right\"},\"len\":0.9,\"pad\":{\"b\":10,\"t\":10},\"steps\":[{\"args\":[[\"frame1\"],{\"frame\":{\"duration\":300,\"redraw\":false},\"mode\":\"immediate\",\"transition\":{\"duration\":300}}],\"label\":\"1\",\"method\":\"animate\"},{\"args\":[[\"frame2\"],{\"frame\":{\"duration\":300,\"redraw\":false},\"mode\":\"immediate\",\"transition\":{\"duration\":300}}],\"label\":\"2\",\"method\":\"animate\"},{\"args\":[[\"frame3\"],{\"frame\":{\"duration\":300,\"redraw\":false},\"mode\":\"immediate\",\"transition\":{\"duration\":300}}],\"label\":\"3\",\"method\":\"animate\"},{\"args\":[[\"frame4\"],{\"frame\":{\"duration\":300,\"redraw\":false},\"mode\":\"immediate\",\"transition\":{\"duration\":300}}],\"label\":\"4\",\"method\":\"animate\"},{\"args\":[[\"frame5\"],{\"frame\":{\"duration\":300,\"redraw\":false},\"mode\":\"immediate\",\"transition\":{\"duration\":300}}],\"label\":\"5\",\"method\":\"animate\"},{\"args\":[[\"frame6\"],{\"frame\":{\"duration\":300,\"redraw\":false},\"mode\":\"immediate\",\"transition\":{\"duration\":300}}],\"label\":\"6\",\"method\":\"animate\"},{\"args\":[[\"frame7\"],{\"frame\":{\"duration\":300,\"redraw\":false},\"mode\":\"immediate\",\"transition\":{\"duration\":300}}],\"label\":\"7\",\"method\":\"animate\"},{\"args\":[[\"frame8\"],{\"frame\":{\"duration\":300,\"redraw\":false},\"mode\":\"immediate\",\"transition\":{\"duration\":300}}],\"label\":\"8\",\"method\":\"animate\"},{\"args\":[[\"frame9\"],{\"frame\":{\"duration\":300,\"redraw\":false},\"mode\":\"immediate\",\"transition\":{\"duration\":300}}],\"label\":\"9\",\"method\":\"animate\"},{\"args\":[[\"frame10\"],{\"frame\":{\"duration\":300,\"redraw\":false},\"mode\":\"immediate\",\"transition\":{\"duration\":300}}],\"label\":\"10\",\"method\":\"animate\"},{\"args\":[[\"frame11\"],{\"frame\":{\"duration\":300,\"redraw\":false},\"mode\":\"immediate\",\"transition\":{\"duration\":300}}],\"label\":\"11\",\"method\":\"animate\"},{\"args\":[[\"frame12\"],{\"frame\":{\"duration\":300,\"redraw\":false},\"mode\":\"immediate\",\"transition\":{\"duration\":300}}],\"label\":\"12\",\"method\":\"animate\"},{\"args\":[[\"frame13\"],{\"frame\":{\"duration\":300,\"redraw\":false},\"mode\":\"immediate\",\"transition\":{\"duration\":300}}],\"label\":\"13\",\"method\":\"animate\"},{\"args\":[[\"frame14\"],{\"frame\":{\"duration\":300,\"redraw\":false},\"mode\":\"immediate\",\"transition\":{\"duration\":300}}],\"label\":\"14\",\"method\":\"animate\"},{\"args\":[[\"frame15\"],{\"frame\":{\"duration\":300,\"redraw\":false},\"mode\":\"immediate\",\"transition\":{\"duration\":300}}],\"label\":\"15\",\"method\":\"animate\"},{\"args\":[[\"frame16\"],{\"frame\":{\"duration\":300,\"redraw\":false},\"mode\":\"immediate\",\"transition\":{\"duration\":300}}],\"label\":\"16\",\"method\":\"animate\"},{\"args\":[[\"frame17\"],{\"frame\":{\"duration\":300,\"redraw\":false},\"mode\":\"immediate\",\"transition\":{\"duration\":300}}],\"label\":\"17\",\"method\":\"animate\"},{\"args\":[[\"frame18\"],{\"frame\":{\"duration\":300,\"redraw\":false},\"mode\":\"immediate\",\"transition\":{\"duration\":300}}],\"label\":\"18\",\"method\":\"animate\"},{\"args\":[[\"frame19\"],{\"frame\":{\"duration\":300,\"redraw\":false},\"mode\":\"immediate\",\"transition\":{\"duration\":300}}],\"label\":\"19\",\"method\":\"animate\"},{\"args\":[[\"frame20\"],{\"frame\":{\"duration\":300,\"redraw\":false},\"mode\":\"immediate\",\"transition\":{\"duration\":300}}],\"label\":\"20\",\"method\":\"animate\"},{\"args\":[[\"frame21\"],{\"frame\":{\"duration\":300,\"redraw\":false},\"mode\":\"immediate\",\"transition\":{\"duration\":300}}],\"label\":\"21\",\"method\":\"animate\"},{\"args\":[[\"frame22\"],{\"frame\":{\"duration\":300,\"redraw\":false},\"mode\":\"immediate\",\"transition\":{\"duration\":300}}],\"label\":\"22\",\"method\":\"animate\"},{\"args\":[[\"frame23\"],{\"frame\":{\"duration\":300,\"redraw\":false},\"mode\":\"immediate\",\"transition\":{\"duration\":300}}],\"label\":\"23\",\"method\":\"animate\"}],\"transition\":{\"duration\":300,\"easing\":\"cubic-in-out\"},\"x\":1,\"xanchor\":\"right\",\"y\":-0.4,\"yanchor\":\"bottom\"}],\"template\":{\"layout\":{\"colorway\":[\"#000000\",\"#784F17\",\"#FF0018\",\"#FFA52C\",\"#FFFF41\",\"#008018\",\"#0000F9\",\"#86007D\"],\"plot_bgcolor\":\"lightgrey\"}},\"title\":{\"text\":\"Game Flow\"},\"updatemenus\":[{\"buttons\":[{\"args\":[null,{\"frame\":{\"duration\":500,\"redraw\":false},\"fromcurrent\":true,\"transition\":{\"duration\":300,\"easing\":\"quadratic-in-out\"}}],\"label\":\"Play\",\"method\":\"animate\"},{\"args\":[[null],{\"frame\":{\"duration\":0,\"redraw\":false},\"mode\":\"immediate\",\"transition\":{\"duration\":0}}],\"label\":\"Pause\",\"method\":\"animate\"}],\"direction\":\"left\",\"pad\":{\"r\":10,\"t\":87},\"showactive\":false,\"type\":\"buttons\",\"x\":0.1,\"xanchor\":\"right\",\"y\":0,\"yanchor\":\"top\"}],\"width\":850,\"xaxis\":{\"range\":[0.5,24.5],\"title\":{\"text\":\"Points\"}},\"yaxis\":{\"range\":[-1.1,1.5],\"ticktext\":[\"Their Break\",\"Their Hold\",\"\",\"Our Hold\",\"Our Break\"],\"tickvals\":[-1,-0.5,0,0.5,1],\"title\":{\"text\":\"Point Type\"}}},                        {\"responsive\": true}                    ).then(function(){\n",
       "                            Plotly.addFrames('20366e06-4eb3-4f5d-8639-06d54f7960b1', [{\"data\":[{\"line\":{\"shape\":\"hv\"},\"mode\":\"lines+markers\",\"type\":\"scatter\",\"x\":[0],\"y\":[0]}],\"name\":\"frame0\"},{\"data\":[{\"line\":{\"shape\":\"hvh\"},\"mode\":\"lines+markers\",\"type\":\"scatter\",\"x\":[1],\"y\":[1.0]}],\"layout\":{\"annotations\":[{\"font\":{\"color\":\"blue\"},\"text\":\"4W3M: JL,MV,CC,LB,JV,JS,SG\",\"x\":1,\"xref\":\"x\",\"y\":1.0,\"yref\":\"y\"},{\"font\":{\"color\":\"orange\",\"size\":18},\"showarrow\":false,\"text\":\"FucZH 1-0 Wizards Geneva\",\"x\":0.5,\"xref\":\"paper\",\"y\":1.4,\"yref\":\"y\"},{\"showarrow\":false,\"text\":\"Completed Passes: 0,Turns: 1\",\"x\":21,\"xref\":\"x\",\"y\":1.3,\"yref\":\"y\"},{\"showarrow\":false,\"text\":\"Assist: SG, Goal:JV\",\"x\":21,\"xref\":\"x\",\"y\":1.4,\"yref\":\"y\"}]},\"name\":\"frame1\"},{\"data\":[{\"line\":{\"shape\":\"hvh\"},\"mode\":\"lines+markers\",\"type\":\"scatter\",\"x\":[1,2],\"y\":[1.0,-0.5]}],\"layout\":{\"annotations\":[{\"font\":{\"color\":\"blue\"},\"text\":\"4M3W: SB,MV,CS,EL,JV,JS,SG\",\"x\":2,\"xref\":\"x\",\"y\":-0.5,\"yref\":\"y\"},{\"font\":{\"color\":\"orange\",\"size\":18},\"showarrow\":false,\"text\":\"FucZH 1-1 Wizards Geneva\",\"x\":0.5,\"xref\":\"paper\",\"y\":1.4,\"yref\":\"y\"},{\"showarrow\":false,\"text\":\"Completed Passes: 0,Turns: 0\",\"x\":21,\"xref\":\"x\",\"y\":1.3,\"yref\":\"y\"}]},\"name\":\"frame2\"},{\"data\":[{\"line\":{\"shape\":\"hvh\"},\"mode\":\"lines+markers\",\"type\":\"scatter\",\"x\":[1,2,3],\"y\":[1.0,-0.5,0.5]}],\"layout\":{\"annotations\":[{\"font\":{\"color\":\"blue\"},\"text\":\"4M3W: SB,AY,FS,AL,CS,SH,GA\",\"x\":3,\"xref\":\"x\",\"y\":0.5,\"yref\":\"y\"},{\"font\":{\"color\":\"orange\",\"size\":18},\"showarrow\":false,\"text\":\"FucZH 2-1 Wizards Geneva\",\"x\":0.5,\"xref\":\"paper\",\"y\":1.4,\"yref\":\"y\"},{\"showarrow\":false,\"text\":\"Completed Passes: 3,Turns: 0\",\"x\":21,\"xref\":\"x\",\"y\":1.3,\"yref\":\"y\"},{\"showarrow\":false,\"text\":\"Assist: FS, Goal:Anonymous\",\"x\":21,\"xref\":\"x\",\"y\":1.4,\"yref\":\"y\"}]},\"name\":\"frame3\"},{\"data\":[{\"line\":{\"shape\":\"hvh\"},\"mode\":\"lines+markers\",\"type\":\"scatter\",\"x\":[1,2,3,4],\"y\":[1.0,-0.5,0.5,-0.5]}],\"layout\":{\"annotations\":[{\"font\":{\"color\":\"blue\"},\"text\":\"4W3M: JL,MV,CC,EL,JV,JS,SG\",\"x\":4,\"xref\":\"x\",\"y\":-0.5,\"yref\":\"y\"},{\"font\":{\"color\":\"orange\",\"size\":18},\"showarrow\":false,\"text\":\"FucZH 2-2 Wizards Geneva\",\"x\":0.5,\"xref\":\"paper\",\"y\":1.4,\"yref\":\"y\"},{\"showarrow\":false,\"text\":\"Completed Passes: 5,Turns: 2\",\"x\":21,\"xref\":\"x\",\"y\":1.3,\"yref\":\"y\"}]},\"name\":\"frame4\"},{\"data\":[{\"line\":{\"shape\":\"hvh\"},\"mode\":\"lines+markers\",\"type\":\"scatter\",\"x\":[1,2,3,4,5],\"y\":[1.0,-0.5,0.5,-0.5,0.5]}],\"layout\":{\"annotations\":[{\"font\":{\"color\":\"blue\"},\"text\":\"4W3M: AY,SB,AL,CS,SH,LB,GA\",\"x\":5,\"xref\":\"x\",\"y\":0.5,\"yref\":\"y\"},{\"font\":{\"color\":\"orange\",\"size\":18},\"showarrow\":false,\"text\":\"FucZH 3-2 Wizards Geneva\",\"x\":0.5,\"xref\":\"paper\",\"y\":1.4,\"yref\":\"y\"},{\"showarrow\":false,\"text\":\"Completed Passes: 2,Turns: 0\",\"x\":21,\"xref\":\"x\",\"y\":1.3,\"yref\":\"y\"},{\"showarrow\":false,\"text\":\"Assist: GA, Goal:Anonymous\",\"x\":21,\"xref\":\"x\",\"y\":1.4,\"yref\":\"y\"}]},\"name\":\"frame5\"},{\"data\":[{\"line\":{\"shape\":\"hvh\"},\"mode\":\"lines+markers\",\"type\":\"scatter\",\"x\":[1,2,3,4,5,6],\"y\":[1.0,-0.5,0.5,-0.5,0.5,-0.5]}],\"layout\":{\"annotations\":[{\"font\":{\"color\":\"blue\"},\"text\":\"4M3W: FS,JL,MV,SH,EL,JV,SG\",\"x\":6,\"xref\":\"x\",\"y\":-0.5,\"yref\":\"y\"},{\"font\":{\"color\":\"orange\",\"size\":18},\"showarrow\":false,\"text\":\"FucZH 3-3 Wizards Geneva\",\"x\":0.5,\"xref\":\"paper\",\"y\":1.4,\"yref\":\"y\"},{\"showarrow\":false,\"text\":\"Completed Passes: 0,Turns: 0\",\"x\":21,\"xref\":\"x\",\"y\":1.3,\"yref\":\"y\"}]},\"name\":\"frame6\"},{\"data\":[{\"line\":{\"shape\":\"hvh\"},\"mode\":\"lines+markers\",\"type\":\"scatter\",\"x\":[1,2,3,4,5,6,7],\"y\":[1.0,-0.5,0.5,-0.5,0.5,-0.5,0.5]}],\"layout\":{\"annotations\":[{\"font\":{\"color\":\"blue\"},\"text\":\"4M3W: AY,SB,FS,CS,SH,LB,GA\",\"x\":7,\"xref\":\"x\",\"y\":0.5,\"yref\":\"y\"},{\"font\":{\"color\":\"orange\",\"size\":18},\"showarrow\":false,\"text\":\"FucZH 4-3 Wizards Geneva\",\"x\":0.5,\"xref\":\"paper\",\"y\":1.4,\"yref\":\"y\"},{\"showarrow\":false,\"text\":\"Completed Passes: 8,Turns: 0\",\"x\":21,\"xref\":\"x\",\"y\":1.3,\"yref\":\"y\"},{\"showarrow\":false,\"text\":\"Assist: SH, Goal:GA\",\"x\":21,\"xref\":\"x\",\"y\":1.4,\"yref\":\"y\"}]},\"name\":\"frame7\"},{\"data\":[{\"line\":{\"shape\":\"hvh\"},\"mode\":\"lines+markers\",\"type\":\"scatter\",\"x\":[1,2,3,4,5,6,7,8],\"y\":[1.0,-0.5,0.5,-0.5,0.5,-0.5,0.5,-0.5]}],\"layout\":{\"annotations\":[{\"font\":{\"color\":\"blue\"},\"text\":\"4W3M: JL,AL,CC,LB,JV,JS,SG\",\"x\":8,\"xref\":\"x\",\"y\":-0.5,\"yref\":\"y\"},{\"font\":{\"color\":\"orange\",\"size\":18},\"showarrow\":false,\"text\":\"FucZH 4-4 Wizards Geneva\",\"x\":0.5,\"xref\":\"paper\",\"y\":1.4,\"yref\":\"y\"},{\"showarrow\":false,\"text\":\"Completed Passes: 3,Turns: 2\",\"x\":21,\"xref\":\"x\",\"y\":1.3,\"yref\":\"y\"}]},\"name\":\"frame8\"},{\"data\":[{\"line\":{\"shape\":\"hvh\"},\"mode\":\"lines+markers\",\"type\":\"scatter\",\"x\":[1,2,3,4,5,6,7,8,9],\"y\":[1.0,-0.5,0.5,-0.5,0.5,-0.5,0.5,-0.5,0.5]}],\"layout\":{\"annotations\":[{\"font\":{\"color\":\"blue\"},\"text\":\"4W3M: AY,SB,FS,JL,SH,EL,GA\",\"x\":9,\"xref\":\"x\",\"y\":0.5,\"yref\":\"y\"},{\"font\":{\"color\":\"orange\",\"size\":18},\"showarrow\":false,\"text\":\"FucZH 5-4 Wizards Geneva\",\"x\":0.5,\"xref\":\"paper\",\"y\":1.4,\"yref\":\"y\"},{\"showarrow\":false,\"text\":\"Completed Passes: 4,Turns: 0\",\"x\":21,\"xref\":\"x\",\"y\":1.3,\"yref\":\"y\"},{\"showarrow\":false,\"text\":\"Assist: GA, Goal:Anonymous\",\"x\":21,\"xref\":\"x\",\"y\":1.4,\"yref\":\"y\"}]},\"name\":\"frame9\"},{\"data\":[{\"line\":{\"shape\":\"hvh\"},\"mode\":\"lines+markers\",\"type\":\"scatter\",\"x\":[1,2,3,4,5,6,7,8,9,10],\"y\":[1.0,-0.5,0.5,-0.5,0.5,-0.5,0.5,-0.5,0.5,1.0]}],\"layout\":{\"annotations\":[{\"font\":{\"color\":\"blue\"},\"text\":\"4W3M: MV,AL,CC,LB,JV,JS,SG\",\"x\":10,\"xref\":\"x\",\"y\":1.0,\"yref\":\"y\"},{\"font\":{\"color\":\"orange\",\"size\":18},\"showarrow\":false,\"text\":\"FucZH 6-4 Wizards Geneva\",\"x\":0.5,\"xref\":\"paper\",\"y\":1.4,\"yref\":\"y\"},{\"showarrow\":false,\"text\":\"Completed Passes: 0,Turns: 1\",\"x\":21,\"xref\":\"x\",\"y\":1.3,\"yref\":\"y\"},{\"showarrow\":false,\"text\":\"Assist: SG, Goal:JS\",\"x\":21,\"xref\":\"x\",\"y\":1.4,\"yref\":\"y\"}]},\"name\":\"frame10\"},{\"data\":[{\"line\":{\"shape\":\"hvh\"},\"mode\":\"lines+markers\",\"type\":\"scatter\",\"x\":[1,2,3,4,5,6,7,8,9,10,11],\"y\":[1.0,-0.5,0.5,-0.5,0.5,-0.5,0.5,-0.5,0.5,1.0,-0.5]}],\"layout\":{\"annotations\":[{\"font\":{\"color\":\"blue\"},\"text\":\"4M3W: JL,FS,AL,SH,EL,SG,GA\",\"x\":11,\"xref\":\"x\",\"y\":-0.5,\"yref\":\"y\"},{\"font\":{\"color\":\"orange\",\"size\":18},\"showarrow\":false,\"text\":\"FucZH 6-5 Wizards Geneva\",\"x\":0.5,\"xref\":\"paper\",\"y\":1.4,\"yref\":\"y\"},{\"showarrow\":false,\"text\":\"Completed Passes: 0,Turns: 2\",\"x\":21,\"xref\":\"x\",\"y\":1.3,\"yref\":\"y\"}]},\"name\":\"frame11\"},{\"data\":[{\"line\":{\"shape\":\"hvh\"},\"mode\":\"lines+markers\",\"type\":\"scatter\",\"x\":[1,2,3,4,5,6,7,8,9,10,11,12],\"y\":[1.0,-0.5,0.5,-0.5,0.5,-0.5,0.5,-0.5,0.5,1.0,-0.5,0.5]}],\"layout\":{\"annotations\":[{\"font\":{\"color\":\"blue\"},\"text\":\"4W3M: FS,SB,AY,MV,CC,SH,GA\",\"x\":12,\"xref\":\"x\",\"y\":0.5,\"yref\":\"y\"},{\"font\":{\"color\":\"orange\",\"size\":18},\"showarrow\":false,\"text\":\"FucZH 7-5 Wizards Geneva\",\"x\":0.5,\"xref\":\"paper\",\"y\":1.4,\"yref\":\"y\"},{\"showarrow\":false,\"text\":\"Completed Passes: 12,Turns: 0\",\"x\":21,\"xref\":\"x\",\"y\":1.3,\"yref\":\"y\"},{\"showarrow\":false,\"text\":\"Assist: SH, Goal:GA\",\"x\":21,\"xref\":\"x\",\"y\":1.4,\"yref\":\"y\"}]},\"name\":\"frame12\"},{\"data\":[{\"line\":{\"shape\":\"hvh\"},\"mode\":\"lines+markers\",\"type\":\"scatter\",\"x\":[1,2,3,4,5,6,7,8,9,10,11,12,13],\"y\":[1.0,-0.5,0.5,-0.5,0.5,-0.5,0.5,-0.5,0.5,1.0,-0.5,0.5,-0.5]}],\"layout\":{\"annotations\":[{\"font\":{\"color\":\"blue\"},\"text\":\"4W3M: JL,AL,LB,EL,JS,JV,SG\",\"x\":13,\"xref\":\"x\",\"y\":-0.5,\"yref\":\"y\"},{\"font\":{\"color\":\"orange\",\"size\":18},\"showarrow\":false,\"text\":\"FucZH 7-6 Wizards Geneva\",\"x\":0.5,\"xref\":\"paper\",\"y\":1.4,\"yref\":\"y\"},{\"showarrow\":false,\"text\":\"Completed Passes: 3,Turns: 2\",\"x\":21,\"xref\":\"x\",\"y\":1.3,\"yref\":\"y\"}]},\"name\":\"frame13\"},{\"data\":[{\"line\":{\"shape\":\"hvh\"},\"mode\":\"lines+markers\",\"type\":\"scatter\",\"x\":[1,2,3,4,5,6,7,8,9,10,11,12,13,14],\"y\":[1.0,-0.5,0.5,-0.5,0.5,-0.5,0.5,-0.5,0.5,1.0,-0.5,0.5,-0.5,0.5]}],\"layout\":{\"annotations\":[{\"font\":{\"color\":\"blue\"},\"text\":\"4M3W: FS,SB,AY,MV,CS,SH,GA\",\"x\":14,\"xref\":\"x\",\"y\":0.5,\"yref\":\"y\"},{\"font\":{\"color\":\"orange\",\"size\":18},\"showarrow\":false,\"text\":\"FucZH 8-6 Wizards Geneva\",\"x\":0.5,\"xref\":\"paper\",\"y\":1.4,\"yref\":\"y\"},{\"showarrow\":false,\"text\":\"Completed Passes: 23,Turns: 0\",\"x\":21,\"xref\":\"x\",\"y\":1.3,\"yref\":\"y\"},{\"showarrow\":false,\"text\":\"Assist: CS, Goal:FS\",\"x\":21,\"xref\":\"x\",\"y\":1.4,\"yref\":\"y\"}]},\"name\":\"frame14\"},{\"data\":[{\"line\":{\"shape\":\"hvh\"},\"mode\":\"lines+markers\",\"type\":\"scatter\",\"x\":[1,2,3,4,5,6,7,8,9,10,11,12,13,14,15],\"y\":[1.0,-0.5,0.5,-0.5,0.5,-0.5,0.5,-0.5,0.5,1.0,-0.5,0.5,-0.5,0.5,0.5]}],\"layout\":{\"annotations\":[{\"font\":{\"color\":\"blue\"},\"text\":\"4W3M: AY,FS,SB,AL,SH,LB,GA\",\"x\":15,\"xref\":\"x\",\"y\":0.5,\"yref\":\"y\"},{\"font\":{\"color\":\"orange\",\"size\":18},\"showarrow\":false,\"text\":\"FucZH 9-6 Wizards Geneva\",\"x\":0.5,\"xref\":\"paper\",\"y\":1.4,\"yref\":\"y\"},{\"showarrow\":false,\"text\":\"Completed Passes: 8,Turns: 0\",\"x\":21,\"xref\":\"x\",\"y\":1.3,\"yref\":\"y\"},{\"showarrow\":false,\"text\":\"Assist: SH, Goal:AL\",\"x\":21,\"xref\":\"x\",\"y\":1.4,\"yref\":\"y\"}]},\"name\":\"frame15\"},{\"data\":[{\"line\":{\"shape\":\"hvh\"},\"mode\":\"lines+markers\",\"type\":\"scatter\",\"x\":[1,2,3,4,5,6,7,8,9,10,11,12,13,14,15,16],\"y\":[1.0,-0.5,0.5,-0.5,0.5,-0.5,0.5,-0.5,0.5,1.0,-0.5,0.5,-0.5,0.5,0.5,-0.5]}],\"layout\":{\"annotations\":[{\"font\":{\"color\":\"blue\"},\"text\":\"4M3W: JL,CS,CC,EL,JS,JV,SG\",\"x\":16,\"xref\":\"x\",\"y\":-0.5,\"yref\":\"y\"},{\"font\":{\"color\":\"orange\",\"size\":18},\"showarrow\":false,\"text\":\"FucZH 9-7 Wizards Geneva\",\"x\":0.5,\"xref\":\"paper\",\"y\":1.4,\"yref\":\"y\"},{\"showarrow\":false,\"text\":\"Completed Passes: 0,Turns: 0\",\"x\":21,\"xref\":\"x\",\"y\":1.3,\"yref\":\"y\"}]},\"name\":\"frame16\"},{\"data\":[{\"line\":{\"shape\":\"hvh\"},\"mode\":\"lines+markers\",\"type\":\"scatter\",\"x\":[1,2,3,4,5,6,7,8,9,10,11,12,13,14,15,16,17],\"y\":[1.0,-0.5,0.5,-0.5,0.5,-0.5,0.5,-0.5,0.5,1.0,-0.5,0.5,-0.5,0.5,0.5,-0.5,0.5]}],\"layout\":{\"annotations\":[{\"font\":{\"color\":\"blue\"},\"text\":\"4W3M: AY,FS,SB,AL,SH,LB,GA\",\"x\":17,\"xref\":\"x\",\"y\":0.5,\"yref\":\"y\"},{\"font\":{\"color\":\"orange\",\"size\":18},\"showarrow\":false,\"text\":\"FucZH 10-7 Wizards Geneva\",\"x\":0.5,\"xref\":\"paper\",\"y\":1.4,\"yref\":\"y\"},{\"showarrow\":false,\"text\":\"Completed Passes: 20,Turns: 2\",\"x\":21,\"xref\":\"x\",\"y\":1.3,\"yref\":\"y\"},{\"showarrow\":false,\"text\":\"Assist: SH, Goal:AY\",\"x\":21,\"xref\":\"x\",\"y\":1.4,\"yref\":\"y\"}]},\"name\":\"frame17\"},{\"data\":[{\"line\":{\"shape\":\"hvh\"},\"mode\":\"lines+markers\",\"type\":\"scatter\",\"x\":[1,2,3,4,5,6,7,8,9,10,11,12,13,14,15,16,17,18],\"y\":[1.0,-0.5,0.5,-0.5,0.5,-0.5,0.5,-0.5,0.5,1.0,-0.5,0.5,-0.5,0.5,0.5,-0.5,0.5,1.0]}],\"layout\":{\"annotations\":[{\"font\":{\"color\":\"blue\"},\"text\":\"4M3W: MV,CC,CS,EL,JS,JV,SG\",\"x\":18,\"xref\":\"x\",\"y\":1.0,\"yref\":\"y\"},{\"font\":{\"color\":\"orange\",\"size\":18},\"showarrow\":false,\"text\":\"FucZH 11-7 Wizards Geneva\",\"x\":0.5,\"xref\":\"paper\",\"y\":1.4,\"yref\":\"y\"},{\"showarrow\":false,\"text\":\"Completed Passes: 4,Turns: 3\",\"x\":21,\"xref\":\"x\",\"y\":1.3,\"yref\":\"y\"},{\"showarrow\":false,\"text\":\"Assist: EL, Goal:Anonymous\",\"x\":21,\"xref\":\"x\",\"y\":1.4,\"yref\":\"y\"}]},\"name\":\"frame18\"},{\"data\":[{\"line\":{\"shape\":\"hvh\"},\"mode\":\"lines+markers\",\"type\":\"scatter\",\"x\":[1,2,3,4,5,6,7,8,9,10,11,12,13,14,15,16,17,18,19],\"y\":[1.0,-0.5,0.5,-0.5,0.5,-0.5,0.5,-0.5,0.5,1.0,-0.5,0.5,-0.5,0.5,0.5,-0.5,0.5,1.0,-0.5]}],\"layout\":{\"annotations\":[{\"font\":{\"color\":\"blue\"},\"text\":\"4M3W: JL,MV,AL,JS,JV,GA,SG\",\"x\":19,\"xref\":\"x\",\"y\":-0.5,\"yref\":\"y\"},{\"font\":{\"color\":\"orange\",\"size\":18},\"showarrow\":false,\"text\":\"FucZH 11-8 Wizards Geneva\",\"x\":0.5,\"xref\":\"paper\",\"y\":1.4,\"yref\":\"y\"},{\"showarrow\":false,\"text\":\"Completed Passes: 0,Turns: 0\",\"x\":21,\"xref\":\"x\",\"y\":1.3,\"yref\":\"y\"}]},\"name\":\"frame19\"},{\"data\":[{\"line\":{\"shape\":\"hvh\"},\"mode\":\"lines+markers\",\"type\":\"scatter\",\"x\":[1,2,3,4,5,6,7,8,9,10,11,12,13,14,15,16,17,18,19,20],\"y\":[1.0,-0.5,0.5,-0.5,0.5,-0.5,0.5,-0.5,0.5,1.0,-0.5,0.5,-0.5,0.5,0.5,-0.5,0.5,1.0,-0.5,-1.0]}],\"layout\":{\"annotations\":[{\"font\":{\"color\":\"blue\"},\"text\":\"4W3M: AY,FS,SB,CC,SH,LB,GA\",\"x\":20,\"xref\":\"x\",\"y\":-1.0,\"yref\":\"y\"},{\"font\":{\"color\":\"orange\",\"size\":18},\"showarrow\":false,\"text\":\"FucZH 11-9 Wizards Geneva\",\"x\":0.5,\"xref\":\"paper\",\"y\":1.4,\"yref\":\"y\"},{\"showarrow\":false,\"text\":\"Completed Passes: 24,Turns: 5\",\"x\":21,\"xref\":\"x\",\"y\":1.3,\"yref\":\"y\"}]},\"name\":\"frame20\"},{\"data\":[{\"line\":{\"shape\":\"hvh\"},\"mode\":\"lines+markers\",\"type\":\"scatter\",\"x\":[1,2,3,4,5,6,7,8,9,10,11,12,13,14,15,16,17,18,19,20,21],\"y\":[1.0,-0.5,0.5,-0.5,0.5,-0.5,0.5,-0.5,0.5,1.0,-0.5,0.5,-0.5,0.5,0.5,-0.5,0.5,1.0,-0.5,-1.0,0.5]}],\"layout\":{\"annotations\":[{\"font\":{\"color\":\"blue\"},\"text\":\"4W3M: AY,JL,AL,CS,SH,EL,GA\",\"x\":21,\"xref\":\"x\",\"y\":0.5,\"yref\":\"y\"},{\"font\":{\"color\":\"orange\",\"size\":18},\"showarrow\":false,\"text\":\"FucZH 12-9 Wizards Geneva\",\"x\":0.5,\"xref\":\"paper\",\"y\":1.4,\"yref\":\"y\"},{\"showarrow\":false,\"text\":\"Completed Passes: 11,Turns: 0\",\"x\":21,\"xref\":\"x\",\"y\":1.3,\"yref\":\"y\"},{\"showarrow\":false,\"text\":\"Assist: SH, Goal:EL\",\"x\":21,\"xref\":\"x\",\"y\":1.4,\"yref\":\"y\"}]},\"name\":\"frame21\"},{\"data\":[{\"line\":{\"shape\":\"hvh\"},\"mode\":\"lines+markers\",\"type\":\"scatter\",\"x\":[1,2,3,4,5,6,7,8,9,10,11,12,13,14,15,16,17,18,19,20,21,22],\"y\":[1.0,-0.5,0.5,-0.5,0.5,-0.5,0.5,-0.5,0.5,1.0,-0.5,0.5,-0.5,0.5,0.5,-0.5,0.5,1.0,-0.5,-1.0,0.5,-0.5]}],\"layout\":{\"annotations\":[{\"font\":{\"color\":\"blue\"},\"text\":\"4M3W: SB,MV,CC,CS,JS,JV,SG\",\"x\":22,\"xref\":\"x\",\"y\":-0.5,\"yref\":\"y\"},{\"font\":{\"color\":\"orange\",\"size\":18},\"showarrow\":false,\"text\":\"FucZH 12-10 Wizards Geneva\",\"x\":0.5,\"xref\":\"paper\",\"y\":1.4,\"yref\":\"y\"},{\"showarrow\":false,\"text\":\"Completed Passes: 0,Turns: 0\",\"x\":21,\"xref\":\"x\",\"y\":1.3,\"yref\":\"y\"}]},\"name\":\"frame22\"},{\"data\":[{\"line\":{\"shape\":\"hvh\"},\"mode\":\"lines+markers\",\"type\":\"scatter\",\"x\":[1,2,3,4,5,6,7,8,9,10,11,12,13,14,15,16,17,18,19,20,21,22,23],\"y\":[1.0,-0.5,0.5,-0.5,0.5,-0.5,0.5,-0.5,0.5,1.0,-0.5,0.5,-0.5,0.5,0.5,-0.5,0.5,1.0,-0.5,-1.0,0.5,-0.5,-1.0]}],\"layout\":{\"annotations\":[{\"font\":{\"color\":\"blue\"},\"text\":\"4M3W: FS,JL,AL,CS,SH,EL,GA\",\"x\":23,\"xref\":\"x\",\"y\":-1.0,\"yref\":\"y\"},{\"font\":{\"color\":\"orange\",\"size\":18},\"showarrow\":false,\"text\":\"FucZH 12-11 Wizards Geneva\",\"x\":0.5,\"xref\":\"paper\",\"y\":1.4,\"yref\":\"y\"},{\"showarrow\":false,\"text\":\"Completed Passes: 5,Turns: 1\",\"x\":21,\"xref\":\"x\",\"y\":1.3,\"yref\":\"y\"}]},\"name\":\"frame23\"}]);\n",
       "                        }).then(function(){\n",
       "                            \n",
       "var gd = document.getElementById('20366e06-4eb3-4f5d-8639-06d54f7960b1');\n",
       "var x = new MutationObserver(function (mutations, observer) {{\n",
       "        var display = window.getComputedStyle(gd).display;\n",
       "        if (!display || display === 'none') {{\n",
       "            console.log([gd, 'removed!']);\n",
       "            Plotly.purge(gd);\n",
       "            observer.disconnect();\n",
       "        }}\n",
       "}});\n",
       "\n",
       "// Listen for the removal of the full notebook cells\n",
       "var notebookContainer = gd.closest('#notebook-container');\n",
       "if (notebookContainer) {{\n",
       "    x.observe(notebookContainer, {childList: true});\n",
       "}}\n",
       "\n",
       "// Listen for the clearing of the current output cell\n",
       "var outputEl = gd.closest('.output');\n",
       "if (outputEl) {{\n",
       "    x.observe(outputEl, {childList: true});\n",
       "}}\n",
       "\n",
       "                        })                };                });            </script>        </div>"
      ]
     },
     "metadata": {},
     "output_type": "display_data"
    }
   ],
   "source": [
    "fig=game_flow_fig(df,'Wizards Geneva',slidew,slideh)\n",
    "fig.show()"
   ]
  },
  {
   "cell_type": "code",
   "execution_count": 150,
   "metadata": {
    "slideshow": {
     "slide_type": "fragment"
    },
    "tags": [
     "to_remove"
    ]
   },
   "outputs": [
    {
     "data": {
      "application/vnd.plotly.v1+json": {
       "config": {
        "plotlyServerURL": "https://plotly.com"
       },
       "data": [
        {
         "mode": "lines+markers",
         "type": "scatter",
         "x": [
          0
         ],
         "y": [
          0
         ]
        }
       ],
       "frames": [
        {
         "data": [
          {
           "line": {
            "shape": "hv"
           },
           "mode": "lines+markers",
           "type": "scatter",
           "x": [
            0
           ],
           "y": [
            0
           ]
          }
         ],
         "name": "frame0"
        },
        {
         "data": [
          {
           "line": {
            "shape": "hvh"
           },
           "mode": "lines+markers",
           "type": "scatter",
           "x": [
            1
           ],
           "y": [
            -0.5
           ]
          }
         ],
         "layout": {
          "annotations": [
           {
            "font": {
             "color": "blue"
            },
            "text": "4M3W: JL,SB,MV,JV,JG,NK,SG",
            "x": 1,
            "xref": "x",
            "y": -0.5,
            "yref": "y"
           },
           {
            "font": {
             "color": "orange",
             "size": 18
            },
            "showarrow": false,
            "text": "FucZH 0-1 FSL (Quarters)",
            "x": 0.5,
            "xref": "paper",
            "y": 1.4,
            "yref": "y"
           },
           {
            "showarrow": false,
            "text": "Completed Passes: 0,Turns: 0",
            "x": 18,
            "xref": "x",
            "y": 1.3,
            "yref": "y"
           }
          ]
         },
         "name": "frame1"
        },
        {
         "data": [
          {
           "line": {
            "shape": "hvh"
           },
           "mode": "lines+markers",
           "type": "scatter",
           "x": [
            1,
            2
           ],
           "y": [
            -0.5,
            0.5
           ]
          }
         ],
         "layout": {
          "annotations": [
           {
            "font": {
             "color": "blue"
            },
            "text": "4W3M: AY,FS,MV,AL,SH,EL,GA",
            "x": 2,
            "xref": "x",
            "y": 0.5,
            "yref": "y"
           },
           {
            "font": {
             "color": "orange",
             "size": 18
            },
            "showarrow": false,
            "text": "FucZH 1-1 FSL (Quarters)",
            "x": 0.5,
            "xref": "paper",
            "y": 1.4,
            "yref": "y"
           },
           {
            "showarrow": false,
            "text": "Completed Passes: 2,Turns: 0",
            "x": 18,
            "xref": "x",
            "y": 1.3,
            "yref": "y"
           },
           {
            "showarrow": false,
            "text": "Assist: FS, Goal:EL",
            "x": 18,
            "xref": "x",
            "y": 1.4,
            "yref": "y"
           }
          ]
         },
         "name": "frame2"
        },
        {
         "data": [
          {
           "line": {
            "shape": "hvh"
           },
           "mode": "lines+markers",
           "type": "scatter",
           "x": [
            1,
            2,
            3
           ],
           "y": [
            -0.5,
            0.5,
            1
           ]
          }
         ],
         "layout": {
          "annotations": [
           {
            "font": {
             "color": "blue"
            },
            "text": "4W3M: JL,SB,MV,AL,JV,NK,SG",
            "x": 3,
            "xref": "x",
            "y": 1,
            "yref": "y"
           },
           {
            "font": {
             "color": "orange",
             "size": 18
            },
            "showarrow": false,
            "text": "FucZH 2-1 FSL (Quarters)",
            "x": 0.5,
            "xref": "paper",
            "y": 1.4,
            "yref": "y"
           },
           {
            "showarrow": false,
            "text": "Completed Passes: 1,Turns: 1",
            "x": 18,
            "xref": "x",
            "y": 1.3,
            "yref": "y"
           },
           {
            "showarrow": false,
            "text": "Assist: JV, Goal:SG",
            "x": 18,
            "xref": "x",
            "y": 1.4,
            "yref": "y"
           }
          ]
         },
         "name": "frame3"
        },
        {
         "data": [
          {
           "line": {
            "shape": "hvh"
           },
           "mode": "lines+markers",
           "type": "scatter",
           "x": [
            1,
            2,
            3,
            4
           ],
           "y": [
            -0.5,
            0.5,
            1,
            1
           ]
          }
         ],
         "layout": {
          "annotations": [
           {
            "font": {
             "color": "blue"
            },
            "text": "4M3W: AY,MV,CS,EL,JS,JG,SG",
            "x": 4,
            "xref": "x",
            "y": 1,
            "yref": "y"
           },
           {
            "font": {
             "color": "orange",
             "size": 18
            },
            "showarrow": false,
            "text": "FucZH 3-1 FSL (Quarters)",
            "x": 0.5,
            "xref": "paper",
            "y": 1.4,
            "yref": "y"
           },
           {
            "showarrow": false,
            "text": "Completed Passes: 26,Turns: 7",
            "x": 18,
            "xref": "x",
            "y": 1.3,
            "yref": "y"
           },
           {
            "showarrow": false,
            "text": "Assist: JG, Goal:SG",
            "x": 18,
            "xref": "x",
            "y": 1.4,
            "yref": "y"
           }
          ]
         },
         "name": "frame4"
        },
        {
         "data": [
          {
           "line": {
            "shape": "hvh"
           },
           "mode": "lines+markers",
           "type": "scatter",
           "x": [
            1,
            2,
            3,
            4,
            5
           ],
           "y": [
            -0.5,
            0.5,
            1,
            1,
            1
           ]
          }
         ],
         "layout": {
          "annotations": [
           {
            "font": {
             "color": "blue"
            },
            "text": "4M3W: JL,SB,AL,SH,JV,NK,GA",
            "x": 5,
            "xref": "x",
            "y": 1,
            "yref": "y"
           },
           {
            "font": {
             "color": "orange",
             "size": 18
            },
            "showarrow": false,
            "text": "FucZH 4-1 FSL (Quarters)",
            "x": 0.5,
            "xref": "paper",
            "y": 1.4,
            "yref": "y"
           },
           {
            "showarrow": false,
            "text": "Completed Passes: 6,Turns: 3",
            "x": 18,
            "xref": "x",
            "y": 1.3,
            "yref": "y"
           },
           {
            "showarrow": false,
            "text": "Assist: NK, Goal:JV",
            "x": 18,
            "xref": "x",
            "y": 1.4,
            "yref": "y"
           }
          ]
         },
         "name": "frame5"
        },
        {
         "data": [
          {
           "line": {
            "shape": "hvh"
           },
           "mode": "lines+markers",
           "type": "scatter",
           "x": [
            1,
            2,
            3,
            4,
            5,
            6
           ],
           "y": [
            -0.5,
            0.5,
            1,
            1,
            1,
            -0.5
           ]
          }
         ],
         "layout": {
          "annotations": [
           {
            "font": {
             "color": "blue"
            },
            "text": "4W3M: JL,SB,MV,EL,JS,JG,SG",
            "x": 6,
            "xref": "x",
            "y": -0.5,
            "yref": "y"
           },
           {
            "font": {
             "color": "orange",
             "size": 18
            },
            "showarrow": false,
            "text": "FucZH 4-2 FSL (Quarters)",
            "x": 0.5,
            "xref": "paper",
            "y": 1.4,
            "yref": "y"
           },
           {
            "showarrow": false,
            "text": "Completed Passes: 0,Turns: 2",
            "x": 18,
            "xref": "x",
            "y": 1.3,
            "yref": "y"
           }
          ]
         },
         "name": "frame6"
        },
        {
         "data": [
          {
           "line": {
            "shape": "hvh"
           },
           "mode": "lines+markers",
           "type": "scatter",
           "x": [
            1,
            2,
            3,
            4,
            5,
            6,
            7
           ],
           "y": [
            -0.5,
            0.5,
            1,
            1,
            1,
            -0.5,
            0.5
           ]
          }
         ],
         "layout": {
          "annotations": [
           {
            "font": {
             "color": "blue"
            },
            "text": "4W3M: JL,AY,FS,MV,AL,SH,GA",
            "x": 7,
            "xref": "x",
            "y": 0.5,
            "yref": "y"
           },
           {
            "font": {
             "color": "orange",
             "size": 18
            },
            "showarrow": false,
            "text": "FucZH 5-2 FSL (Quarters)",
            "x": 0.5,
            "xref": "paper",
            "y": 1.4,
            "yref": "y"
           },
           {
            "showarrow": false,
            "text": "Completed Passes: 5,Turns: 0",
            "x": 18,
            "xref": "x",
            "y": 1.3,
            "yref": "y"
           },
           {
            "showarrow": false,
            "text": "Assist: GA, Goal:Anonymous",
            "x": 18,
            "xref": "x",
            "y": 1.4,
            "yref": "y"
           }
          ]
         },
         "name": "frame7"
        },
        {
         "data": [
          {
           "line": {
            "shape": "hvh"
           },
           "mode": "lines+markers",
           "type": "scatter",
           "x": [
            1,
            2,
            3,
            4,
            5,
            6,
            7,
            8
           ],
           "y": [
            -0.5,
            0.5,
            1,
            1,
            1,
            -0.5,
            0.5,
            -0.5
           ]
          }
         ],
         "layout": {
          "annotations": [
           {
            "font": {
             "color": "blue"
            },
            "text": "4M3W: SB,MV,EL,JV,JS,JG,NK",
            "x": 8,
            "xref": "x",
            "y": -0.5,
            "yref": "y"
           },
           {
            "font": {
             "color": "orange",
             "size": 18
            },
            "showarrow": false,
            "text": "FucZH 5-3 FSL (Quarters)",
            "x": 0.5,
            "xref": "paper",
            "y": 1.4,
            "yref": "y"
           },
           {
            "showarrow": false,
            "text": "Completed Passes: 1,Turns: 2",
            "x": 18,
            "xref": "x",
            "y": 1.3,
            "yref": "y"
           }
          ]
         },
         "name": "frame8"
        },
        {
         "data": [
          {
           "line": {
            "shape": "hvh"
           },
           "mode": "lines+markers",
           "type": "scatter",
           "x": [
            1,
            2,
            3,
            4,
            5,
            6,
            7,
            8,
            9
           ],
           "y": [
            -0.5,
            0.5,
            1,
            1,
            1,
            -0.5,
            0.5,
            -0.5,
            -1
           ]
          }
         ],
         "layout": {
          "annotations": [
           {
            "font": {
             "color": "blue"
            },
            "text": "4M3W: AY,JL,FS,AL,CS,SH,GA",
            "x": 9,
            "xref": "x",
            "y": -1,
            "yref": "y"
           },
           {
            "font": {
             "color": "orange",
             "size": 18
            },
            "showarrow": false,
            "text": "FucZH 5-4 FSL (Quarters)",
            "x": 0.5,
            "xref": "paper",
            "y": 1.4,
            "yref": "y"
           },
           {
            "showarrow": false,
            "text": "Completed Passes: 2,Turns: 1",
            "x": 18,
            "xref": "x",
            "y": 1.3,
            "yref": "y"
           }
          ]
         },
         "name": "frame9"
        },
        {
         "data": [
          {
           "line": {
            "shape": "hvh"
           },
           "mode": "lines+markers",
           "type": "scatter",
           "x": [
            1,
            2,
            3,
            4,
            5,
            6,
            7,
            8,
            9,
            10
           ],
           "y": [
            -0.5,
            0.5,
            1,
            1,
            1,
            -0.5,
            0.5,
            -0.5,
            -1,
            0.5
           ]
          }
         ],
         "layout": {
          "annotations": [
           {
            "font": {
             "color": "blue"
            },
            "text": "4W3M: AY,SB,FS,MV,SH,EL,GA",
            "x": 10,
            "xref": "x",
            "y": 0.5,
            "yref": "y"
           },
           {
            "font": {
             "color": "orange",
             "size": 18
            },
            "showarrow": false,
            "text": "FucZH 6-4 FSL (Quarters)",
            "x": 0.5,
            "xref": "paper",
            "y": 1.4,
            "yref": "y"
           },
           {
            "showarrow": false,
            "text": "Completed Passes: 15,Turns: 0",
            "x": 18,
            "xref": "x",
            "y": 1.3,
            "yref": "y"
           },
           {
            "showarrow": false,
            "text": "Assist: SH, Goal:MV",
            "x": 18,
            "xref": "x",
            "y": 1.4,
            "yref": "y"
           }
          ]
         },
         "name": "frame10"
        },
        {
         "data": [
          {
           "line": {
            "shape": "hvh"
           },
           "mode": "lines+markers",
           "type": "scatter",
           "x": [
            1,
            2,
            3,
            4,
            5,
            6,
            7,
            8,
            9,
            10,
            11
           ],
           "y": [
            -0.5,
            0.5,
            1,
            1,
            1,
            -0.5,
            0.5,
            -0.5,
            -1,
            0.5,
            -0.5
           ]
          }
         ],
         "layout": {
          "annotations": [
           {
            "font": {
             "color": "blue"
            },
            "text": "4W3M: JL,MV,AL,CS,EL,JG,SG",
            "x": 11,
            "xref": "x",
            "y": -0.5,
            "yref": "y"
           },
           {
            "font": {
             "color": "orange",
             "size": 18
            },
            "showarrow": false,
            "text": "FucZH 6-5 FSL (Quarters)",
            "x": 0.5,
            "xref": "paper",
            "y": 1.4,
            "yref": "y"
           },
           {
            "showarrow": false,
            "text": "Completed Passes: 0,Turns: 0",
            "x": 18,
            "xref": "x",
            "y": 1.3,
            "yref": "y"
           }
          ]
         },
         "name": "frame11"
        },
        {
         "data": [
          {
           "line": {
            "shape": "hvh"
           },
           "mode": "lines+markers",
           "type": "scatter",
           "x": [
            1,
            2,
            3,
            4,
            5,
            6,
            7,
            8,
            9,
            10,
            11,
            12
           ],
           "y": [
            -0.5,
            0.5,
            1,
            1,
            1,
            -0.5,
            0.5,
            -0.5,
            -1,
            0.5,
            -0.5,
            0.5
           ]
          }
         ],
         "layout": {
          "annotations": [
           {
            "font": {
             "color": "blue"
            },
            "text": "4M3W: AY,SB,FS,MV,SH,JS,GA",
            "x": 12,
            "xref": "x",
            "y": 0.5,
            "yref": "y"
           },
           {
            "font": {
             "color": "orange",
             "size": 18
            },
            "showarrow": false,
            "text": "FucZH 7-5 FSL (Quarters)",
            "x": 0.5,
            "xref": "paper",
            "y": 1.4,
            "yref": "y"
           },
           {
            "showarrow": false,
            "text": "Completed Passes: 4,Turns: 0",
            "x": 18,
            "xref": "x",
            "y": 1.3,
            "yref": "y"
           },
           {
            "showarrow": false,
            "text": "Assist: JS, Goal:GA",
            "x": 18,
            "xref": "x",
            "y": 1.4,
            "yref": "y"
           }
          ]
         },
         "name": "frame12"
        },
        {
         "data": [
          {
           "line": {
            "shape": "hvh"
           },
           "mode": "lines+markers",
           "type": "scatter",
           "x": [
            1,
            2,
            3,
            4,
            5,
            6,
            7,
            8,
            9,
            10,
            11,
            12,
            13
           ],
           "y": [
            -0.5,
            0.5,
            1,
            1,
            1,
            -0.5,
            0.5,
            -0.5,
            -1,
            0.5,
            -0.5,
            0.5,
            -0.5
           ]
          }
         ],
         "layout": {
          "annotations": [
           {
            "font": {
             "color": "blue"
            },
            "text": "4M3W: AY,JL,AL,CS,JV,JG,NK",
            "x": 13,
            "xref": "x",
            "y": -0.5,
            "yref": "y"
           },
           {
            "font": {
             "color": "orange",
             "size": 18
            },
            "showarrow": false,
            "text": "FucZH 7-6 FSL (Quarters)",
            "x": 0.5,
            "xref": "paper",
            "y": 1.4,
            "yref": "y"
           },
           {
            "showarrow": false,
            "text": "Completed Passes: 0,Turns: 0",
            "x": 18,
            "xref": "x",
            "y": 1.3,
            "yref": "y"
           }
          ]
         },
         "name": "frame13"
        },
        {
         "data": [
          {
           "line": {
            "shape": "hvh"
           },
           "mode": "lines+markers",
           "type": "scatter",
           "x": [
            1,
            2,
            3,
            4,
            5,
            6,
            7,
            8,
            9,
            10,
            11,
            12,
            13,
            14
           ],
           "y": [
            -0.5,
            0.5,
            1,
            1,
            1,
            -0.5,
            0.5,
            -0.5,
            -1,
            0.5,
            -0.5,
            0.5,
            -0.5,
            0.5
           ]
          }
         ],
         "layout": {
          "annotations": [
           {
            "font": {
             "color": "blue"
            },
            "text": "4W3M: SB,FS,JL,MV,SH,EL,GA",
            "x": 14,
            "xref": "x",
            "y": 0.5,
            "yref": "y"
           },
           {
            "font": {
             "color": "orange",
             "size": 18
            },
            "showarrow": false,
            "text": "FucZH 8-6 FSL (Quarters)",
            "x": 0.5,
            "xref": "paper",
            "y": 1.4,
            "yref": "y"
           },
           {
            "showarrow": false,
            "text": "Completed Passes: 5,Turns: 2",
            "x": 18,
            "xref": "x",
            "y": 1.3,
            "yref": "y"
           },
           {
            "showarrow": false,
            "text": "Assist: SH, Goal:EL",
            "x": 18,
            "xref": "x",
            "y": 1.4,
            "yref": "y"
           }
          ]
         },
         "name": "frame14"
        },
        {
         "data": [
          {
           "line": {
            "shape": "hvh"
           },
           "mode": "lines+markers",
           "type": "scatter",
           "x": [
            1,
            2,
            3,
            4,
            5,
            6,
            7,
            8,
            9,
            10,
            11,
            12,
            13,
            14,
            15
           ],
           "y": [
            -0.5,
            0.5,
            1,
            1,
            1,
            -0.5,
            0.5,
            -0.5,
            -1,
            0.5,
            -0.5,
            0.5,
            -0.5,
            0.5,
            0.5
           ]
          }
         ],
         "layout": {
          "annotations": [
           {
            "font": {
             "color": "blue"
            },
            "text": "4W3M: SB,FS,JL,AY,MV,SH,JS",
            "x": 15,
            "xref": "x",
            "y": 0.5,
            "yref": "y"
           },
           {
            "font": {
             "color": "orange",
             "size": 18
            },
            "showarrow": false,
            "text": "FucZH 9-6 FSL (Quarters)",
            "x": 0.5,
            "xref": "paper",
            "y": 1.4,
            "yref": "y"
           },
           {
            "showarrow": false,
            "text": "Completed Passes: 15,Turns: 0",
            "x": 18,
            "xref": "x",
            "y": 1.3,
            "yref": "y"
           },
           {
            "showarrow": false,
            "text": "Assist: Anonymous, Goal:AY",
            "x": 18,
            "xref": "x",
            "y": 1.4,
            "yref": "y"
           }
          ]
         },
         "name": "frame15"
        },
        {
         "data": [
          {
           "line": {
            "shape": "hvh"
           },
           "mode": "lines+markers",
           "type": "scatter",
           "x": [
            1,
            2,
            3,
            4,
            5,
            6,
            7,
            8,
            9,
            10,
            11,
            12,
            13,
            14,
            15,
            16
           ],
           "y": [
            -0.5,
            0.5,
            1,
            1,
            1,
            -0.5,
            0.5,
            -0.5,
            -1,
            0.5,
            -0.5,
            0.5,
            -0.5,
            0.5,
            0.5,
            1
           ]
          }
         ],
         "layout": {
          "annotations": [
           {
            "font": {
             "color": "blue"
            },
            "text": "4M3W: AY,AL,EL,JV,NK,JG,SG",
            "x": 16,
            "xref": "x",
            "y": 1,
            "yref": "y"
           },
           {
            "font": {
             "color": "orange",
             "size": 18
            },
            "showarrow": false,
            "text": "FucZH 10-6 FSL (Quarters)",
            "x": 0.5,
            "xref": "paper",
            "y": 1.4,
            "yref": "y"
           },
           {
            "showarrow": false,
            "text": "Completed Passes: 2,Turns: 1",
            "x": 18,
            "xref": "x",
            "y": 1.3,
            "yref": "y"
           },
           {
            "showarrow": false,
            "text": "Assist: SG, Goal:NK",
            "x": 18,
            "xref": "x",
            "y": 1.4,
            "yref": "y"
           }
          ]
         },
         "name": "frame16"
        },
        {
         "data": [
          {
           "line": {
            "shape": "hvh"
           },
           "mode": "lines+markers",
           "type": "scatter",
           "x": [
            1,
            2,
            3,
            4,
            5,
            6,
            7,
            8,
            9,
            10,
            11,
            12,
            13,
            14,
            15,
            16,
            17
           ],
           "y": [
            -0.5,
            0.5,
            1,
            1,
            1,
            -0.5,
            0.5,
            -0.5,
            -1,
            0.5,
            -0.5,
            0.5,
            -0.5,
            0.5,
            0.5,
            1,
            -0.5
           ]
          }
         ],
         "layout": {
          "annotations": [
           {
            "font": {
             "color": "blue"
            },
            "text": "4M3W: JL,SB,MV,CS,JV,JG,SG",
            "x": 17,
            "xref": "x",
            "y": -0.5,
            "yref": "y"
           },
           {
            "font": {
             "color": "orange",
             "size": 18
            },
            "showarrow": false,
            "text": "FucZH 10-7 FSL (Quarters)",
            "x": 0.5,
            "xref": "paper",
            "y": 1.4,
            "yref": "y"
           },
           {
            "showarrow": false,
            "text": "Completed Passes: 0,Turns: 0",
            "x": 18,
            "xref": "x",
            "y": 1.3,
            "yref": "y"
           }
          ]
         },
         "name": "frame17"
        },
        {
         "data": [
          {
           "line": {
            "shape": "hvh"
           },
           "mode": "lines+markers",
           "type": "scatter",
           "x": [
            1,
            2,
            3,
            4,
            5,
            6,
            7,
            8,
            9,
            10,
            11,
            12,
            13,
            14,
            15,
            16,
            17,
            18
           ],
           "y": [
            -0.5,
            0.5,
            1,
            1,
            1,
            -0.5,
            0.5,
            -0.5,
            -1,
            0.5,
            -0.5,
            0.5,
            -0.5,
            0.5,
            0.5,
            1,
            -0.5,
            0.5
           ]
          }
         ],
         "layout": {
          "annotations": [
           {
            "font": {
             "color": "blue"
            },
            "text": "4W3M: FS,AY,MV,AL,SH,EL,GA",
            "x": 18,
            "xref": "x",
            "y": 0.5,
            "yref": "y"
           },
           {
            "font": {
             "color": "orange",
             "size": 18
            },
            "showarrow": false,
            "text": "FucZH 11-7 FSL (Quarters)",
            "x": 0.5,
            "xref": "paper",
            "y": 1.4,
            "yref": "y"
           },
           {
            "showarrow": false,
            "text": "Completed Passes: 8,Turns: 2",
            "x": 18,
            "xref": "x",
            "y": 1.3,
            "yref": "y"
           },
           {
            "showarrow": false,
            "text": "Assist: Anonymous, Goal:EL",
            "x": 18,
            "xref": "x",
            "y": 1.4,
            "yref": "y"
           }
          ]
         },
         "name": "frame18"
        },
        {
         "data": [
          {
           "line": {
            "shape": "hvh"
           },
           "mode": "lines+markers",
           "type": "scatter",
           "x": [
            1,
            2,
            3,
            4,
            5,
            6,
            7,
            8,
            9,
            10,
            11,
            12,
            13,
            14,
            15,
            16,
            17,
            18,
            19
           ],
           "y": [
            -0.5,
            0.5,
            1,
            1,
            1,
            -0.5,
            0.5,
            -0.5,
            -1,
            0.5,
            -0.5,
            0.5,
            -0.5,
            0.5,
            0.5,
            1,
            -0.5,
            0.5,
            1
           ]
          }
         ],
         "layout": {
          "annotations": [
           {
            "font": {
             "color": "blue"
            },
            "text": "4M3W: SB,MV,AL,SH,JG,NK,SG",
            "x": 19,
            "xref": "x",
            "y": 1,
            "yref": "y"
           },
           {
            "font": {
             "color": "orange",
             "size": 18
            },
            "showarrow": false,
            "text": "FucZH 12-7 FSL (Quarters)",
            "x": 0.5,
            "xref": "paper",
            "y": 1.4,
            "yref": "y"
           },
           {
            "showarrow": false,
            "text": "Completed Passes: 7,Turns: 1",
            "x": 18,
            "xref": "x",
            "y": 1.3,
            "yref": "y"
           },
           {
            "showarrow": false,
            "text": "Assist: SG, Goal:Anonymous",
            "x": 18,
            "xref": "x",
            "y": 1.4,
            "yref": "y"
           }
          ]
         },
         "name": "frame19"
        },
        {
         "data": [
          {
           "line": {
            "shape": "hvh"
           },
           "mode": "lines+markers",
           "type": "scatter",
           "x": [
            1,
            2,
            3,
            4,
            5,
            6,
            7,
            8,
            9,
            10,
            11,
            12,
            13,
            14,
            15,
            16,
            17,
            18,
            19,
            20
           ],
           "y": [
            -0.5,
            0.5,
            1,
            1,
            1,
            -0.5,
            0.5,
            -0.5,
            -1,
            0.5,
            -0.5,
            0.5,
            -0.5,
            0.5,
            0.5,
            1,
            -0.5,
            0.5,
            1,
            1
           ]
          }
         ],
         "layout": {
          "annotations": [
           {
            "font": {
             "color": "blue"
            },
            "text": "4W3M: AY,JL,MV,CS,EL,NK,JG",
            "x": 20,
            "xref": "x",
            "y": 1,
            "yref": "y"
           },
           {
            "font": {
             "color": "orange",
             "size": 18
            },
            "showarrow": false,
            "text": "FucZH 13-7 FSL (Quarters)",
            "x": 0.5,
            "xref": "paper",
            "y": 1.4,
            "yref": "y"
           },
           {
            "showarrow": false,
            "text": "Completed Passes: 12,Turns: 3",
            "x": 18,
            "xref": "x",
            "y": 1.3,
            "yref": "y"
           },
           {
            "showarrow": false,
            "text": "Assist: SG, Goal:EL",
            "x": 18,
            "xref": "x",
            "y": 1.4,
            "yref": "y"
           }
          ]
         },
         "name": "frame20"
        }
       ],
       "layout": {
        "height": 600,
        "hovermode": "closest",
        "images": [
         {
          "sizex": 0.2,
          "sizey": 0.2,
          "source": "https://raw.githubusercontent.com/elastufka/presentations/master/images/ZU_logo1.png",
          "x": 0,
          "xanchor": "right",
          "xref": "paper",
          "y": 1.05,
          "yanchor": "bottom",
          "yref": "paper"
         }
        ],
        "sliders": [
         {
          "active": 0,
          "currentvalue": {
           "font": {
            "size": 14
           },
           "prefix": "Point:",
           "visible": true,
           "xanchor": "right"
          },
          "len": 0.9,
          "pad": {
           "b": 10,
           "t": 10
          },
          "steps": [
           {
            "args": [
             [
              "frame1"
             ],
             {
              "frame": {
               "duration": 300,
               "redraw": false
              },
              "mode": "immediate",
              "transition": {
               "duration": 300
              }
             }
            ],
            "label": "1",
            "method": "animate"
           },
           {
            "args": [
             [
              "frame2"
             ],
             {
              "frame": {
               "duration": 300,
               "redraw": false
              },
              "mode": "immediate",
              "transition": {
               "duration": 300
              }
             }
            ],
            "label": "2",
            "method": "animate"
           },
           {
            "args": [
             [
              "frame3"
             ],
             {
              "frame": {
               "duration": 300,
               "redraw": false
              },
              "mode": "immediate",
              "transition": {
               "duration": 300
              }
             }
            ],
            "label": "3",
            "method": "animate"
           },
           {
            "args": [
             [
              "frame4"
             ],
             {
              "frame": {
               "duration": 300,
               "redraw": false
              },
              "mode": "immediate",
              "transition": {
               "duration": 300
              }
             }
            ],
            "label": "4",
            "method": "animate"
           },
           {
            "args": [
             [
              "frame5"
             ],
             {
              "frame": {
               "duration": 300,
               "redraw": false
              },
              "mode": "immediate",
              "transition": {
               "duration": 300
              }
             }
            ],
            "label": "5",
            "method": "animate"
           },
           {
            "args": [
             [
              "frame6"
             ],
             {
              "frame": {
               "duration": 300,
               "redraw": false
              },
              "mode": "immediate",
              "transition": {
               "duration": 300
              }
             }
            ],
            "label": "6",
            "method": "animate"
           },
           {
            "args": [
             [
              "frame7"
             ],
             {
              "frame": {
               "duration": 300,
               "redraw": false
              },
              "mode": "immediate",
              "transition": {
               "duration": 300
              }
             }
            ],
            "label": "7",
            "method": "animate"
           },
           {
            "args": [
             [
              "frame8"
             ],
             {
              "frame": {
               "duration": 300,
               "redraw": false
              },
              "mode": "immediate",
              "transition": {
               "duration": 300
              }
             }
            ],
            "label": "8",
            "method": "animate"
           },
           {
            "args": [
             [
              "frame9"
             ],
             {
              "frame": {
               "duration": 300,
               "redraw": false
              },
              "mode": "immediate",
              "transition": {
               "duration": 300
              }
             }
            ],
            "label": "9",
            "method": "animate"
           },
           {
            "args": [
             [
              "frame10"
             ],
             {
              "frame": {
               "duration": 300,
               "redraw": false
              },
              "mode": "immediate",
              "transition": {
               "duration": 300
              }
             }
            ],
            "label": "10",
            "method": "animate"
           },
           {
            "args": [
             [
              "frame11"
             ],
             {
              "frame": {
               "duration": 300,
               "redraw": false
              },
              "mode": "immediate",
              "transition": {
               "duration": 300
              }
             }
            ],
            "label": "11",
            "method": "animate"
           },
           {
            "args": [
             [
              "frame12"
             ],
             {
              "frame": {
               "duration": 300,
               "redraw": false
              },
              "mode": "immediate",
              "transition": {
               "duration": 300
              }
             }
            ],
            "label": "12",
            "method": "animate"
           },
           {
            "args": [
             [
              "frame13"
             ],
             {
              "frame": {
               "duration": 300,
               "redraw": false
              },
              "mode": "immediate",
              "transition": {
               "duration": 300
              }
             }
            ],
            "label": "13",
            "method": "animate"
           },
           {
            "args": [
             [
              "frame14"
             ],
             {
              "frame": {
               "duration": 300,
               "redraw": false
              },
              "mode": "immediate",
              "transition": {
               "duration": 300
              }
             }
            ],
            "label": "14",
            "method": "animate"
           },
           {
            "args": [
             [
              "frame15"
             ],
             {
              "frame": {
               "duration": 300,
               "redraw": false
              },
              "mode": "immediate",
              "transition": {
               "duration": 300
              }
             }
            ],
            "label": "15",
            "method": "animate"
           },
           {
            "args": [
             [
              "frame16"
             ],
             {
              "frame": {
               "duration": 300,
               "redraw": false
              },
              "mode": "immediate",
              "transition": {
               "duration": 300
              }
             }
            ],
            "label": "16",
            "method": "animate"
           },
           {
            "args": [
             [
              "frame17"
             ],
             {
              "frame": {
               "duration": 300,
               "redraw": false
              },
              "mode": "immediate",
              "transition": {
               "duration": 300
              }
             }
            ],
            "label": "17",
            "method": "animate"
           },
           {
            "args": [
             [
              "frame18"
             ],
             {
              "frame": {
               "duration": 300,
               "redraw": false
              },
              "mode": "immediate",
              "transition": {
               "duration": 300
              }
             }
            ],
            "label": "18",
            "method": "animate"
           },
           {
            "args": [
             [
              "frame19"
             ],
             {
              "frame": {
               "duration": 300,
               "redraw": false
              },
              "mode": "immediate",
              "transition": {
               "duration": 300
              }
             }
            ],
            "label": "19",
            "method": "animate"
           },
           {
            "args": [
             [
              "frame20"
             ],
             {
              "frame": {
               "duration": 300,
               "redraw": false
              },
              "mode": "immediate",
              "transition": {
               "duration": 300
              }
             }
            ],
            "label": "20",
            "method": "animate"
           }
          ],
          "transition": {
           "duration": 300,
           "easing": "cubic-in-out"
          },
          "x": 1,
          "xanchor": "right",
          "y": -0.4,
          "yanchor": "bottom"
         }
        ],
        "template": {
         "layout": {
          "colorway": [
           "#000000",
           "#784F17",
           "#FF0018",
           "#FFA52C",
           "#FFFF41",
           "#008018",
           "#0000F9",
           "#86007D"
          ],
          "plot_bgcolor": "lightgrey"
         }
        },
        "title": {
         "text": "Game Flow"
        },
        "updatemenus": [
         {
          "buttons": [
           {
            "args": [
             null,
             {
              "frame": {
               "duration": 500,
               "redraw": false
              },
              "fromcurrent": true,
              "transition": {
               "duration": 300,
               "easing": "quadratic-in-out"
              }
             }
            ],
            "label": "Play",
            "method": "animate"
           },
           {
            "args": [
             [
              null
             ],
             {
              "frame": {
               "duration": 0,
               "redraw": false
              },
              "mode": "immediate",
              "transition": {
               "duration": 0
              }
             }
            ],
            "label": "Pause",
            "method": "animate"
           }
          ],
          "direction": "left",
          "pad": {
           "r": 10,
           "t": 87
          },
          "showactive": false,
          "type": "buttons",
          "x": 0.1,
          "xanchor": "right",
          "y": 0,
          "yanchor": "top"
         }
        ],
        "width": 850,
        "xaxis": {
         "range": [
          0.5,
          21.5
         ],
         "title": {
          "text": "Points"
         }
        },
        "yaxis": {
         "range": [
          -1.1,
          1.5
         ],
         "ticktext": [
          "Their Break",
          "Their Hold",
          "",
          "Our Hold",
          "Our Break"
         ],
         "tickvals": [
          -1,
          -0.5,
          0,
          0.5,
          1
         ],
         "title": {
          "text": "Point Type"
         }
        }
       }
      },
      "text/html": [
       "<div>                            <div id=\"3693d1d1-4e8e-4c88-bad9-f0d7ca94248c\" class=\"plotly-graph-div\" style=\"height:600px; width:850px;\"></div>            <script type=\"text/javascript\">                require([\"plotly\"], function(Plotly) {                    window.PLOTLYENV=window.PLOTLYENV || {};                                    if (document.getElementById(\"3693d1d1-4e8e-4c88-bad9-f0d7ca94248c\")) {                    Plotly.newPlot(                        \"3693d1d1-4e8e-4c88-bad9-f0d7ca94248c\",                        [{\"mode\":\"lines+markers\",\"type\":\"scatter\",\"x\":[0],\"y\":[0]}],                        {\"height\":600,\"hovermode\":\"closest\",\"images\":[{\"sizex\":0.2,\"sizey\":0.2,\"source\":\"https://raw.githubusercontent.com/elastufka/presentations/master/images/ZU_logo1.png\",\"x\":0,\"xanchor\":\"right\",\"xref\":\"paper\",\"y\":1.05,\"yanchor\":\"bottom\",\"yref\":\"paper\"}],\"sliders\":[{\"active\":0,\"currentvalue\":{\"font\":{\"size\":14},\"prefix\":\"Point:\",\"visible\":true,\"xanchor\":\"right\"},\"len\":0.9,\"pad\":{\"b\":10,\"t\":10},\"steps\":[{\"args\":[[\"frame1\"],{\"frame\":{\"duration\":300,\"redraw\":false},\"mode\":\"immediate\",\"transition\":{\"duration\":300}}],\"label\":\"1\",\"method\":\"animate\"},{\"args\":[[\"frame2\"],{\"frame\":{\"duration\":300,\"redraw\":false},\"mode\":\"immediate\",\"transition\":{\"duration\":300}}],\"label\":\"2\",\"method\":\"animate\"},{\"args\":[[\"frame3\"],{\"frame\":{\"duration\":300,\"redraw\":false},\"mode\":\"immediate\",\"transition\":{\"duration\":300}}],\"label\":\"3\",\"method\":\"animate\"},{\"args\":[[\"frame4\"],{\"frame\":{\"duration\":300,\"redraw\":false},\"mode\":\"immediate\",\"transition\":{\"duration\":300}}],\"label\":\"4\",\"method\":\"animate\"},{\"args\":[[\"frame5\"],{\"frame\":{\"duration\":300,\"redraw\":false},\"mode\":\"immediate\",\"transition\":{\"duration\":300}}],\"label\":\"5\",\"method\":\"animate\"},{\"args\":[[\"frame6\"],{\"frame\":{\"duration\":300,\"redraw\":false},\"mode\":\"immediate\",\"transition\":{\"duration\":300}}],\"label\":\"6\",\"method\":\"animate\"},{\"args\":[[\"frame7\"],{\"frame\":{\"duration\":300,\"redraw\":false},\"mode\":\"immediate\",\"transition\":{\"duration\":300}}],\"label\":\"7\",\"method\":\"animate\"},{\"args\":[[\"frame8\"],{\"frame\":{\"duration\":300,\"redraw\":false},\"mode\":\"immediate\",\"transition\":{\"duration\":300}}],\"label\":\"8\",\"method\":\"animate\"},{\"args\":[[\"frame9\"],{\"frame\":{\"duration\":300,\"redraw\":false},\"mode\":\"immediate\",\"transition\":{\"duration\":300}}],\"label\":\"9\",\"method\":\"animate\"},{\"args\":[[\"frame10\"],{\"frame\":{\"duration\":300,\"redraw\":false},\"mode\":\"immediate\",\"transition\":{\"duration\":300}}],\"label\":\"10\",\"method\":\"animate\"},{\"args\":[[\"frame11\"],{\"frame\":{\"duration\":300,\"redraw\":false},\"mode\":\"immediate\",\"transition\":{\"duration\":300}}],\"label\":\"11\",\"method\":\"animate\"},{\"args\":[[\"frame12\"],{\"frame\":{\"duration\":300,\"redraw\":false},\"mode\":\"immediate\",\"transition\":{\"duration\":300}}],\"label\":\"12\",\"method\":\"animate\"},{\"args\":[[\"frame13\"],{\"frame\":{\"duration\":300,\"redraw\":false},\"mode\":\"immediate\",\"transition\":{\"duration\":300}}],\"label\":\"13\",\"method\":\"animate\"},{\"args\":[[\"frame14\"],{\"frame\":{\"duration\":300,\"redraw\":false},\"mode\":\"immediate\",\"transition\":{\"duration\":300}}],\"label\":\"14\",\"method\":\"animate\"},{\"args\":[[\"frame15\"],{\"frame\":{\"duration\":300,\"redraw\":false},\"mode\":\"immediate\",\"transition\":{\"duration\":300}}],\"label\":\"15\",\"method\":\"animate\"},{\"args\":[[\"frame16\"],{\"frame\":{\"duration\":300,\"redraw\":false},\"mode\":\"immediate\",\"transition\":{\"duration\":300}}],\"label\":\"16\",\"method\":\"animate\"},{\"args\":[[\"frame17\"],{\"frame\":{\"duration\":300,\"redraw\":false},\"mode\":\"immediate\",\"transition\":{\"duration\":300}}],\"label\":\"17\",\"method\":\"animate\"},{\"args\":[[\"frame18\"],{\"frame\":{\"duration\":300,\"redraw\":false},\"mode\":\"immediate\",\"transition\":{\"duration\":300}}],\"label\":\"18\",\"method\":\"animate\"},{\"args\":[[\"frame19\"],{\"frame\":{\"duration\":300,\"redraw\":false},\"mode\":\"immediate\",\"transition\":{\"duration\":300}}],\"label\":\"19\",\"method\":\"animate\"},{\"args\":[[\"frame20\"],{\"frame\":{\"duration\":300,\"redraw\":false},\"mode\":\"immediate\",\"transition\":{\"duration\":300}}],\"label\":\"20\",\"method\":\"animate\"}],\"transition\":{\"duration\":300,\"easing\":\"cubic-in-out\"},\"x\":1,\"xanchor\":\"right\",\"y\":-0.4,\"yanchor\":\"bottom\"}],\"template\":{\"layout\":{\"colorway\":[\"#000000\",\"#784F17\",\"#FF0018\",\"#FFA52C\",\"#FFFF41\",\"#008018\",\"#0000F9\",\"#86007D\"],\"plot_bgcolor\":\"lightgrey\"}},\"title\":{\"text\":\"Game Flow\"},\"updatemenus\":[{\"buttons\":[{\"args\":[null,{\"frame\":{\"duration\":500,\"redraw\":false},\"fromcurrent\":true,\"transition\":{\"duration\":300,\"easing\":\"quadratic-in-out\"}}],\"label\":\"Play\",\"method\":\"animate\"},{\"args\":[[null],{\"frame\":{\"duration\":0,\"redraw\":false},\"mode\":\"immediate\",\"transition\":{\"duration\":0}}],\"label\":\"Pause\",\"method\":\"animate\"}],\"direction\":\"left\",\"pad\":{\"r\":10,\"t\":87},\"showactive\":false,\"type\":\"buttons\",\"x\":0.1,\"xanchor\":\"right\",\"y\":0,\"yanchor\":\"top\"}],\"width\":850,\"xaxis\":{\"range\":[0.5,21.5],\"title\":{\"text\":\"Points\"}},\"yaxis\":{\"range\":[-1.1,1.5],\"ticktext\":[\"Their Break\",\"Their Hold\",\"\",\"Our Hold\",\"Our Break\"],\"tickvals\":[-1,-0.5,0,0.5,1],\"title\":{\"text\":\"Point Type\"}}},                        {\"responsive\": true}                    ).then(function(){\n",
       "                            Plotly.addFrames('3693d1d1-4e8e-4c88-bad9-f0d7ca94248c', [{\"data\":[{\"line\":{\"shape\":\"hv\"},\"mode\":\"lines+markers\",\"type\":\"scatter\",\"x\":[0],\"y\":[0]}],\"name\":\"frame0\"},{\"data\":[{\"line\":{\"shape\":\"hvh\"},\"mode\":\"lines+markers\",\"type\":\"scatter\",\"x\":[1],\"y\":[-0.5]}],\"layout\":{\"annotations\":[{\"font\":{\"color\":\"blue\"},\"text\":\"4M3W: JL,SB,MV,JV,JG,NK,SG\",\"x\":1,\"xref\":\"x\",\"y\":-0.5,\"yref\":\"y\"},{\"font\":{\"color\":\"orange\",\"size\":18},\"showarrow\":false,\"text\":\"FucZH 0-1 FSL (Quarters)\",\"x\":0.5,\"xref\":\"paper\",\"y\":1.4,\"yref\":\"y\"},{\"showarrow\":false,\"text\":\"Completed Passes: 0,Turns: 0\",\"x\":18,\"xref\":\"x\",\"y\":1.3,\"yref\":\"y\"}]},\"name\":\"frame1\"},{\"data\":[{\"line\":{\"shape\":\"hvh\"},\"mode\":\"lines+markers\",\"type\":\"scatter\",\"x\":[1,2],\"y\":[-0.5,0.5]}],\"layout\":{\"annotations\":[{\"font\":{\"color\":\"blue\"},\"text\":\"4W3M: AY,FS,MV,AL,SH,EL,GA\",\"x\":2,\"xref\":\"x\",\"y\":0.5,\"yref\":\"y\"},{\"font\":{\"color\":\"orange\",\"size\":18},\"showarrow\":false,\"text\":\"FucZH 1-1 FSL (Quarters)\",\"x\":0.5,\"xref\":\"paper\",\"y\":1.4,\"yref\":\"y\"},{\"showarrow\":false,\"text\":\"Completed Passes: 2,Turns: 0\",\"x\":18,\"xref\":\"x\",\"y\":1.3,\"yref\":\"y\"},{\"showarrow\":false,\"text\":\"Assist: FS, Goal:EL\",\"x\":18,\"xref\":\"x\",\"y\":1.4,\"yref\":\"y\"}]},\"name\":\"frame2\"},{\"data\":[{\"line\":{\"shape\":\"hvh\"},\"mode\":\"lines+markers\",\"type\":\"scatter\",\"x\":[1,2,3],\"y\":[-0.5,0.5,1.0]}],\"layout\":{\"annotations\":[{\"font\":{\"color\":\"blue\"},\"text\":\"4W3M: JL,SB,MV,AL,JV,NK,SG\",\"x\":3,\"xref\":\"x\",\"y\":1.0,\"yref\":\"y\"},{\"font\":{\"color\":\"orange\",\"size\":18},\"showarrow\":false,\"text\":\"FucZH 2-1 FSL (Quarters)\",\"x\":0.5,\"xref\":\"paper\",\"y\":1.4,\"yref\":\"y\"},{\"showarrow\":false,\"text\":\"Completed Passes: 1,Turns: 1\",\"x\":18,\"xref\":\"x\",\"y\":1.3,\"yref\":\"y\"},{\"showarrow\":false,\"text\":\"Assist: JV, Goal:SG\",\"x\":18,\"xref\":\"x\",\"y\":1.4,\"yref\":\"y\"}]},\"name\":\"frame3\"},{\"data\":[{\"line\":{\"shape\":\"hvh\"},\"mode\":\"lines+markers\",\"type\":\"scatter\",\"x\":[1,2,3,4],\"y\":[-0.5,0.5,1.0,1.0]}],\"layout\":{\"annotations\":[{\"font\":{\"color\":\"blue\"},\"text\":\"4M3W: AY,MV,CS,EL,JS,JG,SG\",\"x\":4,\"xref\":\"x\",\"y\":1.0,\"yref\":\"y\"},{\"font\":{\"color\":\"orange\",\"size\":18},\"showarrow\":false,\"text\":\"FucZH 3-1 FSL (Quarters)\",\"x\":0.5,\"xref\":\"paper\",\"y\":1.4,\"yref\":\"y\"},{\"showarrow\":false,\"text\":\"Completed Passes: 26,Turns: 7\",\"x\":18,\"xref\":\"x\",\"y\":1.3,\"yref\":\"y\"},{\"showarrow\":false,\"text\":\"Assist: JG, Goal:SG\",\"x\":18,\"xref\":\"x\",\"y\":1.4,\"yref\":\"y\"}]},\"name\":\"frame4\"},{\"data\":[{\"line\":{\"shape\":\"hvh\"},\"mode\":\"lines+markers\",\"type\":\"scatter\",\"x\":[1,2,3,4,5],\"y\":[-0.5,0.5,1.0,1.0,1.0]}],\"layout\":{\"annotations\":[{\"font\":{\"color\":\"blue\"},\"text\":\"4M3W: JL,SB,AL,SH,JV,NK,GA\",\"x\":5,\"xref\":\"x\",\"y\":1.0,\"yref\":\"y\"},{\"font\":{\"color\":\"orange\",\"size\":18},\"showarrow\":false,\"text\":\"FucZH 4-1 FSL (Quarters)\",\"x\":0.5,\"xref\":\"paper\",\"y\":1.4,\"yref\":\"y\"},{\"showarrow\":false,\"text\":\"Completed Passes: 6,Turns: 3\",\"x\":18,\"xref\":\"x\",\"y\":1.3,\"yref\":\"y\"},{\"showarrow\":false,\"text\":\"Assist: NK, Goal:JV\",\"x\":18,\"xref\":\"x\",\"y\":1.4,\"yref\":\"y\"}]},\"name\":\"frame5\"},{\"data\":[{\"line\":{\"shape\":\"hvh\"},\"mode\":\"lines+markers\",\"type\":\"scatter\",\"x\":[1,2,3,4,5,6],\"y\":[-0.5,0.5,1.0,1.0,1.0,-0.5]}],\"layout\":{\"annotations\":[{\"font\":{\"color\":\"blue\"},\"text\":\"4W3M: JL,SB,MV,EL,JS,JG,SG\",\"x\":6,\"xref\":\"x\",\"y\":-0.5,\"yref\":\"y\"},{\"font\":{\"color\":\"orange\",\"size\":18},\"showarrow\":false,\"text\":\"FucZH 4-2 FSL (Quarters)\",\"x\":0.5,\"xref\":\"paper\",\"y\":1.4,\"yref\":\"y\"},{\"showarrow\":false,\"text\":\"Completed Passes: 0,Turns: 2\",\"x\":18,\"xref\":\"x\",\"y\":1.3,\"yref\":\"y\"}]},\"name\":\"frame6\"},{\"data\":[{\"line\":{\"shape\":\"hvh\"},\"mode\":\"lines+markers\",\"type\":\"scatter\",\"x\":[1,2,3,4,5,6,7],\"y\":[-0.5,0.5,1.0,1.0,1.0,-0.5,0.5]}],\"layout\":{\"annotations\":[{\"font\":{\"color\":\"blue\"},\"text\":\"4W3M: JL,AY,FS,MV,AL,SH,GA\",\"x\":7,\"xref\":\"x\",\"y\":0.5,\"yref\":\"y\"},{\"font\":{\"color\":\"orange\",\"size\":18},\"showarrow\":false,\"text\":\"FucZH 5-2 FSL (Quarters)\",\"x\":0.5,\"xref\":\"paper\",\"y\":1.4,\"yref\":\"y\"},{\"showarrow\":false,\"text\":\"Completed Passes: 5,Turns: 0\",\"x\":18,\"xref\":\"x\",\"y\":1.3,\"yref\":\"y\"},{\"showarrow\":false,\"text\":\"Assist: GA, Goal:Anonymous\",\"x\":18,\"xref\":\"x\",\"y\":1.4,\"yref\":\"y\"}]},\"name\":\"frame7\"},{\"data\":[{\"line\":{\"shape\":\"hvh\"},\"mode\":\"lines+markers\",\"type\":\"scatter\",\"x\":[1,2,3,4,5,6,7,8],\"y\":[-0.5,0.5,1.0,1.0,1.0,-0.5,0.5,-0.5]}],\"layout\":{\"annotations\":[{\"font\":{\"color\":\"blue\"},\"text\":\"4M3W: SB,MV,EL,JV,JS,JG,NK\",\"x\":8,\"xref\":\"x\",\"y\":-0.5,\"yref\":\"y\"},{\"font\":{\"color\":\"orange\",\"size\":18},\"showarrow\":false,\"text\":\"FucZH 5-3 FSL (Quarters)\",\"x\":0.5,\"xref\":\"paper\",\"y\":1.4,\"yref\":\"y\"},{\"showarrow\":false,\"text\":\"Completed Passes: 1,Turns: 2\",\"x\":18,\"xref\":\"x\",\"y\":1.3,\"yref\":\"y\"}]},\"name\":\"frame8\"},{\"data\":[{\"line\":{\"shape\":\"hvh\"},\"mode\":\"lines+markers\",\"type\":\"scatter\",\"x\":[1,2,3,4,5,6,7,8,9],\"y\":[-0.5,0.5,1.0,1.0,1.0,-0.5,0.5,-0.5,-1.0]}],\"layout\":{\"annotations\":[{\"font\":{\"color\":\"blue\"},\"text\":\"4M3W: AY,JL,FS,AL,CS,SH,GA\",\"x\":9,\"xref\":\"x\",\"y\":-1.0,\"yref\":\"y\"},{\"font\":{\"color\":\"orange\",\"size\":18},\"showarrow\":false,\"text\":\"FucZH 5-4 FSL (Quarters)\",\"x\":0.5,\"xref\":\"paper\",\"y\":1.4,\"yref\":\"y\"},{\"showarrow\":false,\"text\":\"Completed Passes: 2,Turns: 1\",\"x\":18,\"xref\":\"x\",\"y\":1.3,\"yref\":\"y\"}]},\"name\":\"frame9\"},{\"data\":[{\"line\":{\"shape\":\"hvh\"},\"mode\":\"lines+markers\",\"type\":\"scatter\",\"x\":[1,2,3,4,5,6,7,8,9,10],\"y\":[-0.5,0.5,1.0,1.0,1.0,-0.5,0.5,-0.5,-1.0,0.5]}],\"layout\":{\"annotations\":[{\"font\":{\"color\":\"blue\"},\"text\":\"4W3M: AY,SB,FS,MV,SH,EL,GA\",\"x\":10,\"xref\":\"x\",\"y\":0.5,\"yref\":\"y\"},{\"font\":{\"color\":\"orange\",\"size\":18},\"showarrow\":false,\"text\":\"FucZH 6-4 FSL (Quarters)\",\"x\":0.5,\"xref\":\"paper\",\"y\":1.4,\"yref\":\"y\"},{\"showarrow\":false,\"text\":\"Completed Passes: 15,Turns: 0\",\"x\":18,\"xref\":\"x\",\"y\":1.3,\"yref\":\"y\"},{\"showarrow\":false,\"text\":\"Assist: SH, Goal:MV\",\"x\":18,\"xref\":\"x\",\"y\":1.4,\"yref\":\"y\"}]},\"name\":\"frame10\"},{\"data\":[{\"line\":{\"shape\":\"hvh\"},\"mode\":\"lines+markers\",\"type\":\"scatter\",\"x\":[1,2,3,4,5,6,7,8,9,10,11],\"y\":[-0.5,0.5,1.0,1.0,1.0,-0.5,0.5,-0.5,-1.0,0.5,-0.5]}],\"layout\":{\"annotations\":[{\"font\":{\"color\":\"blue\"},\"text\":\"4W3M: JL,MV,AL,CS,EL,JG,SG\",\"x\":11,\"xref\":\"x\",\"y\":-0.5,\"yref\":\"y\"},{\"font\":{\"color\":\"orange\",\"size\":18},\"showarrow\":false,\"text\":\"FucZH 6-5 FSL (Quarters)\",\"x\":0.5,\"xref\":\"paper\",\"y\":1.4,\"yref\":\"y\"},{\"showarrow\":false,\"text\":\"Completed Passes: 0,Turns: 0\",\"x\":18,\"xref\":\"x\",\"y\":1.3,\"yref\":\"y\"}]},\"name\":\"frame11\"},{\"data\":[{\"line\":{\"shape\":\"hvh\"},\"mode\":\"lines+markers\",\"type\":\"scatter\",\"x\":[1,2,3,4,5,6,7,8,9,10,11,12],\"y\":[-0.5,0.5,1.0,1.0,1.0,-0.5,0.5,-0.5,-1.0,0.5,-0.5,0.5]}],\"layout\":{\"annotations\":[{\"font\":{\"color\":\"blue\"},\"text\":\"4M3W: AY,SB,FS,MV,SH,JS,GA\",\"x\":12,\"xref\":\"x\",\"y\":0.5,\"yref\":\"y\"},{\"font\":{\"color\":\"orange\",\"size\":18},\"showarrow\":false,\"text\":\"FucZH 7-5 FSL (Quarters)\",\"x\":0.5,\"xref\":\"paper\",\"y\":1.4,\"yref\":\"y\"},{\"showarrow\":false,\"text\":\"Completed Passes: 4,Turns: 0\",\"x\":18,\"xref\":\"x\",\"y\":1.3,\"yref\":\"y\"},{\"showarrow\":false,\"text\":\"Assist: JS, Goal:GA\",\"x\":18,\"xref\":\"x\",\"y\":1.4,\"yref\":\"y\"}]},\"name\":\"frame12\"},{\"data\":[{\"line\":{\"shape\":\"hvh\"},\"mode\":\"lines+markers\",\"type\":\"scatter\",\"x\":[1,2,3,4,5,6,7,8,9,10,11,12,13],\"y\":[-0.5,0.5,1.0,1.0,1.0,-0.5,0.5,-0.5,-1.0,0.5,-0.5,0.5,-0.5]}],\"layout\":{\"annotations\":[{\"font\":{\"color\":\"blue\"},\"text\":\"4M3W: AY,JL,AL,CS,JV,JG,NK\",\"x\":13,\"xref\":\"x\",\"y\":-0.5,\"yref\":\"y\"},{\"font\":{\"color\":\"orange\",\"size\":18},\"showarrow\":false,\"text\":\"FucZH 7-6 FSL (Quarters)\",\"x\":0.5,\"xref\":\"paper\",\"y\":1.4,\"yref\":\"y\"},{\"showarrow\":false,\"text\":\"Completed Passes: 0,Turns: 0\",\"x\":18,\"xref\":\"x\",\"y\":1.3,\"yref\":\"y\"}]},\"name\":\"frame13\"},{\"data\":[{\"line\":{\"shape\":\"hvh\"},\"mode\":\"lines+markers\",\"type\":\"scatter\",\"x\":[1,2,3,4,5,6,7,8,9,10,11,12,13,14],\"y\":[-0.5,0.5,1.0,1.0,1.0,-0.5,0.5,-0.5,-1.0,0.5,-0.5,0.5,-0.5,0.5]}],\"layout\":{\"annotations\":[{\"font\":{\"color\":\"blue\"},\"text\":\"4W3M: SB,FS,JL,MV,SH,EL,GA\",\"x\":14,\"xref\":\"x\",\"y\":0.5,\"yref\":\"y\"},{\"font\":{\"color\":\"orange\",\"size\":18},\"showarrow\":false,\"text\":\"FucZH 8-6 FSL (Quarters)\",\"x\":0.5,\"xref\":\"paper\",\"y\":1.4,\"yref\":\"y\"},{\"showarrow\":false,\"text\":\"Completed Passes: 5,Turns: 2\",\"x\":18,\"xref\":\"x\",\"y\":1.3,\"yref\":\"y\"},{\"showarrow\":false,\"text\":\"Assist: SH, Goal:EL\",\"x\":18,\"xref\":\"x\",\"y\":1.4,\"yref\":\"y\"}]},\"name\":\"frame14\"},{\"data\":[{\"line\":{\"shape\":\"hvh\"},\"mode\":\"lines+markers\",\"type\":\"scatter\",\"x\":[1,2,3,4,5,6,7,8,9,10,11,12,13,14,15],\"y\":[-0.5,0.5,1.0,1.0,1.0,-0.5,0.5,-0.5,-1.0,0.5,-0.5,0.5,-0.5,0.5,0.5]}],\"layout\":{\"annotations\":[{\"font\":{\"color\":\"blue\"},\"text\":\"4W3M: SB,FS,JL,AY,MV,SH,JS\",\"x\":15,\"xref\":\"x\",\"y\":0.5,\"yref\":\"y\"},{\"font\":{\"color\":\"orange\",\"size\":18},\"showarrow\":false,\"text\":\"FucZH 9-6 FSL (Quarters)\",\"x\":0.5,\"xref\":\"paper\",\"y\":1.4,\"yref\":\"y\"},{\"showarrow\":false,\"text\":\"Completed Passes: 15,Turns: 0\",\"x\":18,\"xref\":\"x\",\"y\":1.3,\"yref\":\"y\"},{\"showarrow\":false,\"text\":\"Assist: Anonymous, Goal:AY\",\"x\":18,\"xref\":\"x\",\"y\":1.4,\"yref\":\"y\"}]},\"name\":\"frame15\"},{\"data\":[{\"line\":{\"shape\":\"hvh\"},\"mode\":\"lines+markers\",\"type\":\"scatter\",\"x\":[1,2,3,4,5,6,7,8,9,10,11,12,13,14,15,16],\"y\":[-0.5,0.5,1.0,1.0,1.0,-0.5,0.5,-0.5,-1.0,0.5,-0.5,0.5,-0.5,0.5,0.5,1.0]}],\"layout\":{\"annotations\":[{\"font\":{\"color\":\"blue\"},\"text\":\"4M3W: AY,AL,EL,JV,NK,JG,SG\",\"x\":16,\"xref\":\"x\",\"y\":1.0,\"yref\":\"y\"},{\"font\":{\"color\":\"orange\",\"size\":18},\"showarrow\":false,\"text\":\"FucZH 10-6 FSL (Quarters)\",\"x\":0.5,\"xref\":\"paper\",\"y\":1.4,\"yref\":\"y\"},{\"showarrow\":false,\"text\":\"Completed Passes: 2,Turns: 1\",\"x\":18,\"xref\":\"x\",\"y\":1.3,\"yref\":\"y\"},{\"showarrow\":false,\"text\":\"Assist: SG, Goal:NK\",\"x\":18,\"xref\":\"x\",\"y\":1.4,\"yref\":\"y\"}]},\"name\":\"frame16\"},{\"data\":[{\"line\":{\"shape\":\"hvh\"},\"mode\":\"lines+markers\",\"type\":\"scatter\",\"x\":[1,2,3,4,5,6,7,8,9,10,11,12,13,14,15,16,17],\"y\":[-0.5,0.5,1.0,1.0,1.0,-0.5,0.5,-0.5,-1.0,0.5,-0.5,0.5,-0.5,0.5,0.5,1.0,-0.5]}],\"layout\":{\"annotations\":[{\"font\":{\"color\":\"blue\"},\"text\":\"4M3W: JL,SB,MV,CS,JV,JG,SG\",\"x\":17,\"xref\":\"x\",\"y\":-0.5,\"yref\":\"y\"},{\"font\":{\"color\":\"orange\",\"size\":18},\"showarrow\":false,\"text\":\"FucZH 10-7 FSL (Quarters)\",\"x\":0.5,\"xref\":\"paper\",\"y\":1.4,\"yref\":\"y\"},{\"showarrow\":false,\"text\":\"Completed Passes: 0,Turns: 0\",\"x\":18,\"xref\":\"x\",\"y\":1.3,\"yref\":\"y\"}]},\"name\":\"frame17\"},{\"data\":[{\"line\":{\"shape\":\"hvh\"},\"mode\":\"lines+markers\",\"type\":\"scatter\",\"x\":[1,2,3,4,5,6,7,8,9,10,11,12,13,14,15,16,17,18],\"y\":[-0.5,0.5,1.0,1.0,1.0,-0.5,0.5,-0.5,-1.0,0.5,-0.5,0.5,-0.5,0.5,0.5,1.0,-0.5,0.5]}],\"layout\":{\"annotations\":[{\"font\":{\"color\":\"blue\"},\"text\":\"4W3M: FS,AY,MV,AL,SH,EL,GA\",\"x\":18,\"xref\":\"x\",\"y\":0.5,\"yref\":\"y\"},{\"font\":{\"color\":\"orange\",\"size\":18},\"showarrow\":false,\"text\":\"FucZH 11-7 FSL (Quarters)\",\"x\":0.5,\"xref\":\"paper\",\"y\":1.4,\"yref\":\"y\"},{\"showarrow\":false,\"text\":\"Completed Passes: 8,Turns: 2\",\"x\":18,\"xref\":\"x\",\"y\":1.3,\"yref\":\"y\"},{\"showarrow\":false,\"text\":\"Assist: Anonymous, Goal:EL\",\"x\":18,\"xref\":\"x\",\"y\":1.4,\"yref\":\"y\"}]},\"name\":\"frame18\"},{\"data\":[{\"line\":{\"shape\":\"hvh\"},\"mode\":\"lines+markers\",\"type\":\"scatter\",\"x\":[1,2,3,4,5,6,7,8,9,10,11,12,13,14,15,16,17,18,19],\"y\":[-0.5,0.5,1.0,1.0,1.0,-0.5,0.5,-0.5,-1.0,0.5,-0.5,0.5,-0.5,0.5,0.5,1.0,-0.5,0.5,1.0]}],\"layout\":{\"annotations\":[{\"font\":{\"color\":\"blue\"},\"text\":\"4M3W: SB,MV,AL,SH,JG,NK,SG\",\"x\":19,\"xref\":\"x\",\"y\":1.0,\"yref\":\"y\"},{\"font\":{\"color\":\"orange\",\"size\":18},\"showarrow\":false,\"text\":\"FucZH 12-7 FSL (Quarters)\",\"x\":0.5,\"xref\":\"paper\",\"y\":1.4,\"yref\":\"y\"},{\"showarrow\":false,\"text\":\"Completed Passes: 7,Turns: 1\",\"x\":18,\"xref\":\"x\",\"y\":1.3,\"yref\":\"y\"},{\"showarrow\":false,\"text\":\"Assist: SG, Goal:Anonymous\",\"x\":18,\"xref\":\"x\",\"y\":1.4,\"yref\":\"y\"}]},\"name\":\"frame19\"},{\"data\":[{\"line\":{\"shape\":\"hvh\"},\"mode\":\"lines+markers\",\"type\":\"scatter\",\"x\":[1,2,3,4,5,6,7,8,9,10,11,12,13,14,15,16,17,18,19,20],\"y\":[-0.5,0.5,1.0,1.0,1.0,-0.5,0.5,-0.5,-1.0,0.5,-0.5,0.5,-0.5,0.5,0.5,1.0,-0.5,0.5,1.0,1.0]}],\"layout\":{\"annotations\":[{\"font\":{\"color\":\"blue\"},\"text\":\"4W3M: AY,JL,MV,CS,EL,NK,JG\",\"x\":20,\"xref\":\"x\",\"y\":1.0,\"yref\":\"y\"},{\"font\":{\"color\":\"orange\",\"size\":18},\"showarrow\":false,\"text\":\"FucZH 13-7 FSL (Quarters)\",\"x\":0.5,\"xref\":\"paper\",\"y\":1.4,\"yref\":\"y\"},{\"showarrow\":false,\"text\":\"Completed Passes: 12,Turns: 3\",\"x\":18,\"xref\":\"x\",\"y\":1.3,\"yref\":\"y\"},{\"showarrow\":false,\"text\":\"Assist: SG, Goal:EL\",\"x\":18,\"xref\":\"x\",\"y\":1.4,\"yref\":\"y\"}]},\"name\":\"frame20\"}]);\n",
       "                        }).then(function(){\n",
       "                            \n",
       "var gd = document.getElementById('3693d1d1-4e8e-4c88-bad9-f0d7ca94248c');\n",
       "var x = new MutationObserver(function (mutations, observer) {{\n",
       "        var display = window.getComputedStyle(gd).display;\n",
       "        if (!display || display === 'none') {{\n",
       "            console.log([gd, 'removed!']);\n",
       "            Plotly.purge(gd);\n",
       "            observer.disconnect();\n",
       "        }}\n",
       "}});\n",
       "\n",
       "// Listen for the removal of the full notebook cells\n",
       "var notebookContainer = gd.closest('#notebook-container');\n",
       "if (notebookContainer) {{\n",
       "    x.observe(notebookContainer, {childList: true});\n",
       "}}\n",
       "\n",
       "// Listen for the clearing of the current output cell\n",
       "var outputEl = gd.closest('.output');\n",
       "if (outputEl) {{\n",
       "    x.observe(outputEl, {childList: true});\n",
       "}}\n",
       "\n",
       "                        })                };                });            </script>        </div>"
      ]
     },
     "metadata": {},
     "output_type": "display_data"
    }
   ],
   "source": [
    "fig=game_flow_fig(df,'FSL (Quarters)',slidew,slideh)\n",
    "fig.show()"
   ]
  },
  {
   "cell_type": "code",
   "execution_count": 240,
   "metadata": {
    "scrolled": false,
    "slideshow": {
     "slide_type": "fragment"
    },
    "tags": [
     "to_remove"
    ]
   },
   "outputs": [
    {
     "data": {
      "application/vnd.plotly.v1+json": {
       "config": {
        "plotlyServerURL": "https://plotly.com"
       },
       "data": [
        {
         "mode": "lines+markers",
         "type": "scatter",
         "x": [
          0
         ],
         "y": [
          0
         ]
        }
       ],
       "frames": [
        {
         "data": [
          {
           "line": {
            "shape": "hv"
           },
           "mode": "lines+markers",
           "type": "scatter",
           "x": [
            0
           ],
           "y": [
            0
           ]
          }
         ],
         "name": "frame0"
        },
        {
         "data": [
          {
           "line": {
            "shape": "hvh"
           },
           "mode": "lines+markers",
           "type": "scatter",
           "x": [
            1
           ],
           "y": [
            -0.5
           ]
          }
         ],
         "layout": {
          "annotations": [
           {
            "font": {
             "color": "blue"
            },
            "text": "4M3W: JL,MV,CC,LB,JS,JV,SG",
            "x": 1,
            "xref": "x",
            "y": -0.5,
            "yref": "y"
           },
           {
            "font": {
             "color": "orange",
             "size": 18
            },
            "showarrow": false,
            "text": "FucZH 0-1 FSL",
            "x": 0.5,
            "xref": "paper",
            "y": 1.4,
            "yref": "y"
           },
           {
            "showarrow": false,
            "text": "Completed Passes: 0,Turns: 0",
            "x": 12,
            "xref": "x",
            "y": 1.3,
            "yref": "y"
           }
          ]
         },
         "name": "frame1"
        },
        {
         "data": [
          {
           "line": {
            "shape": "hvh"
           },
           "mode": "lines+markers",
           "type": "scatter",
           "x": [
            1,
            2
           ],
           "y": [
            -0.5,
            0.5
           ]
          }
         ],
         "layout": {
          "annotations": [
           {
            "font": {
             "color": "blue"
            },
            "text": "4M3W: AY,FS,SB,AL,SH,EL,GA",
            "x": 2,
            "xref": "x",
            "y": 0.5,
            "yref": "y"
           },
           {
            "font": {
             "color": "orange",
             "size": 18
            },
            "showarrow": false,
            "text": "FucZH 1-1 FSL",
            "x": 0.5,
            "xref": "paper",
            "y": 1.4,
            "yref": "y"
           },
           {
            "showarrow": false,
            "text": "Completed Passes: 4,Turns: 0",
            "x": 12,
            "xref": "x",
            "y": 1.3,
            "yref": "y"
           },
           {
            "showarrow": false,
            "text": "Assist: SB, Goal:AL",
            "x": 12,
            "xref": "x",
            "y": 1.4,
            "yref": "y"
           }
          ]
         },
         "name": "frame2"
        },
        {
         "data": [
          {
           "line": {
            "shape": "hvh"
           },
           "mode": "lines+markers",
           "type": "scatter",
           "x": [
            1,
            2,
            3
           ],
           "y": [
            -0.5,
            0.5,
            1
           ]
          }
         ],
         "layout": {
          "annotations": [
           {
            "font": {
             "color": "blue"
            },
            "text": "4M3W: JL,MV,CS,CC,JS,JV,SG",
            "x": 3,
            "xref": "x",
            "y": 1,
            "yref": "y"
           },
           {
            "font": {
             "color": "orange",
             "size": 18
            },
            "showarrow": false,
            "text": "FucZH 2-1 FSL",
            "x": 0.5,
            "xref": "paper",
            "y": 1.4,
            "yref": "y"
           },
           {
            "showarrow": false,
            "text": "Completed Passes: 0,Turns: 1",
            "x": 12,
            "xref": "x",
            "y": 1.3,
            "yref": "y"
           },
           {
            "showarrow": false,
            "text": "Assist: JS, Goal:JV",
            "x": 12,
            "xref": "x",
            "y": 1.4,
            "yref": "y"
           }
          ]
         },
         "name": "frame3"
        },
        {
         "data": [
          {
           "line": {
            "shape": "hvh"
           },
           "mode": "lines+markers",
           "type": "scatter",
           "x": [
            1,
            2,
            3,
            4
           ],
           "y": [
            -0.5,
            0.5,
            1,
            -0.5
           ]
          }
         ],
         "layout": {
          "annotations": [
           {
            "font": {
             "color": "blue"
            },
            "text": "4M3W: MV,AL,LB,EL,JV,JS,SG",
            "x": 4,
            "xref": "x",
            "y": -0.5,
            "yref": "y"
           },
           {
            "font": {
             "color": "orange",
             "size": 18
            },
            "showarrow": false,
            "text": "FucZH 2-2 FSL",
            "x": 0.5,
            "xref": "paper",
            "y": 1.4,
            "yref": "y"
           },
           {
            "showarrow": false,
            "text": "Completed Passes: 0,Turns: 0",
            "x": 12,
            "xref": "x",
            "y": 1.3,
            "yref": "y"
           }
          ]
         },
         "name": "frame4"
        },
        {
         "data": [
          {
           "line": {
            "shape": "hvh"
           },
           "mode": "lines+markers",
           "type": "scatter",
           "x": [
            1,
            2,
            3,
            4,
            5
           ],
           "y": [
            -0.5,
            0.5,
            1,
            -0.5,
            0.5
           ]
          }
         ],
         "layout": {
          "annotations": [
           {
            "font": {
             "color": "blue"
            },
            "text": "4M3W: MV,CC,SH,LB,JV,JS,SG",
            "x": 5,
            "xref": "x",
            "y": 0.5,
            "yref": "y"
           },
           {
            "font": {
             "color": "orange",
             "size": 18
            },
            "showarrow": false,
            "text": "FucZH 3-2 FSL",
            "x": 0.5,
            "xref": "paper",
            "y": 1.4,
            "yref": "y"
           },
           {
            "showarrow": false,
            "text": "Completed Passes: 0,Turns: 0",
            "x": 12,
            "xref": "x",
            "y": 1.3,
            "yref": "y"
           },
           {
            "showarrow": false,
            "text": "Assist: SH, Goal:Anonymous",
            "x": 12,
            "xref": "x",
            "y": 1.4,
            "yref": "y"
           }
          ]
         },
         "name": "frame5"
        },
        {
         "data": [
          {
           "line": {
            "shape": "hvh"
           },
           "mode": "lines+markers",
           "type": "scatter",
           "x": [
            1,
            2,
            3,
            4,
            5,
            6
           ],
           "y": [
            -0.5,
            0.5,
            1,
            -0.5,
            0.5,
            1
           ]
          }
         ],
         "layout": {
          "annotations": [
           {
            "font": {
             "color": "blue"
            },
            "text": "4M3W: JL,MV,SH,LB,JV,JS,SG",
            "x": 6,
            "xref": "x",
            "y": 1,
            "yref": "y"
           },
           {
            "font": {
             "color": "orange",
             "size": 18
            },
            "showarrow": false,
            "text": "FucZH 4-2 FSL",
            "x": 0.5,
            "xref": "paper",
            "y": 1.4,
            "yref": "y"
           },
           {
            "showarrow": false,
            "text": "Completed Passes: 1,Turns: 1",
            "x": 12,
            "xref": "x",
            "y": 1.3,
            "yref": "y"
           },
           {
            "showarrow": false,
            "text": "Assist: MV, Goal:JV",
            "x": 12,
            "xref": "x",
            "y": 1.4,
            "yref": "y"
           }
          ]
         },
         "name": "frame6"
        },
        {
         "data": [
          {
           "line": {
            "shape": "hvh"
           },
           "mode": "lines+markers",
           "type": "scatter",
           "x": [
            1,
            2,
            3,
            4,
            5,
            6,
            7
           ],
           "y": [
            -0.5,
            0.5,
            1,
            -0.5,
            0.5,
            1,
            1
           ]
          }
         ],
         "layout": {
          "annotations": [
           {
            "font": {
             "color": "blue"
            },
            "text": "4M3W: JL,MV,CS,EL,JS,JV,SG",
            "x": 7,
            "xref": "x",
            "y": 1,
            "yref": "y"
           },
           {
            "font": {
             "color": "orange",
             "size": 18
            },
            "showarrow": false,
            "text": "FucZH 5-2 FSL",
            "x": 0.5,
            "xref": "paper",
            "y": 1.4,
            "yref": "y"
           },
           {
            "showarrow": false,
            "text": "Completed Passes: 4,Turns: 1",
            "x": 12,
            "xref": "x",
            "y": 1.3,
            "yref": "y"
           },
           {
            "showarrow": false,
            "text": "Assist: SG, Goal:JL",
            "x": 12,
            "xref": "x",
            "y": 1.4,
            "yref": "y"
           }
          ]
         },
         "name": "frame7"
        },
        {
         "data": [
          {
           "line": {
            "shape": "hvh"
           },
           "mode": "lines+markers",
           "type": "scatter",
           "x": [
            1,
            2,
            3,
            4,
            5,
            6,
            7,
            8
           ],
           "y": [
            -0.5,
            0.5,
            1,
            -0.5,
            0.5,
            1,
            1,
            -0.5
           ]
          }
         ],
         "layout": {
          "annotations": [
           {
            "font": {
             "color": "blue"
            },
            "text": "4M3W: SB,AL,CS,CC,SH,LB,SG",
            "x": 8,
            "xref": "x",
            "y": -0.5,
            "yref": "y"
           },
           {
            "font": {
             "color": "orange",
             "size": 18
            },
            "showarrow": false,
            "text": "FucZH 5-3 FSL",
            "x": 0.5,
            "xref": "paper",
            "y": 1.4,
            "yref": "y"
           },
           {
            "showarrow": false,
            "text": "Completed Passes: 0,Turns: 2",
            "x": 12,
            "xref": "x",
            "y": 1.3,
            "yref": "y"
           }
          ]
         },
         "name": "frame8"
        },
        {
         "data": [
          {
           "line": {
            "shape": "hvh"
           },
           "mode": "lines+markers",
           "type": "scatter",
           "x": [
            1,
            2,
            3,
            4,
            5,
            6,
            7,
            8,
            9
           ],
           "y": [
            -0.5,
            0.5,
            1,
            -0.5,
            0.5,
            1,
            1,
            -0.5,
            -1
           ]
          }
         ],
         "layout": {
          "annotations": [
           {
            "font": {
             "color": "blue"
            },
            "text": "4M3W: JL,FS,AY,MV,SH,EL,GA",
            "x": 9,
            "xref": "x",
            "y": -1,
            "yref": "y"
           },
           {
            "font": {
             "color": "orange",
             "size": 18
            },
            "showarrow": false,
            "text": "FucZH 5-4 FSL",
            "x": 0.5,
            "xref": "paper",
            "y": 1.4,
            "yref": "y"
           },
           {
            "showarrow": false,
            "text": "Completed Passes: 1,Turns: 1",
            "x": 12,
            "xref": "x",
            "y": 1.3,
            "yref": "y"
           }
          ]
         },
         "name": "frame9"
        },
        {
         "data": [
          {
           "line": {
            "shape": "hvh"
           },
           "mode": "lines+markers",
           "type": "scatter",
           "x": [
            1,
            2,
            3,
            4,
            5,
            6,
            7,
            8,
            9,
            10
           ],
           "y": [
            -0.5,
            0.5,
            1,
            -0.5,
            0.5,
            1,
            1,
            -0.5,
            -1,
            0.5
           ]
          }
         ],
         "layout": {
          "annotations": [
           {
            "font": {
             "color": "blue"
            },
            "text": "4M3W: AY,SB,FS,AL,CS,SH,GA",
            "x": 10,
            "xref": "x",
            "y": 0.5,
            "yref": "y"
           },
           {
            "font": {
             "color": "orange",
             "size": 18
            },
            "showarrow": false,
            "text": "FucZH 6-4 FSL",
            "x": 0.5,
            "xref": "paper",
            "y": 1.4,
            "yref": "y"
           },
           {
            "showarrow": false,
            "text": "Completed Passes: 5,Turns: 2",
            "x": 12,
            "xref": "x",
            "y": 1.3,
            "yref": "y"
           },
           {
            "showarrow": false,
            "text": "Assist: FS, Goal:AL",
            "x": 12,
            "xref": "x",
            "y": 1.4,
            "yref": "y"
           }
          ]
         },
         "name": "frame10"
        },
        {
         "data": [
          {
           "line": {
            "shape": "hvh"
           },
           "mode": "lines+markers",
           "type": "scatter",
           "x": [
            1,
            2,
            3,
            4,
            5,
            6,
            7,
            8,
            9,
            10,
            11
           ],
           "y": [
            -0.5,
            0.5,
            1,
            -0.5,
            0.5,
            1,
            1,
            -0.5,
            -1,
            0.5,
            -0.5
           ]
          }
         ],
         "layout": {
          "annotations": [
           {
            "font": {
             "color": "blue"
            },
            "text": "4M3W: MV,CC,SH,EL,JS,JV,SG",
            "x": 11,
            "xref": "x",
            "y": -0.5,
            "yref": "y"
           },
           {
            "font": {
             "color": "orange",
             "size": 18
            },
            "showarrow": false,
            "text": "FucZH 6-5 FSL",
            "x": 0.5,
            "xref": "paper",
            "y": 1.4,
            "yref": "y"
           },
           {
            "showarrow": false,
            "text": "Completed Passes: 0,Turns: 2",
            "x": 12,
            "xref": "x",
            "y": 1.3,
            "yref": "y"
           }
          ]
         },
         "name": "frame11"
        },
        {
         "data": [
          {
           "line": {
            "shape": "hvh"
           },
           "mode": "lines+markers",
           "type": "scatter",
           "x": [
            1,
            2,
            3,
            4,
            5,
            6,
            7,
            8,
            9,
            10,
            11,
            12
           ],
           "y": [
            -0.5,
            0.5,
            1,
            -0.5,
            0.5,
            1,
            1,
            -0.5,
            -1,
            0.5,
            -0.5,
            0.5
           ]
          }
         ],
         "layout": {
          "annotations": [
           {
            "font": {
             "color": "blue"
            },
            "text": "4M3W: AY,SB,JL,FS,SH,LB,GA",
            "x": 12,
            "xref": "x",
            "y": 0.5,
            "yref": "y"
           },
           {
            "font": {
             "color": "orange",
             "size": 18
            },
            "showarrow": false,
            "text": "FucZH 7-5 FSL",
            "x": 0.5,
            "xref": "paper",
            "y": 1.4,
            "yref": "y"
           },
           {
            "showarrow": false,
            "text": "Completed Passes: 8,Turns: 2",
            "x": 12,
            "xref": "x",
            "y": 1.3,
            "yref": "y"
           },
           {
            "showarrow": false,
            "text": "Assist: FS, Goal:Anonymous",
            "x": 12,
            "xref": "x",
            "y": 1.4,
            "yref": "y"
           }
          ]
         },
         "name": "frame12"
        },
        {
         "data": [
          {
           "line": {
            "shape": "hvh"
           },
           "mode": "lines+markers",
           "type": "scatter",
           "x": [
            1,
            2,
            3,
            4,
            5,
            6,
            7,
            8,
            9,
            10,
            11,
            12,
            13
           ],
           "y": [
            -0.5,
            0.5,
            1,
            -0.5,
            0.5,
            1,
            1,
            -0.5,
            -1,
            0.5,
            -0.5,
            0.5,
            1
           ]
          }
         ],
         "layout": {
          "annotations": [
           {
            "font": {
             "color": "blue"
            },
            "text": "4M3W: MV,AL,CC,EL,JV,JS,SG",
            "x": 13,
            "xref": "x",
            "y": 1,
            "yref": "y"
           },
           {
            "font": {
             "color": "orange",
             "size": 18
            },
            "showarrow": false,
            "text": "FucZH 8-5 FSL",
            "x": 0.5,
            "xref": "paper",
            "y": 1.4,
            "yref": "y"
           },
           {
            "showarrow": false,
            "text": "Completed Passes: 4,Turns: 1",
            "x": 12,
            "xref": "x",
            "y": 1.3,
            "yref": "y"
           },
           {
            "showarrow": false,
            "text": "Assist: MV, Goal:JV",
            "x": 12,
            "xref": "x",
            "y": 1.4,
            "yref": "y"
           }
          ]
         },
         "name": "frame13"
        },
        {
         "data": [
          {
           "line": {
            "shape": "hvh"
           },
           "mode": "lines+markers",
           "type": "scatter",
           "x": [
            1,
            2,
            3,
            4,
            5,
            6,
            7,
            8,
            9,
            10,
            11,
            12,
            13,
            14
           ],
           "y": [
            -0.5,
            0.5,
            1,
            -0.5,
            0.5,
            1,
            1,
            -0.5,
            -1,
            0.5,
            -0.5,
            0.5,
            1,
            -0.5
           ]
          }
         ],
         "layout": {
          "annotations": [
           {
            "font": {
             "color": "blue"
            },
            "text": "4M3W: SB,JL,EL,JS,JV,SG,GA",
            "x": 14,
            "xref": "x",
            "y": -0.5,
            "yref": "y"
           },
           {
            "font": {
             "color": "orange",
             "size": 18
            },
            "showarrow": false,
            "text": "FucZH 8-6 FSL",
            "x": 0.5,
            "xref": "paper",
            "y": 1.4,
            "yref": "y"
           },
           {
            "showarrow": false,
            "text": "Completed Passes: 4,Turns: 2",
            "x": 12,
            "xref": "x",
            "y": 1.3,
            "yref": "y"
           }
          ]
         },
         "name": "frame14"
        }
       ],
       "layout": {
        "height": 600,
        "hovermode": "closest",
        "images": [
         {
          "sizex": 0.2,
          "sizey": 0.2,
          "source": "https://raw.githubusercontent.com/elastufka/presentations/master/images/ZU_logo1.png",
          "x": 0,
          "xanchor": "right",
          "xref": "paper",
          "y": 1.05,
          "yanchor": "bottom",
          "yref": "paper"
         }
        ],
        "sliders": [
         {
          "active": 0,
          "currentvalue": {
           "font": {
            "size": 14
           },
           "prefix": "Point:",
           "visible": true,
           "xanchor": "right"
          },
          "len": 0.9,
          "pad": {
           "b": 10,
           "t": 10
          },
          "steps": [
           {
            "args": [
             [
              "frame1"
             ],
             {
              "frame": {
               "duration": 300,
               "redraw": false
              },
              "mode": "immediate",
              "transition": {
               "duration": 300
              }
             }
            ],
            "label": "1",
            "method": "animate"
           },
           {
            "args": [
             [
              "frame2"
             ],
             {
              "frame": {
               "duration": 300,
               "redraw": false
              },
              "mode": "immediate",
              "transition": {
               "duration": 300
              }
             }
            ],
            "label": "2",
            "method": "animate"
           },
           {
            "args": [
             [
              "frame3"
             ],
             {
              "frame": {
               "duration": 300,
               "redraw": false
              },
              "mode": "immediate",
              "transition": {
               "duration": 300
              }
             }
            ],
            "label": "3",
            "method": "animate"
           },
           {
            "args": [
             [
              "frame4"
             ],
             {
              "frame": {
               "duration": 300,
               "redraw": false
              },
              "mode": "immediate",
              "transition": {
               "duration": 300
              }
             }
            ],
            "label": "4",
            "method": "animate"
           },
           {
            "args": [
             [
              "frame5"
             ],
             {
              "frame": {
               "duration": 300,
               "redraw": false
              },
              "mode": "immediate",
              "transition": {
               "duration": 300
              }
             }
            ],
            "label": "5",
            "method": "animate"
           },
           {
            "args": [
             [
              "frame6"
             ],
             {
              "frame": {
               "duration": 300,
               "redraw": false
              },
              "mode": "immediate",
              "transition": {
               "duration": 300
              }
             }
            ],
            "label": "6",
            "method": "animate"
           },
           {
            "args": [
             [
              "frame7"
             ],
             {
              "frame": {
               "duration": 300,
               "redraw": false
              },
              "mode": "immediate",
              "transition": {
               "duration": 300
              }
             }
            ],
            "label": "7",
            "method": "animate"
           },
           {
            "args": [
             [
              "frame8"
             ],
             {
              "frame": {
               "duration": 300,
               "redraw": false
              },
              "mode": "immediate",
              "transition": {
               "duration": 300
              }
             }
            ],
            "label": "8",
            "method": "animate"
           },
           {
            "args": [
             [
              "frame9"
             ],
             {
              "frame": {
               "duration": 300,
               "redraw": false
              },
              "mode": "immediate",
              "transition": {
               "duration": 300
              }
             }
            ],
            "label": "9",
            "method": "animate"
           },
           {
            "args": [
             [
              "frame10"
             ],
             {
              "frame": {
               "duration": 300,
               "redraw": false
              },
              "mode": "immediate",
              "transition": {
               "duration": 300
              }
             }
            ],
            "label": "10",
            "method": "animate"
           },
           {
            "args": [
             [
              "frame11"
             ],
             {
              "frame": {
               "duration": 300,
               "redraw": false
              },
              "mode": "immediate",
              "transition": {
               "duration": 300
              }
             }
            ],
            "label": "11",
            "method": "animate"
           },
           {
            "args": [
             [
              "frame12"
             ],
             {
              "frame": {
               "duration": 300,
               "redraw": false
              },
              "mode": "immediate",
              "transition": {
               "duration": 300
              }
             }
            ],
            "label": "12",
            "method": "animate"
           },
           {
            "args": [
             [
              "frame13"
             ],
             {
              "frame": {
               "duration": 300,
               "redraw": false
              },
              "mode": "immediate",
              "transition": {
               "duration": 300
              }
             }
            ],
            "label": "13",
            "method": "animate"
           },
           {
            "args": [
             [
              "frame14"
             ],
             {
              "frame": {
               "duration": 300,
               "redraw": false
              },
              "mode": "immediate",
              "transition": {
               "duration": 300
              }
             }
            ],
            "label": "14",
            "method": "animate"
           }
          ],
          "transition": {
           "duration": 300,
           "easing": "cubic-in-out"
          },
          "x": 1,
          "xanchor": "right",
          "y": -0.4,
          "yanchor": "bottom"
         }
        ],
        "template": {
         "layout": {
          "colorway": [
           "#000000",
           "#784F17",
           "#FF0018",
           "#FFA52C",
           "#FFFF41",
           "#008018",
           "#0000F9",
           "#86007D"
          ],
          "plot_bgcolor": "lightgrey"
         }
        },
        "title": {
         "text": "Game Flow"
        },
        "updatemenus": [
         {
          "buttons": [
           {
            "args": [
             null,
             {
              "frame": {
               "duration": 500,
               "redraw": false
              },
              "fromcurrent": true,
              "transition": {
               "duration": 300,
               "easing": "quadratic-in-out"
              }
             }
            ],
            "label": "Play",
            "method": "animate"
           },
           {
            "args": [
             [
              null
             ],
             {
              "frame": {
               "duration": 0,
               "redraw": false
              },
              "mode": "immediate",
              "transition": {
               "duration": 0
              }
             }
            ],
            "label": "Pause",
            "method": "animate"
           }
          ],
          "direction": "left",
          "pad": {
           "r": 10,
           "t": 87
          },
          "showactive": false,
          "type": "buttons",
          "x": 0.1,
          "xanchor": "right",
          "y": 0,
          "yanchor": "top"
         }
        ],
        "width": 850,
        "xaxis": {
         "range": [
          0.5,
          15.5
         ],
         "title": {
          "text": "Points"
         }
        },
        "yaxis": {
         "range": [
          -1.1,
          1.5
         ],
         "ticktext": [
          "Their Break",
          "Their Hold",
          "",
          "Our Hold",
          "Our Break"
         ],
         "tickvals": [
          -1,
          -0.5,
          0,
          0.5,
          1
         ],
         "title": {
          "text": "Point Type"
         }
        }
       }
      },
      "text/html": [
       "<div>                            <div id=\"7fbcd64f-b77c-42d5-9c7a-d34592916a46\" class=\"plotly-graph-div\" style=\"height:600px; width:850px;\"></div>            <script type=\"text/javascript\">                require([\"plotly\"], function(Plotly) {                    window.PLOTLYENV=window.PLOTLYENV || {};                                    if (document.getElementById(\"7fbcd64f-b77c-42d5-9c7a-d34592916a46\")) {                    Plotly.newPlot(                        \"7fbcd64f-b77c-42d5-9c7a-d34592916a46\",                        [{\"mode\":\"lines+markers\",\"type\":\"scatter\",\"x\":[0],\"y\":[0]}],                        {\"height\":600,\"hovermode\":\"closest\",\"images\":[{\"sizex\":0.2,\"sizey\":0.2,\"source\":\"https://raw.githubusercontent.com/elastufka/presentations/master/images/ZU_logo1.png\",\"x\":0,\"xanchor\":\"right\",\"xref\":\"paper\",\"y\":1.05,\"yanchor\":\"bottom\",\"yref\":\"paper\"}],\"sliders\":[{\"active\":0,\"currentvalue\":{\"font\":{\"size\":14},\"prefix\":\"Point:\",\"visible\":true,\"xanchor\":\"right\"},\"len\":0.9,\"pad\":{\"b\":10,\"t\":10},\"steps\":[{\"args\":[[\"frame1\"],{\"frame\":{\"duration\":300,\"redraw\":false},\"mode\":\"immediate\",\"transition\":{\"duration\":300}}],\"label\":\"1\",\"method\":\"animate\"},{\"args\":[[\"frame2\"],{\"frame\":{\"duration\":300,\"redraw\":false},\"mode\":\"immediate\",\"transition\":{\"duration\":300}}],\"label\":\"2\",\"method\":\"animate\"},{\"args\":[[\"frame3\"],{\"frame\":{\"duration\":300,\"redraw\":false},\"mode\":\"immediate\",\"transition\":{\"duration\":300}}],\"label\":\"3\",\"method\":\"animate\"},{\"args\":[[\"frame4\"],{\"frame\":{\"duration\":300,\"redraw\":false},\"mode\":\"immediate\",\"transition\":{\"duration\":300}}],\"label\":\"4\",\"method\":\"animate\"},{\"args\":[[\"frame5\"],{\"frame\":{\"duration\":300,\"redraw\":false},\"mode\":\"immediate\",\"transition\":{\"duration\":300}}],\"label\":\"5\",\"method\":\"animate\"},{\"args\":[[\"frame6\"],{\"frame\":{\"duration\":300,\"redraw\":false},\"mode\":\"immediate\",\"transition\":{\"duration\":300}}],\"label\":\"6\",\"method\":\"animate\"},{\"args\":[[\"frame7\"],{\"frame\":{\"duration\":300,\"redraw\":false},\"mode\":\"immediate\",\"transition\":{\"duration\":300}}],\"label\":\"7\",\"method\":\"animate\"},{\"args\":[[\"frame8\"],{\"frame\":{\"duration\":300,\"redraw\":false},\"mode\":\"immediate\",\"transition\":{\"duration\":300}}],\"label\":\"8\",\"method\":\"animate\"},{\"args\":[[\"frame9\"],{\"frame\":{\"duration\":300,\"redraw\":false},\"mode\":\"immediate\",\"transition\":{\"duration\":300}}],\"label\":\"9\",\"method\":\"animate\"},{\"args\":[[\"frame10\"],{\"frame\":{\"duration\":300,\"redraw\":false},\"mode\":\"immediate\",\"transition\":{\"duration\":300}}],\"label\":\"10\",\"method\":\"animate\"},{\"args\":[[\"frame11\"],{\"frame\":{\"duration\":300,\"redraw\":false},\"mode\":\"immediate\",\"transition\":{\"duration\":300}}],\"label\":\"11\",\"method\":\"animate\"},{\"args\":[[\"frame12\"],{\"frame\":{\"duration\":300,\"redraw\":false},\"mode\":\"immediate\",\"transition\":{\"duration\":300}}],\"label\":\"12\",\"method\":\"animate\"},{\"args\":[[\"frame13\"],{\"frame\":{\"duration\":300,\"redraw\":false},\"mode\":\"immediate\",\"transition\":{\"duration\":300}}],\"label\":\"13\",\"method\":\"animate\"},{\"args\":[[\"frame14\"],{\"frame\":{\"duration\":300,\"redraw\":false},\"mode\":\"immediate\",\"transition\":{\"duration\":300}}],\"label\":\"14\",\"method\":\"animate\"}],\"transition\":{\"duration\":300,\"easing\":\"cubic-in-out\"},\"x\":1,\"xanchor\":\"right\",\"y\":-0.4,\"yanchor\":\"bottom\"}],\"template\":{\"layout\":{\"colorway\":[\"#000000\",\"#784F17\",\"#FF0018\",\"#FFA52C\",\"#FFFF41\",\"#008018\",\"#0000F9\",\"#86007D\"],\"plot_bgcolor\":\"lightgrey\"}},\"title\":{\"text\":\"Game Flow\"},\"updatemenus\":[{\"buttons\":[{\"args\":[null,{\"frame\":{\"duration\":500,\"redraw\":false},\"fromcurrent\":true,\"transition\":{\"duration\":300,\"easing\":\"quadratic-in-out\"}}],\"label\":\"Play\",\"method\":\"animate\"},{\"args\":[[null],{\"frame\":{\"duration\":0,\"redraw\":false},\"mode\":\"immediate\",\"transition\":{\"duration\":0}}],\"label\":\"Pause\",\"method\":\"animate\"}],\"direction\":\"left\",\"pad\":{\"r\":10,\"t\":87},\"showactive\":false,\"type\":\"buttons\",\"x\":0.1,\"xanchor\":\"right\",\"y\":0,\"yanchor\":\"top\"}],\"width\":850,\"xaxis\":{\"range\":[0.5,15.5],\"title\":{\"text\":\"Points\"}},\"yaxis\":{\"range\":[-1.1,1.5],\"ticktext\":[\"Their Break\",\"Their Hold\",\"\",\"Our Hold\",\"Our Break\"],\"tickvals\":[-1,-0.5,0,0.5,1],\"title\":{\"text\":\"Point Type\"}}},                        {\"responsive\": true}                    ).then(function(){\n",
       "                            Plotly.addFrames('7fbcd64f-b77c-42d5-9c7a-d34592916a46', [{\"data\":[{\"line\":{\"shape\":\"hv\"},\"mode\":\"lines+markers\",\"type\":\"scatter\",\"x\":[0],\"y\":[0]}],\"name\":\"frame0\"},{\"data\":[{\"line\":{\"shape\":\"hvh\"},\"mode\":\"lines+markers\",\"type\":\"scatter\",\"x\":[1],\"y\":[-0.5]}],\"layout\":{\"annotations\":[{\"font\":{\"color\":\"blue\"},\"text\":\"4M3W: JL,MV,CC,LB,JS,JV,SG\",\"x\":1,\"xref\":\"x\",\"y\":-0.5,\"yref\":\"y\"},{\"font\":{\"color\":\"orange\",\"size\":18},\"showarrow\":false,\"text\":\"FucZH 0-1 FSL\",\"x\":0.5,\"xref\":\"paper\",\"y\":1.4,\"yref\":\"y\"},{\"showarrow\":false,\"text\":\"Completed Passes: 0,Turns: 0\",\"x\":12,\"xref\":\"x\",\"y\":1.3,\"yref\":\"y\"}]},\"name\":\"frame1\"},{\"data\":[{\"line\":{\"shape\":\"hvh\"},\"mode\":\"lines+markers\",\"type\":\"scatter\",\"x\":[1,2],\"y\":[-0.5,0.5]}],\"layout\":{\"annotations\":[{\"font\":{\"color\":\"blue\"},\"text\":\"4M3W: AY,FS,SB,AL,SH,EL,GA\",\"x\":2,\"xref\":\"x\",\"y\":0.5,\"yref\":\"y\"},{\"font\":{\"color\":\"orange\",\"size\":18},\"showarrow\":false,\"text\":\"FucZH 1-1 FSL\",\"x\":0.5,\"xref\":\"paper\",\"y\":1.4,\"yref\":\"y\"},{\"showarrow\":false,\"text\":\"Completed Passes: 4,Turns: 0\",\"x\":12,\"xref\":\"x\",\"y\":1.3,\"yref\":\"y\"},{\"showarrow\":false,\"text\":\"Assist: SB, Goal:AL\",\"x\":12,\"xref\":\"x\",\"y\":1.4,\"yref\":\"y\"}]},\"name\":\"frame2\"},{\"data\":[{\"line\":{\"shape\":\"hvh\"},\"mode\":\"lines+markers\",\"type\":\"scatter\",\"x\":[1,2,3],\"y\":[-0.5,0.5,1.0]}],\"layout\":{\"annotations\":[{\"font\":{\"color\":\"blue\"},\"text\":\"4M3W: JL,MV,CS,CC,JS,JV,SG\",\"x\":3,\"xref\":\"x\",\"y\":1.0,\"yref\":\"y\"},{\"font\":{\"color\":\"orange\",\"size\":18},\"showarrow\":false,\"text\":\"FucZH 2-1 FSL\",\"x\":0.5,\"xref\":\"paper\",\"y\":1.4,\"yref\":\"y\"},{\"showarrow\":false,\"text\":\"Completed Passes: 0,Turns: 1\",\"x\":12,\"xref\":\"x\",\"y\":1.3,\"yref\":\"y\"},{\"showarrow\":false,\"text\":\"Assist: JS, Goal:JV\",\"x\":12,\"xref\":\"x\",\"y\":1.4,\"yref\":\"y\"}]},\"name\":\"frame3\"},{\"data\":[{\"line\":{\"shape\":\"hvh\"},\"mode\":\"lines+markers\",\"type\":\"scatter\",\"x\":[1,2,3,4],\"y\":[-0.5,0.5,1.0,-0.5]}],\"layout\":{\"annotations\":[{\"font\":{\"color\":\"blue\"},\"text\":\"4M3W: MV,AL,LB,EL,JV,JS,SG\",\"x\":4,\"xref\":\"x\",\"y\":-0.5,\"yref\":\"y\"},{\"font\":{\"color\":\"orange\",\"size\":18},\"showarrow\":false,\"text\":\"FucZH 2-2 FSL\",\"x\":0.5,\"xref\":\"paper\",\"y\":1.4,\"yref\":\"y\"},{\"showarrow\":false,\"text\":\"Completed Passes: 0,Turns: 0\",\"x\":12,\"xref\":\"x\",\"y\":1.3,\"yref\":\"y\"}]},\"name\":\"frame4\"},{\"data\":[{\"line\":{\"shape\":\"hvh\"},\"mode\":\"lines+markers\",\"type\":\"scatter\",\"x\":[1,2,3,4,5],\"y\":[-0.5,0.5,1.0,-0.5,0.5]}],\"layout\":{\"annotations\":[{\"font\":{\"color\":\"blue\"},\"text\":\"4M3W: MV,CC,SH,LB,JV,JS,SG\",\"x\":5,\"xref\":\"x\",\"y\":0.5,\"yref\":\"y\"},{\"font\":{\"color\":\"orange\",\"size\":18},\"showarrow\":false,\"text\":\"FucZH 3-2 FSL\",\"x\":0.5,\"xref\":\"paper\",\"y\":1.4,\"yref\":\"y\"},{\"showarrow\":false,\"text\":\"Completed Passes: 0,Turns: 0\",\"x\":12,\"xref\":\"x\",\"y\":1.3,\"yref\":\"y\"},{\"showarrow\":false,\"text\":\"Assist: SH, Goal:Anonymous\",\"x\":12,\"xref\":\"x\",\"y\":1.4,\"yref\":\"y\"}]},\"name\":\"frame5\"},{\"data\":[{\"line\":{\"shape\":\"hvh\"},\"mode\":\"lines+markers\",\"type\":\"scatter\",\"x\":[1,2,3,4,5,6],\"y\":[-0.5,0.5,1.0,-0.5,0.5,1.0]}],\"layout\":{\"annotations\":[{\"font\":{\"color\":\"blue\"},\"text\":\"4M3W: JL,MV,SH,LB,JV,JS,SG\",\"x\":6,\"xref\":\"x\",\"y\":1.0,\"yref\":\"y\"},{\"font\":{\"color\":\"orange\",\"size\":18},\"showarrow\":false,\"text\":\"FucZH 4-2 FSL\",\"x\":0.5,\"xref\":\"paper\",\"y\":1.4,\"yref\":\"y\"},{\"showarrow\":false,\"text\":\"Completed Passes: 1,Turns: 1\",\"x\":12,\"xref\":\"x\",\"y\":1.3,\"yref\":\"y\"},{\"showarrow\":false,\"text\":\"Assist: MV, Goal:JV\",\"x\":12,\"xref\":\"x\",\"y\":1.4,\"yref\":\"y\"}]},\"name\":\"frame6\"},{\"data\":[{\"line\":{\"shape\":\"hvh\"},\"mode\":\"lines+markers\",\"type\":\"scatter\",\"x\":[1,2,3,4,5,6,7],\"y\":[-0.5,0.5,1.0,-0.5,0.5,1.0,1.0]}],\"layout\":{\"annotations\":[{\"font\":{\"color\":\"blue\"},\"text\":\"4M3W: JL,MV,CS,EL,JS,JV,SG\",\"x\":7,\"xref\":\"x\",\"y\":1.0,\"yref\":\"y\"},{\"font\":{\"color\":\"orange\",\"size\":18},\"showarrow\":false,\"text\":\"FucZH 5-2 FSL\",\"x\":0.5,\"xref\":\"paper\",\"y\":1.4,\"yref\":\"y\"},{\"showarrow\":false,\"text\":\"Completed Passes: 4,Turns: 1\",\"x\":12,\"xref\":\"x\",\"y\":1.3,\"yref\":\"y\"},{\"showarrow\":false,\"text\":\"Assist: SG, Goal:JL\",\"x\":12,\"xref\":\"x\",\"y\":1.4,\"yref\":\"y\"}]},\"name\":\"frame7\"},{\"data\":[{\"line\":{\"shape\":\"hvh\"},\"mode\":\"lines+markers\",\"type\":\"scatter\",\"x\":[1,2,3,4,5,6,7,8],\"y\":[-0.5,0.5,1.0,-0.5,0.5,1.0,1.0,-0.5]}],\"layout\":{\"annotations\":[{\"font\":{\"color\":\"blue\"},\"text\":\"4M3W: SB,AL,CS,CC,SH,LB,SG\",\"x\":8,\"xref\":\"x\",\"y\":-0.5,\"yref\":\"y\"},{\"font\":{\"color\":\"orange\",\"size\":18},\"showarrow\":false,\"text\":\"FucZH 5-3 FSL\",\"x\":0.5,\"xref\":\"paper\",\"y\":1.4,\"yref\":\"y\"},{\"showarrow\":false,\"text\":\"Completed Passes: 0,Turns: 2\",\"x\":12,\"xref\":\"x\",\"y\":1.3,\"yref\":\"y\"}]},\"name\":\"frame8\"},{\"data\":[{\"line\":{\"shape\":\"hvh\"},\"mode\":\"lines+markers\",\"type\":\"scatter\",\"x\":[1,2,3,4,5,6,7,8,9],\"y\":[-0.5,0.5,1.0,-0.5,0.5,1.0,1.0,-0.5,-1.0]}],\"layout\":{\"annotations\":[{\"font\":{\"color\":\"blue\"},\"text\":\"4M3W: JL,FS,AY,MV,SH,EL,GA\",\"x\":9,\"xref\":\"x\",\"y\":-1.0,\"yref\":\"y\"},{\"font\":{\"color\":\"orange\",\"size\":18},\"showarrow\":false,\"text\":\"FucZH 5-4 FSL\",\"x\":0.5,\"xref\":\"paper\",\"y\":1.4,\"yref\":\"y\"},{\"showarrow\":false,\"text\":\"Completed Passes: 1,Turns: 1\",\"x\":12,\"xref\":\"x\",\"y\":1.3,\"yref\":\"y\"}]},\"name\":\"frame9\"},{\"data\":[{\"line\":{\"shape\":\"hvh\"},\"mode\":\"lines+markers\",\"type\":\"scatter\",\"x\":[1,2,3,4,5,6,7,8,9,10],\"y\":[-0.5,0.5,1.0,-0.5,0.5,1.0,1.0,-0.5,-1.0,0.5]}],\"layout\":{\"annotations\":[{\"font\":{\"color\":\"blue\"},\"text\":\"4M3W: AY,SB,FS,AL,CS,SH,GA\",\"x\":10,\"xref\":\"x\",\"y\":0.5,\"yref\":\"y\"},{\"font\":{\"color\":\"orange\",\"size\":18},\"showarrow\":false,\"text\":\"FucZH 6-4 FSL\",\"x\":0.5,\"xref\":\"paper\",\"y\":1.4,\"yref\":\"y\"},{\"showarrow\":false,\"text\":\"Completed Passes: 5,Turns: 2\",\"x\":12,\"xref\":\"x\",\"y\":1.3,\"yref\":\"y\"},{\"showarrow\":false,\"text\":\"Assist: FS, Goal:AL\",\"x\":12,\"xref\":\"x\",\"y\":1.4,\"yref\":\"y\"}]},\"name\":\"frame10\"},{\"data\":[{\"line\":{\"shape\":\"hvh\"},\"mode\":\"lines+markers\",\"type\":\"scatter\",\"x\":[1,2,3,4,5,6,7,8,9,10,11],\"y\":[-0.5,0.5,1.0,-0.5,0.5,1.0,1.0,-0.5,-1.0,0.5,-0.5]}],\"layout\":{\"annotations\":[{\"font\":{\"color\":\"blue\"},\"text\":\"4M3W: MV,CC,SH,EL,JS,JV,SG\",\"x\":11,\"xref\":\"x\",\"y\":-0.5,\"yref\":\"y\"},{\"font\":{\"color\":\"orange\",\"size\":18},\"showarrow\":false,\"text\":\"FucZH 6-5 FSL\",\"x\":0.5,\"xref\":\"paper\",\"y\":1.4,\"yref\":\"y\"},{\"showarrow\":false,\"text\":\"Completed Passes: 0,Turns: 2\",\"x\":12,\"xref\":\"x\",\"y\":1.3,\"yref\":\"y\"}]},\"name\":\"frame11\"},{\"data\":[{\"line\":{\"shape\":\"hvh\"},\"mode\":\"lines+markers\",\"type\":\"scatter\",\"x\":[1,2,3,4,5,6,7,8,9,10,11,12],\"y\":[-0.5,0.5,1.0,-0.5,0.5,1.0,1.0,-0.5,-1.0,0.5,-0.5,0.5]}],\"layout\":{\"annotations\":[{\"font\":{\"color\":\"blue\"},\"text\":\"4M3W: AY,SB,JL,FS,SH,LB,GA\",\"x\":12,\"xref\":\"x\",\"y\":0.5,\"yref\":\"y\"},{\"font\":{\"color\":\"orange\",\"size\":18},\"showarrow\":false,\"text\":\"FucZH 7-5 FSL\",\"x\":0.5,\"xref\":\"paper\",\"y\":1.4,\"yref\":\"y\"},{\"showarrow\":false,\"text\":\"Completed Passes: 8,Turns: 2\",\"x\":12,\"xref\":\"x\",\"y\":1.3,\"yref\":\"y\"},{\"showarrow\":false,\"text\":\"Assist: FS, Goal:Anonymous\",\"x\":12,\"xref\":\"x\",\"y\":1.4,\"yref\":\"y\"}]},\"name\":\"frame12\"},{\"data\":[{\"line\":{\"shape\":\"hvh\"},\"mode\":\"lines+markers\",\"type\":\"scatter\",\"x\":[1,2,3,4,5,6,7,8,9,10,11,12,13],\"y\":[-0.5,0.5,1.0,-0.5,0.5,1.0,1.0,-0.5,-1.0,0.5,-0.5,0.5,1.0]}],\"layout\":{\"annotations\":[{\"font\":{\"color\":\"blue\"},\"text\":\"4M3W: MV,AL,CC,EL,JV,JS,SG\",\"x\":13,\"xref\":\"x\",\"y\":1.0,\"yref\":\"y\"},{\"font\":{\"color\":\"orange\",\"size\":18},\"showarrow\":false,\"text\":\"FucZH 8-5 FSL\",\"x\":0.5,\"xref\":\"paper\",\"y\":1.4,\"yref\":\"y\"},{\"showarrow\":false,\"text\":\"Completed Passes: 4,Turns: 1\",\"x\":12,\"xref\":\"x\",\"y\":1.3,\"yref\":\"y\"},{\"showarrow\":false,\"text\":\"Assist: MV, Goal:JV\",\"x\":12,\"xref\":\"x\",\"y\":1.4,\"yref\":\"y\"}]},\"name\":\"frame13\"},{\"data\":[{\"line\":{\"shape\":\"hvh\"},\"mode\":\"lines+markers\",\"type\":\"scatter\",\"x\":[1,2,3,4,5,6,7,8,9,10,11,12,13,14],\"y\":[-0.5,0.5,1.0,-0.5,0.5,1.0,1.0,-0.5,-1.0,0.5,-0.5,0.5,1.0,-0.5]}],\"layout\":{\"annotations\":[{\"font\":{\"color\":\"blue\"},\"text\":\"4M3W: SB,JL,EL,JS,JV,SG,GA\",\"x\":14,\"xref\":\"x\",\"y\":-0.5,\"yref\":\"y\"},{\"font\":{\"color\":\"orange\",\"size\":18},\"showarrow\":false,\"text\":\"FucZH 8-6 FSL\",\"x\":0.5,\"xref\":\"paper\",\"y\":1.4,\"yref\":\"y\"},{\"showarrow\":false,\"text\":\"Completed Passes: 4,Turns: 2\",\"x\":12,\"xref\":\"x\",\"y\":1.3,\"yref\":\"y\"}]},\"name\":\"frame14\"}]);\n",
       "                        }).then(function(){\n",
       "                            \n",
       "var gd = document.getElementById('7fbcd64f-b77c-42d5-9c7a-d34592916a46');\n",
       "var x = new MutationObserver(function (mutations, observer) {{\n",
       "        var display = window.getComputedStyle(gd).display;\n",
       "        if (!display || display === 'none') {{\n",
       "            console.log([gd, 'removed!']);\n",
       "            Plotly.purge(gd);\n",
       "            observer.disconnect();\n",
       "        }}\n",
       "}});\n",
       "\n",
       "// Listen for the removal of the full notebook cells\n",
       "var notebookContainer = gd.closest('#notebook-container');\n",
       "if (notebookContainer) {{\n",
       "    x.observe(notebookContainer, {childList: true});\n",
       "}}\n",
       "\n",
       "// Listen for the clearing of the current output cell\n",
       "var outputEl = gd.closest('.output');\n",
       "if (outputEl) {{\n",
       "    x.observe(outputEl, {childList: true});\n",
       "}}\n",
       "\n",
       "                        })                };                });            </script>        </div>"
      ]
     },
     "metadata": {},
     "output_type": "display_data"
    }
   ],
   "source": [
    "fig=game_flow_fig(df,'FSL',slidew,slideh)\n",
    "fig.show()"
   ]
  },
  {
   "cell_type": "code",
   "execution_count": null,
   "metadata": {
    "slideshow": {
     "slide_type": "fragment"
    }
   },
   "outputs": [],
   "source": []
  },
  {
   "cell_type": "code",
   "execution_count": null,
   "metadata": {
    "slideshow": {
     "slide_type": "fragment"
    }
   },
   "outputs": [],
   "source": []
  },
  {
   "cell_type": "markdown",
   "metadata": {
    "slideshow": {
     "slide_type": "slide"
    }
   },
   "source": [
    "## Round 2"
   ]
  },
  {
   "cell_type": "code",
   "execution_count": 152,
   "metadata": {
    "slideshow": {
     "slide_type": "fragment"
    },
    "tags": [
     "to_remove"
    ]
   },
   "outputs": [
    {
     "data": {
      "application/vnd.plotly.v1+json": {
       "config": {
        "plotlyServerURL": "https://plotly.com"
       },
       "data": [
        {
         "mode": "lines+markers",
         "type": "scatter",
         "x": [
          0
         ],
         "y": [
          0
         ]
        }
       ],
       "frames": [
        {
         "data": [
          {
           "line": {
            "shape": "hv"
           },
           "mode": "lines+markers",
           "type": "scatter",
           "x": [
            0
           ],
           "y": [
            0
           ]
          }
         ],
         "name": "frame0"
        },
        {
         "data": [
          {
           "line": {
            "shape": "hvh"
           },
           "mode": "lines+markers",
           "type": "scatter",
           "x": [
            1
           ],
           "y": [
            -0.5
           ]
          }
         ],
         "layout": {
          "annotations": [
           {
            "font": {
             "color": "blue"
            },
            "text": "4M3W: JL,SB,MV,JV,JG,NK,SG",
            "x": 1,
            "xref": "x",
            "y": -0.5,
            "yref": "y"
           },
           {
            "font": {
             "color": "orange",
             "size": 18
            },
            "showarrow": false,
            "text": "FucZH 0-1 FSL (Quarters)",
            "x": 0.5,
            "xref": "paper",
            "y": 1.4,
            "yref": "y"
           },
           {
            "showarrow": false,
            "text": "Completed Passes: 0,Turns: 0",
            "x": 18,
            "xref": "x",
            "y": 1.3,
            "yref": "y"
           }
          ]
         },
         "name": "frame1"
        },
        {
         "data": [
          {
           "line": {
            "shape": "hvh"
           },
           "mode": "lines+markers",
           "type": "scatter",
           "x": [
            1,
            2
           ],
           "y": [
            -0.5,
            0.5
           ]
          }
         ],
         "layout": {
          "annotations": [
           {
            "font": {
             "color": "blue"
            },
            "text": "4W3M: AY,FS,MV,AL,SH,EL,GA",
            "x": 2,
            "xref": "x",
            "y": 0.5,
            "yref": "y"
           },
           {
            "font": {
             "color": "orange",
             "size": 18
            },
            "showarrow": false,
            "text": "FucZH 1-1 FSL (Quarters)",
            "x": 0.5,
            "xref": "paper",
            "y": 1.4,
            "yref": "y"
           },
           {
            "showarrow": false,
            "text": "Completed Passes: 2,Turns: 0",
            "x": 18,
            "xref": "x",
            "y": 1.3,
            "yref": "y"
           },
           {
            "showarrow": false,
            "text": "Assist: FS, Goal:EL",
            "x": 18,
            "xref": "x",
            "y": 1.4,
            "yref": "y"
           }
          ]
         },
         "name": "frame2"
        },
        {
         "data": [
          {
           "line": {
            "shape": "hvh"
           },
           "mode": "lines+markers",
           "type": "scatter",
           "x": [
            1,
            2,
            3
           ],
           "y": [
            -0.5,
            0.5,
            1
           ]
          }
         ],
         "layout": {
          "annotations": [
           {
            "font": {
             "color": "blue"
            },
            "text": "4W3M: JL,SB,MV,AL,JV,NK,SG",
            "x": 3,
            "xref": "x",
            "y": 1,
            "yref": "y"
           },
           {
            "font": {
             "color": "orange",
             "size": 18
            },
            "showarrow": false,
            "text": "FucZH 2-1 FSL (Quarters)",
            "x": 0.5,
            "xref": "paper",
            "y": 1.4,
            "yref": "y"
           },
           {
            "showarrow": false,
            "text": "Completed Passes: 1,Turns: 1",
            "x": 18,
            "xref": "x",
            "y": 1.3,
            "yref": "y"
           },
           {
            "showarrow": false,
            "text": "Assist: JV, Goal:SG",
            "x": 18,
            "xref": "x",
            "y": 1.4,
            "yref": "y"
           }
          ]
         },
         "name": "frame3"
        },
        {
         "data": [
          {
           "line": {
            "shape": "hvh"
           },
           "mode": "lines+markers",
           "type": "scatter",
           "x": [
            1,
            2,
            3,
            4
           ],
           "y": [
            -0.5,
            0.5,
            1,
            1
           ]
          }
         ],
         "layout": {
          "annotations": [
           {
            "font": {
             "color": "blue"
            },
            "text": "4M3W: AY,MV,CS,EL,JS,JG,SG",
            "x": 4,
            "xref": "x",
            "y": 1,
            "yref": "y"
           },
           {
            "font": {
             "color": "orange",
             "size": 18
            },
            "showarrow": false,
            "text": "FucZH 3-1 FSL (Quarters)",
            "x": 0.5,
            "xref": "paper",
            "y": 1.4,
            "yref": "y"
           },
           {
            "showarrow": false,
            "text": "Completed Passes: 26,Turns: 7",
            "x": 18,
            "xref": "x",
            "y": 1.3,
            "yref": "y"
           },
           {
            "showarrow": false,
            "text": "Assist: JG, Goal:SG",
            "x": 18,
            "xref": "x",
            "y": 1.4,
            "yref": "y"
           }
          ]
         },
         "name": "frame4"
        },
        {
         "data": [
          {
           "line": {
            "shape": "hvh"
           },
           "mode": "lines+markers",
           "type": "scatter",
           "x": [
            1,
            2,
            3,
            4,
            5
           ],
           "y": [
            -0.5,
            0.5,
            1,
            1,
            1
           ]
          }
         ],
         "layout": {
          "annotations": [
           {
            "font": {
             "color": "blue"
            },
            "text": "4M3W: JL,SB,AL,SH,JV,NK,GA",
            "x": 5,
            "xref": "x",
            "y": 1,
            "yref": "y"
           },
           {
            "font": {
             "color": "orange",
             "size": 18
            },
            "showarrow": false,
            "text": "FucZH 4-1 FSL (Quarters)",
            "x": 0.5,
            "xref": "paper",
            "y": 1.4,
            "yref": "y"
           },
           {
            "showarrow": false,
            "text": "Completed Passes: 6,Turns: 3",
            "x": 18,
            "xref": "x",
            "y": 1.3,
            "yref": "y"
           },
           {
            "showarrow": false,
            "text": "Assist: NK, Goal:JV",
            "x": 18,
            "xref": "x",
            "y": 1.4,
            "yref": "y"
           }
          ]
         },
         "name": "frame5"
        },
        {
         "data": [
          {
           "line": {
            "shape": "hvh"
           },
           "mode": "lines+markers",
           "type": "scatter",
           "x": [
            1,
            2,
            3,
            4,
            5,
            6
           ],
           "y": [
            -0.5,
            0.5,
            1,
            1,
            1,
            -0.5
           ]
          }
         ],
         "layout": {
          "annotations": [
           {
            "font": {
             "color": "blue"
            },
            "text": "4W3M: JL,SB,MV,EL,JS,JG,SG",
            "x": 6,
            "xref": "x",
            "y": -0.5,
            "yref": "y"
           },
           {
            "font": {
             "color": "orange",
             "size": 18
            },
            "showarrow": false,
            "text": "FucZH 4-2 FSL (Quarters)",
            "x": 0.5,
            "xref": "paper",
            "y": 1.4,
            "yref": "y"
           },
           {
            "showarrow": false,
            "text": "Completed Passes: 0,Turns: 2",
            "x": 18,
            "xref": "x",
            "y": 1.3,
            "yref": "y"
           }
          ]
         },
         "name": "frame6"
        },
        {
         "data": [
          {
           "line": {
            "shape": "hvh"
           },
           "mode": "lines+markers",
           "type": "scatter",
           "x": [
            1,
            2,
            3,
            4,
            5,
            6,
            7
           ],
           "y": [
            -0.5,
            0.5,
            1,
            1,
            1,
            -0.5,
            0.5
           ]
          }
         ],
         "layout": {
          "annotations": [
           {
            "font": {
             "color": "blue"
            },
            "text": "4W3M: JL,AY,FS,MV,AL,SH,GA",
            "x": 7,
            "xref": "x",
            "y": 0.5,
            "yref": "y"
           },
           {
            "font": {
             "color": "orange",
             "size": 18
            },
            "showarrow": false,
            "text": "FucZH 5-2 FSL (Quarters)",
            "x": 0.5,
            "xref": "paper",
            "y": 1.4,
            "yref": "y"
           },
           {
            "showarrow": false,
            "text": "Completed Passes: 5,Turns: 0",
            "x": 18,
            "xref": "x",
            "y": 1.3,
            "yref": "y"
           },
           {
            "showarrow": false,
            "text": "Assist: GA, Goal:Anonymous",
            "x": 18,
            "xref": "x",
            "y": 1.4,
            "yref": "y"
           }
          ]
         },
         "name": "frame7"
        },
        {
         "data": [
          {
           "line": {
            "shape": "hvh"
           },
           "mode": "lines+markers",
           "type": "scatter",
           "x": [
            1,
            2,
            3,
            4,
            5,
            6,
            7,
            8
           ],
           "y": [
            -0.5,
            0.5,
            1,
            1,
            1,
            -0.5,
            0.5,
            -0.5
           ]
          }
         ],
         "layout": {
          "annotations": [
           {
            "font": {
             "color": "blue"
            },
            "text": "4M3W: SB,MV,EL,JV,JS,JG,NK",
            "x": 8,
            "xref": "x",
            "y": -0.5,
            "yref": "y"
           },
           {
            "font": {
             "color": "orange",
             "size": 18
            },
            "showarrow": false,
            "text": "FucZH 5-3 FSL (Quarters)",
            "x": 0.5,
            "xref": "paper",
            "y": 1.4,
            "yref": "y"
           },
           {
            "showarrow": false,
            "text": "Completed Passes: 1,Turns: 2",
            "x": 18,
            "xref": "x",
            "y": 1.3,
            "yref": "y"
           }
          ]
         },
         "name": "frame8"
        },
        {
         "data": [
          {
           "line": {
            "shape": "hvh"
           },
           "mode": "lines+markers",
           "type": "scatter",
           "x": [
            1,
            2,
            3,
            4,
            5,
            6,
            7,
            8,
            9
           ],
           "y": [
            -0.5,
            0.5,
            1,
            1,
            1,
            -0.5,
            0.5,
            -0.5,
            -1
           ]
          }
         ],
         "layout": {
          "annotations": [
           {
            "font": {
             "color": "blue"
            },
            "text": "4M3W: AY,JL,FS,AL,CS,SH,GA",
            "x": 9,
            "xref": "x",
            "y": -1,
            "yref": "y"
           },
           {
            "font": {
             "color": "orange",
             "size": 18
            },
            "showarrow": false,
            "text": "FucZH 5-4 FSL (Quarters)",
            "x": 0.5,
            "xref": "paper",
            "y": 1.4,
            "yref": "y"
           },
           {
            "showarrow": false,
            "text": "Completed Passes: 2,Turns: 1",
            "x": 18,
            "xref": "x",
            "y": 1.3,
            "yref": "y"
           }
          ]
         },
         "name": "frame9"
        },
        {
         "data": [
          {
           "line": {
            "shape": "hvh"
           },
           "mode": "lines+markers",
           "type": "scatter",
           "x": [
            1,
            2,
            3,
            4,
            5,
            6,
            7,
            8,
            9,
            10
           ],
           "y": [
            -0.5,
            0.5,
            1,
            1,
            1,
            -0.5,
            0.5,
            -0.5,
            -1,
            0.5
           ]
          }
         ],
         "layout": {
          "annotations": [
           {
            "font": {
             "color": "blue"
            },
            "text": "4W3M: AY,SB,FS,MV,SH,EL,GA",
            "x": 10,
            "xref": "x",
            "y": 0.5,
            "yref": "y"
           },
           {
            "font": {
             "color": "orange",
             "size": 18
            },
            "showarrow": false,
            "text": "FucZH 6-4 FSL (Quarters)",
            "x": 0.5,
            "xref": "paper",
            "y": 1.4,
            "yref": "y"
           },
           {
            "showarrow": false,
            "text": "Completed Passes: 15,Turns: 0",
            "x": 18,
            "xref": "x",
            "y": 1.3,
            "yref": "y"
           },
           {
            "showarrow": false,
            "text": "Assist: SH, Goal:MV",
            "x": 18,
            "xref": "x",
            "y": 1.4,
            "yref": "y"
           }
          ]
         },
         "name": "frame10"
        },
        {
         "data": [
          {
           "line": {
            "shape": "hvh"
           },
           "mode": "lines+markers",
           "type": "scatter",
           "x": [
            1,
            2,
            3,
            4,
            5,
            6,
            7,
            8,
            9,
            10,
            11
           ],
           "y": [
            -0.5,
            0.5,
            1,
            1,
            1,
            -0.5,
            0.5,
            -0.5,
            -1,
            0.5,
            -0.5
           ]
          }
         ],
         "layout": {
          "annotations": [
           {
            "font": {
             "color": "blue"
            },
            "text": "4W3M: JL,MV,AL,CS,EL,JG,SG",
            "x": 11,
            "xref": "x",
            "y": -0.5,
            "yref": "y"
           },
           {
            "font": {
             "color": "orange",
             "size": 18
            },
            "showarrow": false,
            "text": "FucZH 6-5 FSL (Quarters)",
            "x": 0.5,
            "xref": "paper",
            "y": 1.4,
            "yref": "y"
           },
           {
            "showarrow": false,
            "text": "Completed Passes: 0,Turns: 0",
            "x": 18,
            "xref": "x",
            "y": 1.3,
            "yref": "y"
           }
          ]
         },
         "name": "frame11"
        },
        {
         "data": [
          {
           "line": {
            "shape": "hvh"
           },
           "mode": "lines+markers",
           "type": "scatter",
           "x": [
            1,
            2,
            3,
            4,
            5,
            6,
            7,
            8,
            9,
            10,
            11,
            12
           ],
           "y": [
            -0.5,
            0.5,
            1,
            1,
            1,
            -0.5,
            0.5,
            -0.5,
            -1,
            0.5,
            -0.5,
            0.5
           ]
          }
         ],
         "layout": {
          "annotations": [
           {
            "font": {
             "color": "blue"
            },
            "text": "4M3W: AY,SB,FS,MV,SH,JS,GA",
            "x": 12,
            "xref": "x",
            "y": 0.5,
            "yref": "y"
           },
           {
            "font": {
             "color": "orange",
             "size": 18
            },
            "showarrow": false,
            "text": "FucZH 7-5 FSL (Quarters)",
            "x": 0.5,
            "xref": "paper",
            "y": 1.4,
            "yref": "y"
           },
           {
            "showarrow": false,
            "text": "Completed Passes: 4,Turns: 0",
            "x": 18,
            "xref": "x",
            "y": 1.3,
            "yref": "y"
           },
           {
            "showarrow": false,
            "text": "Assist: JS, Goal:GA",
            "x": 18,
            "xref": "x",
            "y": 1.4,
            "yref": "y"
           }
          ]
         },
         "name": "frame12"
        },
        {
         "data": [
          {
           "line": {
            "shape": "hvh"
           },
           "mode": "lines+markers",
           "type": "scatter",
           "x": [
            1,
            2,
            3,
            4,
            5,
            6,
            7,
            8,
            9,
            10,
            11,
            12,
            13
           ],
           "y": [
            -0.5,
            0.5,
            1,
            1,
            1,
            -0.5,
            0.5,
            -0.5,
            -1,
            0.5,
            -0.5,
            0.5,
            -0.5
           ]
          }
         ],
         "layout": {
          "annotations": [
           {
            "font": {
             "color": "blue"
            },
            "text": "4M3W: AY,JL,AL,CS,JV,JG,NK",
            "x": 13,
            "xref": "x",
            "y": -0.5,
            "yref": "y"
           },
           {
            "font": {
             "color": "orange",
             "size": 18
            },
            "showarrow": false,
            "text": "FucZH 7-6 FSL (Quarters)",
            "x": 0.5,
            "xref": "paper",
            "y": 1.4,
            "yref": "y"
           },
           {
            "showarrow": false,
            "text": "Completed Passes: 0,Turns: 0",
            "x": 18,
            "xref": "x",
            "y": 1.3,
            "yref": "y"
           }
          ]
         },
         "name": "frame13"
        },
        {
         "data": [
          {
           "line": {
            "shape": "hvh"
           },
           "mode": "lines+markers",
           "type": "scatter",
           "x": [
            1,
            2,
            3,
            4,
            5,
            6,
            7,
            8,
            9,
            10,
            11,
            12,
            13,
            14
           ],
           "y": [
            -0.5,
            0.5,
            1,
            1,
            1,
            -0.5,
            0.5,
            -0.5,
            -1,
            0.5,
            -0.5,
            0.5,
            -0.5,
            0.5
           ]
          }
         ],
         "layout": {
          "annotations": [
           {
            "font": {
             "color": "blue"
            },
            "text": "4W3M: SB,FS,JL,MV,SH,EL,GA",
            "x": 14,
            "xref": "x",
            "y": 0.5,
            "yref": "y"
           },
           {
            "font": {
             "color": "orange",
             "size": 18
            },
            "showarrow": false,
            "text": "FucZH 8-6 FSL (Quarters)",
            "x": 0.5,
            "xref": "paper",
            "y": 1.4,
            "yref": "y"
           },
           {
            "showarrow": false,
            "text": "Completed Passes: 5,Turns: 2",
            "x": 18,
            "xref": "x",
            "y": 1.3,
            "yref": "y"
           },
           {
            "showarrow": false,
            "text": "Assist: SH, Goal:EL",
            "x": 18,
            "xref": "x",
            "y": 1.4,
            "yref": "y"
           }
          ]
         },
         "name": "frame14"
        },
        {
         "data": [
          {
           "line": {
            "shape": "hvh"
           },
           "mode": "lines+markers",
           "type": "scatter",
           "x": [
            1,
            2,
            3,
            4,
            5,
            6,
            7,
            8,
            9,
            10,
            11,
            12,
            13,
            14,
            15
           ],
           "y": [
            -0.5,
            0.5,
            1,
            1,
            1,
            -0.5,
            0.5,
            -0.5,
            -1,
            0.5,
            -0.5,
            0.5,
            -0.5,
            0.5,
            0.5
           ]
          }
         ],
         "layout": {
          "annotations": [
           {
            "font": {
             "color": "blue"
            },
            "text": "4W3M: SB,FS,JL,AY,MV,SH,JS",
            "x": 15,
            "xref": "x",
            "y": 0.5,
            "yref": "y"
           },
           {
            "font": {
             "color": "orange",
             "size": 18
            },
            "showarrow": false,
            "text": "FucZH 9-6 FSL (Quarters)",
            "x": 0.5,
            "xref": "paper",
            "y": 1.4,
            "yref": "y"
           },
           {
            "showarrow": false,
            "text": "Completed Passes: 15,Turns: 0",
            "x": 18,
            "xref": "x",
            "y": 1.3,
            "yref": "y"
           },
           {
            "showarrow": false,
            "text": "Assist: Anonymous, Goal:AY",
            "x": 18,
            "xref": "x",
            "y": 1.4,
            "yref": "y"
           }
          ]
         },
         "name": "frame15"
        },
        {
         "data": [
          {
           "line": {
            "shape": "hvh"
           },
           "mode": "lines+markers",
           "type": "scatter",
           "x": [
            1,
            2,
            3,
            4,
            5,
            6,
            7,
            8,
            9,
            10,
            11,
            12,
            13,
            14,
            15,
            16
           ],
           "y": [
            -0.5,
            0.5,
            1,
            1,
            1,
            -0.5,
            0.5,
            -0.5,
            -1,
            0.5,
            -0.5,
            0.5,
            -0.5,
            0.5,
            0.5,
            1
           ]
          }
         ],
         "layout": {
          "annotations": [
           {
            "font": {
             "color": "blue"
            },
            "text": "4M3W: AY,AL,EL,JV,NK,JG,SG",
            "x": 16,
            "xref": "x",
            "y": 1,
            "yref": "y"
           },
           {
            "font": {
             "color": "orange",
             "size": 18
            },
            "showarrow": false,
            "text": "FucZH 10-6 FSL (Quarters)",
            "x": 0.5,
            "xref": "paper",
            "y": 1.4,
            "yref": "y"
           },
           {
            "showarrow": false,
            "text": "Completed Passes: 2,Turns: 1",
            "x": 18,
            "xref": "x",
            "y": 1.3,
            "yref": "y"
           },
           {
            "showarrow": false,
            "text": "Assist: SG, Goal:NK",
            "x": 18,
            "xref": "x",
            "y": 1.4,
            "yref": "y"
           }
          ]
         },
         "name": "frame16"
        },
        {
         "data": [
          {
           "line": {
            "shape": "hvh"
           },
           "mode": "lines+markers",
           "type": "scatter",
           "x": [
            1,
            2,
            3,
            4,
            5,
            6,
            7,
            8,
            9,
            10,
            11,
            12,
            13,
            14,
            15,
            16,
            17
           ],
           "y": [
            -0.5,
            0.5,
            1,
            1,
            1,
            -0.5,
            0.5,
            -0.5,
            -1,
            0.5,
            -0.5,
            0.5,
            -0.5,
            0.5,
            0.5,
            1,
            -0.5
           ]
          }
         ],
         "layout": {
          "annotations": [
           {
            "font": {
             "color": "blue"
            },
            "text": "4M3W: JL,SB,MV,CS,JV,JG,SG",
            "x": 17,
            "xref": "x",
            "y": -0.5,
            "yref": "y"
           },
           {
            "font": {
             "color": "orange",
             "size": 18
            },
            "showarrow": false,
            "text": "FucZH 10-7 FSL (Quarters)",
            "x": 0.5,
            "xref": "paper",
            "y": 1.4,
            "yref": "y"
           },
           {
            "showarrow": false,
            "text": "Completed Passes: 0,Turns: 0",
            "x": 18,
            "xref": "x",
            "y": 1.3,
            "yref": "y"
           }
          ]
         },
         "name": "frame17"
        },
        {
         "data": [
          {
           "line": {
            "shape": "hvh"
           },
           "mode": "lines+markers",
           "type": "scatter",
           "x": [
            1,
            2,
            3,
            4,
            5,
            6,
            7,
            8,
            9,
            10,
            11,
            12,
            13,
            14,
            15,
            16,
            17,
            18
           ],
           "y": [
            -0.5,
            0.5,
            1,
            1,
            1,
            -0.5,
            0.5,
            -0.5,
            -1,
            0.5,
            -0.5,
            0.5,
            -0.5,
            0.5,
            0.5,
            1,
            -0.5,
            0.5
           ]
          }
         ],
         "layout": {
          "annotations": [
           {
            "font": {
             "color": "blue"
            },
            "text": "4W3M: FS,AY,MV,AL,SH,EL,GA",
            "x": 18,
            "xref": "x",
            "y": 0.5,
            "yref": "y"
           },
           {
            "font": {
             "color": "orange",
             "size": 18
            },
            "showarrow": false,
            "text": "FucZH 11-7 FSL (Quarters)",
            "x": 0.5,
            "xref": "paper",
            "y": 1.4,
            "yref": "y"
           },
           {
            "showarrow": false,
            "text": "Completed Passes: 8,Turns: 2",
            "x": 18,
            "xref": "x",
            "y": 1.3,
            "yref": "y"
           },
           {
            "showarrow": false,
            "text": "Assist: Anonymous, Goal:EL",
            "x": 18,
            "xref": "x",
            "y": 1.4,
            "yref": "y"
           }
          ]
         },
         "name": "frame18"
        },
        {
         "data": [
          {
           "line": {
            "shape": "hvh"
           },
           "mode": "lines+markers",
           "type": "scatter",
           "x": [
            1,
            2,
            3,
            4,
            5,
            6,
            7,
            8,
            9,
            10,
            11,
            12,
            13,
            14,
            15,
            16,
            17,
            18,
            19
           ],
           "y": [
            -0.5,
            0.5,
            1,
            1,
            1,
            -0.5,
            0.5,
            -0.5,
            -1,
            0.5,
            -0.5,
            0.5,
            -0.5,
            0.5,
            0.5,
            1,
            -0.5,
            0.5,
            1
           ]
          }
         ],
         "layout": {
          "annotations": [
           {
            "font": {
             "color": "blue"
            },
            "text": "4M3W: SB,MV,AL,SH,JG,NK,SG",
            "x": 19,
            "xref": "x",
            "y": 1,
            "yref": "y"
           },
           {
            "font": {
             "color": "orange",
             "size": 18
            },
            "showarrow": false,
            "text": "FucZH 12-7 FSL (Quarters)",
            "x": 0.5,
            "xref": "paper",
            "y": 1.4,
            "yref": "y"
           },
           {
            "showarrow": false,
            "text": "Completed Passes: 7,Turns: 1",
            "x": 18,
            "xref": "x",
            "y": 1.3,
            "yref": "y"
           },
           {
            "showarrow": false,
            "text": "Assist: SG, Goal:Anonymous",
            "x": 18,
            "xref": "x",
            "y": 1.4,
            "yref": "y"
           }
          ]
         },
         "name": "frame19"
        },
        {
         "data": [
          {
           "line": {
            "shape": "hvh"
           },
           "mode": "lines+markers",
           "type": "scatter",
           "x": [
            1,
            2,
            3,
            4,
            5,
            6,
            7,
            8,
            9,
            10,
            11,
            12,
            13,
            14,
            15,
            16,
            17,
            18,
            19,
            20
           ],
           "y": [
            -0.5,
            0.5,
            1,
            1,
            1,
            -0.5,
            0.5,
            -0.5,
            -1,
            0.5,
            -0.5,
            0.5,
            -0.5,
            0.5,
            0.5,
            1,
            -0.5,
            0.5,
            1,
            1
           ]
          }
         ],
         "layout": {
          "annotations": [
           {
            "font": {
             "color": "blue"
            },
            "text": "4W3M: AY,JL,MV,CS,EL,NK,JG",
            "x": 20,
            "xref": "x",
            "y": 1,
            "yref": "y"
           },
           {
            "font": {
             "color": "orange",
             "size": 18
            },
            "showarrow": false,
            "text": "FucZH 13-7 FSL (Quarters)",
            "x": 0.5,
            "xref": "paper",
            "y": 1.4,
            "yref": "y"
           },
           {
            "showarrow": false,
            "text": "Completed Passes: 12,Turns: 3",
            "x": 18,
            "xref": "x",
            "y": 1.3,
            "yref": "y"
           },
           {
            "showarrow": false,
            "text": "Assist: SG, Goal:EL",
            "x": 18,
            "xref": "x",
            "y": 1.4,
            "yref": "y"
           }
          ]
         },
         "name": "frame20"
        }
       ],
       "layout": {
        "height": 600,
        "hovermode": "closest",
        "images": [
         {
          "sizex": 0.2,
          "sizey": 0.2,
          "source": "https://raw.githubusercontent.com/elastufka/presentations/master/images/ZU_logo1.png",
          "x": 0,
          "xanchor": "right",
          "xref": "paper",
          "y": 1.05,
          "yanchor": "bottom",
          "yref": "paper"
         }
        ],
        "sliders": [
         {
          "active": 0,
          "currentvalue": {
           "font": {
            "size": 14
           },
           "prefix": "Point:",
           "visible": true,
           "xanchor": "right"
          },
          "len": 0.9,
          "pad": {
           "b": 10,
           "t": 10
          },
          "steps": [
           {
            "args": [
             [
              "frame1"
             ],
             {
              "frame": {
               "duration": 300,
               "redraw": false
              },
              "mode": "immediate",
              "transition": {
               "duration": 300
              }
             }
            ],
            "label": "1",
            "method": "animate"
           },
           {
            "args": [
             [
              "frame2"
             ],
             {
              "frame": {
               "duration": 300,
               "redraw": false
              },
              "mode": "immediate",
              "transition": {
               "duration": 300
              }
             }
            ],
            "label": "2",
            "method": "animate"
           },
           {
            "args": [
             [
              "frame3"
             ],
             {
              "frame": {
               "duration": 300,
               "redraw": false
              },
              "mode": "immediate",
              "transition": {
               "duration": 300
              }
             }
            ],
            "label": "3",
            "method": "animate"
           },
           {
            "args": [
             [
              "frame4"
             ],
             {
              "frame": {
               "duration": 300,
               "redraw": false
              },
              "mode": "immediate",
              "transition": {
               "duration": 300
              }
             }
            ],
            "label": "4",
            "method": "animate"
           },
           {
            "args": [
             [
              "frame5"
             ],
             {
              "frame": {
               "duration": 300,
               "redraw": false
              },
              "mode": "immediate",
              "transition": {
               "duration": 300
              }
             }
            ],
            "label": "5",
            "method": "animate"
           },
           {
            "args": [
             [
              "frame6"
             ],
             {
              "frame": {
               "duration": 300,
               "redraw": false
              },
              "mode": "immediate",
              "transition": {
               "duration": 300
              }
             }
            ],
            "label": "6",
            "method": "animate"
           },
           {
            "args": [
             [
              "frame7"
             ],
             {
              "frame": {
               "duration": 300,
               "redraw": false
              },
              "mode": "immediate",
              "transition": {
               "duration": 300
              }
             }
            ],
            "label": "7",
            "method": "animate"
           },
           {
            "args": [
             [
              "frame8"
             ],
             {
              "frame": {
               "duration": 300,
               "redraw": false
              },
              "mode": "immediate",
              "transition": {
               "duration": 300
              }
             }
            ],
            "label": "8",
            "method": "animate"
           },
           {
            "args": [
             [
              "frame9"
             ],
             {
              "frame": {
               "duration": 300,
               "redraw": false
              },
              "mode": "immediate",
              "transition": {
               "duration": 300
              }
             }
            ],
            "label": "9",
            "method": "animate"
           },
           {
            "args": [
             [
              "frame10"
             ],
             {
              "frame": {
               "duration": 300,
               "redraw": false
              },
              "mode": "immediate",
              "transition": {
               "duration": 300
              }
             }
            ],
            "label": "10",
            "method": "animate"
           },
           {
            "args": [
             [
              "frame11"
             ],
             {
              "frame": {
               "duration": 300,
               "redraw": false
              },
              "mode": "immediate",
              "transition": {
               "duration": 300
              }
             }
            ],
            "label": "11",
            "method": "animate"
           },
           {
            "args": [
             [
              "frame12"
             ],
             {
              "frame": {
               "duration": 300,
               "redraw": false
              },
              "mode": "immediate",
              "transition": {
               "duration": 300
              }
             }
            ],
            "label": "12",
            "method": "animate"
           },
           {
            "args": [
             [
              "frame13"
             ],
             {
              "frame": {
               "duration": 300,
               "redraw": false
              },
              "mode": "immediate",
              "transition": {
               "duration": 300
              }
             }
            ],
            "label": "13",
            "method": "animate"
           },
           {
            "args": [
             [
              "frame14"
             ],
             {
              "frame": {
               "duration": 300,
               "redraw": false
              },
              "mode": "immediate",
              "transition": {
               "duration": 300
              }
             }
            ],
            "label": "14",
            "method": "animate"
           },
           {
            "args": [
             [
              "frame15"
             ],
             {
              "frame": {
               "duration": 300,
               "redraw": false
              },
              "mode": "immediate",
              "transition": {
               "duration": 300
              }
             }
            ],
            "label": "15",
            "method": "animate"
           },
           {
            "args": [
             [
              "frame16"
             ],
             {
              "frame": {
               "duration": 300,
               "redraw": false
              },
              "mode": "immediate",
              "transition": {
               "duration": 300
              }
             }
            ],
            "label": "16",
            "method": "animate"
           },
           {
            "args": [
             [
              "frame17"
             ],
             {
              "frame": {
               "duration": 300,
               "redraw": false
              },
              "mode": "immediate",
              "transition": {
               "duration": 300
              }
             }
            ],
            "label": "17",
            "method": "animate"
           },
           {
            "args": [
             [
              "frame18"
             ],
             {
              "frame": {
               "duration": 300,
               "redraw": false
              },
              "mode": "immediate",
              "transition": {
               "duration": 300
              }
             }
            ],
            "label": "18",
            "method": "animate"
           },
           {
            "args": [
             [
              "frame19"
             ],
             {
              "frame": {
               "duration": 300,
               "redraw": false
              },
              "mode": "immediate",
              "transition": {
               "duration": 300
              }
             }
            ],
            "label": "19",
            "method": "animate"
           },
           {
            "args": [
             [
              "frame20"
             ],
             {
              "frame": {
               "duration": 300,
               "redraw": false
              },
              "mode": "immediate",
              "transition": {
               "duration": 300
              }
             }
            ],
            "label": "20",
            "method": "animate"
           }
          ],
          "transition": {
           "duration": 300,
           "easing": "cubic-in-out"
          },
          "x": 1,
          "xanchor": "right",
          "y": -0.4,
          "yanchor": "bottom"
         }
        ],
        "template": {
         "layout": {
          "colorway": [
           "#000000",
           "#784F17",
           "#FF0018",
           "#FFA52C",
           "#FFFF41",
           "#008018",
           "#0000F9",
           "#86007D"
          ],
          "plot_bgcolor": "lightgrey"
         }
        },
        "title": {
         "text": "Game Flow"
        },
        "updatemenus": [
         {
          "buttons": [
           {
            "args": [
             null,
             {
              "frame": {
               "duration": 500,
               "redraw": false
              },
              "fromcurrent": true,
              "transition": {
               "duration": 300,
               "easing": "quadratic-in-out"
              }
             }
            ],
            "label": "Play",
            "method": "animate"
           },
           {
            "args": [
             [
              null
             ],
             {
              "frame": {
               "duration": 0,
               "redraw": false
              },
              "mode": "immediate",
              "transition": {
               "duration": 0
              }
             }
            ],
            "label": "Pause",
            "method": "animate"
           }
          ],
          "direction": "left",
          "pad": {
           "r": 10,
           "t": 87
          },
          "showactive": false,
          "type": "buttons",
          "x": 0.1,
          "xanchor": "right",
          "y": 0,
          "yanchor": "top"
         }
        ],
        "width": 850,
        "xaxis": {
         "range": [
          0.5,
          21.5
         ],
         "title": {
          "text": "Points"
         }
        },
        "yaxis": {
         "range": [
          -1.1,
          1.5
         ],
         "ticktext": [
          "Their Break",
          "Their Hold",
          "",
          "Our Hold",
          "Our Break"
         ],
         "tickvals": [
          -1,
          -0.5,
          0,
          0.5,
          1
         ],
         "title": {
          "text": "Point Type"
         }
        }
       }
      },
      "text/html": [
       "<div>                            <div id=\"0716995e-5c34-4abc-9545-065cb4ae6242\" class=\"plotly-graph-div\" style=\"height:600px; width:850px;\"></div>            <script type=\"text/javascript\">                require([\"plotly\"], function(Plotly) {                    window.PLOTLYENV=window.PLOTLYENV || {};                                    if (document.getElementById(\"0716995e-5c34-4abc-9545-065cb4ae6242\")) {                    Plotly.newPlot(                        \"0716995e-5c34-4abc-9545-065cb4ae6242\",                        [{\"mode\":\"lines+markers\",\"type\":\"scatter\",\"x\":[0],\"y\":[0]}],                        {\"height\":600,\"hovermode\":\"closest\",\"images\":[{\"sizex\":0.2,\"sizey\":0.2,\"source\":\"https://raw.githubusercontent.com/elastufka/presentations/master/images/ZU_logo1.png\",\"x\":0,\"xanchor\":\"right\",\"xref\":\"paper\",\"y\":1.05,\"yanchor\":\"bottom\",\"yref\":\"paper\"}],\"sliders\":[{\"active\":0,\"currentvalue\":{\"font\":{\"size\":14},\"prefix\":\"Point:\",\"visible\":true,\"xanchor\":\"right\"},\"len\":0.9,\"pad\":{\"b\":10,\"t\":10},\"steps\":[{\"args\":[[\"frame1\"],{\"frame\":{\"duration\":300,\"redraw\":false},\"mode\":\"immediate\",\"transition\":{\"duration\":300}}],\"label\":\"1\",\"method\":\"animate\"},{\"args\":[[\"frame2\"],{\"frame\":{\"duration\":300,\"redraw\":false},\"mode\":\"immediate\",\"transition\":{\"duration\":300}}],\"label\":\"2\",\"method\":\"animate\"},{\"args\":[[\"frame3\"],{\"frame\":{\"duration\":300,\"redraw\":false},\"mode\":\"immediate\",\"transition\":{\"duration\":300}}],\"label\":\"3\",\"method\":\"animate\"},{\"args\":[[\"frame4\"],{\"frame\":{\"duration\":300,\"redraw\":false},\"mode\":\"immediate\",\"transition\":{\"duration\":300}}],\"label\":\"4\",\"method\":\"animate\"},{\"args\":[[\"frame5\"],{\"frame\":{\"duration\":300,\"redraw\":false},\"mode\":\"immediate\",\"transition\":{\"duration\":300}}],\"label\":\"5\",\"method\":\"animate\"},{\"args\":[[\"frame6\"],{\"frame\":{\"duration\":300,\"redraw\":false},\"mode\":\"immediate\",\"transition\":{\"duration\":300}}],\"label\":\"6\",\"method\":\"animate\"},{\"args\":[[\"frame7\"],{\"frame\":{\"duration\":300,\"redraw\":false},\"mode\":\"immediate\",\"transition\":{\"duration\":300}}],\"label\":\"7\",\"method\":\"animate\"},{\"args\":[[\"frame8\"],{\"frame\":{\"duration\":300,\"redraw\":false},\"mode\":\"immediate\",\"transition\":{\"duration\":300}}],\"label\":\"8\",\"method\":\"animate\"},{\"args\":[[\"frame9\"],{\"frame\":{\"duration\":300,\"redraw\":false},\"mode\":\"immediate\",\"transition\":{\"duration\":300}}],\"label\":\"9\",\"method\":\"animate\"},{\"args\":[[\"frame10\"],{\"frame\":{\"duration\":300,\"redraw\":false},\"mode\":\"immediate\",\"transition\":{\"duration\":300}}],\"label\":\"10\",\"method\":\"animate\"},{\"args\":[[\"frame11\"],{\"frame\":{\"duration\":300,\"redraw\":false},\"mode\":\"immediate\",\"transition\":{\"duration\":300}}],\"label\":\"11\",\"method\":\"animate\"},{\"args\":[[\"frame12\"],{\"frame\":{\"duration\":300,\"redraw\":false},\"mode\":\"immediate\",\"transition\":{\"duration\":300}}],\"label\":\"12\",\"method\":\"animate\"},{\"args\":[[\"frame13\"],{\"frame\":{\"duration\":300,\"redraw\":false},\"mode\":\"immediate\",\"transition\":{\"duration\":300}}],\"label\":\"13\",\"method\":\"animate\"},{\"args\":[[\"frame14\"],{\"frame\":{\"duration\":300,\"redraw\":false},\"mode\":\"immediate\",\"transition\":{\"duration\":300}}],\"label\":\"14\",\"method\":\"animate\"},{\"args\":[[\"frame15\"],{\"frame\":{\"duration\":300,\"redraw\":false},\"mode\":\"immediate\",\"transition\":{\"duration\":300}}],\"label\":\"15\",\"method\":\"animate\"},{\"args\":[[\"frame16\"],{\"frame\":{\"duration\":300,\"redraw\":false},\"mode\":\"immediate\",\"transition\":{\"duration\":300}}],\"label\":\"16\",\"method\":\"animate\"},{\"args\":[[\"frame17\"],{\"frame\":{\"duration\":300,\"redraw\":false},\"mode\":\"immediate\",\"transition\":{\"duration\":300}}],\"label\":\"17\",\"method\":\"animate\"},{\"args\":[[\"frame18\"],{\"frame\":{\"duration\":300,\"redraw\":false},\"mode\":\"immediate\",\"transition\":{\"duration\":300}}],\"label\":\"18\",\"method\":\"animate\"},{\"args\":[[\"frame19\"],{\"frame\":{\"duration\":300,\"redraw\":false},\"mode\":\"immediate\",\"transition\":{\"duration\":300}}],\"label\":\"19\",\"method\":\"animate\"},{\"args\":[[\"frame20\"],{\"frame\":{\"duration\":300,\"redraw\":false},\"mode\":\"immediate\",\"transition\":{\"duration\":300}}],\"label\":\"20\",\"method\":\"animate\"}],\"transition\":{\"duration\":300,\"easing\":\"cubic-in-out\"},\"x\":1,\"xanchor\":\"right\",\"y\":-0.4,\"yanchor\":\"bottom\"}],\"template\":{\"layout\":{\"colorway\":[\"#000000\",\"#784F17\",\"#FF0018\",\"#FFA52C\",\"#FFFF41\",\"#008018\",\"#0000F9\",\"#86007D\"],\"plot_bgcolor\":\"lightgrey\"}},\"title\":{\"text\":\"Game Flow\"},\"updatemenus\":[{\"buttons\":[{\"args\":[null,{\"frame\":{\"duration\":500,\"redraw\":false},\"fromcurrent\":true,\"transition\":{\"duration\":300,\"easing\":\"quadratic-in-out\"}}],\"label\":\"Play\",\"method\":\"animate\"},{\"args\":[[null],{\"frame\":{\"duration\":0,\"redraw\":false},\"mode\":\"immediate\",\"transition\":{\"duration\":0}}],\"label\":\"Pause\",\"method\":\"animate\"}],\"direction\":\"left\",\"pad\":{\"r\":10,\"t\":87},\"showactive\":false,\"type\":\"buttons\",\"x\":0.1,\"xanchor\":\"right\",\"y\":0,\"yanchor\":\"top\"}],\"width\":850,\"xaxis\":{\"range\":[0.5,21.5],\"title\":{\"text\":\"Points\"}},\"yaxis\":{\"range\":[-1.1,1.5],\"ticktext\":[\"Their Break\",\"Their Hold\",\"\",\"Our Hold\",\"Our Break\"],\"tickvals\":[-1,-0.5,0,0.5,1],\"title\":{\"text\":\"Point Type\"}}},                        {\"responsive\": true}                    ).then(function(){\n",
       "                            Plotly.addFrames('0716995e-5c34-4abc-9545-065cb4ae6242', [{\"data\":[{\"line\":{\"shape\":\"hv\"},\"mode\":\"lines+markers\",\"type\":\"scatter\",\"x\":[0],\"y\":[0]}],\"name\":\"frame0\"},{\"data\":[{\"line\":{\"shape\":\"hvh\"},\"mode\":\"lines+markers\",\"type\":\"scatter\",\"x\":[1],\"y\":[-0.5]}],\"layout\":{\"annotations\":[{\"font\":{\"color\":\"blue\"},\"text\":\"4M3W: JL,SB,MV,JV,JG,NK,SG\",\"x\":1,\"xref\":\"x\",\"y\":-0.5,\"yref\":\"y\"},{\"font\":{\"color\":\"orange\",\"size\":18},\"showarrow\":false,\"text\":\"FucZH 0-1 FSL (Quarters)\",\"x\":0.5,\"xref\":\"paper\",\"y\":1.4,\"yref\":\"y\"},{\"showarrow\":false,\"text\":\"Completed Passes: 0,Turns: 0\",\"x\":18,\"xref\":\"x\",\"y\":1.3,\"yref\":\"y\"}]},\"name\":\"frame1\"},{\"data\":[{\"line\":{\"shape\":\"hvh\"},\"mode\":\"lines+markers\",\"type\":\"scatter\",\"x\":[1,2],\"y\":[-0.5,0.5]}],\"layout\":{\"annotations\":[{\"font\":{\"color\":\"blue\"},\"text\":\"4W3M: AY,FS,MV,AL,SH,EL,GA\",\"x\":2,\"xref\":\"x\",\"y\":0.5,\"yref\":\"y\"},{\"font\":{\"color\":\"orange\",\"size\":18},\"showarrow\":false,\"text\":\"FucZH 1-1 FSL (Quarters)\",\"x\":0.5,\"xref\":\"paper\",\"y\":1.4,\"yref\":\"y\"},{\"showarrow\":false,\"text\":\"Completed Passes: 2,Turns: 0\",\"x\":18,\"xref\":\"x\",\"y\":1.3,\"yref\":\"y\"},{\"showarrow\":false,\"text\":\"Assist: FS, Goal:EL\",\"x\":18,\"xref\":\"x\",\"y\":1.4,\"yref\":\"y\"}]},\"name\":\"frame2\"},{\"data\":[{\"line\":{\"shape\":\"hvh\"},\"mode\":\"lines+markers\",\"type\":\"scatter\",\"x\":[1,2,3],\"y\":[-0.5,0.5,1.0]}],\"layout\":{\"annotations\":[{\"font\":{\"color\":\"blue\"},\"text\":\"4W3M: JL,SB,MV,AL,JV,NK,SG\",\"x\":3,\"xref\":\"x\",\"y\":1.0,\"yref\":\"y\"},{\"font\":{\"color\":\"orange\",\"size\":18},\"showarrow\":false,\"text\":\"FucZH 2-1 FSL (Quarters)\",\"x\":0.5,\"xref\":\"paper\",\"y\":1.4,\"yref\":\"y\"},{\"showarrow\":false,\"text\":\"Completed Passes: 1,Turns: 1\",\"x\":18,\"xref\":\"x\",\"y\":1.3,\"yref\":\"y\"},{\"showarrow\":false,\"text\":\"Assist: JV, Goal:SG\",\"x\":18,\"xref\":\"x\",\"y\":1.4,\"yref\":\"y\"}]},\"name\":\"frame3\"},{\"data\":[{\"line\":{\"shape\":\"hvh\"},\"mode\":\"lines+markers\",\"type\":\"scatter\",\"x\":[1,2,3,4],\"y\":[-0.5,0.5,1.0,1.0]}],\"layout\":{\"annotations\":[{\"font\":{\"color\":\"blue\"},\"text\":\"4M3W: AY,MV,CS,EL,JS,JG,SG\",\"x\":4,\"xref\":\"x\",\"y\":1.0,\"yref\":\"y\"},{\"font\":{\"color\":\"orange\",\"size\":18},\"showarrow\":false,\"text\":\"FucZH 3-1 FSL (Quarters)\",\"x\":0.5,\"xref\":\"paper\",\"y\":1.4,\"yref\":\"y\"},{\"showarrow\":false,\"text\":\"Completed Passes: 26,Turns: 7\",\"x\":18,\"xref\":\"x\",\"y\":1.3,\"yref\":\"y\"},{\"showarrow\":false,\"text\":\"Assist: JG, Goal:SG\",\"x\":18,\"xref\":\"x\",\"y\":1.4,\"yref\":\"y\"}]},\"name\":\"frame4\"},{\"data\":[{\"line\":{\"shape\":\"hvh\"},\"mode\":\"lines+markers\",\"type\":\"scatter\",\"x\":[1,2,3,4,5],\"y\":[-0.5,0.5,1.0,1.0,1.0]}],\"layout\":{\"annotations\":[{\"font\":{\"color\":\"blue\"},\"text\":\"4M3W: JL,SB,AL,SH,JV,NK,GA\",\"x\":5,\"xref\":\"x\",\"y\":1.0,\"yref\":\"y\"},{\"font\":{\"color\":\"orange\",\"size\":18},\"showarrow\":false,\"text\":\"FucZH 4-1 FSL (Quarters)\",\"x\":0.5,\"xref\":\"paper\",\"y\":1.4,\"yref\":\"y\"},{\"showarrow\":false,\"text\":\"Completed Passes: 6,Turns: 3\",\"x\":18,\"xref\":\"x\",\"y\":1.3,\"yref\":\"y\"},{\"showarrow\":false,\"text\":\"Assist: NK, Goal:JV\",\"x\":18,\"xref\":\"x\",\"y\":1.4,\"yref\":\"y\"}]},\"name\":\"frame5\"},{\"data\":[{\"line\":{\"shape\":\"hvh\"},\"mode\":\"lines+markers\",\"type\":\"scatter\",\"x\":[1,2,3,4,5,6],\"y\":[-0.5,0.5,1.0,1.0,1.0,-0.5]}],\"layout\":{\"annotations\":[{\"font\":{\"color\":\"blue\"},\"text\":\"4W3M: JL,SB,MV,EL,JS,JG,SG\",\"x\":6,\"xref\":\"x\",\"y\":-0.5,\"yref\":\"y\"},{\"font\":{\"color\":\"orange\",\"size\":18},\"showarrow\":false,\"text\":\"FucZH 4-2 FSL (Quarters)\",\"x\":0.5,\"xref\":\"paper\",\"y\":1.4,\"yref\":\"y\"},{\"showarrow\":false,\"text\":\"Completed Passes: 0,Turns: 2\",\"x\":18,\"xref\":\"x\",\"y\":1.3,\"yref\":\"y\"}]},\"name\":\"frame6\"},{\"data\":[{\"line\":{\"shape\":\"hvh\"},\"mode\":\"lines+markers\",\"type\":\"scatter\",\"x\":[1,2,3,4,5,6,7],\"y\":[-0.5,0.5,1.0,1.0,1.0,-0.5,0.5]}],\"layout\":{\"annotations\":[{\"font\":{\"color\":\"blue\"},\"text\":\"4W3M: JL,AY,FS,MV,AL,SH,GA\",\"x\":7,\"xref\":\"x\",\"y\":0.5,\"yref\":\"y\"},{\"font\":{\"color\":\"orange\",\"size\":18},\"showarrow\":false,\"text\":\"FucZH 5-2 FSL (Quarters)\",\"x\":0.5,\"xref\":\"paper\",\"y\":1.4,\"yref\":\"y\"},{\"showarrow\":false,\"text\":\"Completed Passes: 5,Turns: 0\",\"x\":18,\"xref\":\"x\",\"y\":1.3,\"yref\":\"y\"},{\"showarrow\":false,\"text\":\"Assist: GA, Goal:Anonymous\",\"x\":18,\"xref\":\"x\",\"y\":1.4,\"yref\":\"y\"}]},\"name\":\"frame7\"},{\"data\":[{\"line\":{\"shape\":\"hvh\"},\"mode\":\"lines+markers\",\"type\":\"scatter\",\"x\":[1,2,3,4,5,6,7,8],\"y\":[-0.5,0.5,1.0,1.0,1.0,-0.5,0.5,-0.5]}],\"layout\":{\"annotations\":[{\"font\":{\"color\":\"blue\"},\"text\":\"4M3W: SB,MV,EL,JV,JS,JG,NK\",\"x\":8,\"xref\":\"x\",\"y\":-0.5,\"yref\":\"y\"},{\"font\":{\"color\":\"orange\",\"size\":18},\"showarrow\":false,\"text\":\"FucZH 5-3 FSL (Quarters)\",\"x\":0.5,\"xref\":\"paper\",\"y\":1.4,\"yref\":\"y\"},{\"showarrow\":false,\"text\":\"Completed Passes: 1,Turns: 2\",\"x\":18,\"xref\":\"x\",\"y\":1.3,\"yref\":\"y\"}]},\"name\":\"frame8\"},{\"data\":[{\"line\":{\"shape\":\"hvh\"},\"mode\":\"lines+markers\",\"type\":\"scatter\",\"x\":[1,2,3,4,5,6,7,8,9],\"y\":[-0.5,0.5,1.0,1.0,1.0,-0.5,0.5,-0.5,-1.0]}],\"layout\":{\"annotations\":[{\"font\":{\"color\":\"blue\"},\"text\":\"4M3W: AY,JL,FS,AL,CS,SH,GA\",\"x\":9,\"xref\":\"x\",\"y\":-1.0,\"yref\":\"y\"},{\"font\":{\"color\":\"orange\",\"size\":18},\"showarrow\":false,\"text\":\"FucZH 5-4 FSL (Quarters)\",\"x\":0.5,\"xref\":\"paper\",\"y\":1.4,\"yref\":\"y\"},{\"showarrow\":false,\"text\":\"Completed Passes: 2,Turns: 1\",\"x\":18,\"xref\":\"x\",\"y\":1.3,\"yref\":\"y\"}]},\"name\":\"frame9\"},{\"data\":[{\"line\":{\"shape\":\"hvh\"},\"mode\":\"lines+markers\",\"type\":\"scatter\",\"x\":[1,2,3,4,5,6,7,8,9,10],\"y\":[-0.5,0.5,1.0,1.0,1.0,-0.5,0.5,-0.5,-1.0,0.5]}],\"layout\":{\"annotations\":[{\"font\":{\"color\":\"blue\"},\"text\":\"4W3M: AY,SB,FS,MV,SH,EL,GA\",\"x\":10,\"xref\":\"x\",\"y\":0.5,\"yref\":\"y\"},{\"font\":{\"color\":\"orange\",\"size\":18},\"showarrow\":false,\"text\":\"FucZH 6-4 FSL (Quarters)\",\"x\":0.5,\"xref\":\"paper\",\"y\":1.4,\"yref\":\"y\"},{\"showarrow\":false,\"text\":\"Completed Passes: 15,Turns: 0\",\"x\":18,\"xref\":\"x\",\"y\":1.3,\"yref\":\"y\"},{\"showarrow\":false,\"text\":\"Assist: SH, Goal:MV\",\"x\":18,\"xref\":\"x\",\"y\":1.4,\"yref\":\"y\"}]},\"name\":\"frame10\"},{\"data\":[{\"line\":{\"shape\":\"hvh\"},\"mode\":\"lines+markers\",\"type\":\"scatter\",\"x\":[1,2,3,4,5,6,7,8,9,10,11],\"y\":[-0.5,0.5,1.0,1.0,1.0,-0.5,0.5,-0.5,-1.0,0.5,-0.5]}],\"layout\":{\"annotations\":[{\"font\":{\"color\":\"blue\"},\"text\":\"4W3M: JL,MV,AL,CS,EL,JG,SG\",\"x\":11,\"xref\":\"x\",\"y\":-0.5,\"yref\":\"y\"},{\"font\":{\"color\":\"orange\",\"size\":18},\"showarrow\":false,\"text\":\"FucZH 6-5 FSL (Quarters)\",\"x\":0.5,\"xref\":\"paper\",\"y\":1.4,\"yref\":\"y\"},{\"showarrow\":false,\"text\":\"Completed Passes: 0,Turns: 0\",\"x\":18,\"xref\":\"x\",\"y\":1.3,\"yref\":\"y\"}]},\"name\":\"frame11\"},{\"data\":[{\"line\":{\"shape\":\"hvh\"},\"mode\":\"lines+markers\",\"type\":\"scatter\",\"x\":[1,2,3,4,5,6,7,8,9,10,11,12],\"y\":[-0.5,0.5,1.0,1.0,1.0,-0.5,0.5,-0.5,-1.0,0.5,-0.5,0.5]}],\"layout\":{\"annotations\":[{\"font\":{\"color\":\"blue\"},\"text\":\"4M3W: AY,SB,FS,MV,SH,JS,GA\",\"x\":12,\"xref\":\"x\",\"y\":0.5,\"yref\":\"y\"},{\"font\":{\"color\":\"orange\",\"size\":18},\"showarrow\":false,\"text\":\"FucZH 7-5 FSL (Quarters)\",\"x\":0.5,\"xref\":\"paper\",\"y\":1.4,\"yref\":\"y\"},{\"showarrow\":false,\"text\":\"Completed Passes: 4,Turns: 0\",\"x\":18,\"xref\":\"x\",\"y\":1.3,\"yref\":\"y\"},{\"showarrow\":false,\"text\":\"Assist: JS, Goal:GA\",\"x\":18,\"xref\":\"x\",\"y\":1.4,\"yref\":\"y\"}]},\"name\":\"frame12\"},{\"data\":[{\"line\":{\"shape\":\"hvh\"},\"mode\":\"lines+markers\",\"type\":\"scatter\",\"x\":[1,2,3,4,5,6,7,8,9,10,11,12,13],\"y\":[-0.5,0.5,1.0,1.0,1.0,-0.5,0.5,-0.5,-1.0,0.5,-0.5,0.5,-0.5]}],\"layout\":{\"annotations\":[{\"font\":{\"color\":\"blue\"},\"text\":\"4M3W: AY,JL,AL,CS,JV,JG,NK\",\"x\":13,\"xref\":\"x\",\"y\":-0.5,\"yref\":\"y\"},{\"font\":{\"color\":\"orange\",\"size\":18},\"showarrow\":false,\"text\":\"FucZH 7-6 FSL (Quarters)\",\"x\":0.5,\"xref\":\"paper\",\"y\":1.4,\"yref\":\"y\"},{\"showarrow\":false,\"text\":\"Completed Passes: 0,Turns: 0\",\"x\":18,\"xref\":\"x\",\"y\":1.3,\"yref\":\"y\"}]},\"name\":\"frame13\"},{\"data\":[{\"line\":{\"shape\":\"hvh\"},\"mode\":\"lines+markers\",\"type\":\"scatter\",\"x\":[1,2,3,4,5,6,7,8,9,10,11,12,13,14],\"y\":[-0.5,0.5,1.0,1.0,1.0,-0.5,0.5,-0.5,-1.0,0.5,-0.5,0.5,-0.5,0.5]}],\"layout\":{\"annotations\":[{\"font\":{\"color\":\"blue\"},\"text\":\"4W3M: SB,FS,JL,MV,SH,EL,GA\",\"x\":14,\"xref\":\"x\",\"y\":0.5,\"yref\":\"y\"},{\"font\":{\"color\":\"orange\",\"size\":18},\"showarrow\":false,\"text\":\"FucZH 8-6 FSL (Quarters)\",\"x\":0.5,\"xref\":\"paper\",\"y\":1.4,\"yref\":\"y\"},{\"showarrow\":false,\"text\":\"Completed Passes: 5,Turns: 2\",\"x\":18,\"xref\":\"x\",\"y\":1.3,\"yref\":\"y\"},{\"showarrow\":false,\"text\":\"Assist: SH, Goal:EL\",\"x\":18,\"xref\":\"x\",\"y\":1.4,\"yref\":\"y\"}]},\"name\":\"frame14\"},{\"data\":[{\"line\":{\"shape\":\"hvh\"},\"mode\":\"lines+markers\",\"type\":\"scatter\",\"x\":[1,2,3,4,5,6,7,8,9,10,11,12,13,14,15],\"y\":[-0.5,0.5,1.0,1.0,1.0,-0.5,0.5,-0.5,-1.0,0.5,-0.5,0.5,-0.5,0.5,0.5]}],\"layout\":{\"annotations\":[{\"font\":{\"color\":\"blue\"},\"text\":\"4W3M: SB,FS,JL,AY,MV,SH,JS\",\"x\":15,\"xref\":\"x\",\"y\":0.5,\"yref\":\"y\"},{\"font\":{\"color\":\"orange\",\"size\":18},\"showarrow\":false,\"text\":\"FucZH 9-6 FSL (Quarters)\",\"x\":0.5,\"xref\":\"paper\",\"y\":1.4,\"yref\":\"y\"},{\"showarrow\":false,\"text\":\"Completed Passes: 15,Turns: 0\",\"x\":18,\"xref\":\"x\",\"y\":1.3,\"yref\":\"y\"},{\"showarrow\":false,\"text\":\"Assist: Anonymous, Goal:AY\",\"x\":18,\"xref\":\"x\",\"y\":1.4,\"yref\":\"y\"}]},\"name\":\"frame15\"},{\"data\":[{\"line\":{\"shape\":\"hvh\"},\"mode\":\"lines+markers\",\"type\":\"scatter\",\"x\":[1,2,3,4,5,6,7,8,9,10,11,12,13,14,15,16],\"y\":[-0.5,0.5,1.0,1.0,1.0,-0.5,0.5,-0.5,-1.0,0.5,-0.5,0.5,-0.5,0.5,0.5,1.0]}],\"layout\":{\"annotations\":[{\"font\":{\"color\":\"blue\"},\"text\":\"4M3W: AY,AL,EL,JV,NK,JG,SG\",\"x\":16,\"xref\":\"x\",\"y\":1.0,\"yref\":\"y\"},{\"font\":{\"color\":\"orange\",\"size\":18},\"showarrow\":false,\"text\":\"FucZH 10-6 FSL (Quarters)\",\"x\":0.5,\"xref\":\"paper\",\"y\":1.4,\"yref\":\"y\"},{\"showarrow\":false,\"text\":\"Completed Passes: 2,Turns: 1\",\"x\":18,\"xref\":\"x\",\"y\":1.3,\"yref\":\"y\"},{\"showarrow\":false,\"text\":\"Assist: SG, Goal:NK\",\"x\":18,\"xref\":\"x\",\"y\":1.4,\"yref\":\"y\"}]},\"name\":\"frame16\"},{\"data\":[{\"line\":{\"shape\":\"hvh\"},\"mode\":\"lines+markers\",\"type\":\"scatter\",\"x\":[1,2,3,4,5,6,7,8,9,10,11,12,13,14,15,16,17],\"y\":[-0.5,0.5,1.0,1.0,1.0,-0.5,0.5,-0.5,-1.0,0.5,-0.5,0.5,-0.5,0.5,0.5,1.0,-0.5]}],\"layout\":{\"annotations\":[{\"font\":{\"color\":\"blue\"},\"text\":\"4M3W: JL,SB,MV,CS,JV,JG,SG\",\"x\":17,\"xref\":\"x\",\"y\":-0.5,\"yref\":\"y\"},{\"font\":{\"color\":\"orange\",\"size\":18},\"showarrow\":false,\"text\":\"FucZH 10-7 FSL (Quarters)\",\"x\":0.5,\"xref\":\"paper\",\"y\":1.4,\"yref\":\"y\"},{\"showarrow\":false,\"text\":\"Completed Passes: 0,Turns: 0\",\"x\":18,\"xref\":\"x\",\"y\":1.3,\"yref\":\"y\"}]},\"name\":\"frame17\"},{\"data\":[{\"line\":{\"shape\":\"hvh\"},\"mode\":\"lines+markers\",\"type\":\"scatter\",\"x\":[1,2,3,4,5,6,7,8,9,10,11,12,13,14,15,16,17,18],\"y\":[-0.5,0.5,1.0,1.0,1.0,-0.5,0.5,-0.5,-1.0,0.5,-0.5,0.5,-0.5,0.5,0.5,1.0,-0.5,0.5]}],\"layout\":{\"annotations\":[{\"font\":{\"color\":\"blue\"},\"text\":\"4W3M: FS,AY,MV,AL,SH,EL,GA\",\"x\":18,\"xref\":\"x\",\"y\":0.5,\"yref\":\"y\"},{\"font\":{\"color\":\"orange\",\"size\":18},\"showarrow\":false,\"text\":\"FucZH 11-7 FSL (Quarters)\",\"x\":0.5,\"xref\":\"paper\",\"y\":1.4,\"yref\":\"y\"},{\"showarrow\":false,\"text\":\"Completed Passes: 8,Turns: 2\",\"x\":18,\"xref\":\"x\",\"y\":1.3,\"yref\":\"y\"},{\"showarrow\":false,\"text\":\"Assist: Anonymous, Goal:EL\",\"x\":18,\"xref\":\"x\",\"y\":1.4,\"yref\":\"y\"}]},\"name\":\"frame18\"},{\"data\":[{\"line\":{\"shape\":\"hvh\"},\"mode\":\"lines+markers\",\"type\":\"scatter\",\"x\":[1,2,3,4,5,6,7,8,9,10,11,12,13,14,15,16,17,18,19],\"y\":[-0.5,0.5,1.0,1.0,1.0,-0.5,0.5,-0.5,-1.0,0.5,-0.5,0.5,-0.5,0.5,0.5,1.0,-0.5,0.5,1.0]}],\"layout\":{\"annotations\":[{\"font\":{\"color\":\"blue\"},\"text\":\"4M3W: SB,MV,AL,SH,JG,NK,SG\",\"x\":19,\"xref\":\"x\",\"y\":1.0,\"yref\":\"y\"},{\"font\":{\"color\":\"orange\",\"size\":18},\"showarrow\":false,\"text\":\"FucZH 12-7 FSL (Quarters)\",\"x\":0.5,\"xref\":\"paper\",\"y\":1.4,\"yref\":\"y\"},{\"showarrow\":false,\"text\":\"Completed Passes: 7,Turns: 1\",\"x\":18,\"xref\":\"x\",\"y\":1.3,\"yref\":\"y\"},{\"showarrow\":false,\"text\":\"Assist: SG, Goal:Anonymous\",\"x\":18,\"xref\":\"x\",\"y\":1.4,\"yref\":\"y\"}]},\"name\":\"frame19\"},{\"data\":[{\"line\":{\"shape\":\"hvh\"},\"mode\":\"lines+markers\",\"type\":\"scatter\",\"x\":[1,2,3,4,5,6,7,8,9,10,11,12,13,14,15,16,17,18,19,20],\"y\":[-0.5,0.5,1.0,1.0,1.0,-0.5,0.5,-0.5,-1.0,0.5,-0.5,0.5,-0.5,0.5,0.5,1.0,-0.5,0.5,1.0,1.0]}],\"layout\":{\"annotations\":[{\"font\":{\"color\":\"blue\"},\"text\":\"4W3M: AY,JL,MV,CS,EL,NK,JG\",\"x\":20,\"xref\":\"x\",\"y\":1.0,\"yref\":\"y\"},{\"font\":{\"color\":\"orange\",\"size\":18},\"showarrow\":false,\"text\":\"FucZH 13-7 FSL (Quarters)\",\"x\":0.5,\"xref\":\"paper\",\"y\":1.4,\"yref\":\"y\"},{\"showarrow\":false,\"text\":\"Completed Passes: 12,Turns: 3\",\"x\":18,\"xref\":\"x\",\"y\":1.3,\"yref\":\"y\"},{\"showarrow\":false,\"text\":\"Assist: SG, Goal:EL\",\"x\":18,\"xref\":\"x\",\"y\":1.4,\"yref\":\"y\"}]},\"name\":\"frame20\"}]);\n",
       "                        }).then(function(){\n",
       "                            \n",
       "var gd = document.getElementById('0716995e-5c34-4abc-9545-065cb4ae6242');\n",
       "var x = new MutationObserver(function (mutations, observer) {{\n",
       "        var display = window.getComputedStyle(gd).display;\n",
       "        if (!display || display === 'none') {{\n",
       "            console.log([gd, 'removed!']);\n",
       "            Plotly.purge(gd);\n",
       "            observer.disconnect();\n",
       "        }}\n",
       "}});\n",
       "\n",
       "// Listen for the removal of the full notebook cells\n",
       "var notebookContainer = gd.closest('#notebook-container');\n",
       "if (notebookContainer) {{\n",
       "    x.observe(notebookContainer, {childList: true});\n",
       "}}\n",
       "\n",
       "// Listen for the clearing of the current output cell\n",
       "var outputEl = gd.closest('.output');\n",
       "if (outputEl) {{\n",
       "    x.observe(outputEl, {childList: true});\n",
       "}}\n",
       "\n",
       "                        })                };                });            </script>        </div>"
      ]
     },
     "metadata": {},
     "output_type": "display_data"
    }
   ],
   "source": [
    "fig=game_flow_fig(df,'FSL (Quarters)',slidew,slideh)\n",
    "fig.show()"
   ]
  },
  {
   "cell_type": "code",
   "execution_count": 153,
   "metadata": {
    "slideshow": {
     "slide_type": "fragment"
    },
    "tags": [
     "to_remove"
    ]
   },
   "outputs": [
    {
     "data": {
      "application/vnd.plotly.v1+json": {
       "config": {
        "plotlyServerURL": "https://plotly.com"
       },
       "data": [
        {
         "mode": "lines+markers",
         "type": "scatter",
         "x": [
          0
         ],
         "y": [
          0
         ]
        }
       ],
       "frames": [
        {
         "data": [
          {
           "line": {
            "shape": "hv"
           },
           "mode": "lines+markers",
           "type": "scatter",
           "x": [
            0
           ],
           "y": [
            0
           ]
          }
         ],
         "name": "frame0"
        },
        {
         "data": [
          {
           "line": {
            "shape": "hvh"
           },
           "mode": "lines+markers",
           "type": "scatter",
           "x": [
            1
           ],
           "y": [
            1
           ]
          }
         ],
         "layout": {
          "annotations": [
           {
            "font": {
             "color": "blue"
            },
            "text": "4M3W: JL,AL,CS,EL,JV,NK,SG",
            "x": 1,
            "xref": "x",
            "y": 1,
            "yref": "y"
           },
           {
            "font": {
             "color": "orange",
             "size": 18
            },
            "showarrow": false,
            "text": "FucZH 1-0 Fly High (Semis)",
            "x": 0.5,
            "xref": "paper",
            "y": 1.4,
            "yref": "y"
           },
           {
            "showarrow": false,
            "text": "Completed Passes: 1,Turns: 1",
            "x": 18,
            "xref": "x",
            "y": 1.3,
            "yref": "y"
           },
           {
            "showarrow": false,
            "text": "Assist: JV, Goal:Anonymous",
            "x": 18,
            "xref": "x",
            "y": 1.4,
            "yref": "y"
           }
          ]
         },
         "name": "frame1"
        },
        {
         "data": [
          {
           "line": {
            "shape": "hvh"
           },
           "mode": "lines+markers",
           "type": "scatter",
           "x": [
            1,
            2
           ],
           "y": [
            1,
            -0.5
           ]
          }
         ],
         "layout": {
          "annotations": [
           {
            "font": {
             "color": "blue"
            },
            "text": "4W3M: AY,JL,SB,AL,JV,JG,SG",
            "x": 2,
            "xref": "x",
            "y": -0.5,
            "yref": "y"
           },
           {
            "font": {
             "color": "orange",
             "size": 18
            },
            "showarrow": false,
            "text": "FucZH 1-1 Fly High (Semis)",
            "x": 0.5,
            "xref": "paper",
            "y": 1.4,
            "yref": "y"
           },
           {
            "showarrow": false,
            "text": "Completed Passes: 5,Turns: 2",
            "x": 18,
            "xref": "x",
            "y": 1.3,
            "yref": "y"
           }
          ]
         },
         "name": "frame2"
        },
        {
         "data": [
          {
           "line": {
            "shape": "hvh"
           },
           "mode": "lines+markers",
           "type": "scatter",
           "x": [
            1,
            2,
            3
           ],
           "y": [
            1,
            -0.5,
            0.5
           ]
          }
         ],
         "layout": {
          "annotations": [
           {
            "font": {
             "color": "blue"
            },
            "text": "4W3M: FS,SB,AY,AL,SH,EL,GA",
            "x": 3,
            "xref": "x",
            "y": 0.5,
            "yref": "y"
           },
           {
            "font": {
             "color": "orange",
             "size": 18
            },
            "showarrow": false,
            "text": "FucZH 2-1 Fly High (Semis)",
            "x": 0.5,
            "xref": "paper",
            "y": 1.4,
            "yref": "y"
           },
           {
            "showarrow": false,
            "text": "Completed Passes: 9,Turns: 0",
            "x": 18,
            "xref": "x",
            "y": 1.3,
            "yref": "y"
           },
           {
            "showarrow": false,
            "text": "Assist: FS, Goal:EL",
            "x": 18,
            "xref": "x",
            "y": 1.4,
            "yref": "y"
           }
          ]
         },
         "name": "frame3"
        },
        {
         "data": [
          {
           "line": {
            "shape": "hvh"
           },
           "mode": "lines+markers",
           "type": "scatter",
           "x": [
            1,
            2,
            3,
            4
           ],
           "y": [
            1,
            -0.5,
            0.5,
            -0.5
           ]
          }
         ],
         "layout": {
          "annotations": [
           {
            "font": {
             "color": "blue"
            },
            "text": "4M3W: SB,JL,EL,JV,JG,NK,SG",
            "x": 4,
            "xref": "x",
            "y": -0.5,
            "yref": "y"
           },
           {
            "font": {
             "color": "orange",
             "size": 18
            },
            "showarrow": false,
            "text": "FucZH 2-2 Fly High (Semis)",
            "x": 0.5,
            "xref": "paper",
            "y": 1.4,
            "yref": "y"
           },
           {
            "showarrow": false,
            "text": "Completed Passes: 0,Turns: 2",
            "x": 18,
            "xref": "x",
            "y": 1.3,
            "yref": "y"
           }
          ]
         },
         "name": "frame4"
        },
        {
         "data": [
          {
           "line": {
            "shape": "hvh"
           },
           "mode": "lines+markers",
           "type": "scatter",
           "x": [
            1,
            2,
            3,
            4,
            5
           ],
           "y": [
            1,
            -0.5,
            0.5,
            -0.5,
            0.5
           ]
          }
         ],
         "layout": {
          "annotations": [
           {
            "font": {
             "color": "blue"
            },
            "text": "4M3W: FS,AY,AL,SH,EL,JS,GA",
            "x": 5,
            "xref": "x",
            "y": 0.5,
            "yref": "y"
           },
           {
            "font": {
             "color": "orange",
             "size": 18
            },
            "showarrow": false,
            "text": "FucZH 3-2 Fly High (Semis)",
            "x": 0.5,
            "xref": "paper",
            "y": 1.4,
            "yref": "y"
           },
           {
            "showarrow": false,
            "text": "Completed Passes: 7,Turns: 2",
            "x": 18,
            "xref": "x",
            "y": 1.3,
            "yref": "y"
           },
           {
            "showarrow": false,
            "text": "Assist: FS, Goal:GA",
            "x": 18,
            "xref": "x",
            "y": 1.4,
            "yref": "y"
           }
          ]
         },
         "name": "frame5"
        },
        {
         "data": [
          {
           "line": {
            "shape": "hvh"
           },
           "mode": "lines+markers",
           "type": "scatter",
           "x": [
            1,
            2,
            3,
            4,
            5,
            6
           ],
           "y": [
            1,
            -0.5,
            0.5,
            -0.5,
            0.5,
            1
           ]
          }
         ],
         "layout": {
          "annotations": [
           {
            "font": {
             "color": "blue"
            },
            "text": "4W3M: SB,AY,AL,EL,JV,NK,SG",
            "x": 6,
            "xref": "x",
            "y": 1,
            "yref": "y"
           },
           {
            "font": {
             "color": "orange",
             "size": 18
            },
            "showarrow": false,
            "text": "FucZH 4-2 Fly High (Semis)",
            "x": 0.5,
            "xref": "paper",
            "y": 1.4,
            "yref": "y"
           },
           {
            "showarrow": false,
            "text": "Completed Passes: 7,Turns: 1",
            "x": 18,
            "xref": "x",
            "y": 1.3,
            "yref": "y"
           },
           {
            "showarrow": false,
            "text": "Assist: JV, Goal:NK",
            "x": 18,
            "xref": "x",
            "y": 1.4,
            "yref": "y"
           }
          ]
         },
         "name": "frame6"
        },
        {
         "data": [
          {
           "line": {
            "shape": "hvh"
           },
           "mode": "lines+markers",
           "type": "scatter",
           "x": [
            1,
            2,
            3,
            4,
            5,
            6,
            7
           ],
           "y": [
            1,
            -0.5,
            0.5,
            -0.5,
            0.5,
            1,
            -0.5
           ]
          }
         ],
         "layout": {
          "annotations": [
           {
            "font": {
             "color": "blue"
            },
            "text": "4W3M: JL,AY,SB,AL,CS,EL,JV",
            "x": 7,
            "xref": "x",
            "y": -0.5,
            "yref": "y"
           },
           {
            "font": {
             "color": "orange",
             "size": 18
            },
            "showarrow": false,
            "text": "FucZH 4-3 Fly High (Semis)",
            "x": 0.5,
            "xref": "paper",
            "y": 1.4,
            "yref": "y"
           },
           {
            "showarrow": false,
            "text": "Completed Passes: 2,Turns: 2",
            "x": 18,
            "xref": "x",
            "y": 1.3,
            "yref": "y"
           }
          ]
         },
         "name": "frame7"
        },
        {
         "data": [
          {
           "line": {
            "shape": "hvh"
           },
           "mode": "lines+markers",
           "type": "scatter",
           "x": [
            1,
            2,
            3,
            4,
            5,
            6,
            7,
            8
           ],
           "y": [
            1,
            -0.5,
            0.5,
            -0.5,
            0.5,
            1,
            -0.5,
            0.5
           ]
          }
         ],
         "layout": {
          "annotations": [
           {
            "font": {
             "color": "blue"
            },
            "text": "4M3W: FS,AY,JL,AL,SH,JS,GA",
            "x": 8,
            "xref": "x",
            "y": 0.5,
            "yref": "y"
           },
           {
            "font": {
             "color": "orange",
             "size": 18
            },
            "showarrow": false,
            "text": "FucZH 5-3 Fly High (Semis)",
            "x": 0.5,
            "xref": "paper",
            "y": 1.4,
            "yref": "y"
           },
           {
            "showarrow": false,
            "text": "Completed Passes: 5,Turns: 2",
            "x": 18,
            "xref": "x",
            "y": 1.3,
            "yref": "y"
           },
           {
            "showarrow": false,
            "text": "Assist: GA, Goal:SH",
            "x": 18,
            "xref": "x",
            "y": 1.4,
            "yref": "y"
           }
          ]
         },
         "name": "frame8"
        },
        {
         "data": [
          {
           "line": {
            "shape": "hvh"
           },
           "mode": "lines+markers",
           "type": "scatter",
           "x": [
            1,
            2,
            3,
            4,
            5,
            6,
            7,
            8,
            9
           ],
           "y": [
            1,
            -0.5,
            0.5,
            -0.5,
            0.5,
            1,
            -0.5,
            0.5,
            0.5
           ]
          }
         ],
         "layout": {
          "annotations": [
           {
            "font": {
             "color": "blue"
            },
            "text": "4W3M: JL,AY,FS,AL,SH,EL,GA",
            "x": 9,
            "xref": "x",
            "y": 0.5,
            "yref": "y"
           },
           {
            "font": {
             "color": "orange",
             "size": 18
            },
            "showarrow": false,
            "text": "FucZH 6-3 Fly High (Semis)",
            "x": 0.5,
            "xref": "paper",
            "y": 1.4,
            "yref": "y"
           },
           {
            "showarrow": false,
            "text": "Completed Passes: 7,Turns: 0",
            "x": 18,
            "xref": "x",
            "y": 1.3,
            "yref": "y"
           },
           {
            "showarrow": false,
            "text": "Assist: GA, Goal:JL",
            "x": 18,
            "xref": "x",
            "y": 1.4,
            "yref": "y"
           }
          ]
         },
         "name": "frame9"
        },
        {
         "data": [
          {
           "line": {
            "shape": "hvh"
           },
           "mode": "lines+markers",
           "type": "scatter",
           "x": [
            1,
            2,
            3,
            4,
            5,
            6,
            7,
            8,
            9,
            10
           ],
           "y": [
            1,
            -0.5,
            0.5,
            -0.5,
            0.5,
            1,
            -0.5,
            0.5,
            0.5,
            1
           ]
          }
         ],
         "layout": {
          "annotations": [
           {
            "font": {
             "color": "blue"
            },
            "text": "4M3W: JL,AL,CS,EL,JV,NK,SG",
            "x": 10,
            "xref": "x",
            "y": 1,
            "yref": "y"
           },
           {
            "font": {
             "color": "orange",
             "size": 18
            },
            "showarrow": false,
            "text": "FucZH 7-3 Fly High (Semis)",
            "x": 0.5,
            "xref": "paper",
            "y": 1.4,
            "yref": "y"
           },
           {
            "showarrow": false,
            "text": "Completed Passes: 24,Turns: 7",
            "x": 18,
            "xref": "x",
            "y": 1.3,
            "yref": "y"
           },
           {
            "showarrow": false,
            "text": "Assist: NK, Goal:EL",
            "x": 18,
            "xref": "x",
            "y": 1.4,
            "yref": "y"
           }
          ]
         },
         "name": "frame10"
        },
        {
         "data": [
          {
           "line": {
            "shape": "hvh"
           },
           "mode": "lines+markers",
           "type": "scatter",
           "x": [
            1,
            2,
            3,
            4,
            5,
            6,
            7,
            8,
            9,
            10,
            11
           ],
           "y": [
            1,
            -0.5,
            0.5,
            -0.5,
            0.5,
            1,
            -0.5,
            0.5,
            0.5,
            1,
            -0.5
           ]
          }
         ],
         "layout": {
          "annotations": [
           {
            "font": {
             "color": "blue"
            },
            "text": "4W3M: AY,JL,FS,AL,EL,JS,JG",
            "x": 11,
            "xref": "x",
            "y": -0.5,
            "yref": "y"
           },
           {
            "font": {
             "color": "orange",
             "size": 18
            },
            "showarrow": false,
            "text": "FucZH 7-4 Fly High (Semis)",
            "x": 0.5,
            "xref": "paper",
            "y": 1.4,
            "yref": "y"
           },
           {
            "showarrow": false,
            "text": "Completed Passes: 0,Turns: 0",
            "x": 18,
            "xref": "x",
            "y": 1.3,
            "yref": "y"
           }
          ]
         },
         "name": "frame11"
        },
        {
         "data": [
          {
           "line": {
            "shape": "hvh"
           },
           "mode": "lines+markers",
           "type": "scatter",
           "x": [
            1,
            2,
            3,
            4,
            5,
            6,
            7,
            8,
            9,
            10,
            11,
            12
           ],
           "y": [
            1,
            -0.5,
            0.5,
            -0.5,
            0.5,
            1,
            -0.5,
            0.5,
            0.5,
            1,
            -0.5,
            0.5
           ]
          }
         ],
         "layout": {
          "annotations": [
           {
            "font": {
             "color": "blue"
            },
            "text": "4W3M: FS,JL,AY,AL,SH,EL,GA",
            "x": 12,
            "xref": "x",
            "y": 0.5,
            "yref": "y"
           },
           {
            "font": {
             "color": "orange",
             "size": 18
            },
            "showarrow": false,
            "text": "FucZH 8-4 Fly High (Semis)",
            "x": 0.5,
            "xref": "paper",
            "y": 1.4,
            "yref": "y"
           },
           {
            "showarrow": false,
            "text": "Completed Passes: 5,Turns: 0",
            "x": 18,
            "xref": "x",
            "y": 1.3,
            "yref": "y"
           },
           {
            "showarrow": false,
            "text": "Assist: SH, Goal:GA",
            "x": 18,
            "xref": "x",
            "y": 1.4,
            "yref": "y"
           }
          ]
         },
         "name": "frame12"
        },
        {
         "data": [
          {
           "line": {
            "shape": "hvh"
           },
           "mode": "lines+markers",
           "type": "scatter",
           "x": [
            1,
            2,
            3,
            4,
            5,
            6,
            7,
            8,
            9,
            10,
            11,
            12,
            13
           ],
           "y": [
            1,
            -0.5,
            0.5,
            -0.5,
            0.5,
            1,
            -0.5,
            0.5,
            0.5,
            1,
            -0.5,
            0.5,
            -0.5
           ]
          }
         ],
         "layout": {
          "annotations": [
           {
            "font": {
             "color": "blue"
            },
            "text": "4M3W: AY,JL,AL,CS,JV,NK,SG",
            "x": 13,
            "xref": "x",
            "y": -0.5,
            "yref": "y"
           },
           {
            "font": {
             "color": "orange",
             "size": 18
            },
            "showarrow": false,
            "text": "FucZH 8-5 Fly High (Semis)",
            "x": 0.5,
            "xref": "paper",
            "y": 1.4,
            "yref": "y"
           },
           {
            "showarrow": false,
            "text": "Completed Passes: 0,Turns: 2",
            "x": 18,
            "xref": "x",
            "y": 1.3,
            "yref": "y"
           }
          ]
         },
         "name": "frame13"
        },
        {
         "data": [
          {
           "line": {
            "shape": "hvh"
           },
           "mode": "lines+markers",
           "type": "scatter",
           "x": [
            1,
            2,
            3,
            4,
            5,
            6,
            7,
            8,
            9,
            10,
            11,
            12,
            13,
            14
           ],
           "y": [
            1,
            -0.5,
            0.5,
            -0.5,
            0.5,
            1,
            -0.5,
            0.5,
            0.5,
            1,
            -0.5,
            0.5,
            -0.5,
            0.5
           ]
          }
         ],
         "layout": {
          "annotations": [
           {
            "font": {
             "color": "blue"
            },
            "text": "4M3W: FS,AY,AL,SH,EL,JS,GA",
            "x": 14,
            "xref": "x",
            "y": 0.5,
            "yref": "y"
           },
           {
            "font": {
             "color": "orange",
             "size": 18
            },
            "showarrow": false,
            "text": "FucZH 9-5 Fly High (Semis)",
            "x": 0.5,
            "xref": "paper",
            "y": 1.4,
            "yref": "y"
           },
           {
            "showarrow": false,
            "text": "Completed Passes: 3,Turns: 0",
            "x": 18,
            "xref": "x",
            "y": 1.3,
            "yref": "y"
           },
           {
            "showarrow": false,
            "text": "Assist: SH, Goal:Anonymous",
            "x": 18,
            "xref": "x",
            "y": 1.4,
            "yref": "y"
           }
          ]
         },
         "name": "frame14"
        },
        {
         "data": [
          {
           "line": {
            "shape": "hvh"
           },
           "mode": "lines+markers",
           "type": "scatter",
           "x": [
            1,
            2,
            3,
            4,
            5,
            6,
            7,
            8,
            9,
            10,
            11,
            12,
            13,
            14,
            15
           ],
           "y": [
            1,
            -0.5,
            0.5,
            -0.5,
            0.5,
            1,
            -0.5,
            0.5,
            0.5,
            1,
            -0.5,
            0.5,
            -0.5,
            0.5,
            -0.5
           ]
          }
         ],
         "layout": {
          "annotations": [
           {
            "font": {
             "color": "blue"
            },
            "text": "4W3M: AY,JL,AL,EL,JG,NK,SG",
            "x": 15,
            "xref": "x",
            "y": -0.5,
            "yref": "y"
           },
           {
            "font": {
             "color": "orange",
             "size": 18
            },
            "showarrow": false,
            "text": "FucZH 9-6 Fly High (Semis)",
            "x": 0.5,
            "xref": "paper",
            "y": 1.4,
            "yref": "y"
           },
           {
            "showarrow": false,
            "text": "Completed Passes: 0,Turns: 0",
            "x": 18,
            "xref": "x",
            "y": 1.3,
            "yref": "y"
           }
          ]
         },
         "name": "frame15"
        },
        {
         "data": [
          {
           "line": {
            "shape": "hvh"
           },
           "mode": "lines+markers",
           "type": "scatter",
           "x": [
            1,
            2,
            3,
            4,
            5,
            6,
            7,
            8,
            9,
            10,
            11,
            12,
            13,
            14,
            15,
            16
           ],
           "y": [
            1,
            -0.5,
            0.5,
            -0.5,
            0.5,
            1,
            -0.5,
            0.5,
            0.5,
            1,
            -0.5,
            0.5,
            -0.5,
            0.5,
            -0.5,
            -1
           ]
          }
         ],
         "layout": {
          "annotations": [
           {
            "font": {
             "color": "blue"
            },
            "text": "4W3M: AY,JL,FS,AL,SH,EL,GA",
            "x": 16,
            "xref": "x",
            "y": -1,
            "yref": "y"
           },
           {
            "font": {
             "color": "orange",
             "size": 18
            },
            "showarrow": false,
            "text": "FucZH 9-7 Fly High (Semis)",
            "x": 0.5,
            "xref": "paper",
            "y": 1.4,
            "yref": "y"
           },
           {
            "showarrow": false,
            "text": "Completed Passes: 7,Turns: 5",
            "x": 18,
            "xref": "x",
            "y": 1.3,
            "yref": "y"
           }
          ]
         },
         "name": "frame16"
        },
        {
         "data": [
          {
           "line": {
            "shape": "hvh"
           },
           "mode": "lines+markers",
           "type": "scatter",
           "x": [
            1,
            2,
            3,
            4,
            5,
            6,
            7,
            8,
            9,
            10,
            11,
            12,
            13,
            14,
            15,
            16,
            17
           ],
           "y": [
            1,
            -0.5,
            0.5,
            -0.5,
            0.5,
            1,
            -0.5,
            0.5,
            0.5,
            1,
            -0.5,
            0.5,
            -0.5,
            0.5,
            -0.5,
            -1,
            0.5
           ]
          }
         ],
         "layout": {
          "annotations": [
           {
            "font": {
             "color": "blue"
            },
            "text": "4M3W: FS,AY,JL,SH,EL,JS,GA",
            "x": 17,
            "xref": "x",
            "y": 0.5,
            "yref": "y"
           },
           {
            "font": {
             "color": "orange",
             "size": 18
            },
            "showarrow": false,
            "text": "FucZH 10-7 Fly High (Semis)",
            "x": 0.5,
            "xref": "paper",
            "y": 1.4,
            "yref": "y"
           },
           {
            "showarrow": false,
            "text": "Completed Passes: 6,Turns: 0",
            "x": 18,
            "xref": "x",
            "y": 1.3,
            "yref": "y"
           },
           {
            "showarrow": false,
            "text": "Assist: FS, Goal:EL",
            "x": 18,
            "xref": "x",
            "y": 1.4,
            "yref": "y"
           }
          ]
         },
         "name": "frame17"
        },
        {
         "data": [
          {
           "line": {
            "shape": "hvh"
           },
           "mode": "lines+markers",
           "type": "scatter",
           "x": [
            1,
            2,
            3,
            4,
            5,
            6,
            7,
            8,
            9,
            10,
            11,
            12,
            13,
            14,
            15,
            16,
            17,
            18
           ],
           "y": [
            1,
            -0.5,
            0.5,
            -0.5,
            0.5,
            1,
            -0.5,
            0.5,
            0.5,
            1,
            -0.5,
            0.5,
            -0.5,
            0.5,
            -0.5,
            -1,
            0.5,
            -0.5
           ]
          }
         ],
         "layout": {
          "annotations": [
           {
            "font": {
             "color": "blue"
            },
            "text": "4M3W: JL,AL,EL,JV,NK,JG,SG",
            "x": 18,
            "xref": "x",
            "y": -0.5,
            "yref": "y"
           },
           {
            "font": {
             "color": "orange",
             "size": 18
            },
            "showarrow": false,
            "text": "FucZH 10-8 Fly High (Semis)",
            "x": 0.5,
            "xref": "paper",
            "y": 1.4,
            "yref": "y"
           },
           {
            "showarrow": false,
            "text": "Completed Passes: 0,Turns: 0",
            "x": 18,
            "xref": "x",
            "y": 1.3,
            "yref": "y"
           }
          ]
         },
         "name": "frame18"
        },
        {
         "data": [
          {
           "line": {
            "shape": "hvh"
           },
           "mode": "lines+markers",
           "type": "scatter",
           "x": [
            1,
            2,
            3,
            4,
            5,
            6,
            7,
            8,
            9,
            10,
            11,
            12,
            13,
            14,
            15,
            16,
            17,
            18,
            19
           ],
           "y": [
            1,
            -0.5,
            0.5,
            -0.5,
            0.5,
            1,
            -0.5,
            0.5,
            0.5,
            1,
            -0.5,
            0.5,
            -0.5,
            0.5,
            -0.5,
            -1,
            0.5,
            -0.5,
            0.5
           ]
          }
         ],
         "layout": {
          "annotations": [
           {
            "font": {
             "color": "blue"
            },
            "text": "4W3M: FS,AY,JL,AL,SH,EL,GA",
            "x": 19,
            "xref": "x",
            "y": 0.5,
            "yref": "y"
           },
           {
            "font": {
             "color": "orange",
             "size": 18
            },
            "showarrow": false,
            "text": "FucZH 11-8 Fly High (Semis)",
            "x": 0.5,
            "xref": "paper",
            "y": 1.4,
            "yref": "y"
           },
           {
            "showarrow": false,
            "text": "Completed Passes: 2,Turns: 0",
            "x": 18,
            "xref": "x",
            "y": 1.3,
            "yref": "y"
           },
           {
            "showarrow": false,
            "text": "Assist: GA, Goal:FS",
            "x": 18,
            "xref": "x",
            "y": 1.4,
            "yref": "y"
           }
          ]
         },
         "name": "frame19"
        },
        {
         "data": [
          {
           "line": {
            "shape": "hvh"
           },
           "mode": "lines+markers",
           "type": "scatter",
           "x": [
            1,
            2,
            3,
            4,
            5,
            6,
            7,
            8,
            9,
            10,
            11,
            12,
            13,
            14,
            15,
            16,
            17,
            18,
            19,
            20
           ],
           "y": [
            1,
            -0.5,
            0.5,
            -0.5,
            0.5,
            1,
            -0.5,
            0.5,
            0.5,
            1,
            -0.5,
            0.5,
            -0.5,
            0.5,
            -0.5,
            -1,
            0.5,
            -0.5,
            0.5,
            -0.5
           ]
          }
         ],
         "layout": {
          "annotations": [
           {
            "font": {
             "color": "blue"
            },
            "text": "4W3M: JL,AY,AL,EL,JV,NK,SG",
            "x": 20,
            "xref": "x",
            "y": -0.5,
            "yref": "y"
           },
           {
            "font": {
             "color": "orange",
             "size": 18
            },
            "showarrow": false,
            "text": "FucZH 11-9 Fly High (Semis)",
            "x": 0.5,
            "xref": "paper",
            "y": 1.4,
            "yref": "y"
           },
           {
            "showarrow": false,
            "text": "Completed Passes: 0,Turns: 0",
            "x": 18,
            "xref": "x",
            "y": 1.3,
            "yref": "y"
           }
          ]
         },
         "name": "frame20"
        }
       ],
       "layout": {
        "height": 600,
        "hovermode": "closest",
        "images": [
         {
          "sizex": 0.2,
          "sizey": 0.2,
          "source": "https://raw.githubusercontent.com/elastufka/presentations/master/images/ZU_logo1.png",
          "x": 0,
          "xanchor": "right",
          "xref": "paper",
          "y": 1.05,
          "yanchor": "bottom",
          "yref": "paper"
         }
        ],
        "sliders": [
         {
          "active": 0,
          "currentvalue": {
           "font": {
            "size": 14
           },
           "prefix": "Point:",
           "visible": true,
           "xanchor": "right"
          },
          "len": 0.9,
          "pad": {
           "b": 10,
           "t": 10
          },
          "steps": [
           {
            "args": [
             [
              "frame1"
             ],
             {
              "frame": {
               "duration": 300,
               "redraw": false
              },
              "mode": "immediate",
              "transition": {
               "duration": 300
              }
             }
            ],
            "label": "1",
            "method": "animate"
           },
           {
            "args": [
             [
              "frame2"
             ],
             {
              "frame": {
               "duration": 300,
               "redraw": false
              },
              "mode": "immediate",
              "transition": {
               "duration": 300
              }
             }
            ],
            "label": "2",
            "method": "animate"
           },
           {
            "args": [
             [
              "frame3"
             ],
             {
              "frame": {
               "duration": 300,
               "redraw": false
              },
              "mode": "immediate",
              "transition": {
               "duration": 300
              }
             }
            ],
            "label": "3",
            "method": "animate"
           },
           {
            "args": [
             [
              "frame4"
             ],
             {
              "frame": {
               "duration": 300,
               "redraw": false
              },
              "mode": "immediate",
              "transition": {
               "duration": 300
              }
             }
            ],
            "label": "4",
            "method": "animate"
           },
           {
            "args": [
             [
              "frame5"
             ],
             {
              "frame": {
               "duration": 300,
               "redraw": false
              },
              "mode": "immediate",
              "transition": {
               "duration": 300
              }
             }
            ],
            "label": "5",
            "method": "animate"
           },
           {
            "args": [
             [
              "frame6"
             ],
             {
              "frame": {
               "duration": 300,
               "redraw": false
              },
              "mode": "immediate",
              "transition": {
               "duration": 300
              }
             }
            ],
            "label": "6",
            "method": "animate"
           },
           {
            "args": [
             [
              "frame7"
             ],
             {
              "frame": {
               "duration": 300,
               "redraw": false
              },
              "mode": "immediate",
              "transition": {
               "duration": 300
              }
             }
            ],
            "label": "7",
            "method": "animate"
           },
           {
            "args": [
             [
              "frame8"
             ],
             {
              "frame": {
               "duration": 300,
               "redraw": false
              },
              "mode": "immediate",
              "transition": {
               "duration": 300
              }
             }
            ],
            "label": "8",
            "method": "animate"
           },
           {
            "args": [
             [
              "frame9"
             ],
             {
              "frame": {
               "duration": 300,
               "redraw": false
              },
              "mode": "immediate",
              "transition": {
               "duration": 300
              }
             }
            ],
            "label": "9",
            "method": "animate"
           },
           {
            "args": [
             [
              "frame10"
             ],
             {
              "frame": {
               "duration": 300,
               "redraw": false
              },
              "mode": "immediate",
              "transition": {
               "duration": 300
              }
             }
            ],
            "label": "10",
            "method": "animate"
           },
           {
            "args": [
             [
              "frame11"
             ],
             {
              "frame": {
               "duration": 300,
               "redraw": false
              },
              "mode": "immediate",
              "transition": {
               "duration": 300
              }
             }
            ],
            "label": "11",
            "method": "animate"
           },
           {
            "args": [
             [
              "frame12"
             ],
             {
              "frame": {
               "duration": 300,
               "redraw": false
              },
              "mode": "immediate",
              "transition": {
               "duration": 300
              }
             }
            ],
            "label": "12",
            "method": "animate"
           },
           {
            "args": [
             [
              "frame13"
             ],
             {
              "frame": {
               "duration": 300,
               "redraw": false
              },
              "mode": "immediate",
              "transition": {
               "duration": 300
              }
             }
            ],
            "label": "13",
            "method": "animate"
           },
           {
            "args": [
             [
              "frame14"
             ],
             {
              "frame": {
               "duration": 300,
               "redraw": false
              },
              "mode": "immediate",
              "transition": {
               "duration": 300
              }
             }
            ],
            "label": "14",
            "method": "animate"
           },
           {
            "args": [
             [
              "frame15"
             ],
             {
              "frame": {
               "duration": 300,
               "redraw": false
              },
              "mode": "immediate",
              "transition": {
               "duration": 300
              }
             }
            ],
            "label": "15",
            "method": "animate"
           },
           {
            "args": [
             [
              "frame16"
             ],
             {
              "frame": {
               "duration": 300,
               "redraw": false
              },
              "mode": "immediate",
              "transition": {
               "duration": 300
              }
             }
            ],
            "label": "16",
            "method": "animate"
           },
           {
            "args": [
             [
              "frame17"
             ],
             {
              "frame": {
               "duration": 300,
               "redraw": false
              },
              "mode": "immediate",
              "transition": {
               "duration": 300
              }
             }
            ],
            "label": "17",
            "method": "animate"
           },
           {
            "args": [
             [
              "frame18"
             ],
             {
              "frame": {
               "duration": 300,
               "redraw": false
              },
              "mode": "immediate",
              "transition": {
               "duration": 300
              }
             }
            ],
            "label": "18",
            "method": "animate"
           },
           {
            "args": [
             [
              "frame19"
             ],
             {
              "frame": {
               "duration": 300,
               "redraw": false
              },
              "mode": "immediate",
              "transition": {
               "duration": 300
              }
             }
            ],
            "label": "19",
            "method": "animate"
           },
           {
            "args": [
             [
              "frame20"
             ],
             {
              "frame": {
               "duration": 300,
               "redraw": false
              },
              "mode": "immediate",
              "transition": {
               "duration": 300
              }
             }
            ],
            "label": "20",
            "method": "animate"
           }
          ],
          "transition": {
           "duration": 300,
           "easing": "cubic-in-out"
          },
          "x": 1,
          "xanchor": "right",
          "y": -0.4,
          "yanchor": "bottom"
         }
        ],
        "template": {
         "layout": {
          "colorway": [
           "#000000",
           "#784F17",
           "#FF0018",
           "#FFA52C",
           "#FFFF41",
           "#008018",
           "#0000F9",
           "#86007D"
          ],
          "plot_bgcolor": "lightgrey"
         }
        },
        "title": {
         "text": "Game Flow"
        },
        "updatemenus": [
         {
          "buttons": [
           {
            "args": [
             null,
             {
              "frame": {
               "duration": 500,
               "redraw": false
              },
              "fromcurrent": true,
              "transition": {
               "duration": 300,
               "easing": "quadratic-in-out"
              }
             }
            ],
            "label": "Play",
            "method": "animate"
           },
           {
            "args": [
             [
              null
             ],
             {
              "frame": {
               "duration": 0,
               "redraw": false
              },
              "mode": "immediate",
              "transition": {
               "duration": 0
              }
             }
            ],
            "label": "Pause",
            "method": "animate"
           }
          ],
          "direction": "left",
          "pad": {
           "r": 10,
           "t": 87
          },
          "showactive": false,
          "type": "buttons",
          "x": 0.1,
          "xanchor": "right",
          "y": 0,
          "yanchor": "top"
         }
        ],
        "width": 850,
        "xaxis": {
         "range": [
          0.5,
          21.5
         ],
         "title": {
          "text": "Points"
         }
        },
        "yaxis": {
         "range": [
          -1.1,
          1.5
         ],
         "ticktext": [
          "Their Break",
          "Their Hold",
          "",
          "Our Hold",
          "Our Break"
         ],
         "tickvals": [
          -1,
          -0.5,
          0,
          0.5,
          1
         ],
         "title": {
          "text": "Point Type"
         }
        }
       }
      },
      "text/html": [
       "<div>                            <div id=\"18df8bd5-2db4-43d1-879d-1217892571c9\" class=\"plotly-graph-div\" style=\"height:600px; width:850px;\"></div>            <script type=\"text/javascript\">                require([\"plotly\"], function(Plotly) {                    window.PLOTLYENV=window.PLOTLYENV || {};                                    if (document.getElementById(\"18df8bd5-2db4-43d1-879d-1217892571c9\")) {                    Plotly.newPlot(                        \"18df8bd5-2db4-43d1-879d-1217892571c9\",                        [{\"mode\":\"lines+markers\",\"type\":\"scatter\",\"x\":[0],\"y\":[0]}],                        {\"height\":600,\"hovermode\":\"closest\",\"images\":[{\"sizex\":0.2,\"sizey\":0.2,\"source\":\"https://raw.githubusercontent.com/elastufka/presentations/master/images/ZU_logo1.png\",\"x\":0,\"xanchor\":\"right\",\"xref\":\"paper\",\"y\":1.05,\"yanchor\":\"bottom\",\"yref\":\"paper\"}],\"sliders\":[{\"active\":0,\"currentvalue\":{\"font\":{\"size\":14},\"prefix\":\"Point:\",\"visible\":true,\"xanchor\":\"right\"},\"len\":0.9,\"pad\":{\"b\":10,\"t\":10},\"steps\":[{\"args\":[[\"frame1\"],{\"frame\":{\"duration\":300,\"redraw\":false},\"mode\":\"immediate\",\"transition\":{\"duration\":300}}],\"label\":\"1\",\"method\":\"animate\"},{\"args\":[[\"frame2\"],{\"frame\":{\"duration\":300,\"redraw\":false},\"mode\":\"immediate\",\"transition\":{\"duration\":300}}],\"label\":\"2\",\"method\":\"animate\"},{\"args\":[[\"frame3\"],{\"frame\":{\"duration\":300,\"redraw\":false},\"mode\":\"immediate\",\"transition\":{\"duration\":300}}],\"label\":\"3\",\"method\":\"animate\"},{\"args\":[[\"frame4\"],{\"frame\":{\"duration\":300,\"redraw\":false},\"mode\":\"immediate\",\"transition\":{\"duration\":300}}],\"label\":\"4\",\"method\":\"animate\"},{\"args\":[[\"frame5\"],{\"frame\":{\"duration\":300,\"redraw\":false},\"mode\":\"immediate\",\"transition\":{\"duration\":300}}],\"label\":\"5\",\"method\":\"animate\"},{\"args\":[[\"frame6\"],{\"frame\":{\"duration\":300,\"redraw\":false},\"mode\":\"immediate\",\"transition\":{\"duration\":300}}],\"label\":\"6\",\"method\":\"animate\"},{\"args\":[[\"frame7\"],{\"frame\":{\"duration\":300,\"redraw\":false},\"mode\":\"immediate\",\"transition\":{\"duration\":300}}],\"label\":\"7\",\"method\":\"animate\"},{\"args\":[[\"frame8\"],{\"frame\":{\"duration\":300,\"redraw\":false},\"mode\":\"immediate\",\"transition\":{\"duration\":300}}],\"label\":\"8\",\"method\":\"animate\"},{\"args\":[[\"frame9\"],{\"frame\":{\"duration\":300,\"redraw\":false},\"mode\":\"immediate\",\"transition\":{\"duration\":300}}],\"label\":\"9\",\"method\":\"animate\"},{\"args\":[[\"frame10\"],{\"frame\":{\"duration\":300,\"redraw\":false},\"mode\":\"immediate\",\"transition\":{\"duration\":300}}],\"label\":\"10\",\"method\":\"animate\"},{\"args\":[[\"frame11\"],{\"frame\":{\"duration\":300,\"redraw\":false},\"mode\":\"immediate\",\"transition\":{\"duration\":300}}],\"label\":\"11\",\"method\":\"animate\"},{\"args\":[[\"frame12\"],{\"frame\":{\"duration\":300,\"redraw\":false},\"mode\":\"immediate\",\"transition\":{\"duration\":300}}],\"label\":\"12\",\"method\":\"animate\"},{\"args\":[[\"frame13\"],{\"frame\":{\"duration\":300,\"redraw\":false},\"mode\":\"immediate\",\"transition\":{\"duration\":300}}],\"label\":\"13\",\"method\":\"animate\"},{\"args\":[[\"frame14\"],{\"frame\":{\"duration\":300,\"redraw\":false},\"mode\":\"immediate\",\"transition\":{\"duration\":300}}],\"label\":\"14\",\"method\":\"animate\"},{\"args\":[[\"frame15\"],{\"frame\":{\"duration\":300,\"redraw\":false},\"mode\":\"immediate\",\"transition\":{\"duration\":300}}],\"label\":\"15\",\"method\":\"animate\"},{\"args\":[[\"frame16\"],{\"frame\":{\"duration\":300,\"redraw\":false},\"mode\":\"immediate\",\"transition\":{\"duration\":300}}],\"label\":\"16\",\"method\":\"animate\"},{\"args\":[[\"frame17\"],{\"frame\":{\"duration\":300,\"redraw\":false},\"mode\":\"immediate\",\"transition\":{\"duration\":300}}],\"label\":\"17\",\"method\":\"animate\"},{\"args\":[[\"frame18\"],{\"frame\":{\"duration\":300,\"redraw\":false},\"mode\":\"immediate\",\"transition\":{\"duration\":300}}],\"label\":\"18\",\"method\":\"animate\"},{\"args\":[[\"frame19\"],{\"frame\":{\"duration\":300,\"redraw\":false},\"mode\":\"immediate\",\"transition\":{\"duration\":300}}],\"label\":\"19\",\"method\":\"animate\"},{\"args\":[[\"frame20\"],{\"frame\":{\"duration\":300,\"redraw\":false},\"mode\":\"immediate\",\"transition\":{\"duration\":300}}],\"label\":\"20\",\"method\":\"animate\"}],\"transition\":{\"duration\":300,\"easing\":\"cubic-in-out\"},\"x\":1,\"xanchor\":\"right\",\"y\":-0.4,\"yanchor\":\"bottom\"}],\"template\":{\"layout\":{\"colorway\":[\"#000000\",\"#784F17\",\"#FF0018\",\"#FFA52C\",\"#FFFF41\",\"#008018\",\"#0000F9\",\"#86007D\"],\"plot_bgcolor\":\"lightgrey\"}},\"title\":{\"text\":\"Game Flow\"},\"updatemenus\":[{\"buttons\":[{\"args\":[null,{\"frame\":{\"duration\":500,\"redraw\":false},\"fromcurrent\":true,\"transition\":{\"duration\":300,\"easing\":\"quadratic-in-out\"}}],\"label\":\"Play\",\"method\":\"animate\"},{\"args\":[[null],{\"frame\":{\"duration\":0,\"redraw\":false},\"mode\":\"immediate\",\"transition\":{\"duration\":0}}],\"label\":\"Pause\",\"method\":\"animate\"}],\"direction\":\"left\",\"pad\":{\"r\":10,\"t\":87},\"showactive\":false,\"type\":\"buttons\",\"x\":0.1,\"xanchor\":\"right\",\"y\":0,\"yanchor\":\"top\"}],\"width\":850,\"xaxis\":{\"range\":[0.5,21.5],\"title\":{\"text\":\"Points\"}},\"yaxis\":{\"range\":[-1.1,1.5],\"ticktext\":[\"Their Break\",\"Their Hold\",\"\",\"Our Hold\",\"Our Break\"],\"tickvals\":[-1,-0.5,0,0.5,1],\"title\":{\"text\":\"Point Type\"}}},                        {\"responsive\": true}                    ).then(function(){\n",
       "                            Plotly.addFrames('18df8bd5-2db4-43d1-879d-1217892571c9', [{\"data\":[{\"line\":{\"shape\":\"hv\"},\"mode\":\"lines+markers\",\"type\":\"scatter\",\"x\":[0],\"y\":[0]}],\"name\":\"frame0\"},{\"data\":[{\"line\":{\"shape\":\"hvh\"},\"mode\":\"lines+markers\",\"type\":\"scatter\",\"x\":[1],\"y\":[1.0]}],\"layout\":{\"annotations\":[{\"font\":{\"color\":\"blue\"},\"text\":\"4M3W: JL,AL,CS,EL,JV,NK,SG\",\"x\":1,\"xref\":\"x\",\"y\":1.0,\"yref\":\"y\"},{\"font\":{\"color\":\"orange\",\"size\":18},\"showarrow\":false,\"text\":\"FucZH 1-0 Fly High (Semis)\",\"x\":0.5,\"xref\":\"paper\",\"y\":1.4,\"yref\":\"y\"},{\"showarrow\":false,\"text\":\"Completed Passes: 1,Turns: 1\",\"x\":18,\"xref\":\"x\",\"y\":1.3,\"yref\":\"y\"},{\"showarrow\":false,\"text\":\"Assist: JV, Goal:Anonymous\",\"x\":18,\"xref\":\"x\",\"y\":1.4,\"yref\":\"y\"}]},\"name\":\"frame1\"},{\"data\":[{\"line\":{\"shape\":\"hvh\"},\"mode\":\"lines+markers\",\"type\":\"scatter\",\"x\":[1,2],\"y\":[1.0,-0.5]}],\"layout\":{\"annotations\":[{\"font\":{\"color\":\"blue\"},\"text\":\"4W3M: AY,JL,SB,AL,JV,JG,SG\",\"x\":2,\"xref\":\"x\",\"y\":-0.5,\"yref\":\"y\"},{\"font\":{\"color\":\"orange\",\"size\":18},\"showarrow\":false,\"text\":\"FucZH 1-1 Fly High (Semis)\",\"x\":0.5,\"xref\":\"paper\",\"y\":1.4,\"yref\":\"y\"},{\"showarrow\":false,\"text\":\"Completed Passes: 5,Turns: 2\",\"x\":18,\"xref\":\"x\",\"y\":1.3,\"yref\":\"y\"}]},\"name\":\"frame2\"},{\"data\":[{\"line\":{\"shape\":\"hvh\"},\"mode\":\"lines+markers\",\"type\":\"scatter\",\"x\":[1,2,3],\"y\":[1.0,-0.5,0.5]}],\"layout\":{\"annotations\":[{\"font\":{\"color\":\"blue\"},\"text\":\"4W3M: FS,SB,AY,AL,SH,EL,GA\",\"x\":3,\"xref\":\"x\",\"y\":0.5,\"yref\":\"y\"},{\"font\":{\"color\":\"orange\",\"size\":18},\"showarrow\":false,\"text\":\"FucZH 2-1 Fly High (Semis)\",\"x\":0.5,\"xref\":\"paper\",\"y\":1.4,\"yref\":\"y\"},{\"showarrow\":false,\"text\":\"Completed Passes: 9,Turns: 0\",\"x\":18,\"xref\":\"x\",\"y\":1.3,\"yref\":\"y\"},{\"showarrow\":false,\"text\":\"Assist: FS, Goal:EL\",\"x\":18,\"xref\":\"x\",\"y\":1.4,\"yref\":\"y\"}]},\"name\":\"frame3\"},{\"data\":[{\"line\":{\"shape\":\"hvh\"},\"mode\":\"lines+markers\",\"type\":\"scatter\",\"x\":[1,2,3,4],\"y\":[1.0,-0.5,0.5,-0.5]}],\"layout\":{\"annotations\":[{\"font\":{\"color\":\"blue\"},\"text\":\"4M3W: SB,JL,EL,JV,JG,NK,SG\",\"x\":4,\"xref\":\"x\",\"y\":-0.5,\"yref\":\"y\"},{\"font\":{\"color\":\"orange\",\"size\":18},\"showarrow\":false,\"text\":\"FucZH 2-2 Fly High (Semis)\",\"x\":0.5,\"xref\":\"paper\",\"y\":1.4,\"yref\":\"y\"},{\"showarrow\":false,\"text\":\"Completed Passes: 0,Turns: 2\",\"x\":18,\"xref\":\"x\",\"y\":1.3,\"yref\":\"y\"}]},\"name\":\"frame4\"},{\"data\":[{\"line\":{\"shape\":\"hvh\"},\"mode\":\"lines+markers\",\"type\":\"scatter\",\"x\":[1,2,3,4,5],\"y\":[1.0,-0.5,0.5,-0.5,0.5]}],\"layout\":{\"annotations\":[{\"font\":{\"color\":\"blue\"},\"text\":\"4M3W: FS,AY,AL,SH,EL,JS,GA\",\"x\":5,\"xref\":\"x\",\"y\":0.5,\"yref\":\"y\"},{\"font\":{\"color\":\"orange\",\"size\":18},\"showarrow\":false,\"text\":\"FucZH 3-2 Fly High (Semis)\",\"x\":0.5,\"xref\":\"paper\",\"y\":1.4,\"yref\":\"y\"},{\"showarrow\":false,\"text\":\"Completed Passes: 7,Turns: 2\",\"x\":18,\"xref\":\"x\",\"y\":1.3,\"yref\":\"y\"},{\"showarrow\":false,\"text\":\"Assist: FS, Goal:GA\",\"x\":18,\"xref\":\"x\",\"y\":1.4,\"yref\":\"y\"}]},\"name\":\"frame5\"},{\"data\":[{\"line\":{\"shape\":\"hvh\"},\"mode\":\"lines+markers\",\"type\":\"scatter\",\"x\":[1,2,3,4,5,6],\"y\":[1.0,-0.5,0.5,-0.5,0.5,1.0]}],\"layout\":{\"annotations\":[{\"font\":{\"color\":\"blue\"},\"text\":\"4W3M: SB,AY,AL,EL,JV,NK,SG\",\"x\":6,\"xref\":\"x\",\"y\":1.0,\"yref\":\"y\"},{\"font\":{\"color\":\"orange\",\"size\":18},\"showarrow\":false,\"text\":\"FucZH 4-2 Fly High (Semis)\",\"x\":0.5,\"xref\":\"paper\",\"y\":1.4,\"yref\":\"y\"},{\"showarrow\":false,\"text\":\"Completed Passes: 7,Turns: 1\",\"x\":18,\"xref\":\"x\",\"y\":1.3,\"yref\":\"y\"},{\"showarrow\":false,\"text\":\"Assist: JV, Goal:NK\",\"x\":18,\"xref\":\"x\",\"y\":1.4,\"yref\":\"y\"}]},\"name\":\"frame6\"},{\"data\":[{\"line\":{\"shape\":\"hvh\"},\"mode\":\"lines+markers\",\"type\":\"scatter\",\"x\":[1,2,3,4,5,6,7],\"y\":[1.0,-0.5,0.5,-0.5,0.5,1.0,-0.5]}],\"layout\":{\"annotations\":[{\"font\":{\"color\":\"blue\"},\"text\":\"4W3M: JL,AY,SB,AL,CS,EL,JV\",\"x\":7,\"xref\":\"x\",\"y\":-0.5,\"yref\":\"y\"},{\"font\":{\"color\":\"orange\",\"size\":18},\"showarrow\":false,\"text\":\"FucZH 4-3 Fly High (Semis)\",\"x\":0.5,\"xref\":\"paper\",\"y\":1.4,\"yref\":\"y\"},{\"showarrow\":false,\"text\":\"Completed Passes: 2,Turns: 2\",\"x\":18,\"xref\":\"x\",\"y\":1.3,\"yref\":\"y\"}]},\"name\":\"frame7\"},{\"data\":[{\"line\":{\"shape\":\"hvh\"},\"mode\":\"lines+markers\",\"type\":\"scatter\",\"x\":[1,2,3,4,5,6,7,8],\"y\":[1.0,-0.5,0.5,-0.5,0.5,1.0,-0.5,0.5]}],\"layout\":{\"annotations\":[{\"font\":{\"color\":\"blue\"},\"text\":\"4M3W: FS,AY,JL,AL,SH,JS,GA\",\"x\":8,\"xref\":\"x\",\"y\":0.5,\"yref\":\"y\"},{\"font\":{\"color\":\"orange\",\"size\":18},\"showarrow\":false,\"text\":\"FucZH 5-3 Fly High (Semis)\",\"x\":0.5,\"xref\":\"paper\",\"y\":1.4,\"yref\":\"y\"},{\"showarrow\":false,\"text\":\"Completed Passes: 5,Turns: 2\",\"x\":18,\"xref\":\"x\",\"y\":1.3,\"yref\":\"y\"},{\"showarrow\":false,\"text\":\"Assist: GA, Goal:SH\",\"x\":18,\"xref\":\"x\",\"y\":1.4,\"yref\":\"y\"}]},\"name\":\"frame8\"},{\"data\":[{\"line\":{\"shape\":\"hvh\"},\"mode\":\"lines+markers\",\"type\":\"scatter\",\"x\":[1,2,3,4,5,6,7,8,9],\"y\":[1.0,-0.5,0.5,-0.5,0.5,1.0,-0.5,0.5,0.5]}],\"layout\":{\"annotations\":[{\"font\":{\"color\":\"blue\"},\"text\":\"4W3M: JL,AY,FS,AL,SH,EL,GA\",\"x\":9,\"xref\":\"x\",\"y\":0.5,\"yref\":\"y\"},{\"font\":{\"color\":\"orange\",\"size\":18},\"showarrow\":false,\"text\":\"FucZH 6-3 Fly High (Semis)\",\"x\":0.5,\"xref\":\"paper\",\"y\":1.4,\"yref\":\"y\"},{\"showarrow\":false,\"text\":\"Completed Passes: 7,Turns: 0\",\"x\":18,\"xref\":\"x\",\"y\":1.3,\"yref\":\"y\"},{\"showarrow\":false,\"text\":\"Assist: GA, Goal:JL\",\"x\":18,\"xref\":\"x\",\"y\":1.4,\"yref\":\"y\"}]},\"name\":\"frame9\"},{\"data\":[{\"line\":{\"shape\":\"hvh\"},\"mode\":\"lines+markers\",\"type\":\"scatter\",\"x\":[1,2,3,4,5,6,7,8,9,10],\"y\":[1.0,-0.5,0.5,-0.5,0.5,1.0,-0.5,0.5,0.5,1.0]}],\"layout\":{\"annotations\":[{\"font\":{\"color\":\"blue\"},\"text\":\"4M3W: JL,AL,CS,EL,JV,NK,SG\",\"x\":10,\"xref\":\"x\",\"y\":1.0,\"yref\":\"y\"},{\"font\":{\"color\":\"orange\",\"size\":18},\"showarrow\":false,\"text\":\"FucZH 7-3 Fly High (Semis)\",\"x\":0.5,\"xref\":\"paper\",\"y\":1.4,\"yref\":\"y\"},{\"showarrow\":false,\"text\":\"Completed Passes: 24,Turns: 7\",\"x\":18,\"xref\":\"x\",\"y\":1.3,\"yref\":\"y\"},{\"showarrow\":false,\"text\":\"Assist: NK, Goal:EL\",\"x\":18,\"xref\":\"x\",\"y\":1.4,\"yref\":\"y\"}]},\"name\":\"frame10\"},{\"data\":[{\"line\":{\"shape\":\"hvh\"},\"mode\":\"lines+markers\",\"type\":\"scatter\",\"x\":[1,2,3,4,5,6,7,8,9,10,11],\"y\":[1.0,-0.5,0.5,-0.5,0.5,1.0,-0.5,0.5,0.5,1.0,-0.5]}],\"layout\":{\"annotations\":[{\"font\":{\"color\":\"blue\"},\"text\":\"4W3M: AY,JL,FS,AL,EL,JS,JG\",\"x\":11,\"xref\":\"x\",\"y\":-0.5,\"yref\":\"y\"},{\"font\":{\"color\":\"orange\",\"size\":18},\"showarrow\":false,\"text\":\"FucZH 7-4 Fly High (Semis)\",\"x\":0.5,\"xref\":\"paper\",\"y\":1.4,\"yref\":\"y\"},{\"showarrow\":false,\"text\":\"Completed Passes: 0,Turns: 0\",\"x\":18,\"xref\":\"x\",\"y\":1.3,\"yref\":\"y\"}]},\"name\":\"frame11\"},{\"data\":[{\"line\":{\"shape\":\"hvh\"},\"mode\":\"lines+markers\",\"type\":\"scatter\",\"x\":[1,2,3,4,5,6,7,8,9,10,11,12],\"y\":[1.0,-0.5,0.5,-0.5,0.5,1.0,-0.5,0.5,0.5,1.0,-0.5,0.5]}],\"layout\":{\"annotations\":[{\"font\":{\"color\":\"blue\"},\"text\":\"4W3M: FS,JL,AY,AL,SH,EL,GA\",\"x\":12,\"xref\":\"x\",\"y\":0.5,\"yref\":\"y\"},{\"font\":{\"color\":\"orange\",\"size\":18},\"showarrow\":false,\"text\":\"FucZH 8-4 Fly High (Semis)\",\"x\":0.5,\"xref\":\"paper\",\"y\":1.4,\"yref\":\"y\"},{\"showarrow\":false,\"text\":\"Completed Passes: 5,Turns: 0\",\"x\":18,\"xref\":\"x\",\"y\":1.3,\"yref\":\"y\"},{\"showarrow\":false,\"text\":\"Assist: SH, Goal:GA\",\"x\":18,\"xref\":\"x\",\"y\":1.4,\"yref\":\"y\"}]},\"name\":\"frame12\"},{\"data\":[{\"line\":{\"shape\":\"hvh\"},\"mode\":\"lines+markers\",\"type\":\"scatter\",\"x\":[1,2,3,4,5,6,7,8,9,10,11,12,13],\"y\":[1.0,-0.5,0.5,-0.5,0.5,1.0,-0.5,0.5,0.5,1.0,-0.5,0.5,-0.5]}],\"layout\":{\"annotations\":[{\"font\":{\"color\":\"blue\"},\"text\":\"4M3W: AY,JL,AL,CS,JV,NK,SG\",\"x\":13,\"xref\":\"x\",\"y\":-0.5,\"yref\":\"y\"},{\"font\":{\"color\":\"orange\",\"size\":18},\"showarrow\":false,\"text\":\"FucZH 8-5 Fly High (Semis)\",\"x\":0.5,\"xref\":\"paper\",\"y\":1.4,\"yref\":\"y\"},{\"showarrow\":false,\"text\":\"Completed Passes: 0,Turns: 2\",\"x\":18,\"xref\":\"x\",\"y\":1.3,\"yref\":\"y\"}]},\"name\":\"frame13\"},{\"data\":[{\"line\":{\"shape\":\"hvh\"},\"mode\":\"lines+markers\",\"type\":\"scatter\",\"x\":[1,2,3,4,5,6,7,8,9,10,11,12,13,14],\"y\":[1.0,-0.5,0.5,-0.5,0.5,1.0,-0.5,0.5,0.5,1.0,-0.5,0.5,-0.5,0.5]}],\"layout\":{\"annotations\":[{\"font\":{\"color\":\"blue\"},\"text\":\"4M3W: FS,AY,AL,SH,EL,JS,GA\",\"x\":14,\"xref\":\"x\",\"y\":0.5,\"yref\":\"y\"},{\"font\":{\"color\":\"orange\",\"size\":18},\"showarrow\":false,\"text\":\"FucZH 9-5 Fly High (Semis)\",\"x\":0.5,\"xref\":\"paper\",\"y\":1.4,\"yref\":\"y\"},{\"showarrow\":false,\"text\":\"Completed Passes: 3,Turns: 0\",\"x\":18,\"xref\":\"x\",\"y\":1.3,\"yref\":\"y\"},{\"showarrow\":false,\"text\":\"Assist: SH, Goal:Anonymous\",\"x\":18,\"xref\":\"x\",\"y\":1.4,\"yref\":\"y\"}]},\"name\":\"frame14\"},{\"data\":[{\"line\":{\"shape\":\"hvh\"},\"mode\":\"lines+markers\",\"type\":\"scatter\",\"x\":[1,2,3,4,5,6,7,8,9,10,11,12,13,14,15],\"y\":[1.0,-0.5,0.5,-0.5,0.5,1.0,-0.5,0.5,0.5,1.0,-0.5,0.5,-0.5,0.5,-0.5]}],\"layout\":{\"annotations\":[{\"font\":{\"color\":\"blue\"},\"text\":\"4W3M: AY,JL,AL,EL,JG,NK,SG\",\"x\":15,\"xref\":\"x\",\"y\":-0.5,\"yref\":\"y\"},{\"font\":{\"color\":\"orange\",\"size\":18},\"showarrow\":false,\"text\":\"FucZH 9-6 Fly High (Semis)\",\"x\":0.5,\"xref\":\"paper\",\"y\":1.4,\"yref\":\"y\"},{\"showarrow\":false,\"text\":\"Completed Passes: 0,Turns: 0\",\"x\":18,\"xref\":\"x\",\"y\":1.3,\"yref\":\"y\"}]},\"name\":\"frame15\"},{\"data\":[{\"line\":{\"shape\":\"hvh\"},\"mode\":\"lines+markers\",\"type\":\"scatter\",\"x\":[1,2,3,4,5,6,7,8,9,10,11,12,13,14,15,16],\"y\":[1.0,-0.5,0.5,-0.5,0.5,1.0,-0.5,0.5,0.5,1.0,-0.5,0.5,-0.5,0.5,-0.5,-1.0]}],\"layout\":{\"annotations\":[{\"font\":{\"color\":\"blue\"},\"text\":\"4W3M: AY,JL,FS,AL,SH,EL,GA\",\"x\":16,\"xref\":\"x\",\"y\":-1.0,\"yref\":\"y\"},{\"font\":{\"color\":\"orange\",\"size\":18},\"showarrow\":false,\"text\":\"FucZH 9-7 Fly High (Semis)\",\"x\":0.5,\"xref\":\"paper\",\"y\":1.4,\"yref\":\"y\"},{\"showarrow\":false,\"text\":\"Completed Passes: 7,Turns: 5\",\"x\":18,\"xref\":\"x\",\"y\":1.3,\"yref\":\"y\"}]},\"name\":\"frame16\"},{\"data\":[{\"line\":{\"shape\":\"hvh\"},\"mode\":\"lines+markers\",\"type\":\"scatter\",\"x\":[1,2,3,4,5,6,7,8,9,10,11,12,13,14,15,16,17],\"y\":[1.0,-0.5,0.5,-0.5,0.5,1.0,-0.5,0.5,0.5,1.0,-0.5,0.5,-0.5,0.5,-0.5,-1.0,0.5]}],\"layout\":{\"annotations\":[{\"font\":{\"color\":\"blue\"},\"text\":\"4M3W: FS,AY,JL,SH,EL,JS,GA\",\"x\":17,\"xref\":\"x\",\"y\":0.5,\"yref\":\"y\"},{\"font\":{\"color\":\"orange\",\"size\":18},\"showarrow\":false,\"text\":\"FucZH 10-7 Fly High (Semis)\",\"x\":0.5,\"xref\":\"paper\",\"y\":1.4,\"yref\":\"y\"},{\"showarrow\":false,\"text\":\"Completed Passes: 6,Turns: 0\",\"x\":18,\"xref\":\"x\",\"y\":1.3,\"yref\":\"y\"},{\"showarrow\":false,\"text\":\"Assist: FS, Goal:EL\",\"x\":18,\"xref\":\"x\",\"y\":1.4,\"yref\":\"y\"}]},\"name\":\"frame17\"},{\"data\":[{\"line\":{\"shape\":\"hvh\"},\"mode\":\"lines+markers\",\"type\":\"scatter\",\"x\":[1,2,3,4,5,6,7,8,9,10,11,12,13,14,15,16,17,18],\"y\":[1.0,-0.5,0.5,-0.5,0.5,1.0,-0.5,0.5,0.5,1.0,-0.5,0.5,-0.5,0.5,-0.5,-1.0,0.5,-0.5]}],\"layout\":{\"annotations\":[{\"font\":{\"color\":\"blue\"},\"text\":\"4M3W: JL,AL,EL,JV,NK,JG,SG\",\"x\":18,\"xref\":\"x\",\"y\":-0.5,\"yref\":\"y\"},{\"font\":{\"color\":\"orange\",\"size\":18},\"showarrow\":false,\"text\":\"FucZH 10-8 Fly High (Semis)\",\"x\":0.5,\"xref\":\"paper\",\"y\":1.4,\"yref\":\"y\"},{\"showarrow\":false,\"text\":\"Completed Passes: 0,Turns: 0\",\"x\":18,\"xref\":\"x\",\"y\":1.3,\"yref\":\"y\"}]},\"name\":\"frame18\"},{\"data\":[{\"line\":{\"shape\":\"hvh\"},\"mode\":\"lines+markers\",\"type\":\"scatter\",\"x\":[1,2,3,4,5,6,7,8,9,10,11,12,13,14,15,16,17,18,19],\"y\":[1.0,-0.5,0.5,-0.5,0.5,1.0,-0.5,0.5,0.5,1.0,-0.5,0.5,-0.5,0.5,-0.5,-1.0,0.5,-0.5,0.5]}],\"layout\":{\"annotations\":[{\"font\":{\"color\":\"blue\"},\"text\":\"4W3M: FS,AY,JL,AL,SH,EL,GA\",\"x\":19,\"xref\":\"x\",\"y\":0.5,\"yref\":\"y\"},{\"font\":{\"color\":\"orange\",\"size\":18},\"showarrow\":false,\"text\":\"FucZH 11-8 Fly High (Semis)\",\"x\":0.5,\"xref\":\"paper\",\"y\":1.4,\"yref\":\"y\"},{\"showarrow\":false,\"text\":\"Completed Passes: 2,Turns: 0\",\"x\":18,\"xref\":\"x\",\"y\":1.3,\"yref\":\"y\"},{\"showarrow\":false,\"text\":\"Assist: GA, Goal:FS\",\"x\":18,\"xref\":\"x\",\"y\":1.4,\"yref\":\"y\"}]},\"name\":\"frame19\"},{\"data\":[{\"line\":{\"shape\":\"hvh\"},\"mode\":\"lines+markers\",\"type\":\"scatter\",\"x\":[1,2,3,4,5,6,7,8,9,10,11,12,13,14,15,16,17,18,19,20],\"y\":[1.0,-0.5,0.5,-0.5,0.5,1.0,-0.5,0.5,0.5,1.0,-0.5,0.5,-0.5,0.5,-0.5,-1.0,0.5,-0.5,0.5,-0.5]}],\"layout\":{\"annotations\":[{\"font\":{\"color\":\"blue\"},\"text\":\"4W3M: JL,AY,AL,EL,JV,NK,SG\",\"x\":20,\"xref\":\"x\",\"y\":-0.5,\"yref\":\"y\"},{\"font\":{\"color\":\"orange\",\"size\":18},\"showarrow\":false,\"text\":\"FucZH 11-9 Fly High (Semis)\",\"x\":0.5,\"xref\":\"paper\",\"y\":1.4,\"yref\":\"y\"},{\"showarrow\":false,\"text\":\"Completed Passes: 0,Turns: 0\",\"x\":18,\"xref\":\"x\",\"y\":1.3,\"yref\":\"y\"}]},\"name\":\"frame20\"}]);\n",
       "                        }).then(function(){\n",
       "                            \n",
       "var gd = document.getElementById('18df8bd5-2db4-43d1-879d-1217892571c9');\n",
       "var x = new MutationObserver(function (mutations, observer) {{\n",
       "        var display = window.getComputedStyle(gd).display;\n",
       "        if (!display || display === 'none') {{\n",
       "            console.log([gd, 'removed!']);\n",
       "            Plotly.purge(gd);\n",
       "            observer.disconnect();\n",
       "        }}\n",
       "}});\n",
       "\n",
       "// Listen for the removal of the full notebook cells\n",
       "var notebookContainer = gd.closest('#notebook-container');\n",
       "if (notebookContainer) {{\n",
       "    x.observe(notebookContainer, {childList: true});\n",
       "}}\n",
       "\n",
       "// Listen for the clearing of the current output cell\n",
       "var outputEl = gd.closest('.output');\n",
       "if (outputEl) {{\n",
       "    x.observe(outputEl, {childList: true});\n",
       "}}\n",
       "\n",
       "                        })                };                });            </script>        </div>"
      ]
     },
     "metadata": {},
     "output_type": "display_data"
    }
   ],
   "source": [
    "fig=game_flow_fig(df,'Fly High (Semis)',slidew,slideh)\n",
    "fig.show()"
   ]
  },
  {
   "cell_type": "code",
   "execution_count": 154,
   "metadata": {
    "scrolled": false,
    "slideshow": {
     "slide_type": "fragment"
    },
    "tags": [
     "to_remove"
    ]
   },
   "outputs": [
    {
     "data": {
      "application/vnd.plotly.v1+json": {
       "config": {
        "plotlyServerURL": "https://plotly.com"
       },
       "data": [
        {
         "mode": "lines+markers",
         "type": "scatter",
         "x": [
          0
         ],
         "y": [
          0
         ]
        }
       ],
       "frames": [
        {
         "data": [
          {
           "line": {
            "shape": "hv"
           },
           "mode": "lines+markers",
           "type": "scatter",
           "x": [
            0
           ],
           "y": [
            0
           ]
          }
         ],
         "name": "frame0"
        },
        {
         "data": [
          {
           "line": {
            "shape": "hvh"
           },
           "mode": "lines+markers",
           "type": "scatter",
           "x": [
            1
           ],
           "y": [
            -0.5
           ]
          }
         ],
         "layout": {
          "annotations": [
           {
            "font": {
             "color": "blue"
            },
            "text": "4M3W: AY,FS,MV,AL,CS,JG,SG",
            "x": 1,
            "xref": "x",
            "y": -0.5,
            "yref": "y"
           },
           {
            "font": {
             "color": "orange",
             "size": 18
            },
            "showarrow": false,
            "text": "FucZH 0-1 Crazy Dogs",
            "x": 0.5,
            "xref": "paper",
            "y": 1.4,
            "yref": "y"
           },
           {
            "showarrow": false,
            "text": "Completed Passes: 2,Turns: 2",
            "x": 8,
            "xref": "x",
            "y": 1.3,
            "yref": "y"
           }
          ]
         },
         "name": "frame1"
        },
        {
         "data": [
          {
           "line": {
            "shape": "hvh"
           },
           "mode": "lines+markers",
           "type": "scatter",
           "x": [
            1,
            2
           ],
           "y": [
            -0.5,
            0.5
           ]
          }
         ],
         "layout": {
          "annotations": [
           {
            "font": {
             "color": "blue"
            },
            "text": "4W3M: FS,AY,MV,AL,SH,EL,JS",
            "x": 2,
            "xref": "x",
            "y": 0.5,
            "yref": "y"
           },
           {
            "font": {
             "color": "orange",
             "size": 18
            },
            "showarrow": false,
            "text": "FucZH 1-1 Crazy Dogs",
            "x": 0.5,
            "xref": "paper",
            "y": 1.4,
            "yref": "y"
           },
           {
            "showarrow": false,
            "text": "Completed Passes: 14,Turns: 2",
            "x": 8,
            "xref": "x",
            "y": 1.3,
            "yref": "y"
           },
           {
            "showarrow": false,
            "text": "Assist: MV, Goal:JS",
            "x": 8,
            "xref": "x",
            "y": 1.4,
            "yref": "y"
           }
          ]
         },
         "name": "frame2"
        },
        {
         "data": [
          {
           "line": {
            "shape": "hvh"
           },
           "mode": "lines+markers",
           "type": "scatter",
           "x": [
            1,
            2,
            3
           ],
           "y": [
            -0.5,
            0.5,
            -0.5
           ]
          }
         ],
         "layout": {
          "annotations": [
           {
            "font": {
             "color": "blue"
            },
            "text": "4W3M: JL,MV,AL,EL,JV,NK,SG",
            "x": 3,
            "xref": "x",
            "y": -0.5,
            "yref": "y"
           },
           {
            "font": {
             "color": "orange",
             "size": 18
            },
            "showarrow": false,
            "text": "FucZH 1-2 Crazy Dogs",
            "x": 0.5,
            "xref": "paper",
            "y": 1.4,
            "yref": "y"
           },
           {
            "showarrow": false,
            "text": "Completed Passes: 2,Turns: 2",
            "x": 8,
            "xref": "x",
            "y": 1.3,
            "yref": "y"
           }
          ]
         },
         "name": "frame3"
        },
        {
         "data": [
          {
           "line": {
            "shape": "hvh"
           },
           "mode": "lines+markers",
           "type": "scatter",
           "x": [
            1,
            2,
            3,
            4
           ],
           "y": [
            -0.5,
            0.5,
            -0.5,
            0.5
           ]
          }
         ],
         "layout": {
          "annotations": [
           {
            "font": {
             "color": "blue"
            },
            "text": "4W3M: AY,JL,FS,AL,SH,EL,GA",
            "x": 4,
            "xref": "x",
            "y": 0.5,
            "yref": "y"
           },
           {
            "font": {
             "color": "orange",
             "size": 18
            },
            "showarrow": false,
            "text": "FucZH 2-2 Crazy Dogs",
            "x": 0.5,
            "xref": "paper",
            "y": 1.4,
            "yref": "y"
           },
           {
            "showarrow": false,
            "text": "Completed Passes: 4,Turns: 2",
            "x": 8,
            "xref": "x",
            "y": 1.3,
            "yref": "y"
           },
           {
            "showarrow": false,
            "text": "Assist: FS, Goal:SH",
            "x": 8,
            "xref": "x",
            "y": 1.4,
            "yref": "y"
           }
          ]
         },
         "name": "frame4"
        },
        {
         "data": [
          {
           "line": {
            "shape": "hvh"
           },
           "mode": "lines+markers",
           "type": "scatter",
           "x": [
            1,
            2,
            3,
            4,
            5
           ],
           "y": [
            -0.5,
            0.5,
            -0.5,
            0.5,
            1
           ]
          }
         ],
         "layout": {
          "annotations": [
           {
            "font": {
             "color": "blue"
            },
            "text": "4M3W: JL,MV,AL,JV,JG,NK,SG",
            "x": 5,
            "xref": "x",
            "y": 1,
            "yref": "y"
           },
           {
            "font": {
             "color": "orange",
             "size": 18
            },
            "showarrow": false,
            "text": "FucZH 3-2 Crazy Dogs",
            "x": 0.5,
            "xref": "paper",
            "y": 1.4,
            "yref": "y"
           },
           {
            "showarrow": false,
            "text": "Completed Passes: 4,Turns: 1",
            "x": 8,
            "xref": "x",
            "y": 1.3,
            "yref": "y"
           },
           {
            "showarrow": false,
            "text": "Assist: SG, Goal:JL",
            "x": 8,
            "xref": "x",
            "y": 1.4,
            "yref": "y"
           }
          ]
         },
         "name": "frame5"
        },
        {
         "data": [
          {
           "line": {
            "shape": "hvh"
           },
           "mode": "lines+markers",
           "type": "scatter",
           "x": [
            1,
            2,
            3,
            4,
            5,
            6
           ],
           "y": [
            -0.5,
            0.5,
            -0.5,
            0.5,
            1,
            -0.5
           ]
          }
         ],
         "layout": {
          "annotations": [
           {
            "font": {
             "color": "blue"
            },
            "text": "4M3W: AY,MV,CS,EL,JG,NK,SG",
            "x": 6,
            "xref": "x",
            "y": -0.5,
            "yref": "y"
           },
           {
            "font": {
             "color": "orange",
             "size": 18
            },
            "showarrow": false,
            "text": "FucZH 3-3 Crazy Dogs",
            "x": 0.5,
            "xref": "paper",
            "y": 1.4,
            "yref": "y"
           },
           {
            "showarrow": false,
            "text": "Completed Passes: 0,Turns: 0",
            "x": 8,
            "xref": "x",
            "y": 1.3,
            "yref": "y"
           }
          ]
         },
         "name": "frame6"
        },
        {
         "data": [
          {
           "line": {
            "shape": "hvh"
           },
           "mode": "lines+markers",
           "type": "scatter",
           "x": [
            1,
            2,
            3,
            4,
            5,
            6,
            7
           ],
           "y": [
            -0.5,
            0.5,
            -0.5,
            0.5,
            1,
            -0.5,
            -1
           ]
          }
         ],
         "layout": {
          "annotations": [
           {
            "font": {
             "color": "blue"
            },
            "text": "4W3M: AY,JL,FS,MV,AL,SH,GA",
            "x": 7,
            "xref": "x",
            "y": -1,
            "yref": "y"
           },
           {
            "font": {
             "color": "orange",
             "size": 18
            },
            "showarrow": false,
            "text": "FucZH 3-4 Crazy Dogs",
            "x": 0.5,
            "xref": "paper",
            "y": 1.4,
            "yref": "y"
           },
           {
            "showarrow": false,
            "text": "Completed Passes: 7,Turns: 3",
            "x": 8,
            "xref": "x",
            "y": 1.3,
            "yref": "y"
           }
          ]
         },
         "name": "frame7"
        },
        {
         "data": [
          {
           "line": {
            "shape": "hvh"
           },
           "mode": "lines+markers",
           "type": "scatter",
           "x": [
            1,
            2,
            3,
            4,
            5,
            6,
            7,
            8
           ],
           "y": [
            -0.5,
            0.5,
            -0.5,
            0.5,
            1,
            -0.5,
            -1,
            0.5
           ]
          }
         ],
         "layout": {
          "annotations": [
           {
            "font": {
             "color": "blue"
            },
            "text": "4W3M: JL,AY,FS,MV,SH,EL,GA",
            "x": 8,
            "xref": "x",
            "y": 0.5,
            "yref": "y"
           },
           {
            "font": {
             "color": "orange",
             "size": 18
            },
            "showarrow": false,
            "text": "FucZH 4-4 Crazy Dogs",
            "x": 0.5,
            "xref": "paper",
            "y": 1.4,
            "yref": "y"
           },
           {
            "showarrow": false,
            "text": "Completed Passes: 4,Turns: 0",
            "x": 8,
            "xref": "x",
            "y": 1.3,
            "yref": "y"
           },
           {
            "showarrow": false,
            "text": "Assist: SH, Goal:GA",
            "x": 8,
            "xref": "x",
            "y": 1.4,
            "yref": "y"
           }
          ]
         },
         "name": "frame8"
        },
        {
         "data": [
          {
           "line": {
            "shape": "hvh"
           },
           "mode": "lines+markers",
           "type": "scatter",
           "x": [
            1,
            2,
            3,
            4,
            5,
            6,
            7,
            8,
            9
           ],
           "y": [
            -0.5,
            0.5,
            -0.5,
            0.5,
            1,
            -0.5,
            -1,
            0.5,
            -0.5
           ]
          }
         ],
         "layout": {
          "annotations": [
           {
            "font": {
             "color": "blue"
            },
            "text": "4M3W: MV,AL,CS,EL,JV,NK,SG",
            "x": 9,
            "xref": "x",
            "y": -0.5,
            "yref": "y"
           },
           {
            "font": {
             "color": "orange",
             "size": 18
            },
            "showarrow": false,
            "text": "FucZH 4-5 Crazy Dogs",
            "x": 0.5,
            "xref": "paper",
            "y": 1.4,
            "yref": "y"
           },
           {
            "showarrow": false,
            "text": "Completed Passes: 1,Turns: 2",
            "x": 8,
            "xref": "x",
            "y": 1.3,
            "yref": "y"
           }
          ]
         },
         "name": "frame9"
        },
        {
         "data": [
          {
           "line": {
            "shape": "hvh"
           },
           "mode": "lines+markers",
           "type": "scatter",
           "x": [
            1,
            2,
            3,
            4,
            5,
            6,
            7,
            8,
            9,
            10
           ],
           "y": [
            -0.5,
            0.5,
            -0.5,
            0.5,
            1,
            -0.5,
            -1,
            0.5,
            -0.5,
            0.5
           ]
          }
         ],
         "layout": {
          "annotations": [
           {
            "font": {
             "color": "blue"
            },
            "text": "4M3W: JL,FS,AY,AL,SH,JS,GA",
            "x": 10,
            "xref": "x",
            "y": 0.5,
            "yref": "y"
           },
           {
            "font": {
             "color": "orange",
             "size": 18
            },
            "showarrow": false,
            "text": "FucZH 5-5 Crazy Dogs",
            "x": 0.5,
            "xref": "paper",
            "y": 1.4,
            "yref": "y"
           },
           {
            "showarrow": false,
            "text": "Completed Passes: 17,Turns: 2",
            "x": 8,
            "xref": "x",
            "y": 1.3,
            "yref": "y"
           },
           {
            "showarrow": false,
            "text": "Assist: JS, Goal:FS",
            "x": 8,
            "xref": "x",
            "y": 1.4,
            "yref": "y"
           }
          ]
         },
         "name": "frame10"
        }
       ],
       "layout": {
        "height": 600,
        "hovermode": "closest",
        "images": [
         {
          "sizex": 0.2,
          "sizey": 0.2,
          "source": "https://raw.githubusercontent.com/elastufka/presentations/master/images/ZU_logo1.png",
          "x": 0,
          "xanchor": "right",
          "xref": "paper",
          "y": 1.05,
          "yanchor": "bottom",
          "yref": "paper"
         }
        ],
        "sliders": [
         {
          "active": 0,
          "currentvalue": {
           "font": {
            "size": 14
           },
           "prefix": "Point:",
           "visible": true,
           "xanchor": "right"
          },
          "len": 0.9,
          "pad": {
           "b": 10,
           "t": 10
          },
          "steps": [
           {
            "args": [
             [
              "frame1"
             ],
             {
              "frame": {
               "duration": 300,
               "redraw": false
              },
              "mode": "immediate",
              "transition": {
               "duration": 300
              }
             }
            ],
            "label": "1",
            "method": "animate"
           },
           {
            "args": [
             [
              "frame2"
             ],
             {
              "frame": {
               "duration": 300,
               "redraw": false
              },
              "mode": "immediate",
              "transition": {
               "duration": 300
              }
             }
            ],
            "label": "2",
            "method": "animate"
           },
           {
            "args": [
             [
              "frame3"
             ],
             {
              "frame": {
               "duration": 300,
               "redraw": false
              },
              "mode": "immediate",
              "transition": {
               "duration": 300
              }
             }
            ],
            "label": "3",
            "method": "animate"
           },
           {
            "args": [
             [
              "frame4"
             ],
             {
              "frame": {
               "duration": 300,
               "redraw": false
              },
              "mode": "immediate",
              "transition": {
               "duration": 300
              }
             }
            ],
            "label": "4",
            "method": "animate"
           },
           {
            "args": [
             [
              "frame5"
             ],
             {
              "frame": {
               "duration": 300,
               "redraw": false
              },
              "mode": "immediate",
              "transition": {
               "duration": 300
              }
             }
            ],
            "label": "5",
            "method": "animate"
           },
           {
            "args": [
             [
              "frame6"
             ],
             {
              "frame": {
               "duration": 300,
               "redraw": false
              },
              "mode": "immediate",
              "transition": {
               "duration": 300
              }
             }
            ],
            "label": "6",
            "method": "animate"
           },
           {
            "args": [
             [
              "frame7"
             ],
             {
              "frame": {
               "duration": 300,
               "redraw": false
              },
              "mode": "immediate",
              "transition": {
               "duration": 300
              }
             }
            ],
            "label": "7",
            "method": "animate"
           },
           {
            "args": [
             [
              "frame8"
             ],
             {
              "frame": {
               "duration": 300,
               "redraw": false
              },
              "mode": "immediate",
              "transition": {
               "duration": 300
              }
             }
            ],
            "label": "8",
            "method": "animate"
           },
           {
            "args": [
             [
              "frame9"
             ],
             {
              "frame": {
               "duration": 300,
               "redraw": false
              },
              "mode": "immediate",
              "transition": {
               "duration": 300
              }
             }
            ],
            "label": "9",
            "method": "animate"
           },
           {
            "args": [
             [
              "frame10"
             ],
             {
              "frame": {
               "duration": 300,
               "redraw": false
              },
              "mode": "immediate",
              "transition": {
               "duration": 300
              }
             }
            ],
            "label": "10",
            "method": "animate"
           }
          ],
          "transition": {
           "duration": 300,
           "easing": "cubic-in-out"
          },
          "x": 1,
          "xanchor": "right",
          "y": -0.4,
          "yanchor": "bottom"
         }
        ],
        "template": {
         "layout": {
          "colorway": [
           "#000000",
           "#784F17",
           "#FF0018",
           "#FFA52C",
           "#FFFF41",
           "#008018",
           "#0000F9",
           "#86007D"
          ],
          "plot_bgcolor": "lightgrey"
         }
        },
        "title": {
         "text": "Game Flow"
        },
        "updatemenus": [
         {
          "buttons": [
           {
            "args": [
             null,
             {
              "frame": {
               "duration": 500,
               "redraw": false
              },
              "fromcurrent": true,
              "transition": {
               "duration": 300,
               "easing": "quadratic-in-out"
              }
             }
            ],
            "label": "Play",
            "method": "animate"
           },
           {
            "args": [
             [
              null
             ],
             {
              "frame": {
               "duration": 0,
               "redraw": false
              },
              "mode": "immediate",
              "transition": {
               "duration": 0
              }
             }
            ],
            "label": "Pause",
            "method": "animate"
           }
          ],
          "direction": "left",
          "pad": {
           "r": 10,
           "t": 87
          },
          "showactive": false,
          "type": "buttons",
          "x": 0.1,
          "xanchor": "right",
          "y": 0,
          "yanchor": "top"
         }
        ],
        "width": 850,
        "xaxis": {
         "range": [
          0.5,
          11.5
         ],
         "title": {
          "text": "Points"
         }
        },
        "yaxis": {
         "range": [
          -1.1,
          1.5
         ],
         "ticktext": [
          "Their Break",
          "Their Hold",
          "",
          "Our Hold",
          "Our Break"
         ],
         "tickvals": [
          -1,
          -0.5,
          0,
          0.5,
          1
         ],
         "title": {
          "text": "Point Type"
         }
        }
       }
      },
      "text/html": [
       "<div>                            <div id=\"12dfb4e2-1698-433c-b0bc-a62d9347c043\" class=\"plotly-graph-div\" style=\"height:600px; width:850px;\"></div>            <script type=\"text/javascript\">                require([\"plotly\"], function(Plotly) {                    window.PLOTLYENV=window.PLOTLYENV || {};                                    if (document.getElementById(\"12dfb4e2-1698-433c-b0bc-a62d9347c043\")) {                    Plotly.newPlot(                        \"12dfb4e2-1698-433c-b0bc-a62d9347c043\",                        [{\"mode\":\"lines+markers\",\"type\":\"scatter\",\"x\":[0],\"y\":[0]}],                        {\"height\":600,\"hovermode\":\"closest\",\"images\":[{\"sizex\":0.2,\"sizey\":0.2,\"source\":\"https://raw.githubusercontent.com/elastufka/presentations/master/images/ZU_logo1.png\",\"x\":0,\"xanchor\":\"right\",\"xref\":\"paper\",\"y\":1.05,\"yanchor\":\"bottom\",\"yref\":\"paper\"}],\"sliders\":[{\"active\":0,\"currentvalue\":{\"font\":{\"size\":14},\"prefix\":\"Point:\",\"visible\":true,\"xanchor\":\"right\"},\"len\":0.9,\"pad\":{\"b\":10,\"t\":10},\"steps\":[{\"args\":[[\"frame1\"],{\"frame\":{\"duration\":300,\"redraw\":false},\"mode\":\"immediate\",\"transition\":{\"duration\":300}}],\"label\":\"1\",\"method\":\"animate\"},{\"args\":[[\"frame2\"],{\"frame\":{\"duration\":300,\"redraw\":false},\"mode\":\"immediate\",\"transition\":{\"duration\":300}}],\"label\":\"2\",\"method\":\"animate\"},{\"args\":[[\"frame3\"],{\"frame\":{\"duration\":300,\"redraw\":false},\"mode\":\"immediate\",\"transition\":{\"duration\":300}}],\"label\":\"3\",\"method\":\"animate\"},{\"args\":[[\"frame4\"],{\"frame\":{\"duration\":300,\"redraw\":false},\"mode\":\"immediate\",\"transition\":{\"duration\":300}}],\"label\":\"4\",\"method\":\"animate\"},{\"args\":[[\"frame5\"],{\"frame\":{\"duration\":300,\"redraw\":false},\"mode\":\"immediate\",\"transition\":{\"duration\":300}}],\"label\":\"5\",\"method\":\"animate\"},{\"args\":[[\"frame6\"],{\"frame\":{\"duration\":300,\"redraw\":false},\"mode\":\"immediate\",\"transition\":{\"duration\":300}}],\"label\":\"6\",\"method\":\"animate\"},{\"args\":[[\"frame7\"],{\"frame\":{\"duration\":300,\"redraw\":false},\"mode\":\"immediate\",\"transition\":{\"duration\":300}}],\"label\":\"7\",\"method\":\"animate\"},{\"args\":[[\"frame8\"],{\"frame\":{\"duration\":300,\"redraw\":false},\"mode\":\"immediate\",\"transition\":{\"duration\":300}}],\"label\":\"8\",\"method\":\"animate\"},{\"args\":[[\"frame9\"],{\"frame\":{\"duration\":300,\"redraw\":false},\"mode\":\"immediate\",\"transition\":{\"duration\":300}}],\"label\":\"9\",\"method\":\"animate\"},{\"args\":[[\"frame10\"],{\"frame\":{\"duration\":300,\"redraw\":false},\"mode\":\"immediate\",\"transition\":{\"duration\":300}}],\"label\":\"10\",\"method\":\"animate\"}],\"transition\":{\"duration\":300,\"easing\":\"cubic-in-out\"},\"x\":1,\"xanchor\":\"right\",\"y\":-0.4,\"yanchor\":\"bottom\"}],\"template\":{\"layout\":{\"colorway\":[\"#000000\",\"#784F17\",\"#FF0018\",\"#FFA52C\",\"#FFFF41\",\"#008018\",\"#0000F9\",\"#86007D\"],\"plot_bgcolor\":\"lightgrey\"}},\"title\":{\"text\":\"Game Flow\"},\"updatemenus\":[{\"buttons\":[{\"args\":[null,{\"frame\":{\"duration\":500,\"redraw\":false},\"fromcurrent\":true,\"transition\":{\"duration\":300,\"easing\":\"quadratic-in-out\"}}],\"label\":\"Play\",\"method\":\"animate\"},{\"args\":[[null],{\"frame\":{\"duration\":0,\"redraw\":false},\"mode\":\"immediate\",\"transition\":{\"duration\":0}}],\"label\":\"Pause\",\"method\":\"animate\"}],\"direction\":\"left\",\"pad\":{\"r\":10,\"t\":87},\"showactive\":false,\"type\":\"buttons\",\"x\":0.1,\"xanchor\":\"right\",\"y\":0,\"yanchor\":\"top\"}],\"width\":850,\"xaxis\":{\"range\":[0.5,11.5],\"title\":{\"text\":\"Points\"}},\"yaxis\":{\"range\":[-1.1,1.5],\"ticktext\":[\"Their Break\",\"Their Hold\",\"\",\"Our Hold\",\"Our Break\"],\"tickvals\":[-1,-0.5,0,0.5,1],\"title\":{\"text\":\"Point Type\"}}},                        {\"responsive\": true}                    ).then(function(){\n",
       "                            Plotly.addFrames('12dfb4e2-1698-433c-b0bc-a62d9347c043', [{\"data\":[{\"line\":{\"shape\":\"hv\"},\"mode\":\"lines+markers\",\"type\":\"scatter\",\"x\":[0],\"y\":[0]}],\"name\":\"frame0\"},{\"data\":[{\"line\":{\"shape\":\"hvh\"},\"mode\":\"lines+markers\",\"type\":\"scatter\",\"x\":[1],\"y\":[-0.5]}],\"layout\":{\"annotations\":[{\"font\":{\"color\":\"blue\"},\"text\":\"4M3W: AY,FS,MV,AL,CS,JG,SG\",\"x\":1,\"xref\":\"x\",\"y\":-0.5,\"yref\":\"y\"},{\"font\":{\"color\":\"orange\",\"size\":18},\"showarrow\":false,\"text\":\"FucZH 0-1 Crazy Dogs\",\"x\":0.5,\"xref\":\"paper\",\"y\":1.4,\"yref\":\"y\"},{\"showarrow\":false,\"text\":\"Completed Passes: 2,Turns: 2\",\"x\":8,\"xref\":\"x\",\"y\":1.3,\"yref\":\"y\"}]},\"name\":\"frame1\"},{\"data\":[{\"line\":{\"shape\":\"hvh\"},\"mode\":\"lines+markers\",\"type\":\"scatter\",\"x\":[1,2],\"y\":[-0.5,0.5]}],\"layout\":{\"annotations\":[{\"font\":{\"color\":\"blue\"},\"text\":\"4W3M: FS,AY,MV,AL,SH,EL,JS\",\"x\":2,\"xref\":\"x\",\"y\":0.5,\"yref\":\"y\"},{\"font\":{\"color\":\"orange\",\"size\":18},\"showarrow\":false,\"text\":\"FucZH 1-1 Crazy Dogs\",\"x\":0.5,\"xref\":\"paper\",\"y\":1.4,\"yref\":\"y\"},{\"showarrow\":false,\"text\":\"Completed Passes: 14,Turns: 2\",\"x\":8,\"xref\":\"x\",\"y\":1.3,\"yref\":\"y\"},{\"showarrow\":false,\"text\":\"Assist: MV, Goal:JS\",\"x\":8,\"xref\":\"x\",\"y\":1.4,\"yref\":\"y\"}]},\"name\":\"frame2\"},{\"data\":[{\"line\":{\"shape\":\"hvh\"},\"mode\":\"lines+markers\",\"type\":\"scatter\",\"x\":[1,2,3],\"y\":[-0.5,0.5,-0.5]}],\"layout\":{\"annotations\":[{\"font\":{\"color\":\"blue\"},\"text\":\"4W3M: JL,MV,AL,EL,JV,NK,SG\",\"x\":3,\"xref\":\"x\",\"y\":-0.5,\"yref\":\"y\"},{\"font\":{\"color\":\"orange\",\"size\":18},\"showarrow\":false,\"text\":\"FucZH 1-2 Crazy Dogs\",\"x\":0.5,\"xref\":\"paper\",\"y\":1.4,\"yref\":\"y\"},{\"showarrow\":false,\"text\":\"Completed Passes: 2,Turns: 2\",\"x\":8,\"xref\":\"x\",\"y\":1.3,\"yref\":\"y\"}]},\"name\":\"frame3\"},{\"data\":[{\"line\":{\"shape\":\"hvh\"},\"mode\":\"lines+markers\",\"type\":\"scatter\",\"x\":[1,2,3,4],\"y\":[-0.5,0.5,-0.5,0.5]}],\"layout\":{\"annotations\":[{\"font\":{\"color\":\"blue\"},\"text\":\"4W3M: AY,JL,FS,AL,SH,EL,GA\",\"x\":4,\"xref\":\"x\",\"y\":0.5,\"yref\":\"y\"},{\"font\":{\"color\":\"orange\",\"size\":18},\"showarrow\":false,\"text\":\"FucZH 2-2 Crazy Dogs\",\"x\":0.5,\"xref\":\"paper\",\"y\":1.4,\"yref\":\"y\"},{\"showarrow\":false,\"text\":\"Completed Passes: 4,Turns: 2\",\"x\":8,\"xref\":\"x\",\"y\":1.3,\"yref\":\"y\"},{\"showarrow\":false,\"text\":\"Assist: FS, Goal:SH\",\"x\":8,\"xref\":\"x\",\"y\":1.4,\"yref\":\"y\"}]},\"name\":\"frame4\"},{\"data\":[{\"line\":{\"shape\":\"hvh\"},\"mode\":\"lines+markers\",\"type\":\"scatter\",\"x\":[1,2,3,4,5],\"y\":[-0.5,0.5,-0.5,0.5,1.0]}],\"layout\":{\"annotations\":[{\"font\":{\"color\":\"blue\"},\"text\":\"4M3W: JL,MV,AL,JV,JG,NK,SG\",\"x\":5,\"xref\":\"x\",\"y\":1.0,\"yref\":\"y\"},{\"font\":{\"color\":\"orange\",\"size\":18},\"showarrow\":false,\"text\":\"FucZH 3-2 Crazy Dogs\",\"x\":0.5,\"xref\":\"paper\",\"y\":1.4,\"yref\":\"y\"},{\"showarrow\":false,\"text\":\"Completed Passes: 4,Turns: 1\",\"x\":8,\"xref\":\"x\",\"y\":1.3,\"yref\":\"y\"},{\"showarrow\":false,\"text\":\"Assist: SG, Goal:JL\",\"x\":8,\"xref\":\"x\",\"y\":1.4,\"yref\":\"y\"}]},\"name\":\"frame5\"},{\"data\":[{\"line\":{\"shape\":\"hvh\"},\"mode\":\"lines+markers\",\"type\":\"scatter\",\"x\":[1,2,3,4,5,6],\"y\":[-0.5,0.5,-0.5,0.5,1.0,-0.5]}],\"layout\":{\"annotations\":[{\"font\":{\"color\":\"blue\"},\"text\":\"4M3W: AY,MV,CS,EL,JG,NK,SG\",\"x\":6,\"xref\":\"x\",\"y\":-0.5,\"yref\":\"y\"},{\"font\":{\"color\":\"orange\",\"size\":18},\"showarrow\":false,\"text\":\"FucZH 3-3 Crazy Dogs\",\"x\":0.5,\"xref\":\"paper\",\"y\":1.4,\"yref\":\"y\"},{\"showarrow\":false,\"text\":\"Completed Passes: 0,Turns: 0\",\"x\":8,\"xref\":\"x\",\"y\":1.3,\"yref\":\"y\"}]},\"name\":\"frame6\"},{\"data\":[{\"line\":{\"shape\":\"hvh\"},\"mode\":\"lines+markers\",\"type\":\"scatter\",\"x\":[1,2,3,4,5,6,7],\"y\":[-0.5,0.5,-0.5,0.5,1.0,-0.5,-1.0]}],\"layout\":{\"annotations\":[{\"font\":{\"color\":\"blue\"},\"text\":\"4W3M: AY,JL,FS,MV,AL,SH,GA\",\"x\":7,\"xref\":\"x\",\"y\":-1.0,\"yref\":\"y\"},{\"font\":{\"color\":\"orange\",\"size\":18},\"showarrow\":false,\"text\":\"FucZH 3-4 Crazy Dogs\",\"x\":0.5,\"xref\":\"paper\",\"y\":1.4,\"yref\":\"y\"},{\"showarrow\":false,\"text\":\"Completed Passes: 7,Turns: 3\",\"x\":8,\"xref\":\"x\",\"y\":1.3,\"yref\":\"y\"}]},\"name\":\"frame7\"},{\"data\":[{\"line\":{\"shape\":\"hvh\"},\"mode\":\"lines+markers\",\"type\":\"scatter\",\"x\":[1,2,3,4,5,6,7,8],\"y\":[-0.5,0.5,-0.5,0.5,1.0,-0.5,-1.0,0.5]}],\"layout\":{\"annotations\":[{\"font\":{\"color\":\"blue\"},\"text\":\"4W3M: JL,AY,FS,MV,SH,EL,GA\",\"x\":8,\"xref\":\"x\",\"y\":0.5,\"yref\":\"y\"},{\"font\":{\"color\":\"orange\",\"size\":18},\"showarrow\":false,\"text\":\"FucZH 4-4 Crazy Dogs\",\"x\":0.5,\"xref\":\"paper\",\"y\":1.4,\"yref\":\"y\"},{\"showarrow\":false,\"text\":\"Completed Passes: 4,Turns: 0\",\"x\":8,\"xref\":\"x\",\"y\":1.3,\"yref\":\"y\"},{\"showarrow\":false,\"text\":\"Assist: SH, Goal:GA\",\"x\":8,\"xref\":\"x\",\"y\":1.4,\"yref\":\"y\"}]},\"name\":\"frame8\"},{\"data\":[{\"line\":{\"shape\":\"hvh\"},\"mode\":\"lines+markers\",\"type\":\"scatter\",\"x\":[1,2,3,4,5,6,7,8,9],\"y\":[-0.5,0.5,-0.5,0.5,1.0,-0.5,-1.0,0.5,-0.5]}],\"layout\":{\"annotations\":[{\"font\":{\"color\":\"blue\"},\"text\":\"4M3W: MV,AL,CS,EL,JV,NK,SG\",\"x\":9,\"xref\":\"x\",\"y\":-0.5,\"yref\":\"y\"},{\"font\":{\"color\":\"orange\",\"size\":18},\"showarrow\":false,\"text\":\"FucZH 4-5 Crazy Dogs\",\"x\":0.5,\"xref\":\"paper\",\"y\":1.4,\"yref\":\"y\"},{\"showarrow\":false,\"text\":\"Completed Passes: 1,Turns: 2\",\"x\":8,\"xref\":\"x\",\"y\":1.3,\"yref\":\"y\"}]},\"name\":\"frame9\"},{\"data\":[{\"line\":{\"shape\":\"hvh\"},\"mode\":\"lines+markers\",\"type\":\"scatter\",\"x\":[1,2,3,4,5,6,7,8,9,10],\"y\":[-0.5,0.5,-0.5,0.5,1.0,-0.5,-1.0,0.5,-0.5,0.5]}],\"layout\":{\"annotations\":[{\"font\":{\"color\":\"blue\"},\"text\":\"4M3W: JL,FS,AY,AL,SH,JS,GA\",\"x\":10,\"xref\":\"x\",\"y\":0.5,\"yref\":\"y\"},{\"font\":{\"color\":\"orange\",\"size\":18},\"showarrow\":false,\"text\":\"FucZH 5-5 Crazy Dogs\",\"x\":0.5,\"xref\":\"paper\",\"y\":1.4,\"yref\":\"y\"},{\"showarrow\":false,\"text\":\"Completed Passes: 17,Turns: 2\",\"x\":8,\"xref\":\"x\",\"y\":1.3,\"yref\":\"y\"},{\"showarrow\":false,\"text\":\"Assist: JS, Goal:FS\",\"x\":8,\"xref\":\"x\",\"y\":1.4,\"yref\":\"y\"}]},\"name\":\"frame10\"}]);\n",
       "                        }).then(function(){\n",
       "                            \n",
       "var gd = document.getElementById('12dfb4e2-1698-433c-b0bc-a62d9347c043');\n",
       "var x = new MutationObserver(function (mutations, observer) {{\n",
       "        var display = window.getComputedStyle(gd).display;\n",
       "        if (!display || display === 'none') {{\n",
       "            console.log([gd, 'removed!']);\n",
       "            Plotly.purge(gd);\n",
       "            observer.disconnect();\n",
       "        }}\n",
       "}});\n",
       "\n",
       "// Listen for the removal of the full notebook cells\n",
       "var notebookContainer = gd.closest('#notebook-container');\n",
       "if (notebookContainer) {{\n",
       "    x.observe(notebookContainer, {childList: true});\n",
       "}}\n",
       "\n",
       "// Listen for the clearing of the current output cell\n",
       "var outputEl = gd.closest('.output');\n",
       "if (outputEl) {{\n",
       "    x.observe(outputEl, {childList: true});\n",
       "}}\n",
       "\n",
       "                        })                };                });            </script>        </div>"
      ]
     },
     "metadata": {},
     "output_type": "display_data"
    }
   ],
   "source": [
    "fig=game_flow_fig(df,'Crazy Dogs',slidew,slideh)\n",
    "fig.show()"
   ]
  },
  {
   "cell_type": "code",
   "execution_count": null,
   "metadata": {
    "slideshow": {
     "slide_type": "fragment"
    }
   },
   "outputs": [],
   "source": []
  },
  {
   "cell_type": "code",
   "execution_count": null,
   "metadata": {
    "slideshow": {
     "slide_type": "fragment"
    }
   },
   "outputs": [],
   "source": []
  },
  {
   "cell_type": "markdown",
   "metadata": {
    "slideshow": {
     "slide_type": "slide"
    }
   },
   "source": [
    "### Throwing and Receiving"
   ]
  },
  {
   "cell_type": "code",
   "execution_count": 155,
   "metadata": {
    "slideshow": {
     "slide_type": "skip"
    }
   },
   "outputs": [],
   "source": [
    "#throws per offense, throws per defense\n",
    "#fig=px.pie()\n",
    "odf=df.where(df.Line=='O').where(df.opponent_throwaway == 0).dropna(how='all').groupby('Game_Number')\n",
    "ddf=df.where(df.Line=='D').where(df.opponent_throwaway == 0).dropna(how='all').groupby('Game_Number')\n",
    "tadf=df.where(df.opponent_throwaway==1).groupby('Game_Number')"
   ]
  },
  {
   "cell_type": "code",
   "execution_count": 156,
   "metadata": {
    "slideshow": {
     "slide_type": "skip"
    }
   },
   "outputs": [],
   "source": [
    "#defense_points=\n",
    "#total_points=\n",
    "offense_points=df.where(df.Offense_line==1).groupby('Game_Number').PointID.nunique()\n",
    "defense_points=df.where(df.Offense_line==0).groupby('Game_Number').PointID.nunique()\n",
    "total_points=offense_points+defense_points"
   ]
  },
  {
   "cell_type": "code",
   "execution_count": 248,
   "metadata": {
    "slideshow": {
     "slide_type": "fragment"
    },
    "tags": [
     "to_remove"
    ]
   },
   "outputs": [
    {
     "data": {
      "application/vnd.plotly.v1+json": {
       "config": {
        "plotlyServerURL": "https://plotly.com"
       },
       "data": [
        {
         "name": "Offense catches",
         "type": "bar",
         "x": [
          "Fly High Lausanne",
          "Wombats Willisau",
          "Wizards Geneva",
          "FSL",
          "FSL (Quarters)",
          "Fly High (Semis)",
          "Crazy Dogs"
         ],
         "y": [
          9.333333333333334,
          13.125,
          10.583333333333334,
          4,
          6.222222222222222,
          6.7,
          8.166666666666666
         ]
        },
        {
         "name": "Defense catches",
         "type": "bar",
         "x": [
          "Fly High Lausanne",
          "Wombats Willisau",
          "Wizards Geneva",
          "FSL",
          "FSL (Quarters)",
          "Fly High (Semis)",
          "Crazy Dogs"
         ],
         "y": [
          0.9,
          1.6,
          1.0714285714285714,
          1.3,
          4.428571428571429,
          3,
          1.8333333333333333
         ]
        },
        {
         "name": "Offense throwaway",
         "type": "bar",
         "x": [
          "Fly High Lausanne",
          "Wombats Willisau",
          "Wizards Geneva",
          "FSL",
          "FSL (Quarters)",
          "Fly High (Semis)",
          "Crazy Dogs"
         ],
         "y": [
          0.6666666666666666,
          0.375,
          0.25,
          0.6666666666666666,
          0.2222222222222222,
          0.4,
          0.16666666666666666
         ]
        },
        {
         "name": "Defense throwaway",
         "type": "bar",
         "x": [
          "Fly High Lausanne",
          "Wombats Willisau",
          "Wizards Geneva",
          "FSL",
          "FSL (Quarters)",
          "Fly High (Semis)",
          "Crazy Dogs"
         ],
         "y": [
          0.5,
          0.4,
          0.35714285714285715,
          0.2,
          0.35714285714285715,
          0.46153846153846156,
          0.5
         ]
        },
        {
         "name": "Offense drops/D'd",
         "type": "bar",
         "x": [
          "Fly High Lausanne",
          "Wombats Willisau",
          "Wizards Geneva",
          "FSL",
          "FSL (Quarters)",
          "Fly High (Semis)",
          "Crazy Dogs"
         ],
         "y": [
          0.16666666666666666,
          0.125,
          0.16666666666666666,
          0,
          0.1111111111111111,
          0.3,
          0.8333333333333334
         ]
        },
        {
         "name": "Defense drops/D'd",
         "type": "bar",
         "x": [
          "Fly High Lausanne",
          "Wombats Willisau",
          "Wizards Geneva",
          "FSL",
          "FSL (Quarters)",
          "Fly High (Semis)",
          "Crazy Dogs"
         ],
         "y": [
          0,
          0,
          0,
          0.1,
          0.14285714285714285,
          0.07692307692307693,
          0.3333333333333333
         ]
        },
        {
         "name": "Offense Ds",
         "type": "bar",
         "x": [
          "Fly High Lausanne",
          "Wombats Willisau",
          "Wizards Geneva",
          "FSL",
          "FSL (Quarters)",
          "Fly High (Semis)",
          "Crazy Dogs"
         ],
         "y": [
          0.25,
          0.125,
          0.25,
          0.16666666666666666,
          0,
          0.2,
          0.16666666666666666
         ]
        },
        {
         "name": "Defense Ds",
         "type": "bar",
         "x": [
          "Fly High Lausanne",
          "Wombats Willisau",
          "Wizards Geneva",
          "FSL",
          "FSL (Quarters)",
          "Fly High (Semis)",
          "Crazy Dogs"
         ],
         "y": [
          0.3,
          0.3,
          0.21428571428571427,
          0.2,
          0.42857142857142855,
          0.38461538461538464,
          0.8333333333333334
         ]
        },
        {
         "marker": {
          "color": "grey"
         },
         "name": "Opponent Throwaway",
         "type": "bar",
         "x": [
          "Fly High Lausanne",
          "Wombats Willisau",
          "Wizards Geneva",
          "FSL",
          "FSL (Quarters)",
          "Fly High (Semis)",
          "Crazy Dogs"
         ],
         "y": [
          0.36363636363636365,
          0.3333333333333333,
          0.19230769230769232,
          0.4375,
          0.43478260869565216,
          0.391304347826087,
          0.3333333333333333
         ]
        }
       ],
       "layout": {
        "height": 600,
        "images": [
         {
          "sizex": 0.2,
          "sizey": 0.2,
          "source": "https://raw.githubusercontent.com/elastufka/presentations/master/images/ZU_logo1.png",
          "x": 0,
          "xanchor": "right",
          "xref": "paper",
          "y": 1.05,
          "yanchor": "bottom",
          "yref": "paper"
         }
        ],
        "template": {
         "layout": {
          "colorway": [
           "#000000",
           "#784F17",
           "#FF0018",
           "#FFA52C",
           "#FFFF41",
           "#008018",
           "#0000F9",
           "#86007D"
          ],
          "plot_bgcolor": "lightgrey"
         }
        },
        "title": {
         "text": "Average Events per Point"
        },
        "width": 850
       }
      },
      "text/html": [
       "<div>                            <div id=\"57803edf-7e8d-4a52-ae33-a3b96cf59af9\" class=\"plotly-graph-div\" style=\"height:600px; width:850px;\"></div>            <script type=\"text/javascript\">                require([\"plotly\"], function(Plotly) {                    window.PLOTLYENV=window.PLOTLYENV || {};                                    if (document.getElementById(\"57803edf-7e8d-4a52-ae33-a3b96cf59af9\")) {                    Plotly.newPlot(                        \"57803edf-7e8d-4a52-ae33-a3b96cf59af9\",                        [{\"name\":\"Offense catches\",\"type\":\"bar\",\"x\":[\"Fly High Lausanne\",\"Wombats Willisau\",\"Wizards Geneva\",\"FSL\",\"FSL (Quarters)\",\"Fly High (Semis)\",\"Crazy Dogs\"],\"y\":[9.333333333333334,13.125,10.583333333333334,4.0,6.222222222222222,6.7,8.166666666666666]},{\"name\":\"Defense catches\",\"type\":\"bar\",\"x\":[\"Fly High Lausanne\",\"Wombats Willisau\",\"Wizards Geneva\",\"FSL\",\"FSL (Quarters)\",\"Fly High (Semis)\",\"Crazy Dogs\"],\"y\":[0.9,1.6,1.0714285714285714,1.3,4.428571428571429,3.0,1.8333333333333333]},{\"name\":\"Offense throwaway\",\"type\":\"bar\",\"x\":[\"Fly High Lausanne\",\"Wombats Willisau\",\"Wizards Geneva\",\"FSL\",\"FSL (Quarters)\",\"Fly High (Semis)\",\"Crazy Dogs\"],\"y\":[0.6666666666666666,0.375,0.25,0.6666666666666666,0.2222222222222222,0.4,0.16666666666666666]},{\"name\":\"Defense throwaway\",\"type\":\"bar\",\"x\":[\"Fly High Lausanne\",\"Wombats Willisau\",\"Wizards Geneva\",\"FSL\",\"FSL (Quarters)\",\"Fly High (Semis)\",\"Crazy Dogs\"],\"y\":[0.5,0.4,0.35714285714285715,0.2,0.35714285714285715,0.46153846153846156,0.5]},{\"name\":\"Offense drops/D'd\",\"type\":\"bar\",\"x\":[\"Fly High Lausanne\",\"Wombats Willisau\",\"Wizards Geneva\",\"FSL\",\"FSL (Quarters)\",\"Fly High (Semis)\",\"Crazy Dogs\"],\"y\":[0.16666666666666666,0.125,0.16666666666666666,0.0,0.1111111111111111,0.3,0.8333333333333334]},{\"name\":\"Defense drops/D'd\",\"type\":\"bar\",\"x\":[\"Fly High Lausanne\",\"Wombats Willisau\",\"Wizards Geneva\",\"FSL\",\"FSL (Quarters)\",\"Fly High (Semis)\",\"Crazy Dogs\"],\"y\":[0.0,0.0,0.0,0.1,0.14285714285714285,0.07692307692307693,0.3333333333333333]},{\"name\":\"Offense Ds\",\"type\":\"bar\",\"x\":[\"Fly High Lausanne\",\"Wombats Willisau\",\"Wizards Geneva\",\"FSL\",\"FSL (Quarters)\",\"Fly High (Semis)\",\"Crazy Dogs\"],\"y\":[0.25,0.125,0.25,0.16666666666666666,0.0,0.2,0.16666666666666666]},{\"name\":\"Defense Ds\",\"type\":\"bar\",\"x\":[\"Fly High Lausanne\",\"Wombats Willisau\",\"Wizards Geneva\",\"FSL\",\"FSL (Quarters)\",\"Fly High (Semis)\",\"Crazy Dogs\"],\"y\":[0.3,0.3,0.21428571428571427,0.2,0.42857142857142855,0.38461538461538464,0.8333333333333334]},{\"marker\":{\"color\":\"grey\"},\"name\":\"Opponent Throwaway\",\"type\":\"bar\",\"x\":[\"Fly High Lausanne\",\"Wombats Willisau\",\"Wizards Geneva\",\"FSL\",\"FSL (Quarters)\",\"Fly High (Semis)\",\"Crazy Dogs\"],\"y\":[0.36363636363636365,0.3333333333333333,0.19230769230769232,0.4375,0.43478260869565216,0.391304347826087,0.3333333333333333]}],                        {\"height\":600,\"images\":[{\"sizex\":0.2,\"sizey\":0.2,\"source\":\"https://raw.githubusercontent.com/elastufka/presentations/master/images/ZU_logo1.png\",\"x\":0,\"xanchor\":\"right\",\"xref\":\"paper\",\"y\":1.05,\"yanchor\":\"bottom\",\"yref\":\"paper\"}],\"template\":{\"layout\":{\"colorway\":[\"#000000\",\"#784F17\",\"#FF0018\",\"#FFA52C\",\"#FFFF41\",\"#008018\",\"#0000F9\",\"#86007D\"],\"plot_bgcolor\":\"lightgrey\"}},\"title\":{\"text\":\"Average Events per Point\"},\"width\":850},                        {\"responsive\": true}                    ).then(function(){\n",
       "                            \n",
       "var gd = document.getElementById('57803edf-7e8d-4a52-ae33-a3b96cf59af9');\n",
       "var x = new MutationObserver(function (mutations, observer) {{\n",
       "        var display = window.getComputedStyle(gd).display;\n",
       "        if (!display || display === 'none') {{\n",
       "            console.log([gd, 'removed!']);\n",
       "            Plotly.purge(gd);\n",
       "            observer.disconnect();\n",
       "        }}\n",
       "}});\n",
       "\n",
       "// Listen for the removal of the full notebook cells\n",
       "var notebookContainer = gd.closest('#notebook-container');\n",
       "if (notebookContainer) {{\n",
       "    x.observe(notebookContainer, {childList: true});\n",
       "}}\n",
       "\n",
       "// Listen for the clearing of the current output cell\n",
       "var outputEl = gd.closest('.output');\n",
       "if (outputEl) {{\n",
       "    x.observe(outputEl, {childList: true});\n",
       "}}\n",
       "\n",
       "                        })                };                });            </script>        </div>"
      ]
     },
     "metadata": {},
     "output_type": "display_data"
    }
   ],
   "source": [
    "fig=go.Figure()\n",
    "fig.add_trace(go.Bar(x=ordered_games,y=odf.Catch.sum()/offense_points,name='Offense catches'))\n",
    "fig.add_trace(go.Bar(x=ordered_games,y=ddf.Catch.sum()/defense_points,name='Defense catches'))\n",
    "fig.add_trace(go.Bar(x=ordered_games,y=odf.Throwaway.sum()/offense_points,name='Offense throwaway'))\n",
    "fig.add_trace(go.Bar(x=ordered_games,y=ddf.Throwaway.sum()/defense_points,name='Defense throwaway'))\n",
    "fig.add_trace(go.Bar(x=ordered_games,y=odf.Drop.sum()/offense_points,name=\"Offense drops/D'd\"))\n",
    "fig.add_trace(go.Bar(x=ordered_games,y=ddf.Drop.sum()/defense_points,name=\"Defense drops/D'd\"))\n",
    "fig.add_trace(go.Bar(x=ordered_games,y=odf.D.sum()/offense_points,name='Offense Ds'))\n",
    "fig.add_trace(go.Bar(x=ordered_games,y=ddf.D.sum()/defense_points,name='Defense Ds'))\n",
    "fig.add_trace(go.Bar(x=ordered_games,y=tadf.Throwaway.sum()/total_points,marker_color='grey',name='Opponent Throwaway'))\n",
    "fig.update_layout(title='Average Events per Point')\n",
    "fig.update_layout(logo_layout,width=slidew,height=slideh)"
   ]
  },
  {
   "cell_type": "markdown",
   "metadata": {
    "slideshow": {
     "slide_type": "fragment"
    }
   },
   "source": [
    "\"Offense\" and \"Defense\" here refer to line, not if we were currently playing O or D"
   ]
  },
  {
   "cell_type": "code",
   "execution_count": 249,
   "metadata": {
    "slideshow": {
     "slide_type": "fragment"
    },
    "tags": [
     "to_remove"
    ]
   },
   "outputs": [
    {
     "data": {
      "application/vnd.plotly.v1+json": {
       "config": {
        "plotlyServerURL": "https://plotly.com"
       },
       "data": [
        {
         "marker": {
          "color": "#008018"
         },
         "name": "Hockey Assists",
         "type": "bar",
         "x": [
          "SH",
          "FS",
          "GA",
          "LB",
          "AL",
          "JS",
          "MV",
          "AY",
          "Anonymous",
          "EL",
          "SG",
          "CC",
          "JG",
          "CS",
          "JV",
          "SB"
         ],
         "y": [
          13,
          8,
          6,
          5,
          4,
          4,
          4,
          3,
          3,
          3,
          3,
          2,
          2,
          1,
          1,
          1
         ]
        },
        {
         "marker": {
          "color": "#0000F9"
         },
         "name": "Assists",
         "type": "bar",
         "x": [
          "SH",
          "SG",
          "FS",
          "GA",
          "MV",
          "AY",
          "Anonymous",
          "JS",
          "JV",
          "CS",
          "MR",
          "NK",
          "EL",
          "JG",
          "SB"
         ],
         "y": [
          16,
          13,
          10,
          8,
          4,
          3,
          3,
          3,
          3,
          2,
          2,
          2,
          1,
          1,
          1
         ]
        }
       ],
       "layout": {
        "barmode": "stack",
        "height": 600,
        "images": [
         {
          "sizex": 0.2,
          "sizey": 0.2,
          "source": "https://raw.githubusercontent.com/elastufka/presentations/master/images/ZU_logo1.png",
          "x": 0,
          "xanchor": "right",
          "xref": "paper",
          "y": 1.05,
          "yanchor": "bottom",
          "yref": "paper"
         }
        ],
        "template": {
         "layout": {
          "colorway": [
           "#000000",
           "#784F17",
           "#FF0018",
           "#FFA52C",
           "#FFFF41",
           "#008018",
           "#0000F9",
           "#86007D"
          ],
          "plot_bgcolor": "lightgrey"
         }
        },
        "title": {
         "text": "Assists and Hockey Assists"
        },
        "width": 850,
        "xaxis": {
         "categoryorder": "total descending",
         "title": {
          "text": "Player"
         }
        },
        "yaxis": {
         "title": {
          "text": "Number"
         }
        }
       }
      },
      "text/html": [
       "<div>                            <div id=\"73bfbdf9-59f4-473e-a904-2d4c0eef2560\" class=\"plotly-graph-div\" style=\"height:600px; width:850px;\"></div>            <script type=\"text/javascript\">                require([\"plotly\"], function(Plotly) {                    window.PLOTLYENV=window.PLOTLYENV || {};                                    if (document.getElementById(\"73bfbdf9-59f4-473e-a904-2d4c0eef2560\")) {                    Plotly.newPlot(                        \"73bfbdf9-59f4-473e-a904-2d4c0eef2560\",                        [{\"marker\":{\"color\":\"#008018\"},\"name\":\"Hockey Assists\",\"type\":\"bar\",\"x\":[\"SH\",\"FS\",\"GA\",\"LB\",\"AL\",\"JS\",\"MV\",\"AY\",\"Anonymous\",\"EL\",\"SG\",\"CC\",\"JG\",\"CS\",\"JV\",\"SB\"],\"y\":[13,8,6,5,4,4,4,3,3,3,3,2,2,1,1,1]},{\"marker\":{\"color\":\"#0000F9\"},\"name\":\"Assists\",\"type\":\"bar\",\"x\":[\"SH\",\"SG\",\"FS\",\"GA\",\"MV\",\"AY\",\"Anonymous\",\"JS\",\"JV\",\"CS\",\"MR\",\"NK\",\"EL\",\"JG\",\"SB\"],\"y\":[16,13,10,8,4,3,3,3,3,2,2,2,1,1,1]}],                        {\"barmode\":\"stack\",\"height\":600,\"images\":[{\"sizex\":0.2,\"sizey\":0.2,\"source\":\"https://raw.githubusercontent.com/elastufka/presentations/master/images/ZU_logo1.png\",\"x\":0,\"xanchor\":\"right\",\"xref\":\"paper\",\"y\":1.05,\"yanchor\":\"bottom\",\"yref\":\"paper\"}],\"template\":{\"layout\":{\"colorway\":[\"#000000\",\"#784F17\",\"#FF0018\",\"#FFA52C\",\"#FFFF41\",\"#008018\",\"#0000F9\",\"#86007D\"],\"plot_bgcolor\":\"lightgrey\"}},\"title\":{\"text\":\"Assists and Hockey Assists\"},\"width\":850,\"xaxis\":{\"categoryorder\":\"total descending\",\"title\":{\"text\":\"Player\"}},\"yaxis\":{\"title\":{\"text\":\"Number\"}}},                        {\"responsive\": true}                    ).then(function(){\n",
       "                            \n",
       "var gd = document.getElementById('73bfbdf9-59f4-473e-a904-2d4c0eef2560');\n",
       "var x = new MutationObserver(function (mutations, observer) {{\n",
       "        var display = window.getComputedStyle(gd).display;\n",
       "        if (!display || display === 'none') {{\n",
       "            console.log([gd, 'removed!']);\n",
       "            Plotly.purge(gd);\n",
       "            observer.disconnect();\n",
       "        }}\n",
       "}});\n",
       "\n",
       "// Listen for the removal of the full notebook cells\n",
       "var notebookContainer = gd.closest('#notebook-container');\n",
       "if (notebookContainer) {{\n",
       "    x.observe(notebookContainer, {childList: true});\n",
       "}}\n",
       "\n",
       "// Listen for the clearing of the current output cell\n",
       "var outputEl = gd.closest('.output');\n",
       "if (outputEl) {{\n",
       "    x.observe(outputEl, {childList: true});\n",
       "}}\n",
       "\n",
       "                        })                };                });            </script>        </div>"
      ]
     },
     "metadata": {},
     "output_type": "display_data"
    }
   ],
   "source": [
    "ag=df.groupby('Hockey_assist').count().sort_values('Action',ascending=False)\n",
    "aa=df.groupby('Assist').count().sort_values('Action',ascending=False)\n",
    "fig=go.Figure()\n",
    "fig.add_trace(go.Bar(x=ag.index,y=ag.Action.values,marker_color=pcolors[5],name='Hockey Assists'))\n",
    "fig.add_trace(go.Bar(x=aa.index,y=aa.Action.values,marker_color=pcolors[6],name='Assists'))\n",
    "fig.update_layout(barmode='stack',title='Assists and Hockey Assists',yaxis_title='Number',xaxis_title='Player',xaxis={'categoryorder':'total descending'})\n",
    "fig.update_layout(logo_layout,width=slidew,height=slideh)"
   ]
  },
  {
   "cell_type": "code",
   "execution_count": 264,
   "metadata": {
    "slideshow": {
     "slide_type": "fragment"
    },
    "tags": [
     "to_remove"
    ]
   },
   "outputs": [
    {
     "data": {
      "application/vnd.plotly.v1+json": {
       "config": {
        "plotlyServerURL": "https://plotly.com"
       },
       "data": [
        {
         "marker": {
          "color": "#86007D"
         },
         "name": "Fly High Lausanne",
         "type": "bar",
         "x": [
          "MM",
          "WM",
          "MW",
          "MU",
          "WW",
          "WU",
          "UW",
          "UM",
          "UU"
         ],
         "y": [
          54,
          32,
          30,
          16,
          5,
          4,
          2,
          1,
          1
         ]
        },
        {
         "marker": {
          "color": "#0000F9"
         },
         "name": "Wombats Willisau",
         "type": "bar",
         "x": [
          "MW",
          "WM",
          "MM",
          "WW",
          "MU",
          "WU",
          "UW"
         ],
         "y": [
          40,
          40,
          36,
          10,
          6,
          5,
          2
         ]
        },
        {
         "marker": {
          "color": "#008018"
         },
         "name": "Wizards Geneva",
         "type": "bar",
         "x": [
          "MM",
          "WM",
          "MW",
          "WW",
          "MU",
          "UW",
          "WU",
          "UM",
          "UU"
         ],
         "y": [
          56,
          35,
          31,
          14,
          11,
          7,
          6,
          4,
          1
         ]
        },
        {
         "marker": {
          "color": "#FFFF41"
         },
         "name": "FSL",
         "type": "bar",
         "x": [
          "MW",
          "WM",
          "MM",
          "MU",
          "UM",
          "UU",
          "WW",
          "WU"
         ],
         "y": [
          17,
          13,
          8,
          7,
          3,
          2,
          2,
          1
         ]
        },
        {
         "marker": {
          "color": "#FFA52C"
         },
         "name": "FSL (Quarters)",
         "type": "bar",
         "x": [
          "MM",
          "MW",
          "WM",
          "WW",
          "MU",
          "WU",
          "UW",
          "UM"
         ],
         "y": [
          49,
          36,
          34,
          9,
          7,
          4,
          2,
          1
         ]
        },
        {
         "marker": {
          "color": "#FF0018"
         },
         "name": "Fly High (Semis)",
         "type": "bar",
         "x": [
          "MM",
          "MW",
          "WM",
          "MU",
          "WW",
          "WU",
          "UM",
          "UU"
         ],
         "y": [
          59,
          26,
          24,
          8,
          8,
          4,
          2,
          1
         ]
        },
        {
         "marker": {
          "color": "#784F17"
         },
         "name": "Crazy Dogs",
         "type": "bar",
         "x": [
          "MM",
          "MW",
          "WM",
          "WW",
          "MU",
          "WU"
         ],
         "y": [
          33,
          18,
          15,
          6,
          3,
          1
         ]
        }
       ],
       "layout": {
        "barmode": "stack",
        "height": 600,
        "images": [
         {
          "sizex": 0.2,
          "sizey": 0.2,
          "source": "https://raw.githubusercontent.com/elastufka/presentations/master/images/ZU_logo1.png",
          "x": 0,
          "xanchor": "right",
          "xref": "paper",
          "y": 1.05,
          "yanchor": "bottom",
          "yref": "paper"
         }
        ],
        "template": {
         "layout": {
          "colorway": [
           "#000000",
           "#784F17",
           "#FF0018",
           "#FFA52C",
           "#FFFF41",
           "#008018",
           "#0000F9",
           "#86007D"
          ],
          "plot_bgcolor": "lightgrey"
         }
        },
        "title": {
         "text": "Pass matchups"
        },
        "width": 850,
        "xaxis": {
         "categoryorder": "total descending",
         "title": {
          "text": "Gender Matchup"
         }
        },
        "yaxis": {
         "title": {
          "text": "Number of Passes"
         }
        }
       }
      },
      "text/html": [
       "<div>                            <div id=\"86c3e5ba-a670-4667-af6b-f5ddd4da8c32\" class=\"plotly-graph-div\" style=\"height:600px; width:850px;\"></div>            <script type=\"text/javascript\">                require([\"plotly\"], function(Plotly) {                    window.PLOTLYENV=window.PLOTLYENV || {};                                    if (document.getElementById(\"86c3e5ba-a670-4667-af6b-f5ddd4da8c32\")) {                    Plotly.newPlot(                        \"86c3e5ba-a670-4667-af6b-f5ddd4da8c32\",                        [{\"marker\":{\"color\":\"#86007D\"},\"name\":\"Fly High Lausanne\",\"type\":\"bar\",\"x\":[\"MM\",\"WM\",\"MW\",\"MU\",\"WW\",\"WU\",\"UW\",\"UM\",\"UU\"],\"y\":[54,32,30,16,5,4,2,1,1]},{\"marker\":{\"color\":\"#0000F9\"},\"name\":\"Wombats Willisau\",\"type\":\"bar\",\"x\":[\"MW\",\"WM\",\"MM\",\"WW\",\"MU\",\"WU\",\"UW\"],\"y\":[40,40,36,10,6,5,2]},{\"marker\":{\"color\":\"#008018\"},\"name\":\"Wizards Geneva\",\"type\":\"bar\",\"x\":[\"MM\",\"WM\",\"MW\",\"WW\",\"MU\",\"UW\",\"WU\",\"UM\",\"UU\"],\"y\":[56,35,31,14,11,7,6,4,1]},{\"marker\":{\"color\":\"#FFFF41\"},\"name\":\"FSL\",\"type\":\"bar\",\"x\":[\"MW\",\"WM\",\"MM\",\"MU\",\"UM\",\"UU\",\"WW\",\"WU\"],\"y\":[17,13,8,7,3,2,2,1]},{\"marker\":{\"color\":\"#FFA52C\"},\"name\":\"FSL (Quarters)\",\"type\":\"bar\",\"x\":[\"MM\",\"MW\",\"WM\",\"WW\",\"MU\",\"WU\",\"UW\",\"UM\"],\"y\":[49,36,34,9,7,4,2,1]},{\"marker\":{\"color\":\"#FF0018\"},\"name\":\"Fly High (Semis)\",\"type\":\"bar\",\"x\":[\"MM\",\"MW\",\"WM\",\"MU\",\"WW\",\"WU\",\"UM\",\"UU\"],\"y\":[59,26,24,8,8,4,2,1]},{\"marker\":{\"color\":\"#784F17\"},\"name\":\"Crazy Dogs\",\"type\":\"bar\",\"x\":[\"MM\",\"MW\",\"WM\",\"WW\",\"MU\",\"WU\"],\"y\":[33,18,15,6,3,1]}],                        {\"barmode\":\"stack\",\"height\":600,\"images\":[{\"sizex\":0.2,\"sizey\":0.2,\"source\":\"https://raw.githubusercontent.com/elastufka/presentations/master/images/ZU_logo1.png\",\"x\":0,\"xanchor\":\"right\",\"xref\":\"paper\",\"y\":1.05,\"yanchor\":\"bottom\",\"yref\":\"paper\"}],\"template\":{\"layout\":{\"colorway\":[\"#000000\",\"#784F17\",\"#FF0018\",\"#FFA52C\",\"#FFFF41\",\"#008018\",\"#0000F9\",\"#86007D\"],\"plot_bgcolor\":\"lightgrey\"}},\"title\":{\"text\":\"Pass matchups\"},\"width\":850,\"xaxis\":{\"categoryorder\":\"total descending\",\"title\":{\"text\":\"Gender Matchup\"}},\"yaxis\":{\"title\":{\"text\":\"Number of Passes\"}}},                        {\"responsive\": true}                    ).then(function(){\n",
       "                            \n",
       "var gd = document.getElementById('86c3e5ba-a670-4667-af6b-f5ddd4da8c32');\n",
       "var x = new MutationObserver(function (mutations, observer) {{\n",
       "        var display = window.getComputedStyle(gd).display;\n",
       "        if (!display || display === 'none') {{\n",
       "            console.log([gd, 'removed!']);\n",
       "            Plotly.purge(gd);\n",
       "            observer.disconnect();\n",
       "        }}\n",
       "}});\n",
       "\n",
       "// Listen for the removal of the full notebook cells\n",
       "var notebookContainer = gd.closest('#notebook-container');\n",
       "if (notebookContainer) {{\n",
       "    x.observe(notebookContainer, {childList: true});\n",
       "}}\n",
       "\n",
       "// Listen for the clearing of the current output cell\n",
       "var outputEl = gd.closest('.output');\n",
       "if (outputEl) {{\n",
       "    x.observe(outputEl, {childList: true});\n",
       "}}\n",
       "\n",
       "                        })                };                });            </script>        </div>"
      ]
     },
     "metadata": {},
     "output_type": "display_data"
    }
   ],
   "source": [
    "## pass matchups by gender\n",
    "#ag=df.groupby('Pass_matchup').count().sort_values('Action',ascending=False)\n",
    "fig=go.Figure()\n",
    "for i,op in enumerate(ordered_games):\n",
    "    ag=df.where(df.Opponent==op).groupby('Pass_matchup').count().sort_values('Action',ascending=False)\n",
    "    fig.add_trace(go.Bar(x=ag.index,y=ag.Action,name=op,marker_color=pcolors[7-i]))\n",
    "fig.update_layout(barmode='stack',title='Pass matchups',yaxis_title='Number of Passes',xaxis_title='Gender Matchup',xaxis={'categoryorder':'total descending'})\n",
    "fig.update_layout(logo_layout,width=slidew,height=slideh)"
   ]
  },
  {
   "cell_type": "code",
   "execution_count": 263,
   "metadata": {
    "slideshow": {
     "slide_type": "fragment"
    },
    "tags": [
     "to_remove"
    ]
   },
   "outputs": [
    {
     "data": {
      "application/vnd.plotly.v1+json": {
       "config": {
        "plotlyServerURL": "https://plotly.com"
       },
       "data": [
        {
         "marker": {
          "color": "#86007D"
         },
         "name": "Fly High Lausanne",
         "type": "bar",
         "x": [
          "MM",
          "MW",
          "WM",
          "WW"
         ],
         "y": [
          13,
          13,
          5,
          1
         ]
        },
        {
         "marker": {
          "color": "#0000F9"
         },
         "name": "Wombats Willisau",
         "type": "bar",
         "x": [
          "MW",
          "MM",
          "WM",
          "WW"
         ],
         "y": [
          11,
          10,
          5,
          1
         ]
        },
        {
         "marker": {
          "color": "#008018"
         },
         "name": "Wizards Geneva",
         "type": "bar",
         "x": [
          "MM",
          "MW",
          "WM",
          "WW",
          "UW",
          "WU",
          "UM"
         ],
         "y": [
          18,
          15,
          9,
          4,
          3,
          2,
          1
         ]
        },
        {
         "marker": {
          "color": "#FFFF41"
         },
         "name": "FSL",
         "type": "bar",
         "x": [
          "MW",
          "UM"
         ],
         "y": [
          3,
          1
         ]
        },
        {
         "marker": {
          "color": "#FFA52C"
         },
         "name": "FSL (Quarters)",
         "type": "bar",
         "x": [
          "MM",
          "MW",
          "WM",
          "WW"
         ],
         "y": [
          10,
          10,
          5,
          3
         ]
        },
        {
         "marker": {
          "color": "#FF0018"
         },
         "name": "Fly High (Semis)",
         "type": "bar",
         "x": [
          "MM",
          "MW",
          "WW",
          "WM"
         ],
         "y": [
          13,
          4,
          2,
          1
         ]
        },
        {
         "marker": {
          "color": "#784F17"
         },
         "name": "Crazy Dogs",
         "type": "bar",
         "x": [
          "MM",
          "MW"
         ],
         "y": [
          11,
          2
         ]
        }
       ],
       "layout": {
        "barmode": "stack",
        "height": 600,
        "images": [
         {
          "sizex": 0.2,
          "sizey": 0.2,
          "source": "https://raw.githubusercontent.com/elastufka/presentations/master/images/ZU_logo1.png",
          "x": 0,
          "xanchor": "right",
          "xref": "paper",
          "y": 1.05,
          "yanchor": "bottom",
          "yref": "paper"
         }
        ],
        "template": {
         "layout": {
          "colorway": [
           "#000000",
           "#784F17",
           "#FF0018",
           "#FFA52C",
           "#FFFF41",
           "#008018",
           "#0000F9",
           "#86007D"
          ],
          "plot_bgcolor": "lightgrey"
         }
        },
        "title": {
         "text": "Give-and-go matchups"
        },
        "width": 850,
        "xaxis": {
         "categoryorder": "total descending",
         "title": {
          "text": "Gender Matchup"
         }
        },
        "yaxis": {
         "title": {
          "text": "Number of Give-and-Go Passes"
         }
        }
       }
      },
      "text/html": [
       "<div>                            <div id=\"8f853eef-33e2-4443-b82a-547447c2aebe\" class=\"plotly-graph-div\" style=\"height:600px; width:850px;\"></div>            <script type=\"text/javascript\">                require([\"plotly\"], function(Plotly) {                    window.PLOTLYENV=window.PLOTLYENV || {};                                    if (document.getElementById(\"8f853eef-33e2-4443-b82a-547447c2aebe\")) {                    Plotly.newPlot(                        \"8f853eef-33e2-4443-b82a-547447c2aebe\",                        [{\"marker\":{\"color\":\"#86007D\"},\"name\":\"Fly High Lausanne\",\"type\":\"bar\",\"x\":[\"MM\",\"MW\",\"WM\",\"WW\"],\"y\":[13,13,5,1]},{\"marker\":{\"color\":\"#0000F9\"},\"name\":\"Wombats Willisau\",\"type\":\"bar\",\"x\":[\"MW\",\"MM\",\"WM\",\"WW\"],\"y\":[11,10,5,1]},{\"marker\":{\"color\":\"#008018\"},\"name\":\"Wizards Geneva\",\"type\":\"bar\",\"x\":[\"MM\",\"MW\",\"WM\",\"WW\",\"UW\",\"WU\",\"UM\"],\"y\":[18,15,9,4,3,2,1]},{\"marker\":{\"color\":\"#FFFF41\"},\"name\":\"FSL\",\"type\":\"bar\",\"x\":[\"MW\",\"UM\"],\"y\":[3,1]},{\"marker\":{\"color\":\"#FFA52C\"},\"name\":\"FSL (Quarters)\",\"type\":\"bar\",\"x\":[\"MM\",\"MW\",\"WM\",\"WW\"],\"y\":[10,10,5,3]},{\"marker\":{\"color\":\"#FF0018\"},\"name\":\"Fly High (Semis)\",\"type\":\"bar\",\"x\":[\"MM\",\"MW\",\"WW\",\"WM\"],\"y\":[13,4,2,1]},{\"marker\":{\"color\":\"#784F17\"},\"name\":\"Crazy Dogs\",\"type\":\"bar\",\"x\":[\"MM\",\"MW\"],\"y\":[11,2]}],                        {\"barmode\":\"stack\",\"height\":600,\"images\":[{\"sizex\":0.2,\"sizey\":0.2,\"source\":\"https://raw.githubusercontent.com/elastufka/presentations/master/images/ZU_logo1.png\",\"x\":0,\"xanchor\":\"right\",\"xref\":\"paper\",\"y\":1.05,\"yanchor\":\"bottom\",\"yref\":\"paper\"}],\"template\":{\"layout\":{\"colorway\":[\"#000000\",\"#784F17\",\"#FF0018\",\"#FFA52C\",\"#FFFF41\",\"#008018\",\"#0000F9\",\"#86007D\"],\"plot_bgcolor\":\"lightgrey\"}},\"title\":{\"text\":\"Give-and-go matchups\"},\"width\":850,\"xaxis\":{\"categoryorder\":\"total descending\",\"title\":{\"text\":\"Gender Matchup\"}},\"yaxis\":{\"title\":{\"text\":\"Number of Give-and-Go Passes\"}}},                        {\"responsive\": true}                    ).then(function(){\n",
       "                            \n",
       "var gd = document.getElementById('8f853eef-33e2-4443-b82a-547447c2aebe');\n",
       "var x = new MutationObserver(function (mutations, observer) {{\n",
       "        var display = window.getComputedStyle(gd).display;\n",
       "        if (!display || display === 'none') {{\n",
       "            console.log([gd, 'removed!']);\n",
       "            Plotly.purge(gd);\n",
       "            observer.disconnect();\n",
       "        }}\n",
       "}});\n",
       "\n",
       "// Listen for the removal of the full notebook cells\n",
       "var notebookContainer = gd.closest('#notebook-container');\n",
       "if (notebookContainer) {{\n",
       "    x.observe(notebookContainer, {childList: true});\n",
       "}}\n",
       "\n",
       "// Listen for the clearing of the current output cell\n",
       "var outputEl = gd.closest('.output');\n",
       "if (outputEl) {{\n",
       "    x.observe(outputEl, {childList: true});\n",
       "}}\n",
       "\n",
       "                        })                };                });            </script>        </div>"
      ]
     },
     "metadata": {},
     "output_type": "display_data"
    }
   ],
   "source": [
    "fig=go.Figure()\n",
    "for i,op in enumerate(ordered_games):\n",
    "    ag=df.where(df.Opponent==op).groupby('give-and-go_matchup').count().sort_values('Action',ascending=False)\n",
    "    fig.add_trace(go.Bar(x=ag.index,y=ag.Action,name=op,marker_color=pcolors[7-i]))\n",
    "fig.update_layout(barmode='stack',title='Give-and-go matchups',yaxis_title='Number of Give-and-Go Passes',xaxis_title='Gender Matchup',xaxis={'categoryorder':'total descending'})\n",
    "fig.update_layout(logo_layout,width=slidew,height=slideh)"
   ]
  },
  {
   "cell_type": "markdown",
   "metadata": {
    "slideshow": {
     "slide_type": "fragment"
    }
   },
   "source": [
    "A give-and-go was defined as a single instance where the thrower became the next receiver. So a sequence that looks like A-B-A-B-A is counted not as a single give-and-go, but as 3 (2 for A-B, 1 for B-A).\n",
    "\n",
    "The order of the person in the give-and-go-pair does not matter for counting purposes."
   ]
  },
  {
   "cell_type": "code",
   "execution_count": 252,
   "metadata": {
    "slideshow": {
     "slide_type": "fragment"
    },
    "tags": [
     "to_remove"
    ]
   },
   "outputs": [
    {
     "data": {
      "application/vnd.plotly.v1+json": {
       "config": {
        "plotlyServerURL": "https://plotly.com"
       },
       "data": [
        {
         "marker": {
          "color": [
           "#f0f921",
           "rgb(251.53846153846155, 170.5769230769231, 52.61538461538461)",
           "rgb(245.07692307692307, 142.9230769230769, 68.57692307692308)",
           "rgb(171.23076923076925, 37.76923076923078, 146.9230769230769)",
           "rgb(102.15384615384616, 1.538461538461538, 165.57692307692307)",
           "rgb(102.15384615384616, 1.538461538461538, 165.57692307692307)",
           "rgb(102.15384615384616, 1.538461538461538, 165.57692307692307)",
           "rgb(102.15384615384616, 1.538461538461538, 165.57692307692307)",
           "rgb(86.92307692307693, 2.2307692307692304, 162.46153846153845)",
           "rgb(86.92307692307693, 2.2307692307692304, 162.46153846153845)",
           "rgb(86.92307692307693, 2.2307692307692304, 162.46153846153845)",
           "rgb(86.92307692307693, 2.2307692307692304, 162.46153846153845)",
           "rgb(71.6923076923077, 2.923076923076923, 159.34615384615384)",
           "rgb(71.6923076923077, 2.923076923076923, 159.34615384615384)",
           "rgb(71.6923076923077, 2.923076923076923, 159.34615384615384)",
           "rgb(71.6923076923077, 2.923076923076923, 159.34615384615384)",
           "rgb(52.46153846153847, 4.538461538461538, 151.6153846153846)",
           "rgb(52.46153846153847, 4.538461538461538, 151.6153846153846)",
           "rgb(52.46153846153847, 4.538461538461538, 151.6153846153846)"
          ]
         },
         "type": "bar",
         "x": [
          "AY-SH",
          "FS-SH",
          "FS-GA",
          "AY-GA",
          "AY-FS",
          "CS-SH",
          "MV-SG",
          "JS-SH",
          "SB-SH",
          "AL-SB",
          "EL-SH",
          "GA-SH",
          "FS-SB",
          "AY-Anonymous",
          "LB-MR",
          "JG-SG",
          "CS-JG",
          "FS-MV",
          "GA-JS"
         ],
         "y": [
          26,
          21,
          19,
          10,
          5,
          5,
          5,
          5,
          4,
          4,
          4,
          4,
          3,
          3,
          3,
          3,
          2,
          2,
          2
         ]
        }
       ],
       "layout": {
        "height": 600,
        "images": [
         {
          "sizex": 0.2,
          "sizey": 0.2,
          "source": "https://raw.githubusercontent.com/elastufka/presentations/master/images/ZU_logo1.png",
          "x": 0,
          "xanchor": "right",
          "xref": "paper",
          "y": 1.05,
          "yanchor": "bottom",
          "yref": "paper"
         }
        ],
        "template": {
         "layout": {
          "colorway": [
           "#000000",
           "#784F17",
           "#FF0018",
           "#FFA52C",
           "#FFFF41",
           "#008018",
           "#0000F9",
           "#86007D"
          ],
          "plot_bgcolor": "lightgrey"
         }
        },
        "title": {
         "text": "Give-and-go Pairs"
        },
        "width": 850,
        "xaxis": {
         "title": {
          "text": "Pairs"
         }
        },
        "yaxis": {
         "title": {
          "text": "Number of Give-and-Go Passes"
         }
        }
       }
      },
      "text/html": [
       "<div>                            <div id=\"7541ddad-854a-4887-bb22-557bc6c7bbaf\" class=\"plotly-graph-div\" style=\"height:600px; width:850px;\"></div>            <script type=\"text/javascript\">                require([\"plotly\"], function(Plotly) {                    window.PLOTLYENV=window.PLOTLYENV || {};                                    if (document.getElementById(\"7541ddad-854a-4887-bb22-557bc6c7bbaf\")) {                    Plotly.newPlot(                        \"7541ddad-854a-4887-bb22-557bc6c7bbaf\",                        [{\"marker\":{\"color\":[\"#f0f921\",\"rgb(251.53846153846155, 170.5769230769231, 52.61538461538461)\",\"rgb(245.07692307692307, 142.9230769230769, 68.57692307692308)\",\"rgb(171.23076923076925, 37.76923076923078, 146.9230769230769)\",\"rgb(102.15384615384616, 1.538461538461538, 165.57692307692307)\",\"rgb(102.15384615384616, 1.538461538461538, 165.57692307692307)\",\"rgb(102.15384615384616, 1.538461538461538, 165.57692307692307)\",\"rgb(102.15384615384616, 1.538461538461538, 165.57692307692307)\",\"rgb(86.92307692307693, 2.2307692307692304, 162.46153846153845)\",\"rgb(86.92307692307693, 2.2307692307692304, 162.46153846153845)\",\"rgb(86.92307692307693, 2.2307692307692304, 162.46153846153845)\",\"rgb(86.92307692307693, 2.2307692307692304, 162.46153846153845)\",\"rgb(71.6923076923077, 2.923076923076923, 159.34615384615384)\",\"rgb(71.6923076923077, 2.923076923076923, 159.34615384615384)\",\"rgb(71.6923076923077, 2.923076923076923, 159.34615384615384)\",\"rgb(71.6923076923077, 2.923076923076923, 159.34615384615384)\",\"rgb(52.46153846153847, 4.538461538461538, 151.6153846153846)\",\"rgb(52.46153846153847, 4.538461538461538, 151.6153846153846)\",\"rgb(52.46153846153847, 4.538461538461538, 151.6153846153846)\"]},\"type\":\"bar\",\"x\":[\"AY-SH\",\"FS-SH\",\"FS-GA\",\"AY-GA\",\"AY-FS\",\"CS-SH\",\"MV-SG\",\"JS-SH\",\"SB-SH\",\"AL-SB\",\"EL-SH\",\"GA-SH\",\"FS-SB\",\"AY-Anonymous\",\"LB-MR\",\"JG-SG\",\"CS-JG\",\"FS-MV\",\"GA-JS\"],\"y\":[26,21,19,10,5,5,5,5,4,4,4,4,3,3,3,3,2,2,2]}],                        {\"height\":600,\"images\":[{\"sizex\":0.2,\"sizey\":0.2,\"source\":\"https://raw.githubusercontent.com/elastufka/presentations/master/images/ZU_logo1.png\",\"x\":0,\"xanchor\":\"right\",\"xref\":\"paper\",\"y\":1.05,\"yanchor\":\"bottom\",\"yref\":\"paper\"}],\"template\":{\"layout\":{\"colorway\":[\"#000000\",\"#784F17\",\"#FF0018\",\"#FFA52C\",\"#FFFF41\",\"#008018\",\"#0000F9\",\"#86007D\"],\"plot_bgcolor\":\"lightgrey\"}},\"title\":{\"text\":\"Give-and-go Pairs\"},\"width\":850,\"xaxis\":{\"title\":{\"text\":\"Pairs\"}},\"yaxis\":{\"title\":{\"text\":\"Number of Give-and-Go Passes\"}}},                        {\"responsive\": true}                    ).then(function(){\n",
       "                            \n",
       "var gd = document.getElementById('7541ddad-854a-4887-bb22-557bc6c7bbaf');\n",
       "var x = new MutationObserver(function (mutations, observer) {{\n",
       "        var display = window.getComputedStyle(gd).display;\n",
       "        if (!display || display === 'none') {{\n",
       "            console.log([gd, 'removed!']);\n",
       "            Plotly.purge(gd);\n",
       "            observer.disconnect();\n",
       "        }}\n",
       "}});\n",
       "\n",
       "// Listen for the removal of the full notebook cells\n",
       "var notebookContainer = gd.closest('#notebook-container');\n",
       "if (notebookContainer) {{\n",
       "    x.observe(notebookContainer, {childList: true});\n",
       "}}\n",
       "\n",
       "// Listen for the clearing of the current output cell\n",
       "var outputEl = gd.closest('.output');\n",
       "if (outputEl) {{\n",
       "    x.observe(outputEl, {childList: true});\n",
       "}}\n",
       "\n",
       "                        })                };                });            </script>        </div>"
      ]
     },
     "metadata": {},
     "output_type": "display_data"
    }
   ],
   "source": [
    "ag=df.groupby('give-and-go_pairs').count().sort_values('Action',ascending=False).head(19)\n",
    "xax=[p[0]+'-'+p[1] for p in ag.index.values]\n",
    "colorscale = plotly.colors.sequential.Plasma\n",
    "cdict=[[i/(len(colorscale)-1),c] for i,c in enumerate(colorscale)]\n",
    "ccolors=[get_continuous_color(cdict,en/ag.Action.max()) for en in ag.Action.values]\n",
    "fig=go.Figure()\n",
    "fig.add_trace(go.Bar(x=xax,y=ag.Action.values,marker_color=ccolors))\n",
    "fig.update_layout(title='Give-and-go Pairs',yaxis_title='Number of Give-and-Go Passes',xaxis_title='Pairs')#,xaxis={'categoryorder':'total descending'})\n",
    "fig.update_layout(logo_layout,width=slidew,height=slideh)"
   ]
  },
  {
   "cell_type": "code",
   "execution_count": 167,
   "metadata": {
    "slideshow": {
     "slide_type": "skip"
    }
   },
   "outputs": [],
   "source": [
    "#gender score - touch ratio / gender ratio\n",
    "maj_men,maj_women=[],[]\n",
    "for op in ordered_games:\n",
    "    opdf=df.where(df.Opponent==op).dropna(how='all').groupby('PointID')\n",
    "    tdf=opdf.agg({'W4_M3':np.median,'Touch_M':sum,'Touch_W':sum,'Touch_U':sum})\n",
    "    aa=tdf.groupby('W4_M3')[['Touch_M','Touch_W','Touch_U']].mean()\n",
    "    maj_men.append(aa.iloc[0].values)\n",
    "    maj_women.append(aa.iloc[1].values)"
   ]
  },
  {
   "cell_type": "code",
   "execution_count": 168,
   "metadata": {
    "slideshow": {
     "slide_type": "skip"
    }
   },
   "outputs": [
    {
     "data": {
      "text/plain": [
       "((7, 3),\n",
       " array([6.7       , 7.25      , 3.09090909, 2.        , 4.3       ,\n",
       "        5.9       , 4.4       ]))"
      ]
     },
     "execution_count": 168,
     "metadata": {},
     "output_type": "execute_result"
    }
   ],
   "source": [
    "maj_men=np.array(maj_men)\n",
    "maj_women=np.array(maj_women)\n",
    "maj_men.shape,maj_men[:,0]"
   ]
  },
  {
   "cell_type": "code",
   "execution_count": 256,
   "metadata": {
    "slideshow": {
     "slide_type": "fragment"
    },
    "tags": [
     "to_remove"
    ]
   },
   "outputs": [
    {
     "data": {
      "application/vnd.plotly.v1+json": {
       "config": {
        "plotlyServerURL": "https://plotly.com"
       },
       "data": [
        {
         "marker": {
          "color": "green"
         },
         "name": "M touches (4M)",
         "orientation": "h",
         "type": "bar",
         "x": [
          6.7,
          7.25,
          3.090909090909091,
          2,
          4.3,
          5.9,
          4.4
         ],
         "xaxis": "x",
         "yaxis": "y"
        },
        {
         "marker": {
          "color": "orange"
         },
         "name": "W touches (4M)",
         "orientation": "h",
         "type": "bar",
         "x": [
          2.3,
          3.625,
          1,
          1,
          1.9,
          1.9,
          1.8
         ],
         "xaxis": "x",
         "yaxis": "y"
        },
        {
         "marker": {
          "color": "green"
         },
         "name": "M touches (4W)",
         "orientation": "h",
         "type": "bar",
         "x": [
          -3.6,
          -2.888888888888889,
          -4.769230769230769,
          -2.125,
          -4.090909090909091,
          -2.8181818181818183,
          -6.333333333333333
         ],
         "xaxis": "x",
         "yaxis": "y2"
        },
        {
         "marker": {
          "color": "orange"
         },
         "name": "W touches (4W)",
         "orientation": "h",
         "type": "bar",
         "x": [
          -1.9,
          -2.6666666666666665,
          -3.6923076923076925,
          -1.375,
          -3.4545454545454546,
          -2.090909090909091,
          -2.1666666666666665
         ],
         "xaxis": "x",
         "yaxis": "y2"
        },
        {
         "marker": {
          "color": "black",
          "symbol": "cross"
         },
         "mode": "markers",
         "name": "m/f touch ratio",
         "type": "scatter",
         "x": [
          2.91304347826087,
          2,
          3.090909090909091,
          2,
          2.263157894736842,
          3.105263157894737,
          2.4444444444444446
         ],
         "xaxis": "x",
         "y": [
          0,
          1,
          2,
          3,
          4,
          5,
          6
         ],
         "yaxis": "y"
        },
        {
         "marker": {
          "color": "black",
          "symbol": "cross"
         },
         "mode": "markers",
         "name": "f/m touch ratio",
         "type": "scatter",
         "x": [
          -0.5277777777777778,
          -0.923076923076923,
          -0.7741935483870969,
          -0.6470588235294118,
          -0.8444444444444444,
          -0.7419354838709676,
          -0.34210526315789475
         ],
         "xaxis": "x",
         "y": [
          0,
          1,
          2,
          3,
          4,
          5,
          6
         ],
         "yaxis": "y2"
        }
       ],
       "layout": {
        "height": 600,
        "images": [
         {
          "sizex": 0.2,
          "sizey": 0.2,
          "source": "https://raw.githubusercontent.com/elastufka/presentations/master/images/ZU_logo1.png",
          "x": 0,
          "xanchor": "right",
          "xref": "paper",
          "y": 1.05,
          "yanchor": "bottom",
          "yref": "paper"
         }
        ],
        "legend": {
         "orientation": "h",
         "y": 1.12,
         "yanchor": "top"
        },
        "shapes": [
         {
          "fillcolor": "purple",
          "opacity": 0.2,
          "type": "rect",
          "x0": -7,
          "x1": 0,
          "xref": "x",
          "y0": 0,
          "y1": 1,
          "yref": "y domain"
         },
         {
          "line": {
           "dash": "dash",
           "width": 0.5
          },
          "type": "line",
          "x0": 1.3333333333333333,
          "x1": 1.3333333333333333,
          "xref": "x",
          "y0": 0,
          "y1": 1,
          "yref": "y domain"
         },
         {
          "line": {
           "dash": "dash",
           "width": 0.5
          },
          "name": "4:3 ratio",
          "type": "line",
          "x0": -1.3333333333333333,
          "x1": -1.3333333333333333,
          "xref": "x",
          "y0": 0,
          "y1": 1,
          "yref": "y domain"
         }
        ],
        "template": {
         "layout": {
          "colorway": [
           "#000000",
           "#784F17",
           "#FF0018",
           "#FFA52C",
           "#FFFF41",
           "#008018",
           "#0000F9",
           "#86007D"
          ],
          "plot_bgcolor": "lightgrey"
         }
        },
        "title": {
         "text": "Average Touches per Point"
        },
        "width": 850,
        "xaxis": {
         "anchor": "y",
         "domain": [
          0,
          0.94
         ],
         "ticktext": [
          8,
          6,
          4,
          2,
          0,
          2,
          4,
          6,
          8
         ],
         "tickvals": [
          -8,
          -6,
          -4,
          -2,
          0,
          2,
          4,
          6,
          8
         ],
         "title": {
          "text": "Touches per Point"
         }
        },
        "yaxis": {
         "anchor": "x",
         "domain": [
          0,
          1
         ],
         "ticktext": [],
         "tickvals": []
        },
        "yaxis2": {
         "anchor": "x",
         "overlaying": "y",
         "side": "right",
         "ticktext": [
          "Fly High Lausanne",
          "Wombats Willisau",
          "Wizards Geneva",
          "FSL",
          "FSL (Quarters)",
          "Fly High (Semis)",
          "Crazy Dogs"
         ],
         "tickvals": [
          0,
          1,
          2,
          3,
          4,
          5,
          6
         ]
        }
       }
      },
      "text/html": [
       "<div>                            <div id=\"b3bfbd4d-fb46-4617-b074-5967fc46bc57\" class=\"plotly-graph-div\" style=\"height:600px; width:850px;\"></div>            <script type=\"text/javascript\">                require([\"plotly\"], function(Plotly) {                    window.PLOTLYENV=window.PLOTLYENV || {};                                    if (document.getElementById(\"b3bfbd4d-fb46-4617-b074-5967fc46bc57\")) {                    Plotly.newPlot(                        \"b3bfbd4d-fb46-4617-b074-5967fc46bc57\",                        [{\"marker\":{\"color\":\"green\"},\"name\":\"M touches (4M)\",\"orientation\":\"h\",\"type\":\"bar\",\"x\":[6.7,7.25,3.090909090909091,2.0,4.3,5.9,4.4],\"xaxis\":\"x\",\"yaxis\":\"y\"},{\"marker\":{\"color\":\"orange\"},\"name\":\"W touches (4M)\",\"orientation\":\"h\",\"type\":\"bar\",\"x\":[2.3,3.625,1.0,1.0,1.9,1.9,1.8],\"xaxis\":\"x\",\"yaxis\":\"y\"},{\"marker\":{\"color\":\"green\"},\"name\":\"M touches (4W)\",\"orientation\":\"h\",\"type\":\"bar\",\"x\":[-3.6,-2.888888888888889,-4.769230769230769,-2.125,-4.090909090909091,-2.8181818181818183,-6.333333333333333],\"xaxis\":\"x\",\"yaxis\":\"y2\"},{\"marker\":{\"color\":\"orange\"},\"name\":\"W touches (4W)\",\"orientation\":\"h\",\"type\":\"bar\",\"x\":[-1.9,-2.6666666666666665,-3.6923076923076925,-1.375,-3.4545454545454546,-2.090909090909091,-2.1666666666666665],\"xaxis\":\"x\",\"yaxis\":\"y2\"},{\"marker\":{\"color\":\"black\",\"symbol\":\"cross\"},\"mode\":\"markers\",\"name\":\"m/f touch ratio\",\"type\":\"scatter\",\"x\":[2.91304347826087,2.0,3.090909090909091,2.0,2.263157894736842,3.105263157894737,2.4444444444444446],\"xaxis\":\"x\",\"y\":[0,1,2,3,4,5,6],\"yaxis\":\"y\"},{\"marker\":{\"color\":\"black\",\"symbol\":\"cross\"},\"mode\":\"markers\",\"name\":\"f/m touch ratio\",\"type\":\"scatter\",\"x\":[-0.5277777777777778,-0.923076923076923,-0.7741935483870969,-0.6470588235294118,-0.8444444444444444,-0.7419354838709676,-0.34210526315789475],\"xaxis\":\"x\",\"y\":[0,1,2,3,4,5,6],\"yaxis\":\"y2\"}],                        {\"height\":600,\"images\":[{\"sizex\":0.2,\"sizey\":0.2,\"source\":\"https://raw.githubusercontent.com/elastufka/presentations/master/images/ZU_logo1.png\",\"x\":0,\"xanchor\":\"right\",\"xref\":\"paper\",\"y\":1.05,\"yanchor\":\"bottom\",\"yref\":\"paper\"}],\"legend\":{\"orientation\":\"h\",\"y\":1.12,\"yanchor\":\"top\"},\"shapes\":[{\"fillcolor\":\"purple\",\"opacity\":0.2,\"type\":\"rect\",\"x0\":-7,\"x1\":0,\"xref\":\"x\",\"y0\":0,\"y1\":1,\"yref\":\"y domain\"},{\"line\":{\"dash\":\"dash\",\"width\":0.5},\"type\":\"line\",\"x0\":1.3333333333333333,\"x1\":1.3333333333333333,\"xref\":\"x\",\"y0\":0,\"y1\":1,\"yref\":\"y domain\"},{\"line\":{\"dash\":\"dash\",\"width\":0.5},\"name\":\"4:3 ratio\",\"type\":\"line\",\"x0\":-1.3333333333333333,\"x1\":-1.3333333333333333,\"xref\":\"x\",\"y0\":0,\"y1\":1,\"yref\":\"y domain\"}],\"template\":{\"layout\":{\"colorway\":[\"#000000\",\"#784F17\",\"#FF0018\",\"#FFA52C\",\"#FFFF41\",\"#008018\",\"#0000F9\",\"#86007D\"],\"plot_bgcolor\":\"lightgrey\"}},\"title\":{\"text\":\"Average Touches per Point\"},\"width\":850,\"xaxis\":{\"anchor\":\"y\",\"domain\":[0.0,0.94],\"ticktext\":[8,6,4,2,0,2,4,6,8],\"tickvals\":[-8,-6,-4,-2,0,2,4,6,8],\"title\":{\"text\":\"Touches per Point\"}},\"yaxis\":{\"anchor\":\"x\",\"domain\":[0.0,1.0],\"ticktext\":[],\"tickvals\":[]},\"yaxis2\":{\"anchor\":\"x\",\"overlaying\":\"y\",\"side\":\"right\",\"ticktext\":[\"Fly High Lausanne\",\"Wombats Willisau\",\"Wizards Geneva\",\"FSL\",\"FSL (Quarters)\",\"Fly High (Semis)\",\"Crazy Dogs\"],\"tickvals\":[0,1,2,3,4,5,6]}},                        {\"responsive\": true}                    ).then(function(){\n",
       "                            \n",
       "var gd = document.getElementById('b3bfbd4d-fb46-4617-b074-5967fc46bc57');\n",
       "var x = new MutationObserver(function (mutations, observer) {{\n",
       "        var display = window.getComputedStyle(gd).display;\n",
       "        if (!display || display === 'none') {{\n",
       "            console.log([gd, 'removed!']);\n",
       "            Plotly.purge(gd);\n",
       "            observer.disconnect();\n",
       "        }}\n",
       "}});\n",
       "\n",
       "// Listen for the removal of the full notebook cells\n",
       "var notebookContainer = gd.closest('#notebook-container');\n",
       "if (notebookContainer) {{\n",
       "    x.observe(notebookContainer, {childList: true});\n",
       "}}\n",
       "\n",
       "// Listen for the clearing of the current output cell\n",
       "var outputEl = gd.closest('.output');\n",
       "if (outputEl) {{\n",
       "    x.observe(outputEl, {childList: true});\n",
       "}}\n",
       "\n",
       "                        })                };                });            </script>        </div>"
      ]
     },
     "metadata": {},
     "output_type": "display_data"
    }
   ],
   "source": [
    "#fig=go.Figure()\n",
    "#for i,g in enumerate(['M','W']):\n",
    "#    for j,op in enumerate(df.Opponent.unique()[:1]):\n",
    "#        fig.add_trace(go.Bar(x=[-maj_women[j][i],maj_men[j][i]],name=op,hovertext=g))\n",
    "#fig.show()\n",
    "from plotly.subplots import make_subplots\n",
    "fig = make_subplots(specs=[[{\"secondary_y\": True}]])\n",
    "fig.add_trace(go.Bar(x=maj_men[:,0],name='M touches (4M)',orientation='h',marker_color='green'),secondary_y=False)\n",
    "fig.add_trace(go.Bar(x=maj_men[:,1],name='W touches (4M)',orientation='h',marker_color='orange'),secondary_y=False)\n",
    "fig.add_vrect(x0=-7,x1=0,fillcolor='purple',opacity=.2)\n",
    "fig.add_trace(go.Bar(x=-1*maj_women[:,0],name='M touches (4W)',orientation='h',marker_color='green'),secondary_y=True)\n",
    "fig.add_trace(go.Bar(x=-1*maj_women[:,1],name='W touches (4W)',orientation='h',marker_color='orange'),secondary_y=True)\n",
    "fig.add_trace(go.Scatter(x=maj_men[:,0]/maj_men[:,1],y=list(range(7)),mode='markers',marker_symbol='cross',marker_color='black',name='m/f touch ratio'),secondary_y=False)\n",
    "fig.add_trace(go.Scatter(x=-maj_women[:,1]/maj_women[:,0],y=list(range(7)),mode='markers',marker_symbol='cross',marker_color='black',name='f/m touch ratio'),secondary_y=True)\n",
    "fig.add_vline(x=4/3,line_dash='dash',line_width=.5)\n",
    "fig.add_vline(x=-4/3,line_dash='dash',line_width=.5,name='4:3 ratio')\n",
    "fig.update_yaxes(ticktext=[],tickvals=[])\n",
    "fig.update_xaxes(ticktext=[8,6,4,2,0,2,4,6,8],tickvals=[-8,-6,-4,-2,0,2,4,6,8])\n",
    "fig.update_yaxes(ticktext=ordered_games,tickvals=[0,1,2,3,4,5,6],secondary_y=True)\n",
    "fig.update_layout(title='Average Touches per Point',xaxis_title='Touches per Point')\n",
    "fig.update_layout(legend=dict(orientation='h',yanchor='top',y=1.12))\n",
    "fig.update_layout(logo_layout,width=slidew,height=slideh)"
   ]
  },
  {
   "cell_type": "markdown",
   "metadata": {
    "slideshow": {
     "slide_type": "fragment"
    }
   },
   "source": [
    "The dashed lines indicate the 4:3 ratio\n",
    "    \n",
    "Shaded area is where we played 4W 3M, unshaded is 4M 3W\n"
   ]
  },
  {
   "cell_type": "markdown",
   "metadata": {
    "slideshow": {
     "slide_type": "skip"
    }
   },
   "source": [
    "## Fake flight path chart"
   ]
  },
  {
   "cell_type": "code",
   "execution_count": 170,
   "metadata": {
    "slideshow": {
     "slide_type": "skip"
    }
   },
   "outputs": [],
   "source": [
    "def marker_characteristics(ndict,v):\n",
    "        return v,sum(ndict[v].values())\n",
    "    \n",
    "def fake_coords(msizes,min_separation_factor=2): #scale is max diff between marker sizes\n",
    "    recalc=True\n",
    "    niter=0\n",
    "    xrand=[np.random.randint(-50,50) for i in range(len(msizes))]\n",
    "    yrand=[np.random.randint(-20,20) for i in range(len(msizes))]\n",
    "\n",
    "    while recalc:\n",
    "        niter+=1\n",
    "        if niter == 100:\n",
    "            recalc=False\n",
    "        #for this the max marker radius (size ~100) will be about 10 data units\n",
    "        cpairs=[(x,y) for x,y in zip(xrand,yrand)]\n",
    "        for i,pair in enumerate(cpairs):\n",
    "            too_close=[is_too_close(pair,rp,np.sqrt(msizes[j])*min_separation_factor) for j,rp in enumerate(cpairs)]\n",
    "            if True in too_close:\n",
    "                tcidx=too_close.index(True) #first one\n",
    "                xrand[tcidx]=np.random.randint(100) #assign new coords\n",
    "                yrand[tcidx]=np.random.randint(100)\n",
    "                break\n",
    "            elif i == len(cpairs)-1: #made it!\n",
    "                recalc=False\n",
    "    return xrand,yrand\n",
    "\n",
    "def is_too_close(p1,p2,factor):\n",
    "    if p1 == p2:\n",
    "        return False\n",
    "    if cartesian_distance(p1[0],p1[1],p2[0],p2[1]) < factor:\n",
    "        return True\n",
    "    else:\n",
    "        return False\n",
    "\n",
    "def cartesian_distance(x1,y1,x2,y2):\n",
    "    return np.sqrt((x2-x1)**2 + (y2-y1)**2)\n",
    "\n",
    "def lower_opacity(rgb_in,opacity=0.2):\n",
    "    if rgb_in.startswith('#'): #it's hex\n",
    "        r,g,b=ImageColor.getcolor(rgb_in, \"RGB\")\n",
    "    else:\n",
    "        r=rgb_in[rgb_in.find('(')+1:rgb_in.find(',')-1]\n",
    "        g=rgb_in[rgb_in.find(',')+1:rgb_in.rfind(',')-1]\n",
    "        b=rgb_in[rgb_in.rfind(',')+1:-1]\n",
    "    return f\"rgba({r}0,{g}0,{b}0,{opacity})\" #add zeros at end to ensure float"
   ]
  },
  {
   "cell_type": "code",
   "execution_count": 192,
   "metadata": {
    "slideshow": {
     "slide_type": "skip"
    }
   },
   "outputs": [],
   "source": [
    "ndict={}\n",
    "anony_list=list(anony_dict.values())\n",
    "for i,v in enumerate(anony_list):\n",
    "    others=anony_list[:i]+anony_list[i+1:]+['Anonymous']\n",
    "    ndict[v]={o:0 for o in others}\n",
    "\n",
    "for idx,row in df.iterrows():\n",
    "    for i,v in enumerate(anony_list):\n",
    "        if row.Passer == v:\n",
    "            rr=row.Receiver\n",
    "            if type(rr) !=float:\n",
    "                ndict[v][rr]=ndict[v][rr]+1"
   ]
  },
  {
   "cell_type": "code",
   "execution_count": 193,
   "metadata": {
    "slideshow": {
     "slide_type": "skip"
    }
   },
   "outputs": [
    {
     "data": {
      "text/plain": [
       "(80.0, 2, 3.5)"
      ]
     },
     "execution_count": 193,
     "metadata": {},
     "output_type": "execute_result"
    }
   ],
   "source": [
    "msizes=[]\n",
    "for v in anony_list:\n",
    "    _,msize=marker_characteristics(ndict,v)\n",
    "    msizes.append(msize/2.)\n",
    "np.max(msizes),msizes.index(np.max(msizes)),np.min(msizes)"
   ]
  },
  {
   "cell_type": "code",
   "execution_count": 194,
   "metadata": {
    "slideshow": {
     "slide_type": "skip"
    }
   },
   "outputs": [],
   "source": [
    "fakex,fakey=fake_coords(msizes)\n",
    "for i,v in enumerate(anony_list): \n",
    "    ndict[v]['coords']=(fakex[i],fakey[i])"
   ]
  },
  {
   "cell_type": "code",
   "execution_count": 175,
   "metadata": {
    "slideshow": {
     "slide_type": "skip"
    }
   },
   "outputs": [],
   "source": [
    "colorscale = plotly.colors.sequential.Magma\n",
    "cdict=[[i/(len(colorscale)-1),c] for i,c in enumerate(colorscale)]\n",
    "ccolors=[get_continuous_color(cdict,np.sqrt(en)/13) for en in msizes] #change from np.max(msizes) so that max color isn't so light"
   ]
  },
  {
   "cell_type": "code",
   "execution_count": 258,
   "metadata": {
    "slideshow": {
     "slide_type": "fragment"
    },
    "tags": [
     "to_remove"
    ]
   },
   "outputs": [
    {
     "data": {
      "application/vnd.plotly.v1+json": {
       "config": {
        "plotlyServerURL": "https://plotly.com"
       },
       "data": [
        {
         "hoverinfo": "text",
         "lat": [
          33,
          53
         ],
         "legendgroup": "FS",
         "line": {
          "color": "rgba(2400,2490,330,0.4)",
          "width": 30
         },
         "lon": [
          27,
          58
         ],
         "mode": "lines",
         "showlegend": false,
         "text": "30 passes from FS to GA",
         "type": "scattergeo"
        },
        {
         "hoverinfo": "text",
         "lat": [
          33,
          56
         ],
         "legendgroup": "FS",
         "line": {
          "color": "rgba(2400,2490,330,0.4)",
          "width": 31
         },
         "lon": [
          27,
          10
         ],
         "mode": "lines",
         "showlegend": false,
         "text": "31 passes from FS to SH",
         "type": "scattergeo"
        },
        {
         "hoverinfo": "text",
         "lat": [
          33,
          3
         ],
         "legendgroup": "FS",
         "line": {
          "color": "rgba(2400,2490,330,0.4)",
          "width": 1
         },
         "lon": [
          27,
          72
         ],
         "mode": "lines",
         "showlegend": false,
         "text": "1 passes from FS to JS",
         "type": "scattergeo"
        },
        {
         "hoverinfo": "text",
         "lat": [
          33,
          64
         ],
         "legendgroup": "FS",
         "line": {
          "color": "rgba(2400,2490,330,0.4)",
          "width": 2
         },
         "lon": [
          27,
          76
         ],
         "mode": "lines",
         "showlegend": false,
         "text": "2 passes from FS to SG",
         "type": "scattergeo"
        },
        {
         "hoverinfo": "text",
         "lat": [
          33,
          17
         ],
         "legendgroup": "FS",
         "line": {
          "color": "rgba(2400,2490,330,0.4)",
          "width": 4
         },
         "lon": [
          27,
          -33
         ],
         "mode": "lines",
         "showlegend": false,
         "text": "4 passes from FS to CS",
         "type": "scattergeo"
        },
        {
         "hoverinfo": "text",
         "lat": [
          33,
          10
         ],
         "legendgroup": "FS",
         "line": {
          "color": "rgba(2400,2490,330,0.4)",
          "width": 2
         },
         "lon": [
          27,
          -13
         ],
         "mode": "lines",
         "showlegend": false,
         "text": "2 passes from FS to JV",
         "type": "scattergeo"
        },
        {
         "hoverinfo": "text",
         "lat": [
          33,
          -13
         ],
         "legendgroup": "FS",
         "line": {
          "color": "rgba(2400,2490,330,0.4)",
          "width": 1
         },
         "lon": [
          27,
          -21
         ],
         "mode": "lines",
         "showlegend": false,
         "text": "1 passes from FS to MR",
         "type": "scattergeo"
        },
        {
         "hoverinfo": "text",
         "lat": [
          33,
          1
         ],
         "legendgroup": "FS",
         "line": {
          "color": "rgba(2400,2490,330,0.4)",
          "width": 6
         },
         "lon": [
          27,
          15
         ],
         "mode": "lines",
         "showlegend": false,
         "text": "6 passes from FS to EL",
         "type": "scattergeo"
        },
        {
         "hoverinfo": "text",
         "lat": [
          33,
          10
         ],
         "legendgroup": "FS",
         "line": {
          "color": "rgba(2400,2490,330,0.4)",
          "width": 5
         },
         "lon": [
          27,
          43
         ],
         "mode": "lines",
         "showlegend": false,
         "text": "5 passes from FS to SB",
         "type": "scattergeo"
        },
        {
         "hoverinfo": "text",
         "lat": [
          33,
          11
         ],
         "legendgroup": "FS",
         "line": {
          "color": "rgba(2400,2490,330,0.4)",
          "width": 6
         },
         "lon": [
          27,
          2
         ],
         "mode": "lines",
         "showlegend": false,
         "text": "6 passes from FS to MV",
         "type": "scattergeo"
        },
        {
         "hoverinfo": "text",
         "lat": [
          33,
          29
         ],
         "legendgroup": "FS",
         "line": {
          "color": "rgba(2400,2490,330,0.4)",
          "width": 6
         },
         "lon": [
          27,
          80
         ],
         "mode": "lines",
         "showlegend": false,
         "text": "6 passes from FS to AY",
         "type": "scattergeo"
        },
        {
         "hoverinfo": "text",
         "lat": [
          33,
          10
         ],
         "legendgroup": "FS",
         "line": {
          "color": "rgba(2400,2490,330,0.4)",
          "width": 1
         },
         "lon": [
          27,
          89
         ],
         "mode": "lines",
         "showlegend": false,
         "text": "1 passes from FS to JL",
         "type": "scattergeo"
        },
        {
         "hoverinfo": "text",
         "lat": [
          33,
          49
         ],
         "legendgroup": "FS",
         "line": {
          "color": "rgba(2400,2490,330,0.4)",
          "width": 2
         },
         "lon": [
          27,
          78
         ],
         "mode": "lines",
         "showlegend": false,
         "text": "2 passes from FS to CC",
         "type": "scattergeo"
        },
        {
         "hoverinfo": "text",
         "lat": [
          33,
          -16
         ],
         "legendgroup": "FS",
         "line": {
          "color": "rgba(2400,2490,330,0.4)",
          "width": 5
         },
         "lon": [
          27,
          42
         ],
         "mode": "lines",
         "showlegend": false,
         "text": "5 passes from FS to AL",
         "type": "scattergeo"
        },
        {
         "hoverinfo": "text",
         "lat": [
          53,
          33
         ],
         "legendgroup": "GA",
         "line": {
          "color": "rgba(251.53846153846150, 170.5769230769230, 52.615384615384610,0.4)",
          "width": 27
         },
         "lon": [
          58,
          27
         ],
         "mode": "lines",
         "showlegend": false,
         "text": "27 passes from GA to FS",
         "type": "scattergeo"
        },
        {
         "hoverinfo": "text",
         "lat": [
          53,
          56
         ],
         "legendgroup": "GA",
         "line": {
          "color": "rgba(251.53846153846150, 170.5769230769230, 52.615384615384610,0.4)",
          "width": 19
         },
         "lon": [
          58,
          10
         ],
         "mode": "lines",
         "showlegend": false,
         "text": "19 passes from GA to SH",
         "type": "scattergeo"
        },
        {
         "hoverinfo": "text",
         "lat": [
          53,
          3
         ],
         "legendgroup": "GA",
         "line": {
          "color": "rgba(251.53846153846150, 170.5769230769230, 52.615384615384610,0.4)",
          "width": 4
         },
         "lon": [
          58,
          72
         ],
         "mode": "lines",
         "showlegend": false,
         "text": "4 passes from GA to JS",
         "type": "scattergeo"
        },
        {
         "hoverinfo": "text",
         "lat": [
          53,
          17
         ],
         "legendgroup": "GA",
         "line": {
          "color": "rgba(251.53846153846150, 170.5769230769230, 52.615384615384610,0.4)",
          "width": 1
         },
         "lon": [
          58,
          -33
         ],
         "mode": "lines",
         "showlegend": false,
         "text": "1 passes from GA to CS",
         "type": "scattergeo"
        },
        {
         "hoverinfo": "text",
         "lat": [
          53,
          10
         ],
         "legendgroup": "GA",
         "line": {
          "color": "rgba(251.53846153846150, 170.5769230769230, 52.615384615384610,0.4)",
          "width": 1
         },
         "lon": [
          58,
          -13
         ],
         "mode": "lines",
         "showlegend": false,
         "text": "1 passes from GA to JV",
         "type": "scattergeo"
        },
        {
         "hoverinfo": "text",
         "lat": [
          53,
          1
         ],
         "legendgroup": "GA",
         "line": {
          "color": "rgba(251.53846153846150, 170.5769230769230, 52.615384615384610,0.4)",
          "width": 1
         },
         "lon": [
          58,
          15
         ],
         "mode": "lines",
         "showlegend": false,
         "text": "1 passes from GA to EL",
         "type": "scattergeo"
        },
        {
         "hoverinfo": "text",
         "lat": [
          53,
          10
         ],
         "legendgroup": "GA",
         "line": {
          "color": "rgba(251.53846153846150, 170.5769230769230, 52.615384615384610,0.4)",
          "width": 4
         },
         "lon": [
          58,
          43
         ],
         "mode": "lines",
         "showlegend": false,
         "text": "4 passes from GA to SB",
         "type": "scattergeo"
        },
        {
         "hoverinfo": "text",
         "lat": [
          53,
          11
         ],
         "legendgroup": "GA",
         "line": {
          "color": "rgba(251.53846153846150, 170.5769230769230, 52.615384615384610,0.4)",
          "width": 1
         },
         "lon": [
          58,
          2
         ],
         "mode": "lines",
         "showlegend": false,
         "text": "1 passes from GA to MV",
         "type": "scattergeo"
        },
        {
         "hoverinfo": "text",
         "lat": [
          53,
          29
         ],
         "legendgroup": "GA",
         "line": {
          "color": "rgba(251.53846153846150, 170.5769230769230, 52.615384615384610,0.4)",
          "width": 9
         },
         "lon": [
          58,
          80
         ],
         "mode": "lines",
         "showlegend": false,
         "text": "9 passes from GA to AY",
         "type": "scattergeo"
        },
        {
         "hoverinfo": "text",
         "lat": [
          53,
          10
         ],
         "legendgroup": "GA",
         "line": {
          "color": "rgba(251.53846153846150, 170.5769230769230, 52.615384615384610,0.4)",
          "width": 8
         },
         "lon": [
          58,
          89
         ],
         "mode": "lines",
         "showlegend": false,
         "text": "8 passes from GA to JL",
         "type": "scattergeo"
        },
        {
         "hoverinfo": "text",
         "lat": [
          53,
          7
         ],
         "legendgroup": "GA",
         "line": {
          "color": "rgba(251.53846153846150, 170.5769230769230, 52.615384615384610,0.4)",
          "width": 3
         },
         "lon": [
          58,
          26
         ],
         "mode": "lines",
         "showlegend": false,
         "text": "3 passes from GA to LB",
         "type": "scattergeo"
        },
        {
         "hoverinfo": "text",
         "lat": [
          53,
          -16
         ],
         "legendgroup": "GA",
         "line": {
          "color": "rgba(251.53846153846150, 170.5769230769230, 52.615384615384610,0.4)",
          "width": 4
         },
         "lon": [
          58,
          42
         ],
         "mode": "lines",
         "showlegend": false,
         "text": "4 passes from GA to AL",
         "type": "scattergeo"
        },
        {
         "hoverinfo": "text",
         "lat": [
          53,
          -11
         ],
         "legendgroup": "GA",
         "line": {
          "color": "rgba(251.53846153846150, 170.5769230769230, 52.615384615384610,0.4)",
          "width": 1
         },
         "lon": [
          58,
          8
         ],
         "mode": "lines",
         "showlegend": false,
         "text": "1 passes from GA to NK",
         "type": "scattergeo"
        },
        {
         "hoverinfo": "text",
         "lat": [
          56,
          33
         ],
         "legendgroup": "SH",
         "line": {
          "color": "rgba(245.07692307692300, 142.9230769230760, 68.576923076923080,0.4)",
          "width": 30
         },
         "lon": [
          10,
          27
         ],
         "mode": "lines",
         "showlegend": false,
         "text": "30 passes from SH to FS",
         "type": "scattergeo"
        },
        {
         "hoverinfo": "text",
         "lat": [
          56,
          53
         ],
         "legendgroup": "SH",
         "line": {
          "color": "rgba(245.07692307692300, 142.9230769230760, 68.576923076923080,0.4)",
          "width": 26
         },
         "lon": [
          10,
          58
         ],
         "mode": "lines",
         "showlegend": false,
         "text": "26 passes from SH to GA",
         "type": "scattergeo"
        },
        {
         "hoverinfo": "text",
         "lat": [
          56,
          3
         ],
         "legendgroup": "SH",
         "line": {
          "color": "rgba(245.07692307692300, 142.9230769230760, 68.576923076923080,0.4)",
          "width": 7
         },
         "lon": [
          10,
          72
         ],
         "mode": "lines",
         "showlegend": false,
         "text": "7 passes from SH to JS",
         "type": "scattergeo"
        },
        {
         "hoverinfo": "text",
         "lat": [
          56,
          64
         ],
         "legendgroup": "SH",
         "line": {
          "color": "rgba(245.07692307692300, 142.9230769230760, 68.576923076923080,0.4)",
          "width": 2
         },
         "lon": [
          10,
          76
         ],
         "mode": "lines",
         "showlegend": false,
         "text": "2 passes from SH to SG",
         "type": "scattergeo"
        },
        {
         "hoverinfo": "text",
         "lat": [
          56,
          17
         ],
         "legendgroup": "SH",
         "line": {
          "color": "rgba(245.07692307692300, 142.9230769230760, 68.576923076923080,0.4)",
          "width": 5
         },
         "lon": [
          10,
          -33
         ],
         "mode": "lines",
         "showlegend": false,
         "text": "5 passes from SH to CS",
         "type": "scattergeo"
        },
        {
         "hoverinfo": "text",
         "lat": [
          56,
          -13
         ],
         "legendgroup": "SH",
         "line": {
          "color": "rgba(245.07692307692300, 142.9230769230760, 68.576923076923080,0.4)",
          "width": 1
         },
         "lon": [
          10,
          -21
         ],
         "mode": "lines",
         "showlegend": false,
         "text": "1 passes from SH to MR",
         "type": "scattergeo"
        },
        {
         "hoverinfo": "text",
         "lat": [
          56,
          1
         ],
         "legendgroup": "SH",
         "line": {
          "color": "rgba(245.07692307692300, 142.9230769230760, 68.576923076923080,0.4)",
          "width": 8
         },
         "lon": [
          10,
          15
         ],
         "mode": "lines",
         "showlegend": false,
         "text": "8 passes from SH to EL",
         "type": "scattergeo"
        },
        {
         "hoverinfo": "text",
         "lat": [
          56,
          10
         ],
         "legendgroup": "SH",
         "line": {
          "color": "rgba(245.07692307692300, 142.9230769230760, 68.576923076923080,0.4)",
          "width": 10
         },
         "lon": [
          10,
          43
         ],
         "mode": "lines",
         "showlegend": false,
         "text": "10 passes from SH to SB",
         "type": "scattergeo"
        },
        {
         "hoverinfo": "text",
         "lat": [
          56,
          11
         ],
         "legendgroup": "SH",
         "line": {
          "color": "rgba(245.07692307692300, 142.9230769230760, 68.576923076923080,0.4)",
          "width": 12
         },
         "lon": [
          10,
          2
         ],
         "mode": "lines",
         "showlegend": false,
         "text": "12 passes from SH to MV",
         "type": "scattergeo"
        },
        {
         "hoverinfo": "text",
         "lat": [
          56,
          29
         ],
         "legendgroup": "SH",
         "line": {
          "color": "rgba(245.07692307692300, 142.9230769230760, 68.576923076923080,0.4)",
          "width": 32
         },
         "lon": [
          10,
          80
         ],
         "mode": "lines",
         "showlegend": false,
         "text": "32 passes from SH to AY",
         "type": "scattergeo"
        },
        {
         "hoverinfo": "text",
         "lat": [
          56,
          10
         ],
         "legendgroup": "SH",
         "line": {
          "color": "rgba(245.07692307692300, 142.9230769230760, 68.576923076923080,0.4)",
          "width": 5
         },
         "lon": [
          10,
          89
         ],
         "mode": "lines",
         "showlegend": false,
         "text": "5 passes from SH to JL",
         "type": "scattergeo"
        },
        {
         "hoverinfo": "text",
         "lat": [
          56,
          7
         ],
         "legendgroup": "SH",
         "line": {
          "color": "rgba(245.07692307692300, 142.9230769230760, 68.576923076923080,0.4)",
          "width": 2
         },
         "lon": [
          10,
          26
         ],
         "mode": "lines",
         "showlegend": false,
         "text": "2 passes from SH to LB",
         "type": "scattergeo"
        },
        {
         "hoverinfo": "text",
         "lat": [
          56,
          49
         ],
         "legendgroup": "SH",
         "line": {
          "color": "rgba(245.07692307692300, 142.9230769230760, 68.576923076923080,0.4)",
          "width": 2
         },
         "lon": [
          10,
          78
         ],
         "mode": "lines",
         "showlegend": false,
         "text": "2 passes from SH to CC",
         "type": "scattergeo"
        },
        {
         "hoverinfo": "text",
         "lat": [
          56,
          -16
         ],
         "legendgroup": "SH",
         "line": {
          "color": "rgba(245.07692307692300, 142.9230769230760, 68.576923076923080,0.4)",
          "width": 4
         },
         "lon": [
          10,
          42
         ],
         "mode": "lines",
         "showlegend": false,
         "text": "4 passes from SH to AL",
         "type": "scattergeo"
        },
        {
         "hoverinfo": "text",
         "lat": [
          3,
          33
         ],
         "legendgroup": "JS",
         "line": {
          "color": "rgba(171.23076923076920, 37.76923076923070, 146.92307692307690,0.4)",
          "width": 3
         },
         "lon": [
          72,
          27
         ],
         "mode": "lines",
         "showlegend": false,
         "text": "3 passes from JS to FS",
         "type": "scattergeo"
        },
        {
         "hoverinfo": "text",
         "lat": [
          3,
          53
         ],
         "legendgroup": "JS",
         "line": {
          "color": "rgba(171.23076923076920, 37.76923076923070, 146.92307692307690,0.4)",
          "width": 4
         },
         "lon": [
          72,
          58
         ],
         "mode": "lines",
         "showlegend": false,
         "text": "4 passes from JS to GA",
         "type": "scattergeo"
        },
        {
         "hoverinfo": "text",
         "lat": [
          3,
          56
         ],
         "legendgroup": "JS",
         "line": {
          "color": "rgba(171.23076923076920, 37.76923076923070, 146.92307692307690,0.4)",
          "width": 6
         },
         "lon": [
          72,
          10
         ],
         "mode": "lines",
         "showlegend": false,
         "text": "6 passes from JS to SH",
         "type": "scattergeo"
        },
        {
         "hoverinfo": "text",
         "lat": [
          3,
          64
         ],
         "legendgroup": "JS",
         "line": {
          "color": "rgba(171.23076923076920, 37.76923076923070, 146.92307692307690,0.4)",
          "width": 1
         },
         "lon": [
          72,
          76
         ],
         "mode": "lines",
         "showlegend": false,
         "text": "1 passes from JS to SG",
         "type": "scattergeo"
        },
        {
         "hoverinfo": "text",
         "lat": [
          3,
          17
         ],
         "legendgroup": "JS",
         "line": {
          "color": "rgba(171.23076923076920, 37.76923076923070, 146.92307692307690,0.4)",
          "width": 2
         },
         "lon": [
          72,
          -33
         ],
         "mode": "lines",
         "showlegend": false,
         "text": "2 passes from JS to CS",
         "type": "scattergeo"
        },
        {
         "hoverinfo": "text",
         "lat": [
          3,
          10
         ],
         "legendgroup": "JS",
         "line": {
          "color": "rgba(171.23076923076920, 37.76923076923070, 146.92307692307690,0.4)",
          "width": 1
         },
         "lon": [
          72,
          -13
         ],
         "mode": "lines",
         "showlegend": false,
         "text": "1 passes from JS to JV",
         "type": "scattergeo"
        },
        {
         "hoverinfo": "text",
         "lat": [
          3,
          11
         ],
         "legendgroup": "JS",
         "line": {
          "color": "rgba(171.23076923076920, 37.76923076923070, 146.92307692307690,0.4)",
          "width": 1
         },
         "lon": [
          72,
          2
         ],
         "mode": "lines",
         "showlegend": false,
         "text": "1 passes from JS to MV",
         "type": "scattergeo"
        },
        {
         "hoverinfo": "text",
         "lat": [
          3,
          29
         ],
         "legendgroup": "JS",
         "line": {
          "color": "rgba(171.23076923076920, 37.76923076923070, 146.92307692307690,0.4)",
          "width": 5
         },
         "lon": [
          72,
          80
         ],
         "mode": "lines",
         "showlegend": false,
         "text": "5 passes from JS to AY",
         "type": "scattergeo"
        },
        {
         "hoverinfo": "text",
         "lat": [
          3,
          -18
         ],
         "legendgroup": "JS",
         "line": {
          "color": "rgba(171.23076923076920, 37.76923076923070, 146.92307692307690,0.4)",
          "width": 1
         },
         "lon": [
          72,
          19
         ],
         "mode": "lines",
         "showlegend": false,
         "text": "1 passes from JS to JG",
         "type": "scattergeo"
        },
        {
         "hoverinfo": "text",
         "lat": [
          64,
          3
         ],
         "legendgroup": "SG",
         "line": {
          "color": "rgba(102.15384615384610, 1.538461538461530, 165.576923076923070,0.4)",
          "width": 6
         },
         "lon": [
          76,
          72
         ],
         "mode": "lines",
         "showlegend": false,
         "text": "6 passes from SG to JS",
         "type": "scattergeo"
        },
        {
         "hoverinfo": "text",
         "lat": [
          64,
          17
         ],
         "legendgroup": "SG",
         "line": {
          "color": "rgba(102.15384615384610, 1.538461538461530, 165.576923076923070,0.4)",
          "width": 2
         },
         "lon": [
          76,
          -33
         ],
         "mode": "lines",
         "showlegend": false,
         "text": "2 passes from SG to CS",
         "type": "scattergeo"
        },
        {
         "hoverinfo": "text",
         "lat": [
          64,
          10
         ],
         "legendgroup": "SG",
         "line": {
          "color": "rgba(102.15384615384610, 1.538461538461530, 165.576923076923070,0.4)",
          "width": 10
         },
         "lon": [
          76,
          -13
         ],
         "mode": "lines",
         "showlegend": false,
         "text": "10 passes from SG to JV",
         "type": "scattergeo"
        },
        {
         "hoverinfo": "text",
         "lat": [
          64,
          -13
         ],
         "legendgroup": "SG",
         "line": {
          "color": "rgba(102.15384615384610, 1.538461538461530, 165.576923076923070,0.4)",
          "width": 4
         },
         "lon": [
          76,
          -21
         ],
         "mode": "lines",
         "showlegend": false,
         "text": "4 passes from SG to MR",
         "type": "scattergeo"
        },
        {
         "hoverinfo": "text",
         "lat": [
          64,
          1
         ],
         "legendgroup": "SG",
         "line": {
          "color": "rgba(102.15384615384610, 1.538461538461530, 165.576923076923070,0.4)",
          "width": 7
         },
         "lon": [
          76,
          15
         ],
         "mode": "lines",
         "showlegend": false,
         "text": "7 passes from SG to EL",
         "type": "scattergeo"
        },
        {
         "hoverinfo": "text",
         "lat": [
          64,
          10
         ],
         "legendgroup": "SG",
         "line": {
          "color": "rgba(102.15384615384610, 1.538461538461530, 165.576923076923070,0.4)",
          "width": 1
         },
         "lon": [
          76,
          43
         ],
         "mode": "lines",
         "showlegend": false,
         "text": "1 passes from SG to SB",
         "type": "scattergeo"
        },
        {
         "hoverinfo": "text",
         "lat": [
          64,
          11
         ],
         "legendgroup": "SG",
         "line": {
          "color": "rgba(102.15384615384610, 1.538461538461530, 165.576923076923070,0.4)",
          "width": 6
         },
         "lon": [
          76,
          2
         ],
         "mode": "lines",
         "showlegend": false,
         "text": "6 passes from SG to MV",
         "type": "scattergeo"
        },
        {
         "hoverinfo": "text",
         "lat": [
          64,
          29
         ],
         "legendgroup": "SG",
         "line": {
          "color": "rgba(102.15384615384610, 1.538461538461530, 165.576923076923070,0.4)",
          "width": 2
         },
         "lon": [
          76,
          80
         ],
         "mode": "lines",
         "showlegend": false,
         "text": "2 passes from SG to AY",
         "type": "scattergeo"
        },
        {
         "hoverinfo": "text",
         "lat": [
          64,
          10
         ],
         "legendgroup": "SG",
         "line": {
          "color": "rgba(102.15384615384610, 1.538461538461530, 165.576923076923070,0.4)",
          "width": 4
         },
         "lon": [
          76,
          89
         ],
         "mode": "lines",
         "showlegend": false,
         "text": "4 passes from SG to JL",
         "type": "scattergeo"
        },
        {
         "hoverinfo": "text",
         "lat": [
          64,
          49
         ],
         "legendgroup": "SG",
         "line": {
          "color": "rgba(102.15384615384610, 1.538461538461530, 165.576923076923070,0.4)",
          "width": 4
         },
         "lon": [
          76,
          78
         ],
         "mode": "lines",
         "showlegend": false,
         "text": "4 passes from SG to CC",
         "type": "scattergeo"
        },
        {
         "hoverinfo": "text",
         "lat": [
          64,
          -16
         ],
         "legendgroup": "SG",
         "line": {
          "color": "rgba(102.15384615384610, 1.538461538461530, 165.576923076923070,0.4)",
          "width": 5
         },
         "lon": [
          76,
          42
         ],
         "mode": "lines",
         "showlegend": false,
         "text": "5 passes from SG to AL",
         "type": "scattergeo"
        },
        {
         "hoverinfo": "text",
         "lat": [
          64,
          -11
         ],
         "legendgroup": "SG",
         "line": {
          "color": "rgba(102.15384615384610, 1.538461538461530, 165.576923076923070,0.4)",
          "width": 4
         },
         "lon": [
          76,
          8
         ],
         "mode": "lines",
         "showlegend": false,
         "text": "4 passes from SG to NK",
         "type": "scattergeo"
        },
        {
         "hoverinfo": "text",
         "lat": [
          64,
          -18
         ],
         "legendgroup": "SG",
         "line": {
          "color": "rgba(102.15384615384610, 1.538461538461530, 165.576923076923070,0.4)",
          "width": 5
         },
         "lon": [
          76,
          19
         ],
         "mode": "lines",
         "showlegend": false,
         "text": "5 passes from SG to JG",
         "type": "scattergeo"
        },
        {
         "hoverinfo": "text",
         "lat": [
          17,
          33
         ],
         "legendgroup": "CS",
         "line": {
          "color": "rgba(102.15384615384610, 1.538461538461530, 165.576923076923070,0.4)",
          "width": 3
         },
         "lon": [
          -33,
          27
         ],
         "mode": "lines",
         "showlegend": false,
         "text": "3 passes from CS to FS",
         "type": "scattergeo"
        },
        {
         "hoverinfo": "text",
         "lat": [
          17,
          53
         ],
         "legendgroup": "CS",
         "line": {
          "color": "rgba(102.15384615384610, 1.538461538461530, 165.576923076923070,0.4)",
          "width": 1
         },
         "lon": [
          -33,
          58
         ],
         "mode": "lines",
         "showlegend": false,
         "text": "1 passes from CS to GA",
         "type": "scattergeo"
        },
        {
         "hoverinfo": "text",
         "lat": [
          17,
          56
         ],
         "legendgroup": "CS",
         "line": {
          "color": "rgba(102.15384615384610, 1.538461538461530, 165.576923076923070,0.4)",
          "width": 10
         },
         "lon": [
          -33,
          10
         ],
         "mode": "lines",
         "showlegend": false,
         "text": "10 passes from CS to SH",
         "type": "scattergeo"
        },
        {
         "hoverinfo": "text",
         "lat": [
          17,
          3
         ],
         "legendgroup": "CS",
         "line": {
          "color": "rgba(102.15384615384610, 1.538461538461530, 165.576923076923070,0.4)",
          "width": 2
         },
         "lon": [
          -33,
          72
         ],
         "mode": "lines",
         "showlegend": false,
         "text": "2 passes from CS to JS",
         "type": "scattergeo"
        },
        {
         "hoverinfo": "text",
         "lat": [
          17,
          64
         ],
         "legendgroup": "CS",
         "line": {
          "color": "rgba(102.15384615384610, 1.538461538461530, 165.576923076923070,0.4)",
          "width": 4
         },
         "lon": [
          -33,
          76
         ],
         "mode": "lines",
         "showlegend": false,
         "text": "4 passes from CS to SG",
         "type": "scattergeo"
        },
        {
         "hoverinfo": "text",
         "lat": [
          17,
          10
         ],
         "legendgroup": "CS",
         "line": {
          "color": "rgba(102.15384615384610, 1.538461538461530, 165.576923076923070,0.4)",
          "width": 1
         },
         "lon": [
          -33,
          -13
         ],
         "mode": "lines",
         "showlegend": false,
         "text": "1 passes from CS to JV",
         "type": "scattergeo"
        },
        {
         "hoverinfo": "text",
         "lat": [
          17,
          1
         ],
         "legendgroup": "CS",
         "line": {
          "color": "rgba(102.15384615384610, 1.538461538461530, 165.576923076923070,0.4)",
          "width": 1
         },
         "lon": [
          -33,
          15
         ],
         "mode": "lines",
         "showlegend": false,
         "text": "1 passes from CS to EL",
         "type": "scattergeo"
        },
        {
         "hoverinfo": "text",
         "lat": [
          17,
          11
         ],
         "legendgroup": "CS",
         "line": {
          "color": "rgba(102.15384615384610, 1.538461538461530, 165.576923076923070,0.4)",
          "width": 4
         },
         "lon": [
          -33,
          2
         ],
         "mode": "lines",
         "showlegend": false,
         "text": "4 passes from CS to MV",
         "type": "scattergeo"
        },
        {
         "hoverinfo": "text",
         "lat": [
          17,
          29
         ],
         "legendgroup": "CS",
         "line": {
          "color": "rgba(102.15384615384610, 1.538461538461530, 165.576923076923070,0.4)",
          "width": 6
         },
         "lon": [
          -33,
          80
         ],
         "mode": "lines",
         "showlegend": false,
         "text": "6 passes from CS to AY",
         "type": "scattergeo"
        },
        {
         "hoverinfo": "text",
         "lat": [
          17,
          7
         ],
         "legendgroup": "CS",
         "line": {
          "color": "rgba(102.15384615384610, 1.538461538461530, 165.576923076923070,0.4)",
          "width": 2
         },
         "lon": [
          -33,
          26
         ],
         "mode": "lines",
         "showlegend": false,
         "text": "2 passes from CS to LB",
         "type": "scattergeo"
        },
        {
         "hoverinfo": "text",
         "lat": [
          17,
          49
         ],
         "legendgroup": "CS",
         "line": {
          "color": "rgba(102.15384615384610, 1.538461538461530, 165.576923076923070,0.4)",
          "width": 2
         },
         "lon": [
          -33,
          78
         ],
         "mode": "lines",
         "showlegend": false,
         "text": "2 passes from CS to CC",
         "type": "scattergeo"
        },
        {
         "hoverinfo": "text",
         "lat": [
          17,
          -16
         ],
         "legendgroup": "CS",
         "line": {
          "color": "rgba(102.15384615384610, 1.538461538461530, 165.576923076923070,0.4)",
          "width": 2
         },
         "lon": [
          -33,
          42
         ],
         "mode": "lines",
         "showlegend": false,
         "text": "2 passes from CS to AL",
         "type": "scattergeo"
        },
        {
         "hoverinfo": "text",
         "lat": [
          17,
          -11
         ],
         "legendgroup": "CS",
         "line": {
          "color": "rgba(102.15384615384610, 1.538461538461530, 165.576923076923070,0.4)",
          "width": 1
         },
         "lon": [
          -33,
          8
         ],
         "mode": "lines",
         "showlegend": false,
         "text": "1 passes from CS to NK",
         "type": "scattergeo"
        },
        {
         "hoverinfo": "text",
         "lat": [
          17,
          -18
         ],
         "legendgroup": "CS",
         "line": {
          "color": "rgba(102.15384615384610, 1.538461538461530, 165.576923076923070,0.4)",
          "width": 2
         },
         "lon": [
          -33,
          19
         ],
         "mode": "lines",
         "showlegend": false,
         "text": "2 passes from CS to JG",
         "type": "scattergeo"
        },
        {
         "hoverinfo": "text",
         "lat": [
          10,
          33
         ],
         "legendgroup": "JV",
         "line": {
          "color": "rgba(102.15384615384610, 1.538461538461530, 165.576923076923070,0.4)",
          "width": 1
         },
         "lon": [
          -13,
          27
         ],
         "mode": "lines",
         "showlegend": false,
         "text": "1 passes from JV to FS",
         "type": "scattergeo"
        },
        {
         "hoverinfo": "text",
         "lat": [
          10,
          53
         ],
         "legendgroup": "JV",
         "line": {
          "color": "rgba(102.15384615384610, 1.538461538461530, 165.576923076923070,0.4)",
          "width": 1
         },
         "lon": [
          -13,
          58
         ],
         "mode": "lines",
         "showlegend": false,
         "text": "1 passes from JV to GA",
         "type": "scattergeo"
        },
        {
         "hoverinfo": "text",
         "lat": [
          10,
          64
         ],
         "legendgroup": "JV",
         "line": {
          "color": "rgba(102.15384615384610, 1.538461538461530, 165.576923076923070,0.4)",
          "width": 3
         },
         "lon": [
          -13,
          76
         ],
         "mode": "lines",
         "showlegend": false,
         "text": "3 passes from JV to SG",
         "type": "scattergeo"
        },
        {
         "hoverinfo": "text",
         "lat": [
          10,
          17
         ],
         "legendgroup": "JV",
         "line": {
          "color": "rgba(102.15384615384610, 1.538461538461530, 165.576923076923070,0.4)",
          "width": 1
         },
         "lon": [
          -13,
          -33
         ],
         "mode": "lines",
         "showlegend": false,
         "text": "1 passes from JV to CS",
         "type": "scattergeo"
        },
        {
         "hoverinfo": "text",
         "lat": [
          10,
          1
         ],
         "legendgroup": "JV",
         "line": {
          "color": "rgba(102.15384615384610, 1.538461538461530, 165.576923076923070,0.4)",
          "width": 2
         },
         "lon": [
          -13,
          15
         ],
         "mode": "lines",
         "showlegend": false,
         "text": "2 passes from JV to EL",
         "type": "scattergeo"
        },
        {
         "hoverinfo": "text",
         "lat": [
          10,
          10
         ],
         "legendgroup": "JV",
         "line": {
          "color": "rgba(102.15384615384610, 1.538461538461530, 165.576923076923070,0.4)",
          "width": 1
         },
         "lon": [
          -13,
          43
         ],
         "mode": "lines",
         "showlegend": false,
         "text": "1 passes from JV to SB",
         "type": "scattergeo"
        },
        {
         "hoverinfo": "text",
         "lat": [
          10,
          10
         ],
         "legendgroup": "JV",
         "line": {
          "color": "rgba(102.15384615384610, 1.538461538461530, 165.576923076923070,0.4)",
          "width": 1
         },
         "lon": [
          -13,
          89
         ],
         "mode": "lines",
         "showlegend": false,
         "text": "1 passes from JV to JL",
         "type": "scattergeo"
        },
        {
         "hoverinfo": "text",
         "lat": [
          10,
          7
         ],
         "legendgroup": "JV",
         "line": {
          "color": "rgba(102.15384615384610, 1.538461538461530, 165.576923076923070,0.4)",
          "width": 1
         },
         "lon": [
          -13,
          26
         ],
         "mode": "lines",
         "showlegend": false,
         "text": "1 passes from JV to LB",
         "type": "scattergeo"
        },
        {
         "hoverinfo": "text",
         "lat": [
          10,
          -11
         ],
         "legendgroup": "JV",
         "line": {
          "color": "rgba(102.15384615384610, 1.538461538461530, 165.576923076923070,0.4)",
          "width": 2
         },
         "lon": [
          -13,
          8
         ],
         "mode": "lines",
         "showlegend": false,
         "text": "2 passes from JV to NK",
         "type": "scattergeo"
        },
        {
         "hoverinfo": "text",
         "lat": [
          -13,
          33
         ],
         "legendgroup": "MR",
         "line": {
          "color": "rgba(102.15384615384610, 1.538461538461530, 165.576923076923070,0.4)",
          "width": 2
         },
         "lon": [
          -21,
          27
         ],
         "mode": "lines",
         "showlegend": false,
         "text": "2 passes from MR to FS",
         "type": "scattergeo"
        },
        {
         "hoverinfo": "text",
         "lat": [
          -13,
          3
         ],
         "legendgroup": "MR",
         "line": {
          "color": "rgba(102.15384615384610, 1.538461538461530, 165.576923076923070,0.4)",
          "width": 1
         },
         "lon": [
          -21,
          72
         ],
         "mode": "lines",
         "showlegend": false,
         "text": "1 passes from MR to JS",
         "type": "scattergeo"
        },
        {
         "hoverinfo": "text",
         "lat": [
          -13,
          64
         ],
         "legendgroup": "MR",
         "line": {
          "color": "rgba(102.15384615384610, 1.538461538461530, 165.576923076923070,0.4)",
          "width": 2
         },
         "lon": [
          -21,
          76
         ],
         "mode": "lines",
         "showlegend": false,
         "text": "2 passes from MR to SG",
         "type": "scattergeo"
        },
        {
         "hoverinfo": "text",
         "lat": [
          -13,
          7
         ],
         "legendgroup": "MR",
         "line": {
          "color": "rgba(102.15384615384610, 1.538461538461530, 165.576923076923070,0.4)",
          "width": 2
         },
         "lon": [
          -21,
          26
         ],
         "mode": "lines",
         "showlegend": false,
         "text": "2 passes from MR to LB",
         "type": "scattergeo"
        },
        {
         "hoverinfo": "text",
         "lat": [
          1,
          53
         ],
         "legendgroup": "EL",
         "line": {
          "color": "rgba(86.92307692307690, 2.2307692307692300, 162.461538461538450,0.4)",
          "width": 1
         },
         "lon": [
          15,
          58
         ],
         "mode": "lines",
         "showlegend": false,
         "text": "1 passes from EL to GA",
         "type": "scattergeo"
        },
        {
         "hoverinfo": "text",
         "lat": [
          1,
          56
         ],
         "legendgroup": "EL",
         "line": {
          "color": "rgba(86.92307692307690, 2.2307692307692300, 162.461538461538450,0.4)",
          "width": 5
         },
         "lon": [
          15,
          10
         ],
         "mode": "lines",
         "showlegend": false,
         "text": "5 passes from EL to SH",
         "type": "scattergeo"
        },
        {
         "hoverinfo": "text",
         "lat": [
          1,
          64
         ],
         "legendgroup": "EL",
         "line": {
          "color": "rgba(86.92307692307690, 2.2307692307692300, 162.461538461538450,0.4)",
          "width": 2
         },
         "lon": [
          15,
          76
         ],
         "mode": "lines",
         "showlegend": false,
         "text": "2 passes from EL to SG",
         "type": "scattergeo"
        },
        {
         "hoverinfo": "text",
         "lat": [
          1,
          17
         ],
         "legendgroup": "EL",
         "line": {
          "color": "rgba(86.92307692307690, 2.2307692307692300, 162.461538461538450,0.4)",
          "width": 1
         },
         "lon": [
          15,
          -33
         ],
         "mode": "lines",
         "showlegend": false,
         "text": "1 passes from EL to CS",
         "type": "scattergeo"
        },
        {
         "hoverinfo": "text",
         "lat": [
          1,
          11
         ],
         "legendgroup": "EL",
         "line": {
          "color": "rgba(86.92307692307690, 2.2307692307692300, 162.461538461538450,0.4)",
          "width": 1
         },
         "lon": [
          15,
          2
         ],
         "mode": "lines",
         "showlegend": false,
         "text": "1 passes from EL to MV",
         "type": "scattergeo"
        },
        {
         "hoverinfo": "text",
         "lat": [
          1,
          29
         ],
         "legendgroup": "EL",
         "line": {
          "color": "rgba(86.92307692307690, 2.2307692307692300, 162.461538461538450,0.4)",
          "width": 1
         },
         "lon": [
          15,
          80
         ],
         "mode": "lines",
         "showlegend": false,
         "text": "1 passes from EL to AY",
         "type": "scattergeo"
        },
        {
         "hoverinfo": "text",
         "lat": [
          1,
          10
         ],
         "legendgroup": "EL",
         "line": {
          "color": "rgba(86.92307692307690, 2.2307692307692300, 162.461538461538450,0.4)",
          "width": 1
         },
         "lon": [
          15,
          89
         ],
         "mode": "lines",
         "showlegend": false,
         "text": "1 passes from EL to JL",
         "type": "scattergeo"
        },
        {
         "hoverinfo": "text",
         "lat": [
          1,
          -16
         ],
         "legendgroup": "EL",
         "line": {
          "color": "rgba(86.92307692307690, 2.2307692307692300, 162.461538461538450,0.4)",
          "width": 3
         },
         "lon": [
          15,
          42
         ],
         "mode": "lines",
         "showlegend": false,
         "text": "3 passes from EL to AL",
         "type": "scattergeo"
        },
        {
         "hoverinfo": "text",
         "lat": [
          1,
          -11
         ],
         "legendgroup": "EL",
         "line": {
          "color": "rgba(86.92307692307690, 2.2307692307692300, 162.461538461538450,0.4)",
          "width": 1
         },
         "lon": [
          15,
          8
         ],
         "mode": "lines",
         "showlegend": false,
         "text": "1 passes from EL to NK",
         "type": "scattergeo"
        },
        {
         "hoverinfo": "text",
         "lat": [
          10,
          33
         ],
         "legendgroup": "SB",
         "line": {
          "color": "rgba(86.92307692307690, 2.2307692307692300, 162.461538461538450,0.4)",
          "width": 4
         },
         "lon": [
          43,
          27
         ],
         "mode": "lines",
         "showlegend": false,
         "text": "4 passes from SB to FS",
         "type": "scattergeo"
        },
        {
         "hoverinfo": "text",
         "lat": [
          10,
          53
         ],
         "legendgroup": "SB",
         "line": {
          "color": "rgba(86.92307692307690, 2.2307692307692300, 162.461538461538450,0.4)",
          "width": 5
         },
         "lon": [
          43,
          58
         ],
         "mode": "lines",
         "showlegend": false,
         "text": "5 passes from SB to GA",
         "type": "scattergeo"
        },
        {
         "hoverinfo": "text",
         "lat": [
          10,
          56
         ],
         "legendgroup": "SB",
         "line": {
          "color": "rgba(86.92307692307690, 2.2307692307692300, 162.461538461538450,0.4)",
          "width": 7
         },
         "lon": [
          43,
          10
         ],
         "mode": "lines",
         "showlegend": false,
         "text": "7 passes from SB to SH",
         "type": "scattergeo"
        },
        {
         "hoverinfo": "text",
         "lat": [
          10,
          64
         ],
         "legendgroup": "SB",
         "line": {
          "color": "rgba(86.92307692307690, 2.2307692307692300, 162.461538461538450,0.4)",
          "width": 1
         },
         "lon": [
          43,
          76
         ],
         "mode": "lines",
         "showlegend": false,
         "text": "1 passes from SB to SG",
         "type": "scattergeo"
        },
        {
         "hoverinfo": "text",
         "lat": [
          10,
          17
         ],
         "legendgroup": "SB",
         "line": {
          "color": "rgba(86.92307692307690, 2.2307692307692300, 162.461538461538450,0.4)",
          "width": 1
         },
         "lon": [
          43,
          -33
         ],
         "mode": "lines",
         "showlegend": false,
         "text": "1 passes from SB to CS",
         "type": "scattergeo"
        },
        {
         "hoverinfo": "text",
         "lat": [
          10,
          11
         ],
         "legendgroup": "SB",
         "line": {
          "color": "rgba(86.92307692307690, 2.2307692307692300, 162.461538461538450,0.4)",
          "width": 1
         },
         "lon": [
          43,
          2
         ],
         "mode": "lines",
         "showlegend": false,
         "text": "1 passes from SB to MV",
         "type": "scattergeo"
        },
        {
         "hoverinfo": "text",
         "lat": [
          10,
          29
         ],
         "legendgroup": "SB",
         "line": {
          "color": "rgba(86.92307692307690, 2.2307692307692300, 162.461538461538450,0.4)",
          "width": 5
         },
         "lon": [
          43,
          80
         ],
         "mode": "lines",
         "showlegend": false,
         "text": "5 passes from SB to AY",
         "type": "scattergeo"
        },
        {
         "hoverinfo": "text",
         "lat": [
          10,
          10
         ],
         "legendgroup": "SB",
         "line": {
          "color": "rgba(86.92307692307690, 2.2307692307692300, 162.461538461538450,0.4)",
          "width": 1
         },
         "lon": [
          43,
          89
         ],
         "mode": "lines",
         "showlegend": false,
         "text": "1 passes from SB to JL",
         "type": "scattergeo"
        },
        {
         "hoverinfo": "text",
         "lat": [
          10,
          7
         ],
         "legendgroup": "SB",
         "line": {
          "color": "rgba(86.92307692307690, 2.2307692307692300, 162.461538461538450,0.4)",
          "width": 1
         },
         "lon": [
          43,
          26
         ],
         "mode": "lines",
         "showlegend": false,
         "text": "1 passes from SB to LB",
         "type": "scattergeo"
        },
        {
         "hoverinfo": "text",
         "lat": [
          10,
          49
         ],
         "legendgroup": "SB",
         "line": {
          "color": "rgba(86.92307692307690, 2.2307692307692300, 162.461538461538450,0.4)",
          "width": 1
         },
         "lon": [
          43,
          78
         ],
         "mode": "lines",
         "showlegend": false,
         "text": "1 passes from SB to CC",
         "type": "scattergeo"
        },
        {
         "hoverinfo": "text",
         "lat": [
          10,
          -16
         ],
         "legendgroup": "SB",
         "line": {
          "color": "rgba(86.92307692307690, 2.2307692307692300, 162.461538461538450,0.4)",
          "width": 4
         },
         "lon": [
          43,
          42
         ],
         "mode": "lines",
         "showlegend": false,
         "text": "4 passes from SB to AL",
         "type": "scattergeo"
        },
        {
         "hoverinfo": "text",
         "lat": [
          11,
          33
         ],
         "legendgroup": "MV",
         "line": {
          "color": "rgba(86.92307692307690, 2.2307692307692300, 162.461538461538450,0.4)",
          "width": 5
         },
         "lon": [
          2,
          27
         ],
         "mode": "lines",
         "showlegend": false,
         "text": "5 passes from MV to FS",
         "type": "scattergeo"
        },
        {
         "hoverinfo": "text",
         "lat": [
          11,
          53
         ],
         "legendgroup": "MV",
         "line": {
          "color": "rgba(86.92307692307690, 2.2307692307692300, 162.461538461538450,0.4)",
          "width": 2
         },
         "lon": [
          2,
          58
         ],
         "mode": "lines",
         "showlegend": false,
         "text": "2 passes from MV to GA",
         "type": "scattergeo"
        },
        {
         "hoverinfo": "text",
         "lat": [
          11,
          56
         ],
         "legendgroup": "MV",
         "line": {
          "color": "rgba(86.92307692307690, 2.2307692307692300, 162.461538461538450,0.4)",
          "width": 3
         },
         "lon": [
          2,
          10
         ],
         "mode": "lines",
         "showlegend": false,
         "text": "3 passes from MV to SH",
         "type": "scattergeo"
        },
        {
         "hoverinfo": "text",
         "lat": [
          11,
          3
         ],
         "legendgroup": "MV",
         "line": {
          "color": "rgba(86.92307692307690, 2.2307692307692300, 162.461538461538450,0.4)",
          "width": 2
         },
         "lon": [
          2,
          72
         ],
         "mode": "lines",
         "showlegend": false,
         "text": "2 passes from MV to JS",
         "type": "scattergeo"
        },
        {
         "hoverinfo": "text",
         "lat": [
          11,
          64
         ],
         "legendgroup": "MV",
         "line": {
          "color": "rgba(86.92307692307690, 2.2307692307692300, 162.461538461538450,0.4)",
          "width": 10
         },
         "lon": [
          2,
          76
         ],
         "mode": "lines",
         "showlegend": false,
         "text": "10 passes from MV to SG",
         "type": "scattergeo"
        },
        {
         "hoverinfo": "text",
         "lat": [
          11,
          17
         ],
         "legendgroup": "MV",
         "line": {
          "color": "rgba(86.92307692307690, 2.2307692307692300, 162.461538461538450,0.4)",
          "width": 2
         },
         "lon": [
          2,
          -33
         ],
         "mode": "lines",
         "showlegend": false,
         "text": "2 passes from MV to CS",
         "type": "scattergeo"
        },
        {
         "hoverinfo": "text",
         "lat": [
          11,
          10
         ],
         "legendgroup": "MV",
         "line": {
          "color": "rgba(86.92307692307690, 2.2307692307692300, 162.461538461538450,0.4)",
          "width": 3
         },
         "lon": [
          2,
          -13
         ],
         "mode": "lines",
         "showlegend": false,
         "text": "3 passes from MV to JV",
         "type": "scattergeo"
        },
        {
         "hoverinfo": "text",
         "lat": [
          11,
          -13
         ],
         "legendgroup": "MV",
         "line": {
          "color": "rgba(86.92307692307690, 2.2307692307692300, 162.461538461538450,0.4)",
          "width": 2
         },
         "lon": [
          2,
          -21
         ],
         "mode": "lines",
         "showlegend": false,
         "text": "2 passes from MV to MR",
         "type": "scattergeo"
        },
        {
         "hoverinfo": "text",
         "lat": [
          11,
          1
         ],
         "legendgroup": "MV",
         "line": {
          "color": "rgba(86.92307692307690, 2.2307692307692300, 162.461538461538450,0.4)",
          "width": 1
         },
         "lon": [
          2,
          15
         ],
         "mode": "lines",
         "showlegend": false,
         "text": "1 passes from MV to EL",
         "type": "scattergeo"
        },
        {
         "hoverinfo": "text",
         "lat": [
          11,
          10
         ],
         "legendgroup": "MV",
         "line": {
          "color": "rgba(86.92307692307690, 2.2307692307692300, 162.461538461538450,0.4)",
          "width": 2
         },
         "lon": [
          2,
          43
         ],
         "mode": "lines",
         "showlegend": false,
         "text": "2 passes from MV to SB",
         "type": "scattergeo"
        },
        {
         "hoverinfo": "text",
         "lat": [
          11,
          29
         ],
         "legendgroup": "MV",
         "line": {
          "color": "rgba(86.92307692307690, 2.2307692307692300, 162.461538461538450,0.4)",
          "width": 2
         },
         "lon": [
          2,
          80
         ],
         "mode": "lines",
         "showlegend": false,
         "text": "2 passes from MV to AY",
         "type": "scattergeo"
        },
        {
         "hoverinfo": "text",
         "lat": [
          11,
          -16
         ],
         "legendgroup": "MV",
         "line": {
          "color": "rgba(86.92307692307690, 2.2307692307692300, 162.461538461538450,0.4)",
          "width": 1
         },
         "lon": [
          2,
          42
         ],
         "mode": "lines",
         "showlegend": false,
         "text": "1 passes from MV to AL",
         "type": "scattergeo"
        },
        {
         "hoverinfo": "text",
         "lat": [
          29,
          33
         ],
         "legendgroup": "AY",
         "line": {
          "color": "rgba(86.92307692307690, 2.2307692307692300, 162.461538461538450,0.4)",
          "width": 11
         },
         "lon": [
          80,
          27
         ],
         "mode": "lines",
         "showlegend": false,
         "text": "11 passes from AY to FS",
         "type": "scattergeo"
        },
        {
         "hoverinfo": "text",
         "lat": [
          29,
          53
         ],
         "legendgroup": "AY",
         "line": {
          "color": "rgba(86.92307692307690, 2.2307692307692300, 162.461538461538450,0.4)",
          "width": 19
         },
         "lon": [
          80,
          58
         ],
         "mode": "lines",
         "showlegend": false,
         "text": "19 passes from AY to GA",
         "type": "scattergeo"
        },
        {
         "hoverinfo": "text",
         "lat": [
          29,
          56
         ],
         "legendgroup": "AY",
         "line": {
          "color": "rgba(86.92307692307690, 2.2307692307692300, 162.461538461538450,0.4)",
          "width": 38
         },
         "lon": [
          80,
          10
         ],
         "mode": "lines",
         "showlegend": false,
         "text": "38 passes from AY to SH",
         "type": "scattergeo"
        },
        {
         "hoverinfo": "text",
         "lat": [
          29,
          3
         ],
         "legendgroup": "AY",
         "line": {
          "color": "rgba(86.92307692307690, 2.2307692307692300, 162.461538461538450,0.4)",
          "width": 1
         },
         "lon": [
          80,
          72
         ],
         "mode": "lines",
         "showlegend": false,
         "text": "1 passes from AY to JS",
         "type": "scattergeo"
        },
        {
         "hoverinfo": "text",
         "lat": [
          29,
          64
         ],
         "legendgroup": "AY",
         "line": {
          "color": "rgba(86.92307692307690, 2.2307692307692300, 162.461538461538450,0.4)",
          "width": 3
         },
         "lon": [
          80,
          76
         ],
         "mode": "lines",
         "showlegend": false,
         "text": "3 passes from AY to SG",
         "type": "scattergeo"
        },
        {
         "hoverinfo": "text",
         "lat": [
          29,
          17
         ],
         "legendgroup": "AY",
         "line": {
          "color": "rgba(86.92307692307690, 2.2307692307692300, 162.461538461538450,0.4)",
          "width": 10
         },
         "lon": [
          80,
          -33
         ],
         "mode": "lines",
         "showlegend": false,
         "text": "10 passes from AY to CS",
         "type": "scattergeo"
        },
        {
         "hoverinfo": "text",
         "lat": [
          29,
          10
         ],
         "legendgroup": "AY",
         "line": {
          "color": "rgba(86.92307692307690, 2.2307692307692300, 162.461538461538450,0.4)",
          "width": 2
         },
         "lon": [
          80,
          -13
         ],
         "mode": "lines",
         "showlegend": false,
         "text": "2 passes from AY to JV",
         "type": "scattergeo"
        },
        {
         "hoverinfo": "text",
         "lat": [
          29,
          10
         ],
         "legendgroup": "AY",
         "line": {
          "color": "rgba(86.92307692307690, 2.2307692307692300, 162.461538461538450,0.4)",
          "width": 3
         },
         "lon": [
          80,
          43
         ],
         "mode": "lines",
         "showlegend": false,
         "text": "3 passes from AY to SB",
         "type": "scattergeo"
        },
        {
         "hoverinfo": "text",
         "lat": [
          29,
          11
         ],
         "legendgroup": "AY",
         "line": {
          "color": "rgba(86.92307692307690, 2.2307692307692300, 162.461538461538450,0.4)",
          "width": 3
         },
         "lon": [
          80,
          2
         ],
         "mode": "lines",
         "showlegend": false,
         "text": "3 passes from AY to MV",
         "type": "scattergeo"
        },
        {
         "hoverinfo": "text",
         "lat": [
          29,
          10
         ],
         "legendgroup": "AY",
         "line": {
          "color": "rgba(86.92307692307690, 2.2307692307692300, 162.461538461538450,0.4)",
          "width": 1
         },
         "lon": [
          80,
          89
         ],
         "mode": "lines",
         "showlegend": false,
         "text": "1 passes from AY to JL",
         "type": "scattergeo"
        },
        {
         "hoverinfo": "text",
         "lat": [
          29,
          49
         ],
         "legendgroup": "AY",
         "line": {
          "color": "rgba(86.92307692307690, 2.2307692307692300, 162.461538461538450,0.4)",
          "width": 2
         },
         "lon": [
          80,
          78
         ],
         "mode": "lines",
         "showlegend": false,
         "text": "2 passes from AY to CC",
         "type": "scattergeo"
        },
        {
         "hoverinfo": "text",
         "lat": [
          29,
          -16
         ],
         "legendgroup": "AY",
         "line": {
          "color": "rgba(86.92307692307690, 2.2307692307692300, 162.461538461538450,0.4)",
          "width": 2
         },
         "lon": [
          80,
          42
         ],
         "mode": "lines",
         "showlegend": false,
         "text": "2 passes from AY to AL",
         "type": "scattergeo"
        },
        {
         "hoverinfo": "text",
         "lat": [
          29,
          -11
         ],
         "legendgroup": "AY",
         "line": {
          "color": "rgba(86.92307692307690, 2.2307692307692300, 162.461538461538450,0.4)",
          "width": 1
         },
         "lon": [
          80,
          8
         ],
         "mode": "lines",
         "showlegend": false,
         "text": "1 passes from AY to NK",
         "type": "scattergeo"
        },
        {
         "hoverinfo": "text",
         "lat": [
          10,
          33
         ],
         "legendgroup": "JL",
         "line": {
          "color": "rgba(71.6923076923070, 2.923076923076920, 159.346153846153840,0.4)",
          "width": 1
         },
         "lon": [
          89,
          27
         ],
         "mode": "lines",
         "showlegend": false,
         "text": "1 passes from JL to FS",
         "type": "scattergeo"
        },
        {
         "hoverinfo": "text",
         "lat": [
          10,
          53
         ],
         "legendgroup": "JL",
         "line": {
          "color": "rgba(71.6923076923070, 2.923076923076920, 159.346153846153840,0.4)",
          "width": 3
         },
         "lon": [
          89,
          58
         ],
         "mode": "lines",
         "showlegend": false,
         "text": "3 passes from JL to GA",
         "type": "scattergeo"
        },
        {
         "hoverinfo": "text",
         "lat": [
          10,
          56
         ],
         "legendgroup": "JL",
         "line": {
          "color": "rgba(71.6923076923070, 2.923076923076920, 159.346153846153840,0.4)",
          "width": 2
         },
         "lon": [
          89,
          10
         ],
         "mode": "lines",
         "showlegend": false,
         "text": "2 passes from JL to SH",
         "type": "scattergeo"
        },
        {
         "hoverinfo": "text",
         "lat": [
          10,
          3
         ],
         "legendgroup": "JL",
         "line": {
          "color": "rgba(71.6923076923070, 2.923076923076920, 159.346153846153840,0.4)",
          "width": 2
         },
         "lon": [
          89,
          72
         ],
         "mode": "lines",
         "showlegend": false,
         "text": "2 passes from JL to JS",
         "type": "scattergeo"
        },
        {
         "hoverinfo": "text",
         "lat": [
          10,
          64
         ],
         "legendgroup": "JL",
         "line": {
          "color": "rgba(71.6923076923070, 2.923076923076920, 159.346153846153840,0.4)",
          "width": 1
         },
         "lon": [
          89,
          76
         ],
         "mode": "lines",
         "showlegend": false,
         "text": "1 passes from JL to SG",
         "type": "scattergeo"
        },
        {
         "hoverinfo": "text",
         "lat": [
          10,
          29
         ],
         "legendgroup": "JL",
         "line": {
          "color": "rgba(71.6923076923070, 2.923076923076920, 159.346153846153840,0.4)",
          "width": 2
         },
         "lon": [
          89,
          80
         ],
         "mode": "lines",
         "showlegend": false,
         "text": "2 passes from JL to AY",
         "type": "scattergeo"
        },
        {
         "hoverinfo": "text",
         "lat": [
          10,
          -16
         ],
         "legendgroup": "JL",
         "line": {
          "color": "rgba(71.6923076923070, 2.923076923076920, 159.346153846153840,0.4)",
          "width": 1
         },
         "lon": [
          89,
          42
         ],
         "mode": "lines",
         "showlegend": false,
         "text": "1 passes from JL to AL",
         "type": "scattergeo"
        },
        {
         "hoverinfo": "text",
         "lat": [
          10,
          -11
         ],
         "legendgroup": "JL",
         "line": {
          "color": "rgba(71.6923076923070, 2.923076923076920, 159.346153846153840,0.4)",
          "width": 1
         },
         "lon": [
          89,
          8
         ],
         "mode": "lines",
         "showlegend": false,
         "text": "1 passes from JL to NK",
         "type": "scattergeo"
        },
        {
         "hoverinfo": "text",
         "lat": [
          7,
          33
         ],
         "legendgroup": "LB",
         "line": {
          "color": "rgba(71.6923076923070, 2.923076923076920, 159.346153846153840,0.4)",
          "width": 2
         },
         "lon": [
          26,
          27
         ],
         "mode": "lines",
         "showlegend": false,
         "text": "2 passes from LB to FS",
         "type": "scattergeo"
        },
        {
         "hoverinfo": "text",
         "lat": [
          7,
          53
         ],
         "legendgroup": "LB",
         "line": {
          "color": "rgba(71.6923076923070, 2.923076923076920, 159.346153846153840,0.4)",
          "width": 1
         },
         "lon": [
          26,
          58
         ],
         "mode": "lines",
         "showlegend": false,
         "text": "1 passes from LB to GA",
         "type": "scattergeo"
        },
        {
         "hoverinfo": "text",
         "lat": [
          7,
          56
         ],
         "legendgroup": "LB",
         "line": {
          "color": "rgba(71.6923076923070, 2.923076923076920, 159.346153846153840,0.4)",
          "width": 2
         },
         "lon": [
          26,
          10
         ],
         "mode": "lines",
         "showlegend": false,
         "text": "2 passes from LB to SH",
         "type": "scattergeo"
        },
        {
         "hoverinfo": "text",
         "lat": [
          7,
          64
         ],
         "legendgroup": "LB",
         "line": {
          "color": "rgba(71.6923076923070, 2.923076923076920, 159.346153846153840,0.4)",
          "width": 1
         },
         "lon": [
          26,
          76
         ],
         "mode": "lines",
         "showlegend": false,
         "text": "1 passes from LB to SG",
         "type": "scattergeo"
        },
        {
         "hoverinfo": "text",
         "lat": [
          7,
          17
         ],
         "legendgroup": "LB",
         "line": {
          "color": "rgba(71.6923076923070, 2.923076923076920, 159.346153846153840,0.4)",
          "width": 2
         },
         "lon": [
          26,
          -33
         ],
         "mode": "lines",
         "showlegend": false,
         "text": "2 passes from LB to CS",
         "type": "scattergeo"
        },
        {
         "hoverinfo": "text",
         "lat": [
          7,
          -13
         ],
         "legendgroup": "LB",
         "line": {
          "color": "rgba(71.6923076923070, 2.923076923076920, 159.346153846153840,0.4)",
          "width": 2
         },
         "lon": [
          26,
          -21
         ],
         "mode": "lines",
         "showlegend": false,
         "text": "2 passes from LB to MR",
         "type": "scattergeo"
        },
        {
         "hoverinfo": "text",
         "lat": [
          7,
          11
         ],
         "legendgroup": "LB",
         "line": {
          "color": "rgba(71.6923076923070, 2.923076923076920, 159.346153846153840,0.4)",
          "width": 2
         },
         "lon": [
          26,
          2
         ],
         "mode": "lines",
         "showlegend": false,
         "text": "2 passes from LB to MV",
         "type": "scattergeo"
        },
        {
         "hoverinfo": "text",
         "lat": [
          7,
          29
         ],
         "legendgroup": "LB",
         "line": {
          "color": "rgba(71.6923076923070, 2.923076923076920, 159.346153846153840,0.4)",
          "width": 1
         },
         "lon": [
          26,
          80
         ],
         "mode": "lines",
         "showlegend": false,
         "text": "1 passes from LB to AY",
         "type": "scattergeo"
        },
        {
         "hoverinfo": "text",
         "lat": [
          49,
          33
         ],
         "legendgroup": "CC",
         "line": {
          "color": "rgba(71.6923076923070, 2.923076923076920, 159.346153846153840,0.4)",
          "width": 4
         },
         "lon": [
          78,
          27
         ],
         "mode": "lines",
         "showlegend": false,
         "text": "4 passes from CC to FS",
         "type": "scattergeo"
        },
        {
         "hoverinfo": "text",
         "lat": [
          49,
          56
         ],
         "legendgroup": "CC",
         "line": {
          "color": "rgba(71.6923076923070, 2.923076923076920, 159.346153846153840,0.4)",
          "width": 1
         },
         "lon": [
          78,
          10
         ],
         "mode": "lines",
         "showlegend": false,
         "text": "1 passes from CC to SH",
         "type": "scattergeo"
        },
        {
         "hoverinfo": "text",
         "lat": [
          49,
          64
         ],
         "legendgroup": "CC",
         "line": {
          "color": "rgba(71.6923076923070, 2.923076923076920, 159.346153846153840,0.4)",
          "width": 1
         },
         "lon": [
          78,
          76
         ],
         "mode": "lines",
         "showlegend": false,
         "text": "1 passes from CC to SG",
         "type": "scattergeo"
        },
        {
         "hoverinfo": "text",
         "lat": [
          49,
          17
         ],
         "legendgroup": "CC",
         "line": {
          "color": "rgba(71.6923076923070, 2.923076923076920, 159.346153846153840,0.4)",
          "width": 2
         },
         "lon": [
          78,
          -33
         ],
         "mode": "lines",
         "showlegend": false,
         "text": "2 passes from CC to CS",
         "type": "scattergeo"
        },
        {
         "hoverinfo": "text",
         "lat": [
          49,
          10
         ],
         "legendgroup": "CC",
         "line": {
          "color": "rgba(71.6923076923070, 2.923076923076920, 159.346153846153840,0.4)",
          "width": 1
         },
         "lon": [
          78,
          -13
         ],
         "mode": "lines",
         "showlegend": false,
         "text": "1 passes from CC to JV",
         "type": "scattergeo"
        },
        {
         "hoverinfo": "text",
         "lat": [
          49,
          11
         ],
         "legendgroup": "CC",
         "line": {
          "color": "rgba(71.6923076923070, 2.923076923076920, 159.346153846153840,0.4)",
          "width": 1
         },
         "lon": [
          78,
          2
         ],
         "mode": "lines",
         "showlegend": false,
         "text": "1 passes from CC to MV",
         "type": "scattergeo"
        },
        {
         "hoverinfo": "text",
         "lat": [
          49,
          29
         ],
         "legendgroup": "CC",
         "line": {
          "color": "rgba(71.6923076923070, 2.923076923076920, 159.346153846153840,0.4)",
          "width": 4
         },
         "lon": [
          78,
          80
         ],
         "mode": "lines",
         "showlegend": false,
         "text": "4 passes from CC to AY",
         "type": "scattergeo"
        },
        {
         "hoverinfo": "text",
         "lat": [
          -16,
          33
         ],
         "legendgroup": "AL",
         "line": {
          "color": "rgba(71.6923076923070, 2.923076923076920, 159.346153846153840,0.4)",
          "width": 4
         },
         "lon": [
          42,
          27
         ],
         "mode": "lines",
         "showlegend": false,
         "text": "4 passes from AL to FS",
         "type": "scattergeo"
        },
        {
         "hoverinfo": "text",
         "lat": [
          -16,
          53
         ],
         "legendgroup": "AL",
         "line": {
          "color": "rgba(71.6923076923070, 2.923076923076920, 159.346153846153840,0.4)",
          "width": 2
         },
         "lon": [
          42,
          58
         ],
         "mode": "lines",
         "showlegend": false,
         "text": "2 passes from AL to GA",
         "type": "scattergeo"
        },
        {
         "hoverinfo": "text",
         "lat": [
          -16,
          56
         ],
         "legendgroup": "AL",
         "line": {
          "color": "rgba(71.6923076923070, 2.923076923076920, 159.346153846153840,0.4)",
          "width": 4
         },
         "lon": [
          42,
          10
         ],
         "mode": "lines",
         "showlegend": false,
         "text": "4 passes from AL to SH",
         "type": "scattergeo"
        },
        {
         "hoverinfo": "text",
         "lat": [
          -16,
          3
         ],
         "legendgroup": "AL",
         "line": {
          "color": "rgba(71.6923076923070, 2.923076923076920, 159.346153846153840,0.4)",
          "width": 2
         },
         "lon": [
          42,
          72
         ],
         "mode": "lines",
         "showlegend": false,
         "text": "2 passes from AL to JS",
         "type": "scattergeo"
        },
        {
         "hoverinfo": "text",
         "lat": [
          -16,
          64
         ],
         "legendgroup": "AL",
         "line": {
          "color": "rgba(71.6923076923070, 2.923076923076920, 159.346153846153840,0.4)",
          "width": 5
         },
         "lon": [
          42,
          76
         ],
         "mode": "lines",
         "showlegend": false,
         "text": "5 passes from AL to SG",
         "type": "scattergeo"
        },
        {
         "hoverinfo": "text",
         "lat": [
          -16,
          10
         ],
         "legendgroup": "AL",
         "line": {
          "color": "rgba(71.6923076923070, 2.923076923076920, 159.346153846153840,0.4)",
          "width": 2
         },
         "lon": [
          42,
          -13
         ],
         "mode": "lines",
         "showlegend": false,
         "text": "2 passes from AL to JV",
         "type": "scattergeo"
        },
        {
         "hoverinfo": "text",
         "lat": [
          -16,
          1
         ],
         "legendgroup": "AL",
         "line": {
          "color": "rgba(71.6923076923070, 2.923076923076920, 159.346153846153840,0.4)",
          "width": 2
         },
         "lon": [
          42,
          15
         ],
         "mode": "lines",
         "showlegend": false,
         "text": "2 passes from AL to EL",
         "type": "scattergeo"
        },
        {
         "hoverinfo": "text",
         "lat": [
          -16,
          10
         ],
         "legendgroup": "AL",
         "line": {
          "color": "rgba(71.6923076923070, 2.923076923076920, 159.346153846153840,0.4)",
          "width": 4
         },
         "lon": [
          42,
          43
         ],
         "mode": "lines",
         "showlegend": false,
         "text": "4 passes from AL to SB",
         "type": "scattergeo"
        },
        {
         "hoverinfo": "text",
         "lat": [
          -16,
          29
         ],
         "legendgroup": "AL",
         "line": {
          "color": "rgba(71.6923076923070, 2.923076923076920, 159.346153846153840,0.4)",
          "width": 1
         },
         "lon": [
          42,
          80
         ],
         "mode": "lines",
         "showlegend": false,
         "text": "1 passes from AL to AY",
         "type": "scattergeo"
        },
        {
         "hoverinfo": "text",
         "lat": [
          -16,
          -11
         ],
         "legendgroup": "AL",
         "line": {
          "color": "rgba(71.6923076923070, 2.923076923076920, 159.346153846153840,0.4)",
          "width": 3
         },
         "lon": [
          42,
          8
         ],
         "mode": "lines",
         "showlegend": false,
         "text": "3 passes from AL to NK",
         "type": "scattergeo"
        },
        {
         "hoverinfo": "text",
         "lat": [
          -11,
          64
         ],
         "legendgroup": "NK",
         "line": {
          "color": "rgba(52.46153846153840, 4.538461538461530, 151.61538461538460,0.4)",
          "width": 5
         },
         "lon": [
          8,
          76
         ],
         "mode": "lines",
         "showlegend": false,
         "text": "5 passes from NK to SG",
         "type": "scattergeo"
        },
        {
         "hoverinfo": "text",
         "lat": [
          -11,
          17
         ],
         "legendgroup": "NK",
         "line": {
          "color": "rgba(52.46153846153840, 4.538461538461530, 151.61538461538460,0.4)",
          "width": 1
         },
         "lon": [
          8,
          -33
         ],
         "mode": "lines",
         "showlegend": false,
         "text": "1 passes from NK to CS",
         "type": "scattergeo"
        },
        {
         "hoverinfo": "text",
         "lat": [
          -11,
          10
         ],
         "legendgroup": "NK",
         "line": {
          "color": "rgba(52.46153846153840, 4.538461538461530, 151.61538461538460,0.4)",
          "width": 2
         },
         "lon": [
          8,
          -13
         ],
         "mode": "lines",
         "showlegend": false,
         "text": "2 passes from NK to JV",
         "type": "scattergeo"
        },
        {
         "hoverinfo": "text",
         "lat": [
          -11,
          1
         ],
         "legendgroup": "NK",
         "line": {
          "color": "rgba(52.46153846153840, 4.538461538461530, 151.61538461538460,0.4)",
          "width": 1
         },
         "lon": [
          8,
          15
         ],
         "mode": "lines",
         "showlegend": false,
         "text": "1 passes from NK to EL",
         "type": "scattergeo"
        },
        {
         "hoverinfo": "text",
         "lat": [
          -11,
          -16
         ],
         "legendgroup": "NK",
         "line": {
          "color": "rgba(52.46153846153840, 4.538461538461530, 151.61538461538460,0.4)",
          "width": 1
         },
         "lon": [
          8,
          42
         ],
         "mode": "lines",
         "showlegend": false,
         "text": "1 passes from NK to AL",
         "type": "scattergeo"
        },
        {
         "hoverinfo": "text",
         "lat": [
          -18,
          64
         ],
         "legendgroup": "JG",
         "line": {
          "color": "rgba(52.46153846153840, 4.538461538461530, 151.61538461538460,0.4)",
          "width": 4
         },
         "lon": [
          19,
          76
         ],
         "mode": "lines",
         "showlegend": false,
         "text": "4 passes from JG to SG",
         "type": "scattergeo"
        },
        {
         "hoverinfo": "text",
         "lat": [
          -18,
          17
         ],
         "legendgroup": "JG",
         "line": {
          "color": "rgba(52.46153846153840, 4.538461538461530, 151.61538461538460,0.4)",
          "width": 2
         },
         "lon": [
          19,
          -33
         ],
         "mode": "lines",
         "showlegend": false,
         "text": "2 passes from JG to CS",
         "type": "scattergeo"
        },
        {
         "hoverinfo": "text",
         "lat": [
          -18,
          29
         ],
         "legendgroup": "JG",
         "line": {
          "color": "rgba(52.46153846153840, 4.538461538461530, 151.61538461538460,0.4)",
          "width": 1
         },
         "lon": [
          19,
          80
         ],
         "mode": "lines",
         "showlegend": false,
         "text": "1 passes from JG to AY",
         "type": "scattergeo"
        },
        {
         "hoverinfo": "text",
         "hovertext": "111.0",
         "lat": [
          33
         ],
         "legendgroup": "FS",
         "lon": [
          27
         ],
         "marker": {
          "color": "#f0f921",
          "line": {
           "color": "black",
           "width": 0.5
          },
          "size": 50.45454545454545
         },
         "mode": "markers+text",
         "name": "FS",
         "text": "FS",
         "textfont": {
          "color": "gray"
         },
         "textposition": "middle center",
         "type": "scattergeo"
        },
        {
         "hoverinfo": "text",
         "hovertext": "90.0",
         "lat": [
          53
         ],
         "legendgroup": "GA",
         "lon": [
          58
         ],
         "marker": {
          "color": "rgb(251.53846153846155, 170.5769230769231, 52.61538461538461)",
          "line": {
           "color": "black",
           "width": 0.5
          },
          "size": 40.90909090909091
         },
         "mode": "markers+text",
         "name": "GA",
         "text": "GA",
         "textfont": {
          "color": "gray"
         },
         "textposition": "middle center",
         "type": "scattergeo"
        },
        {
         "hoverinfo": "text",
         "hovertext": "160.0",
         "lat": [
          56
         ],
         "legendgroup": "SH",
         "lon": [
          10
         ],
         "marker": {
          "color": "rgb(245.07692307692307, 142.9230769230769, 68.57692307692308)",
          "line": {
           "color": "black",
           "width": 0.5
          },
          "size": 72.72727272727272
         },
         "mode": "markers+text",
         "name": "SH",
         "text": "SH",
         "textfont": {
          "color": "gray"
         },
         "textposition": "middle center",
         "type": "scattergeo"
        },
        {
         "hoverinfo": "text",
         "hovertext": "27.0",
         "lat": [
          3
         ],
         "legendgroup": "JS",
         "lon": [
          72
         ],
         "marker": {
          "color": "rgb(171.23076923076925, 37.76923076923078, 146.9230769230769)",
          "line": {
           "color": "black",
           "width": 0.5
          },
          "size": 12.272727272727272
         },
         "mode": "markers+text",
         "name": "JS",
         "text": "JS",
         "textfont": {
          "color": "black"
         },
         "textposition": "bottom center",
         "type": "scattergeo"
        },
        {
         "hoverinfo": "text",
         "hovertext": "75.0",
         "lat": [
          64
         ],
         "legendgroup": "SG",
         "lon": [
          76
         ],
         "marker": {
          "color": "rgb(102.15384615384616, 1.538461538461538, 165.57692307692307)",
          "line": {
           "color": "black",
           "width": 0.5
          },
          "size": 34.090909090909086
         },
         "mode": "markers+text",
         "name": "SG",
         "text": "SG",
         "textfont": {
          "color": "gray"
         },
         "textposition": "middle center",
         "type": "scattergeo"
        },
        {
         "hoverinfo": "text",
         "hovertext": "45.0",
         "lat": [
          17
         ],
         "legendgroup": "CS",
         "lon": [
          -33
         ],
         "marker": {
          "color": "rgb(102.15384615384616, 1.538461538461538, 165.57692307692307)",
          "line": {
           "color": "black",
           "width": 0.5
          },
          "size": 20.454545454545453
         },
         "mode": "markers+text",
         "name": "CS",
         "text": "CS",
         "textfont": {
          "color": "black"
         },
         "textposition": "bottom center",
         "type": "scattergeo"
        },
        {
         "hoverinfo": "text",
         "hovertext": "16.0",
         "lat": [
          10
         ],
         "legendgroup": "JV",
         "lon": [
          -13
         ],
         "marker": {
          "color": "rgb(102.15384615384616, 1.538461538461538, 165.57692307692307)",
          "line": {
           "color": "black",
           "width": 0.5
          },
          "size": 7.2727272727272725
         },
         "mode": "markers+text",
         "name": "JV",
         "text": "JV",
         "textfont": {
          "color": "black"
         },
         "textposition": "bottom center",
         "type": "scattergeo"
        },
        {
         "hoverinfo": "text",
         "hovertext": "8.0",
         "lat": [
          -13
         ],
         "legendgroup": "MR",
         "lon": [
          -21
         ],
         "marker": {
          "color": "rgb(102.15384615384616, 1.538461538461538, 165.57692307692307)",
          "line": {
           "color": "black",
           "width": 0.5
          },
          "size": 3.6363636363636362
         },
         "mode": "markers+text",
         "name": "MR",
         "text": "MR",
         "textfont": {
          "color": "black"
         },
         "textposition": "bottom center",
         "type": "scattergeo"
        },
        {
         "hoverinfo": "text",
         "hovertext": "22.0",
         "lat": [
          1
         ],
         "legendgroup": "EL",
         "lon": [
          15
         ],
         "marker": {
          "color": "rgb(86.92307692307693, 2.2307692307692304, 162.46153846153845)",
          "line": {
           "color": "black",
           "width": 0.5
          },
          "size": 10
         },
         "mode": "markers+text",
         "name": "EL",
         "text": "EL",
         "textfont": {
          "color": "black"
         },
         "textposition": "bottom center",
         "type": "scattergeo"
        },
        {
         "hoverinfo": "text",
         "hovertext": "33.0",
         "lat": [
          10
         ],
         "legendgroup": "SB",
         "lon": [
          43
         ],
         "marker": {
          "color": "rgb(86.92307692307693, 2.2307692307692304, 162.46153846153845)",
          "line": {
           "color": "black",
           "width": 0.5
          },
          "size": 14.999999999999998
         },
         "mode": "markers+text",
         "name": "SB",
         "text": "SB",
         "textfont": {
          "color": "black"
         },
         "textposition": "bottom center",
         "type": "scattergeo"
        },
        {
         "hoverinfo": "text",
         "hovertext": "42.0",
         "lat": [
          11
         ],
         "legendgroup": "MV",
         "lon": [
          2
         ],
         "marker": {
          "color": "rgb(86.92307692307693, 2.2307692307692304, 162.46153846153845)",
          "line": {
           "color": "black",
           "width": 0.5
          },
          "size": 19.09090909090909
         },
         "mode": "markers+text",
         "name": "MV",
         "text": "MV",
         "textfont": {
          "color": "black"
         },
         "textposition": "bottom center",
         "type": "scattergeo"
        },
        {
         "hoverinfo": "text",
         "hovertext": "102.0",
         "lat": [
          29
         ],
         "legendgroup": "AY",
         "lon": [
          80
         ],
         "marker": {
          "color": "rgb(86.92307692307693, 2.2307692307692304, 162.46153846153845)",
          "line": {
           "color": "black",
           "width": 0.5
          },
          "size": 46.36363636363636
         },
         "mode": "markers+text",
         "name": "AY",
         "text": "AY",
         "textfont": {
          "color": "gray"
         },
         "textposition": "middle center",
         "type": "scattergeo"
        },
        {
         "hoverinfo": "text",
         "hovertext": "17.0",
         "lat": [
          10
         ],
         "legendgroup": "JL",
         "lon": [
          89
         ],
         "marker": {
          "color": "rgb(71.6923076923077, 2.923076923076923, 159.34615384615384)",
          "line": {
           "color": "black",
           "width": 0.5
          },
          "size": 7.727272727272727
         },
         "mode": "markers+text",
         "name": "JL",
         "text": "JL",
         "textfont": {
          "color": "black"
         },
         "textposition": "bottom center",
         "type": "scattergeo"
        },
        {
         "hoverinfo": "text",
         "hovertext": "13.0",
         "lat": [
          7
         ],
         "legendgroup": "LB",
         "lon": [
          26
         ],
         "marker": {
          "color": "rgb(71.6923076923077, 2.923076923076923, 159.34615384615384)",
          "line": {
           "color": "black",
           "width": 0.5
          },
          "size": 5.909090909090908
         },
         "mode": "markers+text",
         "name": "LB",
         "text": "LB",
         "textfont": {
          "color": "black"
         },
         "textposition": "bottom center",
         "type": "scattergeo"
        },
        {
         "hoverinfo": "text",
         "hovertext": "14.0",
         "lat": [
          49
         ],
         "legendgroup": "CC",
         "lon": [
          78
         ],
         "marker": {
          "color": "rgb(71.6923076923077, 2.923076923076923, 159.34615384615384)",
          "line": {
           "color": "black",
           "width": 0.5
          },
          "size": 6.363636363636363
         },
         "mode": "markers+text",
         "name": "CC",
         "text": "CC",
         "textfont": {
          "color": "black"
         },
         "textposition": "bottom center",
         "type": "scattergeo"
        },
        {
         "hoverinfo": "text",
         "hovertext": "29.0",
         "lat": [
          -16
         ],
         "legendgroup": "AL",
         "lon": [
          42
         ],
         "marker": {
          "color": "rgb(71.6923076923077, 2.923076923076923, 159.34615384615384)",
          "line": {
           "color": "black",
           "width": 0.5
          },
          "size": 13.18181818181818
         },
         "mode": "markers+text",
         "name": "AL",
         "text": "AL",
         "textfont": {
          "color": "black"
         },
         "textposition": "bottom center",
         "type": "scattergeo"
        },
        {
         "hoverinfo": "text",
         "hovertext": "12.0",
         "lat": [
          -11
         ],
         "legendgroup": "NK",
         "lon": [
          8
         ],
         "marker": {
          "color": "rgb(52.46153846153847, 4.538461538461538, 151.6153846153846)",
          "line": {
           "color": "black",
           "width": 0.5
          },
          "size": 5.454545454545454
         },
         "mode": "markers+text",
         "name": "NK",
         "text": "NK",
         "textfont": {
          "color": "black"
         },
         "textposition": "bottom center",
         "type": "scattergeo"
        },
        {
         "hoverinfo": "text",
         "hovertext": "7.0",
         "lat": [
          -18
         ],
         "legendgroup": "JG",
         "lon": [
          19
         ],
         "marker": {
          "color": "rgb(52.46153846153847, 4.538461538461538, 151.6153846153846)",
          "line": {
           "color": "black",
           "width": 0.5
          },
          "size": 3.1818181818181817
         },
         "mode": "markers+text",
         "name": "JG",
         "text": "JG",
         "textfont": {
          "color": "black"
         },
         "textposition": "bottom center",
         "type": "scattergeo"
        }
       ],
       "layout": {
        "geo": {
         "fitbounds": "locations",
         "visible": false
        },
        "height": 500,
        "images": [
         {
          "sizex": 0.2,
          "sizey": 0.2,
          "source": "https://raw.githubusercontent.com/elastufka/presentations/master/images/ZU_logo1.png",
          "x": 0,
          "xanchor": "right",
          "xref": "paper",
          "y": 1.05,
          "yanchor": "bottom",
          "yref": "paper"
         }
        ],
        "margin": {
         "b": 0,
         "l": 0,
         "r": 0,
         "t": 40
        },
        "plot_bgcolor": "light gray",
        "showlegend": true,
        "template": {
         "layout": {
          "colorway": [
           "#000000",
           "#784F17",
           "#FF0018",
           "#FFA52C",
           "#FFFF41",
           "#008018",
           "#0000F9",
           "#86007D"
          ],
          "plot_bgcolor": "lightgrey"
         }
        },
        "title": {
         "text": "Completed Passes"
        },
        "width": 850,
        "xaxis": {
         "visible": false
        }
       }
      },
      "text/html": [
       "<div>                            <div id=\"e7d2eabd-b377-464b-840d-9e2288a4c58a\" class=\"plotly-graph-div\" style=\"height:500px; width:850px;\"></div>            <script type=\"text/javascript\">                require([\"plotly\"], function(Plotly) {                    window.PLOTLYENV=window.PLOTLYENV || {};                                    if (document.getElementById(\"e7d2eabd-b377-464b-840d-9e2288a4c58a\")) {                    Plotly.newPlot(                        \"e7d2eabd-b377-464b-840d-9e2288a4c58a\",                        [{\"hoverinfo\":\"text\",\"lat\":[33,53],\"legendgroup\":\"FS\",\"line\":{\"color\":\"rgba(2400,2490,330,0.4)\",\"width\":30},\"lon\":[27,58],\"mode\":\"lines\",\"showlegend\":false,\"text\":\"30 passes from FS to GA\",\"type\":\"scattergeo\"},{\"hoverinfo\":\"text\",\"lat\":[33,56],\"legendgroup\":\"FS\",\"line\":{\"color\":\"rgba(2400,2490,330,0.4)\",\"width\":31},\"lon\":[27,10],\"mode\":\"lines\",\"showlegend\":false,\"text\":\"31 passes from FS to SH\",\"type\":\"scattergeo\"},{\"hoverinfo\":\"text\",\"lat\":[33,3],\"legendgroup\":\"FS\",\"line\":{\"color\":\"rgba(2400,2490,330,0.4)\",\"width\":1},\"lon\":[27,72],\"mode\":\"lines\",\"showlegend\":false,\"text\":\"1 passes from FS to JS\",\"type\":\"scattergeo\"},{\"hoverinfo\":\"text\",\"lat\":[33,64],\"legendgroup\":\"FS\",\"line\":{\"color\":\"rgba(2400,2490,330,0.4)\",\"width\":2},\"lon\":[27,76],\"mode\":\"lines\",\"showlegend\":false,\"text\":\"2 passes from FS to SG\",\"type\":\"scattergeo\"},{\"hoverinfo\":\"text\",\"lat\":[33,17],\"legendgroup\":\"FS\",\"line\":{\"color\":\"rgba(2400,2490,330,0.4)\",\"width\":4},\"lon\":[27,-33],\"mode\":\"lines\",\"showlegend\":false,\"text\":\"4 passes from FS to CS\",\"type\":\"scattergeo\"},{\"hoverinfo\":\"text\",\"lat\":[33,10],\"legendgroup\":\"FS\",\"line\":{\"color\":\"rgba(2400,2490,330,0.4)\",\"width\":2},\"lon\":[27,-13],\"mode\":\"lines\",\"showlegend\":false,\"text\":\"2 passes from FS to JV\",\"type\":\"scattergeo\"},{\"hoverinfo\":\"text\",\"lat\":[33,-13],\"legendgroup\":\"FS\",\"line\":{\"color\":\"rgba(2400,2490,330,0.4)\",\"width\":1},\"lon\":[27,-21],\"mode\":\"lines\",\"showlegend\":false,\"text\":\"1 passes from FS to MR\",\"type\":\"scattergeo\"},{\"hoverinfo\":\"text\",\"lat\":[33,1],\"legendgroup\":\"FS\",\"line\":{\"color\":\"rgba(2400,2490,330,0.4)\",\"width\":6},\"lon\":[27,15],\"mode\":\"lines\",\"showlegend\":false,\"text\":\"6 passes from FS to EL\",\"type\":\"scattergeo\"},{\"hoverinfo\":\"text\",\"lat\":[33,10],\"legendgroup\":\"FS\",\"line\":{\"color\":\"rgba(2400,2490,330,0.4)\",\"width\":5},\"lon\":[27,43],\"mode\":\"lines\",\"showlegend\":false,\"text\":\"5 passes from FS to SB\",\"type\":\"scattergeo\"},{\"hoverinfo\":\"text\",\"lat\":[33,11],\"legendgroup\":\"FS\",\"line\":{\"color\":\"rgba(2400,2490,330,0.4)\",\"width\":6},\"lon\":[27,2],\"mode\":\"lines\",\"showlegend\":false,\"text\":\"6 passes from FS to MV\",\"type\":\"scattergeo\"},{\"hoverinfo\":\"text\",\"lat\":[33,29],\"legendgroup\":\"FS\",\"line\":{\"color\":\"rgba(2400,2490,330,0.4)\",\"width\":6},\"lon\":[27,80],\"mode\":\"lines\",\"showlegend\":false,\"text\":\"6 passes from FS to AY\",\"type\":\"scattergeo\"},{\"hoverinfo\":\"text\",\"lat\":[33,10],\"legendgroup\":\"FS\",\"line\":{\"color\":\"rgba(2400,2490,330,0.4)\",\"width\":1},\"lon\":[27,89],\"mode\":\"lines\",\"showlegend\":false,\"text\":\"1 passes from FS to JL\",\"type\":\"scattergeo\"},{\"hoverinfo\":\"text\",\"lat\":[33,49],\"legendgroup\":\"FS\",\"line\":{\"color\":\"rgba(2400,2490,330,0.4)\",\"width\":2},\"lon\":[27,78],\"mode\":\"lines\",\"showlegend\":false,\"text\":\"2 passes from FS to CC\",\"type\":\"scattergeo\"},{\"hoverinfo\":\"text\",\"lat\":[33,-16],\"legendgroup\":\"FS\",\"line\":{\"color\":\"rgba(2400,2490,330,0.4)\",\"width\":5},\"lon\":[27,42],\"mode\":\"lines\",\"showlegend\":false,\"text\":\"5 passes from FS to AL\",\"type\":\"scattergeo\"},{\"hoverinfo\":\"text\",\"lat\":[53,33],\"legendgroup\":\"GA\",\"line\":{\"color\":\"rgba(251.53846153846150, 170.5769230769230, 52.615384615384610,0.4)\",\"width\":27},\"lon\":[58,27],\"mode\":\"lines\",\"showlegend\":false,\"text\":\"27 passes from GA to FS\",\"type\":\"scattergeo\"},{\"hoverinfo\":\"text\",\"lat\":[53,56],\"legendgroup\":\"GA\",\"line\":{\"color\":\"rgba(251.53846153846150, 170.5769230769230, 52.615384615384610,0.4)\",\"width\":19},\"lon\":[58,10],\"mode\":\"lines\",\"showlegend\":false,\"text\":\"19 passes from GA to SH\",\"type\":\"scattergeo\"},{\"hoverinfo\":\"text\",\"lat\":[53,3],\"legendgroup\":\"GA\",\"line\":{\"color\":\"rgba(251.53846153846150, 170.5769230769230, 52.615384615384610,0.4)\",\"width\":4},\"lon\":[58,72],\"mode\":\"lines\",\"showlegend\":false,\"text\":\"4 passes from GA to JS\",\"type\":\"scattergeo\"},{\"hoverinfo\":\"text\",\"lat\":[53,17],\"legendgroup\":\"GA\",\"line\":{\"color\":\"rgba(251.53846153846150, 170.5769230769230, 52.615384615384610,0.4)\",\"width\":1},\"lon\":[58,-33],\"mode\":\"lines\",\"showlegend\":false,\"text\":\"1 passes from GA to CS\",\"type\":\"scattergeo\"},{\"hoverinfo\":\"text\",\"lat\":[53,10],\"legendgroup\":\"GA\",\"line\":{\"color\":\"rgba(251.53846153846150, 170.5769230769230, 52.615384615384610,0.4)\",\"width\":1},\"lon\":[58,-13],\"mode\":\"lines\",\"showlegend\":false,\"text\":\"1 passes from GA to JV\",\"type\":\"scattergeo\"},{\"hoverinfo\":\"text\",\"lat\":[53,1],\"legendgroup\":\"GA\",\"line\":{\"color\":\"rgba(251.53846153846150, 170.5769230769230, 52.615384615384610,0.4)\",\"width\":1},\"lon\":[58,15],\"mode\":\"lines\",\"showlegend\":false,\"text\":\"1 passes from GA to EL\",\"type\":\"scattergeo\"},{\"hoverinfo\":\"text\",\"lat\":[53,10],\"legendgroup\":\"GA\",\"line\":{\"color\":\"rgba(251.53846153846150, 170.5769230769230, 52.615384615384610,0.4)\",\"width\":4},\"lon\":[58,43],\"mode\":\"lines\",\"showlegend\":false,\"text\":\"4 passes from GA to SB\",\"type\":\"scattergeo\"},{\"hoverinfo\":\"text\",\"lat\":[53,11],\"legendgroup\":\"GA\",\"line\":{\"color\":\"rgba(251.53846153846150, 170.5769230769230, 52.615384615384610,0.4)\",\"width\":1},\"lon\":[58,2],\"mode\":\"lines\",\"showlegend\":false,\"text\":\"1 passes from GA to MV\",\"type\":\"scattergeo\"},{\"hoverinfo\":\"text\",\"lat\":[53,29],\"legendgroup\":\"GA\",\"line\":{\"color\":\"rgba(251.53846153846150, 170.5769230769230, 52.615384615384610,0.4)\",\"width\":9},\"lon\":[58,80],\"mode\":\"lines\",\"showlegend\":false,\"text\":\"9 passes from GA to AY\",\"type\":\"scattergeo\"},{\"hoverinfo\":\"text\",\"lat\":[53,10],\"legendgroup\":\"GA\",\"line\":{\"color\":\"rgba(251.53846153846150, 170.5769230769230, 52.615384615384610,0.4)\",\"width\":8},\"lon\":[58,89],\"mode\":\"lines\",\"showlegend\":false,\"text\":\"8 passes from GA to JL\",\"type\":\"scattergeo\"},{\"hoverinfo\":\"text\",\"lat\":[53,7],\"legendgroup\":\"GA\",\"line\":{\"color\":\"rgba(251.53846153846150, 170.5769230769230, 52.615384615384610,0.4)\",\"width\":3},\"lon\":[58,26],\"mode\":\"lines\",\"showlegend\":false,\"text\":\"3 passes from GA to LB\",\"type\":\"scattergeo\"},{\"hoverinfo\":\"text\",\"lat\":[53,-16],\"legendgroup\":\"GA\",\"line\":{\"color\":\"rgba(251.53846153846150, 170.5769230769230, 52.615384615384610,0.4)\",\"width\":4},\"lon\":[58,42],\"mode\":\"lines\",\"showlegend\":false,\"text\":\"4 passes from GA to AL\",\"type\":\"scattergeo\"},{\"hoverinfo\":\"text\",\"lat\":[53,-11],\"legendgroup\":\"GA\",\"line\":{\"color\":\"rgba(251.53846153846150, 170.5769230769230, 52.615384615384610,0.4)\",\"width\":1},\"lon\":[58,8],\"mode\":\"lines\",\"showlegend\":false,\"text\":\"1 passes from GA to NK\",\"type\":\"scattergeo\"},{\"hoverinfo\":\"text\",\"lat\":[56,33],\"legendgroup\":\"SH\",\"line\":{\"color\":\"rgba(245.07692307692300, 142.9230769230760, 68.576923076923080,0.4)\",\"width\":30},\"lon\":[10,27],\"mode\":\"lines\",\"showlegend\":false,\"text\":\"30 passes from SH to FS\",\"type\":\"scattergeo\"},{\"hoverinfo\":\"text\",\"lat\":[56,53],\"legendgroup\":\"SH\",\"line\":{\"color\":\"rgba(245.07692307692300, 142.9230769230760, 68.576923076923080,0.4)\",\"width\":26},\"lon\":[10,58],\"mode\":\"lines\",\"showlegend\":false,\"text\":\"26 passes from SH to GA\",\"type\":\"scattergeo\"},{\"hoverinfo\":\"text\",\"lat\":[56,3],\"legendgroup\":\"SH\",\"line\":{\"color\":\"rgba(245.07692307692300, 142.9230769230760, 68.576923076923080,0.4)\",\"width\":7},\"lon\":[10,72],\"mode\":\"lines\",\"showlegend\":false,\"text\":\"7 passes from SH to JS\",\"type\":\"scattergeo\"},{\"hoverinfo\":\"text\",\"lat\":[56,64],\"legendgroup\":\"SH\",\"line\":{\"color\":\"rgba(245.07692307692300, 142.9230769230760, 68.576923076923080,0.4)\",\"width\":2},\"lon\":[10,76],\"mode\":\"lines\",\"showlegend\":false,\"text\":\"2 passes from SH to SG\",\"type\":\"scattergeo\"},{\"hoverinfo\":\"text\",\"lat\":[56,17],\"legendgroup\":\"SH\",\"line\":{\"color\":\"rgba(245.07692307692300, 142.9230769230760, 68.576923076923080,0.4)\",\"width\":5},\"lon\":[10,-33],\"mode\":\"lines\",\"showlegend\":false,\"text\":\"5 passes from SH to CS\",\"type\":\"scattergeo\"},{\"hoverinfo\":\"text\",\"lat\":[56,-13],\"legendgroup\":\"SH\",\"line\":{\"color\":\"rgba(245.07692307692300, 142.9230769230760, 68.576923076923080,0.4)\",\"width\":1},\"lon\":[10,-21],\"mode\":\"lines\",\"showlegend\":false,\"text\":\"1 passes from SH to MR\",\"type\":\"scattergeo\"},{\"hoverinfo\":\"text\",\"lat\":[56,1],\"legendgroup\":\"SH\",\"line\":{\"color\":\"rgba(245.07692307692300, 142.9230769230760, 68.576923076923080,0.4)\",\"width\":8},\"lon\":[10,15],\"mode\":\"lines\",\"showlegend\":false,\"text\":\"8 passes from SH to EL\",\"type\":\"scattergeo\"},{\"hoverinfo\":\"text\",\"lat\":[56,10],\"legendgroup\":\"SH\",\"line\":{\"color\":\"rgba(245.07692307692300, 142.9230769230760, 68.576923076923080,0.4)\",\"width\":10},\"lon\":[10,43],\"mode\":\"lines\",\"showlegend\":false,\"text\":\"10 passes from SH to SB\",\"type\":\"scattergeo\"},{\"hoverinfo\":\"text\",\"lat\":[56,11],\"legendgroup\":\"SH\",\"line\":{\"color\":\"rgba(245.07692307692300, 142.9230769230760, 68.576923076923080,0.4)\",\"width\":12},\"lon\":[10,2],\"mode\":\"lines\",\"showlegend\":false,\"text\":\"12 passes from SH to MV\",\"type\":\"scattergeo\"},{\"hoverinfo\":\"text\",\"lat\":[56,29],\"legendgroup\":\"SH\",\"line\":{\"color\":\"rgba(245.07692307692300, 142.9230769230760, 68.576923076923080,0.4)\",\"width\":32},\"lon\":[10,80],\"mode\":\"lines\",\"showlegend\":false,\"text\":\"32 passes from SH to AY\",\"type\":\"scattergeo\"},{\"hoverinfo\":\"text\",\"lat\":[56,10],\"legendgroup\":\"SH\",\"line\":{\"color\":\"rgba(245.07692307692300, 142.9230769230760, 68.576923076923080,0.4)\",\"width\":5},\"lon\":[10,89],\"mode\":\"lines\",\"showlegend\":false,\"text\":\"5 passes from SH to JL\",\"type\":\"scattergeo\"},{\"hoverinfo\":\"text\",\"lat\":[56,7],\"legendgroup\":\"SH\",\"line\":{\"color\":\"rgba(245.07692307692300, 142.9230769230760, 68.576923076923080,0.4)\",\"width\":2},\"lon\":[10,26],\"mode\":\"lines\",\"showlegend\":false,\"text\":\"2 passes from SH to LB\",\"type\":\"scattergeo\"},{\"hoverinfo\":\"text\",\"lat\":[56,49],\"legendgroup\":\"SH\",\"line\":{\"color\":\"rgba(245.07692307692300, 142.9230769230760, 68.576923076923080,0.4)\",\"width\":2},\"lon\":[10,78],\"mode\":\"lines\",\"showlegend\":false,\"text\":\"2 passes from SH to CC\",\"type\":\"scattergeo\"},{\"hoverinfo\":\"text\",\"lat\":[56,-16],\"legendgroup\":\"SH\",\"line\":{\"color\":\"rgba(245.07692307692300, 142.9230769230760, 68.576923076923080,0.4)\",\"width\":4},\"lon\":[10,42],\"mode\":\"lines\",\"showlegend\":false,\"text\":\"4 passes from SH to AL\",\"type\":\"scattergeo\"},{\"hoverinfo\":\"text\",\"lat\":[3,33],\"legendgroup\":\"JS\",\"line\":{\"color\":\"rgba(171.23076923076920, 37.76923076923070, 146.92307692307690,0.4)\",\"width\":3},\"lon\":[72,27],\"mode\":\"lines\",\"showlegend\":false,\"text\":\"3 passes from JS to FS\",\"type\":\"scattergeo\"},{\"hoverinfo\":\"text\",\"lat\":[3,53],\"legendgroup\":\"JS\",\"line\":{\"color\":\"rgba(171.23076923076920, 37.76923076923070, 146.92307692307690,0.4)\",\"width\":4},\"lon\":[72,58],\"mode\":\"lines\",\"showlegend\":false,\"text\":\"4 passes from JS to GA\",\"type\":\"scattergeo\"},{\"hoverinfo\":\"text\",\"lat\":[3,56],\"legendgroup\":\"JS\",\"line\":{\"color\":\"rgba(171.23076923076920, 37.76923076923070, 146.92307692307690,0.4)\",\"width\":6},\"lon\":[72,10],\"mode\":\"lines\",\"showlegend\":false,\"text\":\"6 passes from JS to SH\",\"type\":\"scattergeo\"},{\"hoverinfo\":\"text\",\"lat\":[3,64],\"legendgroup\":\"JS\",\"line\":{\"color\":\"rgba(171.23076923076920, 37.76923076923070, 146.92307692307690,0.4)\",\"width\":1},\"lon\":[72,76],\"mode\":\"lines\",\"showlegend\":false,\"text\":\"1 passes from JS to SG\",\"type\":\"scattergeo\"},{\"hoverinfo\":\"text\",\"lat\":[3,17],\"legendgroup\":\"JS\",\"line\":{\"color\":\"rgba(171.23076923076920, 37.76923076923070, 146.92307692307690,0.4)\",\"width\":2},\"lon\":[72,-33],\"mode\":\"lines\",\"showlegend\":false,\"text\":\"2 passes from JS to CS\",\"type\":\"scattergeo\"},{\"hoverinfo\":\"text\",\"lat\":[3,10],\"legendgroup\":\"JS\",\"line\":{\"color\":\"rgba(171.23076923076920, 37.76923076923070, 146.92307692307690,0.4)\",\"width\":1},\"lon\":[72,-13],\"mode\":\"lines\",\"showlegend\":false,\"text\":\"1 passes from JS to JV\",\"type\":\"scattergeo\"},{\"hoverinfo\":\"text\",\"lat\":[3,11],\"legendgroup\":\"JS\",\"line\":{\"color\":\"rgba(171.23076923076920, 37.76923076923070, 146.92307692307690,0.4)\",\"width\":1},\"lon\":[72,2],\"mode\":\"lines\",\"showlegend\":false,\"text\":\"1 passes from JS to MV\",\"type\":\"scattergeo\"},{\"hoverinfo\":\"text\",\"lat\":[3,29],\"legendgroup\":\"JS\",\"line\":{\"color\":\"rgba(171.23076923076920, 37.76923076923070, 146.92307692307690,0.4)\",\"width\":5},\"lon\":[72,80],\"mode\":\"lines\",\"showlegend\":false,\"text\":\"5 passes from JS to AY\",\"type\":\"scattergeo\"},{\"hoverinfo\":\"text\",\"lat\":[3,-18],\"legendgroup\":\"JS\",\"line\":{\"color\":\"rgba(171.23076923076920, 37.76923076923070, 146.92307692307690,0.4)\",\"width\":1},\"lon\":[72,19],\"mode\":\"lines\",\"showlegend\":false,\"text\":\"1 passes from JS to JG\",\"type\":\"scattergeo\"},{\"hoverinfo\":\"text\",\"lat\":[64,3],\"legendgroup\":\"SG\",\"line\":{\"color\":\"rgba(102.15384615384610, 1.538461538461530, 165.576923076923070,0.4)\",\"width\":6},\"lon\":[76,72],\"mode\":\"lines\",\"showlegend\":false,\"text\":\"6 passes from SG to JS\",\"type\":\"scattergeo\"},{\"hoverinfo\":\"text\",\"lat\":[64,17],\"legendgroup\":\"SG\",\"line\":{\"color\":\"rgba(102.15384615384610, 1.538461538461530, 165.576923076923070,0.4)\",\"width\":2},\"lon\":[76,-33],\"mode\":\"lines\",\"showlegend\":false,\"text\":\"2 passes from SG to CS\",\"type\":\"scattergeo\"},{\"hoverinfo\":\"text\",\"lat\":[64,10],\"legendgroup\":\"SG\",\"line\":{\"color\":\"rgba(102.15384615384610, 1.538461538461530, 165.576923076923070,0.4)\",\"width\":10},\"lon\":[76,-13],\"mode\":\"lines\",\"showlegend\":false,\"text\":\"10 passes from SG to JV\",\"type\":\"scattergeo\"},{\"hoverinfo\":\"text\",\"lat\":[64,-13],\"legendgroup\":\"SG\",\"line\":{\"color\":\"rgba(102.15384615384610, 1.538461538461530, 165.576923076923070,0.4)\",\"width\":4},\"lon\":[76,-21],\"mode\":\"lines\",\"showlegend\":false,\"text\":\"4 passes from SG to MR\",\"type\":\"scattergeo\"},{\"hoverinfo\":\"text\",\"lat\":[64,1],\"legendgroup\":\"SG\",\"line\":{\"color\":\"rgba(102.15384615384610, 1.538461538461530, 165.576923076923070,0.4)\",\"width\":7},\"lon\":[76,15],\"mode\":\"lines\",\"showlegend\":false,\"text\":\"7 passes from SG to EL\",\"type\":\"scattergeo\"},{\"hoverinfo\":\"text\",\"lat\":[64,10],\"legendgroup\":\"SG\",\"line\":{\"color\":\"rgba(102.15384615384610, 1.538461538461530, 165.576923076923070,0.4)\",\"width\":1},\"lon\":[76,43],\"mode\":\"lines\",\"showlegend\":false,\"text\":\"1 passes from SG to SB\",\"type\":\"scattergeo\"},{\"hoverinfo\":\"text\",\"lat\":[64,11],\"legendgroup\":\"SG\",\"line\":{\"color\":\"rgba(102.15384615384610, 1.538461538461530, 165.576923076923070,0.4)\",\"width\":6},\"lon\":[76,2],\"mode\":\"lines\",\"showlegend\":false,\"text\":\"6 passes from SG to MV\",\"type\":\"scattergeo\"},{\"hoverinfo\":\"text\",\"lat\":[64,29],\"legendgroup\":\"SG\",\"line\":{\"color\":\"rgba(102.15384615384610, 1.538461538461530, 165.576923076923070,0.4)\",\"width\":2},\"lon\":[76,80],\"mode\":\"lines\",\"showlegend\":false,\"text\":\"2 passes from SG to AY\",\"type\":\"scattergeo\"},{\"hoverinfo\":\"text\",\"lat\":[64,10],\"legendgroup\":\"SG\",\"line\":{\"color\":\"rgba(102.15384615384610, 1.538461538461530, 165.576923076923070,0.4)\",\"width\":4},\"lon\":[76,89],\"mode\":\"lines\",\"showlegend\":false,\"text\":\"4 passes from SG to JL\",\"type\":\"scattergeo\"},{\"hoverinfo\":\"text\",\"lat\":[64,49],\"legendgroup\":\"SG\",\"line\":{\"color\":\"rgba(102.15384615384610, 1.538461538461530, 165.576923076923070,0.4)\",\"width\":4},\"lon\":[76,78],\"mode\":\"lines\",\"showlegend\":false,\"text\":\"4 passes from SG to CC\",\"type\":\"scattergeo\"},{\"hoverinfo\":\"text\",\"lat\":[64,-16],\"legendgroup\":\"SG\",\"line\":{\"color\":\"rgba(102.15384615384610, 1.538461538461530, 165.576923076923070,0.4)\",\"width\":5},\"lon\":[76,42],\"mode\":\"lines\",\"showlegend\":false,\"text\":\"5 passes from SG to AL\",\"type\":\"scattergeo\"},{\"hoverinfo\":\"text\",\"lat\":[64,-11],\"legendgroup\":\"SG\",\"line\":{\"color\":\"rgba(102.15384615384610, 1.538461538461530, 165.576923076923070,0.4)\",\"width\":4},\"lon\":[76,8],\"mode\":\"lines\",\"showlegend\":false,\"text\":\"4 passes from SG to NK\",\"type\":\"scattergeo\"},{\"hoverinfo\":\"text\",\"lat\":[64,-18],\"legendgroup\":\"SG\",\"line\":{\"color\":\"rgba(102.15384615384610, 1.538461538461530, 165.576923076923070,0.4)\",\"width\":5},\"lon\":[76,19],\"mode\":\"lines\",\"showlegend\":false,\"text\":\"5 passes from SG to JG\",\"type\":\"scattergeo\"},{\"hoverinfo\":\"text\",\"lat\":[17,33],\"legendgroup\":\"CS\",\"line\":{\"color\":\"rgba(102.15384615384610, 1.538461538461530, 165.576923076923070,0.4)\",\"width\":3},\"lon\":[-33,27],\"mode\":\"lines\",\"showlegend\":false,\"text\":\"3 passes from CS to FS\",\"type\":\"scattergeo\"},{\"hoverinfo\":\"text\",\"lat\":[17,53],\"legendgroup\":\"CS\",\"line\":{\"color\":\"rgba(102.15384615384610, 1.538461538461530, 165.576923076923070,0.4)\",\"width\":1},\"lon\":[-33,58],\"mode\":\"lines\",\"showlegend\":false,\"text\":\"1 passes from CS to GA\",\"type\":\"scattergeo\"},{\"hoverinfo\":\"text\",\"lat\":[17,56],\"legendgroup\":\"CS\",\"line\":{\"color\":\"rgba(102.15384615384610, 1.538461538461530, 165.576923076923070,0.4)\",\"width\":10},\"lon\":[-33,10],\"mode\":\"lines\",\"showlegend\":false,\"text\":\"10 passes from CS to SH\",\"type\":\"scattergeo\"},{\"hoverinfo\":\"text\",\"lat\":[17,3],\"legendgroup\":\"CS\",\"line\":{\"color\":\"rgba(102.15384615384610, 1.538461538461530, 165.576923076923070,0.4)\",\"width\":2},\"lon\":[-33,72],\"mode\":\"lines\",\"showlegend\":false,\"text\":\"2 passes from CS to JS\",\"type\":\"scattergeo\"},{\"hoverinfo\":\"text\",\"lat\":[17,64],\"legendgroup\":\"CS\",\"line\":{\"color\":\"rgba(102.15384615384610, 1.538461538461530, 165.576923076923070,0.4)\",\"width\":4},\"lon\":[-33,76],\"mode\":\"lines\",\"showlegend\":false,\"text\":\"4 passes from CS to SG\",\"type\":\"scattergeo\"},{\"hoverinfo\":\"text\",\"lat\":[17,10],\"legendgroup\":\"CS\",\"line\":{\"color\":\"rgba(102.15384615384610, 1.538461538461530, 165.576923076923070,0.4)\",\"width\":1},\"lon\":[-33,-13],\"mode\":\"lines\",\"showlegend\":false,\"text\":\"1 passes from CS to JV\",\"type\":\"scattergeo\"},{\"hoverinfo\":\"text\",\"lat\":[17,1],\"legendgroup\":\"CS\",\"line\":{\"color\":\"rgba(102.15384615384610, 1.538461538461530, 165.576923076923070,0.4)\",\"width\":1},\"lon\":[-33,15],\"mode\":\"lines\",\"showlegend\":false,\"text\":\"1 passes from CS to EL\",\"type\":\"scattergeo\"},{\"hoverinfo\":\"text\",\"lat\":[17,11],\"legendgroup\":\"CS\",\"line\":{\"color\":\"rgba(102.15384615384610, 1.538461538461530, 165.576923076923070,0.4)\",\"width\":4},\"lon\":[-33,2],\"mode\":\"lines\",\"showlegend\":false,\"text\":\"4 passes from CS to MV\",\"type\":\"scattergeo\"},{\"hoverinfo\":\"text\",\"lat\":[17,29],\"legendgroup\":\"CS\",\"line\":{\"color\":\"rgba(102.15384615384610, 1.538461538461530, 165.576923076923070,0.4)\",\"width\":6},\"lon\":[-33,80],\"mode\":\"lines\",\"showlegend\":false,\"text\":\"6 passes from CS to AY\",\"type\":\"scattergeo\"},{\"hoverinfo\":\"text\",\"lat\":[17,7],\"legendgroup\":\"CS\",\"line\":{\"color\":\"rgba(102.15384615384610, 1.538461538461530, 165.576923076923070,0.4)\",\"width\":2},\"lon\":[-33,26],\"mode\":\"lines\",\"showlegend\":false,\"text\":\"2 passes from CS to LB\",\"type\":\"scattergeo\"},{\"hoverinfo\":\"text\",\"lat\":[17,49],\"legendgroup\":\"CS\",\"line\":{\"color\":\"rgba(102.15384615384610, 1.538461538461530, 165.576923076923070,0.4)\",\"width\":2},\"lon\":[-33,78],\"mode\":\"lines\",\"showlegend\":false,\"text\":\"2 passes from CS to CC\",\"type\":\"scattergeo\"},{\"hoverinfo\":\"text\",\"lat\":[17,-16],\"legendgroup\":\"CS\",\"line\":{\"color\":\"rgba(102.15384615384610, 1.538461538461530, 165.576923076923070,0.4)\",\"width\":2},\"lon\":[-33,42],\"mode\":\"lines\",\"showlegend\":false,\"text\":\"2 passes from CS to AL\",\"type\":\"scattergeo\"},{\"hoverinfo\":\"text\",\"lat\":[17,-11],\"legendgroup\":\"CS\",\"line\":{\"color\":\"rgba(102.15384615384610, 1.538461538461530, 165.576923076923070,0.4)\",\"width\":1},\"lon\":[-33,8],\"mode\":\"lines\",\"showlegend\":false,\"text\":\"1 passes from CS to NK\",\"type\":\"scattergeo\"},{\"hoverinfo\":\"text\",\"lat\":[17,-18],\"legendgroup\":\"CS\",\"line\":{\"color\":\"rgba(102.15384615384610, 1.538461538461530, 165.576923076923070,0.4)\",\"width\":2},\"lon\":[-33,19],\"mode\":\"lines\",\"showlegend\":false,\"text\":\"2 passes from CS to JG\",\"type\":\"scattergeo\"},{\"hoverinfo\":\"text\",\"lat\":[10,33],\"legendgroup\":\"JV\",\"line\":{\"color\":\"rgba(102.15384615384610, 1.538461538461530, 165.576923076923070,0.4)\",\"width\":1},\"lon\":[-13,27],\"mode\":\"lines\",\"showlegend\":false,\"text\":\"1 passes from JV to FS\",\"type\":\"scattergeo\"},{\"hoverinfo\":\"text\",\"lat\":[10,53],\"legendgroup\":\"JV\",\"line\":{\"color\":\"rgba(102.15384615384610, 1.538461538461530, 165.576923076923070,0.4)\",\"width\":1},\"lon\":[-13,58],\"mode\":\"lines\",\"showlegend\":false,\"text\":\"1 passes from JV to GA\",\"type\":\"scattergeo\"},{\"hoverinfo\":\"text\",\"lat\":[10,64],\"legendgroup\":\"JV\",\"line\":{\"color\":\"rgba(102.15384615384610, 1.538461538461530, 165.576923076923070,0.4)\",\"width\":3},\"lon\":[-13,76],\"mode\":\"lines\",\"showlegend\":false,\"text\":\"3 passes from JV to SG\",\"type\":\"scattergeo\"},{\"hoverinfo\":\"text\",\"lat\":[10,17],\"legendgroup\":\"JV\",\"line\":{\"color\":\"rgba(102.15384615384610, 1.538461538461530, 165.576923076923070,0.4)\",\"width\":1},\"lon\":[-13,-33],\"mode\":\"lines\",\"showlegend\":false,\"text\":\"1 passes from JV to CS\",\"type\":\"scattergeo\"},{\"hoverinfo\":\"text\",\"lat\":[10,1],\"legendgroup\":\"JV\",\"line\":{\"color\":\"rgba(102.15384615384610, 1.538461538461530, 165.576923076923070,0.4)\",\"width\":2},\"lon\":[-13,15],\"mode\":\"lines\",\"showlegend\":false,\"text\":\"2 passes from JV to EL\",\"type\":\"scattergeo\"},{\"hoverinfo\":\"text\",\"lat\":[10,10],\"legendgroup\":\"JV\",\"line\":{\"color\":\"rgba(102.15384615384610, 1.538461538461530, 165.576923076923070,0.4)\",\"width\":1},\"lon\":[-13,43],\"mode\":\"lines\",\"showlegend\":false,\"text\":\"1 passes from JV to SB\",\"type\":\"scattergeo\"},{\"hoverinfo\":\"text\",\"lat\":[10,10],\"legendgroup\":\"JV\",\"line\":{\"color\":\"rgba(102.15384615384610, 1.538461538461530, 165.576923076923070,0.4)\",\"width\":1},\"lon\":[-13,89],\"mode\":\"lines\",\"showlegend\":false,\"text\":\"1 passes from JV to JL\",\"type\":\"scattergeo\"},{\"hoverinfo\":\"text\",\"lat\":[10,7],\"legendgroup\":\"JV\",\"line\":{\"color\":\"rgba(102.15384615384610, 1.538461538461530, 165.576923076923070,0.4)\",\"width\":1},\"lon\":[-13,26],\"mode\":\"lines\",\"showlegend\":false,\"text\":\"1 passes from JV to LB\",\"type\":\"scattergeo\"},{\"hoverinfo\":\"text\",\"lat\":[10,-11],\"legendgroup\":\"JV\",\"line\":{\"color\":\"rgba(102.15384615384610, 1.538461538461530, 165.576923076923070,0.4)\",\"width\":2},\"lon\":[-13,8],\"mode\":\"lines\",\"showlegend\":false,\"text\":\"2 passes from JV to NK\",\"type\":\"scattergeo\"},{\"hoverinfo\":\"text\",\"lat\":[-13,33],\"legendgroup\":\"MR\",\"line\":{\"color\":\"rgba(102.15384615384610, 1.538461538461530, 165.576923076923070,0.4)\",\"width\":2},\"lon\":[-21,27],\"mode\":\"lines\",\"showlegend\":false,\"text\":\"2 passes from MR to FS\",\"type\":\"scattergeo\"},{\"hoverinfo\":\"text\",\"lat\":[-13,3],\"legendgroup\":\"MR\",\"line\":{\"color\":\"rgba(102.15384615384610, 1.538461538461530, 165.576923076923070,0.4)\",\"width\":1},\"lon\":[-21,72],\"mode\":\"lines\",\"showlegend\":false,\"text\":\"1 passes from MR to JS\",\"type\":\"scattergeo\"},{\"hoverinfo\":\"text\",\"lat\":[-13,64],\"legendgroup\":\"MR\",\"line\":{\"color\":\"rgba(102.15384615384610, 1.538461538461530, 165.576923076923070,0.4)\",\"width\":2},\"lon\":[-21,76],\"mode\":\"lines\",\"showlegend\":false,\"text\":\"2 passes from MR to SG\",\"type\":\"scattergeo\"},{\"hoverinfo\":\"text\",\"lat\":[-13,7],\"legendgroup\":\"MR\",\"line\":{\"color\":\"rgba(102.15384615384610, 1.538461538461530, 165.576923076923070,0.4)\",\"width\":2},\"lon\":[-21,26],\"mode\":\"lines\",\"showlegend\":false,\"text\":\"2 passes from MR to LB\",\"type\":\"scattergeo\"},{\"hoverinfo\":\"text\",\"lat\":[1,53],\"legendgroup\":\"EL\",\"line\":{\"color\":\"rgba(86.92307692307690, 2.2307692307692300, 162.461538461538450,0.4)\",\"width\":1},\"lon\":[15,58],\"mode\":\"lines\",\"showlegend\":false,\"text\":\"1 passes from EL to GA\",\"type\":\"scattergeo\"},{\"hoverinfo\":\"text\",\"lat\":[1,56],\"legendgroup\":\"EL\",\"line\":{\"color\":\"rgba(86.92307692307690, 2.2307692307692300, 162.461538461538450,0.4)\",\"width\":5},\"lon\":[15,10],\"mode\":\"lines\",\"showlegend\":false,\"text\":\"5 passes from EL to SH\",\"type\":\"scattergeo\"},{\"hoverinfo\":\"text\",\"lat\":[1,64],\"legendgroup\":\"EL\",\"line\":{\"color\":\"rgba(86.92307692307690, 2.2307692307692300, 162.461538461538450,0.4)\",\"width\":2},\"lon\":[15,76],\"mode\":\"lines\",\"showlegend\":false,\"text\":\"2 passes from EL to SG\",\"type\":\"scattergeo\"},{\"hoverinfo\":\"text\",\"lat\":[1,17],\"legendgroup\":\"EL\",\"line\":{\"color\":\"rgba(86.92307692307690, 2.2307692307692300, 162.461538461538450,0.4)\",\"width\":1},\"lon\":[15,-33],\"mode\":\"lines\",\"showlegend\":false,\"text\":\"1 passes from EL to CS\",\"type\":\"scattergeo\"},{\"hoverinfo\":\"text\",\"lat\":[1,11],\"legendgroup\":\"EL\",\"line\":{\"color\":\"rgba(86.92307692307690, 2.2307692307692300, 162.461538461538450,0.4)\",\"width\":1},\"lon\":[15,2],\"mode\":\"lines\",\"showlegend\":false,\"text\":\"1 passes from EL to MV\",\"type\":\"scattergeo\"},{\"hoverinfo\":\"text\",\"lat\":[1,29],\"legendgroup\":\"EL\",\"line\":{\"color\":\"rgba(86.92307692307690, 2.2307692307692300, 162.461538461538450,0.4)\",\"width\":1},\"lon\":[15,80],\"mode\":\"lines\",\"showlegend\":false,\"text\":\"1 passes from EL to AY\",\"type\":\"scattergeo\"},{\"hoverinfo\":\"text\",\"lat\":[1,10],\"legendgroup\":\"EL\",\"line\":{\"color\":\"rgba(86.92307692307690, 2.2307692307692300, 162.461538461538450,0.4)\",\"width\":1},\"lon\":[15,89],\"mode\":\"lines\",\"showlegend\":false,\"text\":\"1 passes from EL to JL\",\"type\":\"scattergeo\"},{\"hoverinfo\":\"text\",\"lat\":[1,-16],\"legendgroup\":\"EL\",\"line\":{\"color\":\"rgba(86.92307692307690, 2.2307692307692300, 162.461538461538450,0.4)\",\"width\":3},\"lon\":[15,42],\"mode\":\"lines\",\"showlegend\":false,\"text\":\"3 passes from EL to AL\",\"type\":\"scattergeo\"},{\"hoverinfo\":\"text\",\"lat\":[1,-11],\"legendgroup\":\"EL\",\"line\":{\"color\":\"rgba(86.92307692307690, 2.2307692307692300, 162.461538461538450,0.4)\",\"width\":1},\"lon\":[15,8],\"mode\":\"lines\",\"showlegend\":false,\"text\":\"1 passes from EL to NK\",\"type\":\"scattergeo\"},{\"hoverinfo\":\"text\",\"lat\":[10,33],\"legendgroup\":\"SB\",\"line\":{\"color\":\"rgba(86.92307692307690, 2.2307692307692300, 162.461538461538450,0.4)\",\"width\":4},\"lon\":[43,27],\"mode\":\"lines\",\"showlegend\":false,\"text\":\"4 passes from SB to FS\",\"type\":\"scattergeo\"},{\"hoverinfo\":\"text\",\"lat\":[10,53],\"legendgroup\":\"SB\",\"line\":{\"color\":\"rgba(86.92307692307690, 2.2307692307692300, 162.461538461538450,0.4)\",\"width\":5},\"lon\":[43,58],\"mode\":\"lines\",\"showlegend\":false,\"text\":\"5 passes from SB to GA\",\"type\":\"scattergeo\"},{\"hoverinfo\":\"text\",\"lat\":[10,56],\"legendgroup\":\"SB\",\"line\":{\"color\":\"rgba(86.92307692307690, 2.2307692307692300, 162.461538461538450,0.4)\",\"width\":7},\"lon\":[43,10],\"mode\":\"lines\",\"showlegend\":false,\"text\":\"7 passes from SB to SH\",\"type\":\"scattergeo\"},{\"hoverinfo\":\"text\",\"lat\":[10,64],\"legendgroup\":\"SB\",\"line\":{\"color\":\"rgba(86.92307692307690, 2.2307692307692300, 162.461538461538450,0.4)\",\"width\":1},\"lon\":[43,76],\"mode\":\"lines\",\"showlegend\":false,\"text\":\"1 passes from SB to SG\",\"type\":\"scattergeo\"},{\"hoverinfo\":\"text\",\"lat\":[10,17],\"legendgroup\":\"SB\",\"line\":{\"color\":\"rgba(86.92307692307690, 2.2307692307692300, 162.461538461538450,0.4)\",\"width\":1},\"lon\":[43,-33],\"mode\":\"lines\",\"showlegend\":false,\"text\":\"1 passes from SB to CS\",\"type\":\"scattergeo\"},{\"hoverinfo\":\"text\",\"lat\":[10,11],\"legendgroup\":\"SB\",\"line\":{\"color\":\"rgba(86.92307692307690, 2.2307692307692300, 162.461538461538450,0.4)\",\"width\":1},\"lon\":[43,2],\"mode\":\"lines\",\"showlegend\":false,\"text\":\"1 passes from SB to MV\",\"type\":\"scattergeo\"},{\"hoverinfo\":\"text\",\"lat\":[10,29],\"legendgroup\":\"SB\",\"line\":{\"color\":\"rgba(86.92307692307690, 2.2307692307692300, 162.461538461538450,0.4)\",\"width\":5},\"lon\":[43,80],\"mode\":\"lines\",\"showlegend\":false,\"text\":\"5 passes from SB to AY\",\"type\":\"scattergeo\"},{\"hoverinfo\":\"text\",\"lat\":[10,10],\"legendgroup\":\"SB\",\"line\":{\"color\":\"rgba(86.92307692307690, 2.2307692307692300, 162.461538461538450,0.4)\",\"width\":1},\"lon\":[43,89],\"mode\":\"lines\",\"showlegend\":false,\"text\":\"1 passes from SB to JL\",\"type\":\"scattergeo\"},{\"hoverinfo\":\"text\",\"lat\":[10,7],\"legendgroup\":\"SB\",\"line\":{\"color\":\"rgba(86.92307692307690, 2.2307692307692300, 162.461538461538450,0.4)\",\"width\":1},\"lon\":[43,26],\"mode\":\"lines\",\"showlegend\":false,\"text\":\"1 passes from SB to LB\",\"type\":\"scattergeo\"},{\"hoverinfo\":\"text\",\"lat\":[10,49],\"legendgroup\":\"SB\",\"line\":{\"color\":\"rgba(86.92307692307690, 2.2307692307692300, 162.461538461538450,0.4)\",\"width\":1},\"lon\":[43,78],\"mode\":\"lines\",\"showlegend\":false,\"text\":\"1 passes from SB to CC\",\"type\":\"scattergeo\"},{\"hoverinfo\":\"text\",\"lat\":[10,-16],\"legendgroup\":\"SB\",\"line\":{\"color\":\"rgba(86.92307692307690, 2.2307692307692300, 162.461538461538450,0.4)\",\"width\":4},\"lon\":[43,42],\"mode\":\"lines\",\"showlegend\":false,\"text\":\"4 passes from SB to AL\",\"type\":\"scattergeo\"},{\"hoverinfo\":\"text\",\"lat\":[11,33],\"legendgroup\":\"MV\",\"line\":{\"color\":\"rgba(86.92307692307690, 2.2307692307692300, 162.461538461538450,0.4)\",\"width\":5},\"lon\":[2,27],\"mode\":\"lines\",\"showlegend\":false,\"text\":\"5 passes from MV to FS\",\"type\":\"scattergeo\"},{\"hoverinfo\":\"text\",\"lat\":[11,53],\"legendgroup\":\"MV\",\"line\":{\"color\":\"rgba(86.92307692307690, 2.2307692307692300, 162.461538461538450,0.4)\",\"width\":2},\"lon\":[2,58],\"mode\":\"lines\",\"showlegend\":false,\"text\":\"2 passes from MV to GA\",\"type\":\"scattergeo\"},{\"hoverinfo\":\"text\",\"lat\":[11,56],\"legendgroup\":\"MV\",\"line\":{\"color\":\"rgba(86.92307692307690, 2.2307692307692300, 162.461538461538450,0.4)\",\"width\":3},\"lon\":[2,10],\"mode\":\"lines\",\"showlegend\":false,\"text\":\"3 passes from MV to SH\",\"type\":\"scattergeo\"},{\"hoverinfo\":\"text\",\"lat\":[11,3],\"legendgroup\":\"MV\",\"line\":{\"color\":\"rgba(86.92307692307690, 2.2307692307692300, 162.461538461538450,0.4)\",\"width\":2},\"lon\":[2,72],\"mode\":\"lines\",\"showlegend\":false,\"text\":\"2 passes from MV to JS\",\"type\":\"scattergeo\"},{\"hoverinfo\":\"text\",\"lat\":[11,64],\"legendgroup\":\"MV\",\"line\":{\"color\":\"rgba(86.92307692307690, 2.2307692307692300, 162.461538461538450,0.4)\",\"width\":10},\"lon\":[2,76],\"mode\":\"lines\",\"showlegend\":false,\"text\":\"10 passes from MV to SG\",\"type\":\"scattergeo\"},{\"hoverinfo\":\"text\",\"lat\":[11,17],\"legendgroup\":\"MV\",\"line\":{\"color\":\"rgba(86.92307692307690, 2.2307692307692300, 162.461538461538450,0.4)\",\"width\":2},\"lon\":[2,-33],\"mode\":\"lines\",\"showlegend\":false,\"text\":\"2 passes from MV to CS\",\"type\":\"scattergeo\"},{\"hoverinfo\":\"text\",\"lat\":[11,10],\"legendgroup\":\"MV\",\"line\":{\"color\":\"rgba(86.92307692307690, 2.2307692307692300, 162.461538461538450,0.4)\",\"width\":3},\"lon\":[2,-13],\"mode\":\"lines\",\"showlegend\":false,\"text\":\"3 passes from MV to JV\",\"type\":\"scattergeo\"},{\"hoverinfo\":\"text\",\"lat\":[11,-13],\"legendgroup\":\"MV\",\"line\":{\"color\":\"rgba(86.92307692307690, 2.2307692307692300, 162.461538461538450,0.4)\",\"width\":2},\"lon\":[2,-21],\"mode\":\"lines\",\"showlegend\":false,\"text\":\"2 passes from MV to MR\",\"type\":\"scattergeo\"},{\"hoverinfo\":\"text\",\"lat\":[11,1],\"legendgroup\":\"MV\",\"line\":{\"color\":\"rgba(86.92307692307690, 2.2307692307692300, 162.461538461538450,0.4)\",\"width\":1},\"lon\":[2,15],\"mode\":\"lines\",\"showlegend\":false,\"text\":\"1 passes from MV to EL\",\"type\":\"scattergeo\"},{\"hoverinfo\":\"text\",\"lat\":[11,10],\"legendgroup\":\"MV\",\"line\":{\"color\":\"rgba(86.92307692307690, 2.2307692307692300, 162.461538461538450,0.4)\",\"width\":2},\"lon\":[2,43],\"mode\":\"lines\",\"showlegend\":false,\"text\":\"2 passes from MV to SB\",\"type\":\"scattergeo\"},{\"hoverinfo\":\"text\",\"lat\":[11,29],\"legendgroup\":\"MV\",\"line\":{\"color\":\"rgba(86.92307692307690, 2.2307692307692300, 162.461538461538450,0.4)\",\"width\":2},\"lon\":[2,80],\"mode\":\"lines\",\"showlegend\":false,\"text\":\"2 passes from MV to AY\",\"type\":\"scattergeo\"},{\"hoverinfo\":\"text\",\"lat\":[11,-16],\"legendgroup\":\"MV\",\"line\":{\"color\":\"rgba(86.92307692307690, 2.2307692307692300, 162.461538461538450,0.4)\",\"width\":1},\"lon\":[2,42],\"mode\":\"lines\",\"showlegend\":false,\"text\":\"1 passes from MV to AL\",\"type\":\"scattergeo\"},{\"hoverinfo\":\"text\",\"lat\":[29,33],\"legendgroup\":\"AY\",\"line\":{\"color\":\"rgba(86.92307692307690, 2.2307692307692300, 162.461538461538450,0.4)\",\"width\":11},\"lon\":[80,27],\"mode\":\"lines\",\"showlegend\":false,\"text\":\"11 passes from AY to FS\",\"type\":\"scattergeo\"},{\"hoverinfo\":\"text\",\"lat\":[29,53],\"legendgroup\":\"AY\",\"line\":{\"color\":\"rgba(86.92307692307690, 2.2307692307692300, 162.461538461538450,0.4)\",\"width\":19},\"lon\":[80,58],\"mode\":\"lines\",\"showlegend\":false,\"text\":\"19 passes from AY to GA\",\"type\":\"scattergeo\"},{\"hoverinfo\":\"text\",\"lat\":[29,56],\"legendgroup\":\"AY\",\"line\":{\"color\":\"rgba(86.92307692307690, 2.2307692307692300, 162.461538461538450,0.4)\",\"width\":38},\"lon\":[80,10],\"mode\":\"lines\",\"showlegend\":false,\"text\":\"38 passes from AY to SH\",\"type\":\"scattergeo\"},{\"hoverinfo\":\"text\",\"lat\":[29,3],\"legendgroup\":\"AY\",\"line\":{\"color\":\"rgba(86.92307692307690, 2.2307692307692300, 162.461538461538450,0.4)\",\"width\":1},\"lon\":[80,72],\"mode\":\"lines\",\"showlegend\":false,\"text\":\"1 passes from AY to JS\",\"type\":\"scattergeo\"},{\"hoverinfo\":\"text\",\"lat\":[29,64],\"legendgroup\":\"AY\",\"line\":{\"color\":\"rgba(86.92307692307690, 2.2307692307692300, 162.461538461538450,0.4)\",\"width\":3},\"lon\":[80,76],\"mode\":\"lines\",\"showlegend\":false,\"text\":\"3 passes from AY to SG\",\"type\":\"scattergeo\"},{\"hoverinfo\":\"text\",\"lat\":[29,17],\"legendgroup\":\"AY\",\"line\":{\"color\":\"rgba(86.92307692307690, 2.2307692307692300, 162.461538461538450,0.4)\",\"width\":10},\"lon\":[80,-33],\"mode\":\"lines\",\"showlegend\":false,\"text\":\"10 passes from AY to CS\",\"type\":\"scattergeo\"},{\"hoverinfo\":\"text\",\"lat\":[29,10],\"legendgroup\":\"AY\",\"line\":{\"color\":\"rgba(86.92307692307690, 2.2307692307692300, 162.461538461538450,0.4)\",\"width\":2},\"lon\":[80,-13],\"mode\":\"lines\",\"showlegend\":false,\"text\":\"2 passes from AY to JV\",\"type\":\"scattergeo\"},{\"hoverinfo\":\"text\",\"lat\":[29,10],\"legendgroup\":\"AY\",\"line\":{\"color\":\"rgba(86.92307692307690, 2.2307692307692300, 162.461538461538450,0.4)\",\"width\":3},\"lon\":[80,43],\"mode\":\"lines\",\"showlegend\":false,\"text\":\"3 passes from AY to SB\",\"type\":\"scattergeo\"},{\"hoverinfo\":\"text\",\"lat\":[29,11],\"legendgroup\":\"AY\",\"line\":{\"color\":\"rgba(86.92307692307690, 2.2307692307692300, 162.461538461538450,0.4)\",\"width\":3},\"lon\":[80,2],\"mode\":\"lines\",\"showlegend\":false,\"text\":\"3 passes from AY to MV\",\"type\":\"scattergeo\"},{\"hoverinfo\":\"text\",\"lat\":[29,10],\"legendgroup\":\"AY\",\"line\":{\"color\":\"rgba(86.92307692307690, 2.2307692307692300, 162.461538461538450,0.4)\",\"width\":1},\"lon\":[80,89],\"mode\":\"lines\",\"showlegend\":false,\"text\":\"1 passes from AY to JL\",\"type\":\"scattergeo\"},{\"hoverinfo\":\"text\",\"lat\":[29,49],\"legendgroup\":\"AY\",\"line\":{\"color\":\"rgba(86.92307692307690, 2.2307692307692300, 162.461538461538450,0.4)\",\"width\":2},\"lon\":[80,78],\"mode\":\"lines\",\"showlegend\":false,\"text\":\"2 passes from AY to CC\",\"type\":\"scattergeo\"},{\"hoverinfo\":\"text\",\"lat\":[29,-16],\"legendgroup\":\"AY\",\"line\":{\"color\":\"rgba(86.92307692307690, 2.2307692307692300, 162.461538461538450,0.4)\",\"width\":2},\"lon\":[80,42],\"mode\":\"lines\",\"showlegend\":false,\"text\":\"2 passes from AY to AL\",\"type\":\"scattergeo\"},{\"hoverinfo\":\"text\",\"lat\":[29,-11],\"legendgroup\":\"AY\",\"line\":{\"color\":\"rgba(86.92307692307690, 2.2307692307692300, 162.461538461538450,0.4)\",\"width\":1},\"lon\":[80,8],\"mode\":\"lines\",\"showlegend\":false,\"text\":\"1 passes from AY to NK\",\"type\":\"scattergeo\"},{\"hoverinfo\":\"text\",\"lat\":[10,33],\"legendgroup\":\"JL\",\"line\":{\"color\":\"rgba(71.6923076923070, 2.923076923076920, 159.346153846153840,0.4)\",\"width\":1},\"lon\":[89,27],\"mode\":\"lines\",\"showlegend\":false,\"text\":\"1 passes from JL to FS\",\"type\":\"scattergeo\"},{\"hoverinfo\":\"text\",\"lat\":[10,53],\"legendgroup\":\"JL\",\"line\":{\"color\":\"rgba(71.6923076923070, 2.923076923076920, 159.346153846153840,0.4)\",\"width\":3},\"lon\":[89,58],\"mode\":\"lines\",\"showlegend\":false,\"text\":\"3 passes from JL to GA\",\"type\":\"scattergeo\"},{\"hoverinfo\":\"text\",\"lat\":[10,56],\"legendgroup\":\"JL\",\"line\":{\"color\":\"rgba(71.6923076923070, 2.923076923076920, 159.346153846153840,0.4)\",\"width\":2},\"lon\":[89,10],\"mode\":\"lines\",\"showlegend\":false,\"text\":\"2 passes from JL to SH\",\"type\":\"scattergeo\"},{\"hoverinfo\":\"text\",\"lat\":[10,3],\"legendgroup\":\"JL\",\"line\":{\"color\":\"rgba(71.6923076923070, 2.923076923076920, 159.346153846153840,0.4)\",\"width\":2},\"lon\":[89,72],\"mode\":\"lines\",\"showlegend\":false,\"text\":\"2 passes from JL to JS\",\"type\":\"scattergeo\"},{\"hoverinfo\":\"text\",\"lat\":[10,64],\"legendgroup\":\"JL\",\"line\":{\"color\":\"rgba(71.6923076923070, 2.923076923076920, 159.346153846153840,0.4)\",\"width\":1},\"lon\":[89,76],\"mode\":\"lines\",\"showlegend\":false,\"text\":\"1 passes from JL to SG\",\"type\":\"scattergeo\"},{\"hoverinfo\":\"text\",\"lat\":[10,29],\"legendgroup\":\"JL\",\"line\":{\"color\":\"rgba(71.6923076923070, 2.923076923076920, 159.346153846153840,0.4)\",\"width\":2},\"lon\":[89,80],\"mode\":\"lines\",\"showlegend\":false,\"text\":\"2 passes from JL to AY\",\"type\":\"scattergeo\"},{\"hoverinfo\":\"text\",\"lat\":[10,-16],\"legendgroup\":\"JL\",\"line\":{\"color\":\"rgba(71.6923076923070, 2.923076923076920, 159.346153846153840,0.4)\",\"width\":1},\"lon\":[89,42],\"mode\":\"lines\",\"showlegend\":false,\"text\":\"1 passes from JL to AL\",\"type\":\"scattergeo\"},{\"hoverinfo\":\"text\",\"lat\":[10,-11],\"legendgroup\":\"JL\",\"line\":{\"color\":\"rgba(71.6923076923070, 2.923076923076920, 159.346153846153840,0.4)\",\"width\":1},\"lon\":[89,8],\"mode\":\"lines\",\"showlegend\":false,\"text\":\"1 passes from JL to NK\",\"type\":\"scattergeo\"},{\"hoverinfo\":\"text\",\"lat\":[7,33],\"legendgroup\":\"LB\",\"line\":{\"color\":\"rgba(71.6923076923070, 2.923076923076920, 159.346153846153840,0.4)\",\"width\":2},\"lon\":[26,27],\"mode\":\"lines\",\"showlegend\":false,\"text\":\"2 passes from LB to FS\",\"type\":\"scattergeo\"},{\"hoverinfo\":\"text\",\"lat\":[7,53],\"legendgroup\":\"LB\",\"line\":{\"color\":\"rgba(71.6923076923070, 2.923076923076920, 159.346153846153840,0.4)\",\"width\":1},\"lon\":[26,58],\"mode\":\"lines\",\"showlegend\":false,\"text\":\"1 passes from LB to GA\",\"type\":\"scattergeo\"},{\"hoverinfo\":\"text\",\"lat\":[7,56],\"legendgroup\":\"LB\",\"line\":{\"color\":\"rgba(71.6923076923070, 2.923076923076920, 159.346153846153840,0.4)\",\"width\":2},\"lon\":[26,10],\"mode\":\"lines\",\"showlegend\":false,\"text\":\"2 passes from LB to SH\",\"type\":\"scattergeo\"},{\"hoverinfo\":\"text\",\"lat\":[7,64],\"legendgroup\":\"LB\",\"line\":{\"color\":\"rgba(71.6923076923070, 2.923076923076920, 159.346153846153840,0.4)\",\"width\":1},\"lon\":[26,76],\"mode\":\"lines\",\"showlegend\":false,\"text\":\"1 passes from LB to SG\",\"type\":\"scattergeo\"},{\"hoverinfo\":\"text\",\"lat\":[7,17],\"legendgroup\":\"LB\",\"line\":{\"color\":\"rgba(71.6923076923070, 2.923076923076920, 159.346153846153840,0.4)\",\"width\":2},\"lon\":[26,-33],\"mode\":\"lines\",\"showlegend\":false,\"text\":\"2 passes from LB to CS\",\"type\":\"scattergeo\"},{\"hoverinfo\":\"text\",\"lat\":[7,-13],\"legendgroup\":\"LB\",\"line\":{\"color\":\"rgba(71.6923076923070, 2.923076923076920, 159.346153846153840,0.4)\",\"width\":2},\"lon\":[26,-21],\"mode\":\"lines\",\"showlegend\":false,\"text\":\"2 passes from LB to MR\",\"type\":\"scattergeo\"},{\"hoverinfo\":\"text\",\"lat\":[7,11],\"legendgroup\":\"LB\",\"line\":{\"color\":\"rgba(71.6923076923070, 2.923076923076920, 159.346153846153840,0.4)\",\"width\":2},\"lon\":[26,2],\"mode\":\"lines\",\"showlegend\":false,\"text\":\"2 passes from LB to MV\",\"type\":\"scattergeo\"},{\"hoverinfo\":\"text\",\"lat\":[7,29],\"legendgroup\":\"LB\",\"line\":{\"color\":\"rgba(71.6923076923070, 2.923076923076920, 159.346153846153840,0.4)\",\"width\":1},\"lon\":[26,80],\"mode\":\"lines\",\"showlegend\":false,\"text\":\"1 passes from LB to AY\",\"type\":\"scattergeo\"},{\"hoverinfo\":\"text\",\"lat\":[49,33],\"legendgroup\":\"CC\",\"line\":{\"color\":\"rgba(71.6923076923070, 2.923076923076920, 159.346153846153840,0.4)\",\"width\":4},\"lon\":[78,27],\"mode\":\"lines\",\"showlegend\":false,\"text\":\"4 passes from CC to FS\",\"type\":\"scattergeo\"},{\"hoverinfo\":\"text\",\"lat\":[49,56],\"legendgroup\":\"CC\",\"line\":{\"color\":\"rgba(71.6923076923070, 2.923076923076920, 159.346153846153840,0.4)\",\"width\":1},\"lon\":[78,10],\"mode\":\"lines\",\"showlegend\":false,\"text\":\"1 passes from CC to SH\",\"type\":\"scattergeo\"},{\"hoverinfo\":\"text\",\"lat\":[49,64],\"legendgroup\":\"CC\",\"line\":{\"color\":\"rgba(71.6923076923070, 2.923076923076920, 159.346153846153840,0.4)\",\"width\":1},\"lon\":[78,76],\"mode\":\"lines\",\"showlegend\":false,\"text\":\"1 passes from CC to SG\",\"type\":\"scattergeo\"},{\"hoverinfo\":\"text\",\"lat\":[49,17],\"legendgroup\":\"CC\",\"line\":{\"color\":\"rgba(71.6923076923070, 2.923076923076920, 159.346153846153840,0.4)\",\"width\":2},\"lon\":[78,-33],\"mode\":\"lines\",\"showlegend\":false,\"text\":\"2 passes from CC to CS\",\"type\":\"scattergeo\"},{\"hoverinfo\":\"text\",\"lat\":[49,10],\"legendgroup\":\"CC\",\"line\":{\"color\":\"rgba(71.6923076923070, 2.923076923076920, 159.346153846153840,0.4)\",\"width\":1},\"lon\":[78,-13],\"mode\":\"lines\",\"showlegend\":false,\"text\":\"1 passes from CC to JV\",\"type\":\"scattergeo\"},{\"hoverinfo\":\"text\",\"lat\":[49,11],\"legendgroup\":\"CC\",\"line\":{\"color\":\"rgba(71.6923076923070, 2.923076923076920, 159.346153846153840,0.4)\",\"width\":1},\"lon\":[78,2],\"mode\":\"lines\",\"showlegend\":false,\"text\":\"1 passes from CC to MV\",\"type\":\"scattergeo\"},{\"hoverinfo\":\"text\",\"lat\":[49,29],\"legendgroup\":\"CC\",\"line\":{\"color\":\"rgba(71.6923076923070, 2.923076923076920, 159.346153846153840,0.4)\",\"width\":4},\"lon\":[78,80],\"mode\":\"lines\",\"showlegend\":false,\"text\":\"4 passes from CC to AY\",\"type\":\"scattergeo\"},{\"hoverinfo\":\"text\",\"lat\":[-16,33],\"legendgroup\":\"AL\",\"line\":{\"color\":\"rgba(71.6923076923070, 2.923076923076920, 159.346153846153840,0.4)\",\"width\":4},\"lon\":[42,27],\"mode\":\"lines\",\"showlegend\":false,\"text\":\"4 passes from AL to FS\",\"type\":\"scattergeo\"},{\"hoverinfo\":\"text\",\"lat\":[-16,53],\"legendgroup\":\"AL\",\"line\":{\"color\":\"rgba(71.6923076923070, 2.923076923076920, 159.346153846153840,0.4)\",\"width\":2},\"lon\":[42,58],\"mode\":\"lines\",\"showlegend\":false,\"text\":\"2 passes from AL to GA\",\"type\":\"scattergeo\"},{\"hoverinfo\":\"text\",\"lat\":[-16,56],\"legendgroup\":\"AL\",\"line\":{\"color\":\"rgba(71.6923076923070, 2.923076923076920, 159.346153846153840,0.4)\",\"width\":4},\"lon\":[42,10],\"mode\":\"lines\",\"showlegend\":false,\"text\":\"4 passes from AL to SH\",\"type\":\"scattergeo\"},{\"hoverinfo\":\"text\",\"lat\":[-16,3],\"legendgroup\":\"AL\",\"line\":{\"color\":\"rgba(71.6923076923070, 2.923076923076920, 159.346153846153840,0.4)\",\"width\":2},\"lon\":[42,72],\"mode\":\"lines\",\"showlegend\":false,\"text\":\"2 passes from AL to JS\",\"type\":\"scattergeo\"},{\"hoverinfo\":\"text\",\"lat\":[-16,64],\"legendgroup\":\"AL\",\"line\":{\"color\":\"rgba(71.6923076923070, 2.923076923076920, 159.346153846153840,0.4)\",\"width\":5},\"lon\":[42,76],\"mode\":\"lines\",\"showlegend\":false,\"text\":\"5 passes from AL to SG\",\"type\":\"scattergeo\"},{\"hoverinfo\":\"text\",\"lat\":[-16,10],\"legendgroup\":\"AL\",\"line\":{\"color\":\"rgba(71.6923076923070, 2.923076923076920, 159.346153846153840,0.4)\",\"width\":2},\"lon\":[42,-13],\"mode\":\"lines\",\"showlegend\":false,\"text\":\"2 passes from AL to JV\",\"type\":\"scattergeo\"},{\"hoverinfo\":\"text\",\"lat\":[-16,1],\"legendgroup\":\"AL\",\"line\":{\"color\":\"rgba(71.6923076923070, 2.923076923076920, 159.346153846153840,0.4)\",\"width\":2},\"lon\":[42,15],\"mode\":\"lines\",\"showlegend\":false,\"text\":\"2 passes from AL to EL\",\"type\":\"scattergeo\"},{\"hoverinfo\":\"text\",\"lat\":[-16,10],\"legendgroup\":\"AL\",\"line\":{\"color\":\"rgba(71.6923076923070, 2.923076923076920, 159.346153846153840,0.4)\",\"width\":4},\"lon\":[42,43],\"mode\":\"lines\",\"showlegend\":false,\"text\":\"4 passes from AL to SB\",\"type\":\"scattergeo\"},{\"hoverinfo\":\"text\",\"lat\":[-16,29],\"legendgroup\":\"AL\",\"line\":{\"color\":\"rgba(71.6923076923070, 2.923076923076920, 159.346153846153840,0.4)\",\"width\":1},\"lon\":[42,80],\"mode\":\"lines\",\"showlegend\":false,\"text\":\"1 passes from AL to AY\",\"type\":\"scattergeo\"},{\"hoverinfo\":\"text\",\"lat\":[-16,-11],\"legendgroup\":\"AL\",\"line\":{\"color\":\"rgba(71.6923076923070, 2.923076923076920, 159.346153846153840,0.4)\",\"width\":3},\"lon\":[42,8],\"mode\":\"lines\",\"showlegend\":false,\"text\":\"3 passes from AL to NK\",\"type\":\"scattergeo\"},{\"hoverinfo\":\"text\",\"lat\":[-11,64],\"legendgroup\":\"NK\",\"line\":{\"color\":\"rgba(52.46153846153840, 4.538461538461530, 151.61538461538460,0.4)\",\"width\":5},\"lon\":[8,76],\"mode\":\"lines\",\"showlegend\":false,\"text\":\"5 passes from NK to SG\",\"type\":\"scattergeo\"},{\"hoverinfo\":\"text\",\"lat\":[-11,17],\"legendgroup\":\"NK\",\"line\":{\"color\":\"rgba(52.46153846153840, 4.538461538461530, 151.61538461538460,0.4)\",\"width\":1},\"lon\":[8,-33],\"mode\":\"lines\",\"showlegend\":false,\"text\":\"1 passes from NK to CS\",\"type\":\"scattergeo\"},{\"hoverinfo\":\"text\",\"lat\":[-11,10],\"legendgroup\":\"NK\",\"line\":{\"color\":\"rgba(52.46153846153840, 4.538461538461530, 151.61538461538460,0.4)\",\"width\":2},\"lon\":[8,-13],\"mode\":\"lines\",\"showlegend\":false,\"text\":\"2 passes from NK to JV\",\"type\":\"scattergeo\"},{\"hoverinfo\":\"text\",\"lat\":[-11,1],\"legendgroup\":\"NK\",\"line\":{\"color\":\"rgba(52.46153846153840, 4.538461538461530, 151.61538461538460,0.4)\",\"width\":1},\"lon\":[8,15],\"mode\":\"lines\",\"showlegend\":false,\"text\":\"1 passes from NK to EL\",\"type\":\"scattergeo\"},{\"hoverinfo\":\"text\",\"lat\":[-11,-16],\"legendgroup\":\"NK\",\"line\":{\"color\":\"rgba(52.46153846153840, 4.538461538461530, 151.61538461538460,0.4)\",\"width\":1},\"lon\":[8,42],\"mode\":\"lines\",\"showlegend\":false,\"text\":\"1 passes from NK to AL\",\"type\":\"scattergeo\"},{\"hoverinfo\":\"text\",\"lat\":[-18,64],\"legendgroup\":\"JG\",\"line\":{\"color\":\"rgba(52.46153846153840, 4.538461538461530, 151.61538461538460,0.4)\",\"width\":4},\"lon\":[19,76],\"mode\":\"lines\",\"showlegend\":false,\"text\":\"4 passes from JG to SG\",\"type\":\"scattergeo\"},{\"hoverinfo\":\"text\",\"lat\":[-18,17],\"legendgroup\":\"JG\",\"line\":{\"color\":\"rgba(52.46153846153840, 4.538461538461530, 151.61538461538460,0.4)\",\"width\":2},\"lon\":[19,-33],\"mode\":\"lines\",\"showlegend\":false,\"text\":\"2 passes from JG to CS\",\"type\":\"scattergeo\"},{\"hoverinfo\":\"text\",\"lat\":[-18,29],\"legendgroup\":\"JG\",\"line\":{\"color\":\"rgba(52.46153846153840, 4.538461538461530, 151.61538461538460,0.4)\",\"width\":1},\"lon\":[19,80],\"mode\":\"lines\",\"showlegend\":false,\"text\":\"1 passes from JG to AY\",\"type\":\"scattergeo\"},{\"hoverinfo\":\"text\",\"hovertext\":\"111.0\",\"lat\":[33],\"legendgroup\":\"FS\",\"lon\":[27],\"marker\":{\"color\":\"#f0f921\",\"line\":{\"color\":\"black\",\"width\":0.5},\"size\":50.45454545454545},\"mode\":\"markers+text\",\"name\":\"FS\",\"text\":\"FS\",\"textfont\":{\"color\":\"gray\"},\"textposition\":\"middle center\",\"type\":\"scattergeo\"},{\"hoverinfo\":\"text\",\"hovertext\":\"90.0\",\"lat\":[53],\"legendgroup\":\"GA\",\"lon\":[58],\"marker\":{\"color\":\"rgb(251.53846153846155, 170.5769230769231, 52.61538461538461)\",\"line\":{\"color\":\"black\",\"width\":0.5},\"size\":40.90909090909091},\"mode\":\"markers+text\",\"name\":\"GA\",\"text\":\"GA\",\"textfont\":{\"color\":\"gray\"},\"textposition\":\"middle center\",\"type\":\"scattergeo\"},{\"hoverinfo\":\"text\",\"hovertext\":\"160.0\",\"lat\":[56],\"legendgroup\":\"SH\",\"lon\":[10],\"marker\":{\"color\":\"rgb(245.07692307692307, 142.9230769230769, 68.57692307692308)\",\"line\":{\"color\":\"black\",\"width\":0.5},\"size\":72.72727272727272},\"mode\":\"markers+text\",\"name\":\"SH\",\"text\":\"SH\",\"textfont\":{\"color\":\"gray\"},\"textposition\":\"middle center\",\"type\":\"scattergeo\"},{\"hoverinfo\":\"text\",\"hovertext\":\"27.0\",\"lat\":[3],\"legendgroup\":\"JS\",\"lon\":[72],\"marker\":{\"color\":\"rgb(171.23076923076925, 37.76923076923078, 146.9230769230769)\",\"line\":{\"color\":\"black\",\"width\":0.5},\"size\":12.272727272727272},\"mode\":\"markers+text\",\"name\":\"JS\",\"text\":\"JS\",\"textfont\":{\"color\":\"black\"},\"textposition\":\"bottom center\",\"type\":\"scattergeo\"},{\"hoverinfo\":\"text\",\"hovertext\":\"75.0\",\"lat\":[64],\"legendgroup\":\"SG\",\"lon\":[76],\"marker\":{\"color\":\"rgb(102.15384615384616, 1.538461538461538, 165.57692307692307)\",\"line\":{\"color\":\"black\",\"width\":0.5},\"size\":34.090909090909086},\"mode\":\"markers+text\",\"name\":\"SG\",\"text\":\"SG\",\"textfont\":{\"color\":\"gray\"},\"textposition\":\"middle center\",\"type\":\"scattergeo\"},{\"hoverinfo\":\"text\",\"hovertext\":\"45.0\",\"lat\":[17],\"legendgroup\":\"CS\",\"lon\":[-33],\"marker\":{\"color\":\"rgb(102.15384615384616, 1.538461538461538, 165.57692307692307)\",\"line\":{\"color\":\"black\",\"width\":0.5},\"size\":20.454545454545453},\"mode\":\"markers+text\",\"name\":\"CS\",\"text\":\"CS\",\"textfont\":{\"color\":\"black\"},\"textposition\":\"bottom center\",\"type\":\"scattergeo\"},{\"hoverinfo\":\"text\",\"hovertext\":\"16.0\",\"lat\":[10],\"legendgroup\":\"JV\",\"lon\":[-13],\"marker\":{\"color\":\"rgb(102.15384615384616, 1.538461538461538, 165.57692307692307)\",\"line\":{\"color\":\"black\",\"width\":0.5},\"size\":7.2727272727272725},\"mode\":\"markers+text\",\"name\":\"JV\",\"text\":\"JV\",\"textfont\":{\"color\":\"black\"},\"textposition\":\"bottom center\",\"type\":\"scattergeo\"},{\"hoverinfo\":\"text\",\"hovertext\":\"8.0\",\"lat\":[-13],\"legendgroup\":\"MR\",\"lon\":[-21],\"marker\":{\"color\":\"rgb(102.15384615384616, 1.538461538461538, 165.57692307692307)\",\"line\":{\"color\":\"black\",\"width\":0.5},\"size\":3.6363636363636362},\"mode\":\"markers+text\",\"name\":\"MR\",\"text\":\"MR\",\"textfont\":{\"color\":\"black\"},\"textposition\":\"bottom center\",\"type\":\"scattergeo\"},{\"hoverinfo\":\"text\",\"hovertext\":\"22.0\",\"lat\":[1],\"legendgroup\":\"EL\",\"lon\":[15],\"marker\":{\"color\":\"rgb(86.92307692307693, 2.2307692307692304, 162.46153846153845)\",\"line\":{\"color\":\"black\",\"width\":0.5},\"size\":10.0},\"mode\":\"markers+text\",\"name\":\"EL\",\"text\":\"EL\",\"textfont\":{\"color\":\"black\"},\"textposition\":\"bottom center\",\"type\":\"scattergeo\"},{\"hoverinfo\":\"text\",\"hovertext\":\"33.0\",\"lat\":[10],\"legendgroup\":\"SB\",\"lon\":[43],\"marker\":{\"color\":\"rgb(86.92307692307693, 2.2307692307692304, 162.46153846153845)\",\"line\":{\"color\":\"black\",\"width\":0.5},\"size\":14.999999999999998},\"mode\":\"markers+text\",\"name\":\"SB\",\"text\":\"SB\",\"textfont\":{\"color\":\"black\"},\"textposition\":\"bottom center\",\"type\":\"scattergeo\"},{\"hoverinfo\":\"text\",\"hovertext\":\"42.0\",\"lat\":[11],\"legendgroup\":\"MV\",\"lon\":[2],\"marker\":{\"color\":\"rgb(86.92307692307693, 2.2307692307692304, 162.46153846153845)\",\"line\":{\"color\":\"black\",\"width\":0.5},\"size\":19.09090909090909},\"mode\":\"markers+text\",\"name\":\"MV\",\"text\":\"MV\",\"textfont\":{\"color\":\"black\"},\"textposition\":\"bottom center\",\"type\":\"scattergeo\"},{\"hoverinfo\":\"text\",\"hovertext\":\"102.0\",\"lat\":[29],\"legendgroup\":\"AY\",\"lon\":[80],\"marker\":{\"color\":\"rgb(86.92307692307693, 2.2307692307692304, 162.46153846153845)\",\"line\":{\"color\":\"black\",\"width\":0.5},\"size\":46.36363636363636},\"mode\":\"markers+text\",\"name\":\"AY\",\"text\":\"AY\",\"textfont\":{\"color\":\"gray\"},\"textposition\":\"middle center\",\"type\":\"scattergeo\"},{\"hoverinfo\":\"text\",\"hovertext\":\"17.0\",\"lat\":[10],\"legendgroup\":\"JL\",\"lon\":[89],\"marker\":{\"color\":\"rgb(71.6923076923077, 2.923076923076923, 159.34615384615384)\",\"line\":{\"color\":\"black\",\"width\":0.5},\"size\":7.727272727272727},\"mode\":\"markers+text\",\"name\":\"JL\",\"text\":\"JL\",\"textfont\":{\"color\":\"black\"},\"textposition\":\"bottom center\",\"type\":\"scattergeo\"},{\"hoverinfo\":\"text\",\"hovertext\":\"13.0\",\"lat\":[7],\"legendgroup\":\"LB\",\"lon\":[26],\"marker\":{\"color\":\"rgb(71.6923076923077, 2.923076923076923, 159.34615384615384)\",\"line\":{\"color\":\"black\",\"width\":0.5},\"size\":5.909090909090908},\"mode\":\"markers+text\",\"name\":\"LB\",\"text\":\"LB\",\"textfont\":{\"color\":\"black\"},\"textposition\":\"bottom center\",\"type\":\"scattergeo\"},{\"hoverinfo\":\"text\",\"hovertext\":\"14.0\",\"lat\":[49],\"legendgroup\":\"CC\",\"lon\":[78],\"marker\":{\"color\":\"rgb(71.6923076923077, 2.923076923076923, 159.34615384615384)\",\"line\":{\"color\":\"black\",\"width\":0.5},\"size\":6.363636363636363},\"mode\":\"markers+text\",\"name\":\"CC\",\"text\":\"CC\",\"textfont\":{\"color\":\"black\"},\"textposition\":\"bottom center\",\"type\":\"scattergeo\"},{\"hoverinfo\":\"text\",\"hovertext\":\"29.0\",\"lat\":[-16],\"legendgroup\":\"AL\",\"lon\":[42],\"marker\":{\"color\":\"rgb(71.6923076923077, 2.923076923076923, 159.34615384615384)\",\"line\":{\"color\":\"black\",\"width\":0.5},\"size\":13.18181818181818},\"mode\":\"markers+text\",\"name\":\"AL\",\"text\":\"AL\",\"textfont\":{\"color\":\"black\"},\"textposition\":\"bottom center\",\"type\":\"scattergeo\"},{\"hoverinfo\":\"text\",\"hovertext\":\"12.0\",\"lat\":[-11],\"legendgroup\":\"NK\",\"lon\":[8],\"marker\":{\"color\":\"rgb(52.46153846153847, 4.538461538461538, 151.6153846153846)\",\"line\":{\"color\":\"black\",\"width\":0.5},\"size\":5.454545454545454},\"mode\":\"markers+text\",\"name\":\"NK\",\"text\":\"NK\",\"textfont\":{\"color\":\"black\"},\"textposition\":\"bottom center\",\"type\":\"scattergeo\"},{\"hoverinfo\":\"text\",\"hovertext\":\"7.0\",\"lat\":[-18],\"legendgroup\":\"JG\",\"lon\":[19],\"marker\":{\"color\":\"rgb(52.46153846153847, 4.538461538461538, 151.6153846153846)\",\"line\":{\"color\":\"black\",\"width\":0.5},\"size\":3.1818181818181817},\"mode\":\"markers+text\",\"name\":\"JG\",\"text\":\"JG\",\"textfont\":{\"color\":\"black\"},\"textposition\":\"bottom center\",\"type\":\"scattergeo\"}],                        {\"geo\":{\"fitbounds\":\"locations\",\"visible\":false},\"height\":500,\"images\":[{\"sizex\":0.2,\"sizey\":0.2,\"source\":\"https://raw.githubusercontent.com/elastufka/presentations/master/images/ZU_logo1.png\",\"x\":0,\"xanchor\":\"right\",\"xref\":\"paper\",\"y\":1.05,\"yanchor\":\"bottom\",\"yref\":\"paper\"}],\"margin\":{\"b\":0,\"l\":0,\"r\":0,\"t\":40},\"plot_bgcolor\":\"light gray\",\"showlegend\":true,\"template\":{\"layout\":{\"colorway\":[\"#000000\",\"#784F17\",\"#FF0018\",\"#FFA52C\",\"#FFFF41\",\"#008018\",\"#0000F9\",\"#86007D\"],\"plot_bgcolor\":\"lightgrey\"}},\"title\":{\"text\":\"Completed Passes\"},\"width\":850,\"xaxis\":{\"visible\":false}},                        {\"responsive\": true}                    ).then(function(){\n",
       "                            \n",
       "var gd = document.getElementById('e7d2eabd-b377-464b-840d-9e2288a4c58a');\n",
       "var x = new MutationObserver(function (mutations, observer) {{\n",
       "        var display = window.getComputedStyle(gd).display;\n",
       "        if (!display || display === 'none') {{\n",
       "            console.log([gd, 'removed!']);\n",
       "            Plotly.purge(gd);\n",
       "            observer.disconnect();\n",
       "        }}\n",
       "}});\n",
       "\n",
       "// Listen for the removal of the full notebook cells\n",
       "var notebookContainer = gd.closest('#notebook-container');\n",
       "if (notebookContainer) {{\n",
       "    x.observe(notebookContainer, {childList: true});\n",
       "}}\n",
       "\n",
       "// Listen for the clearing of the current output cell\n",
       "var outputEl = gd.closest('.output');\n",
       "if (outputEl) {{\n",
       "    x.observe(outputEl, {childList: true});\n",
       "}}\n",
       "\n",
       "                        })                };                });            </script>        </div>"
      ]
     },
     "metadata": {},
     "output_type": "display_data"
    }
   ],
   "source": [
    "fig = go.Figure()\n",
    "\n",
    "for j,v0 in enumerate(anony_list):\n",
    "    for i,v in enumerate(anony_list):\n",
    "        if v!=v0:\n",
    "            if ndict[v0][v] !=0:\n",
    "                fig.add_trace(\n",
    "        go.Scattergeo(\n",
    "            lon = [fakex[j], ndict[v]['coords'][0]],\n",
    "            lat = [fakey[j], ndict[v]['coords'][1]],\n",
    "            mode = 'lines',\n",
    "            hoverinfo = 'text',\n",
    "            text=f\"{ndict[v0][v]} passes from {v0} to {v}\",\n",
    "            line = dict(color = lower_opacity(ccolors[j],opacity=.4),width=ndict[v0][v]),\n",
    "            legendgroup=v0,showlegend=False))\n",
    "                \n",
    "for j,v0 in enumerate(anony_list):\n",
    "    if msizes[j] > 30:\n",
    "        tp=\"middle center\"\n",
    "        tc='gray'\n",
    "    else:\n",
    "        tp=\"bottom center\"\n",
    "        tc='black'\n",
    "    fig.add_trace(go.Scattergeo(\n",
    "    lon = [fakex[j]],\n",
    "    lat = [fakey[j]],\n",
    "    name=v0,\n",
    "    legendgroup=v0,\n",
    "    hoverinfo = 'text',\n",
    "    hovertext = msizes[j]*2,\n",
    "    text=v0,\n",
    "    mode = 'markers+text',\n",
    "    textposition=tp,\n",
    "    textfont_color=tc,\n",
    "    marker = dict(\n",
    "        size = np.array(msizes[j])/1.1,\n",
    "        color = ccolors[j],\n",
    "        line = dict(\n",
    "            width = .5,\n",
    "            color = 'black')\n",
    "        )\n",
    "    ))\n",
    "\n",
    "fig.update_geos(visible=False,fitbounds=\"locations\")\n",
    "fig.update_layout(logo_layout,width=slidew,height=slideh)\n",
    "fig.update_layout(title='Completed Passes',height=500, margin={\"r\":0,\"t\":40,\"l\":0,\"b\":0},showlegend = True,plot_bgcolor='light gray',xaxis_visible=False)"
   ]
  },
  {
   "cell_type": "code",
   "execution_count": null,
   "metadata": {
    "slideshow": {
     "slide_type": "fragment"
    }
   },
   "outputs": [],
   "source": []
  },
  {
   "cell_type": "code",
   "execution_count": null,
   "metadata": {
    "slideshow": {
     "slide_type": "fragment"
    }
   },
   "outputs": [],
   "source": []
  },
  {
   "cell_type": "code",
   "execution_count": null,
   "metadata": {
    "slideshow": {
     "slide_type": "fragment"
    }
   },
   "outputs": [],
   "source": []
  }
 ],
 "metadata": {
  "celltoolbar": "Edit Metadata",
  "kernelspec": {
   "display_name": "Python 3",
   "language": "python",
   "name": "python3"
  },
  "language_info": {
   "codemirror_mode": {
    "name": "ipython",
    "version": 3
   },
   "file_extension": ".py",
   "mimetype": "text/x-python",
   "name": "python",
   "nbconvert_exporter": "python",
   "pygments_lexer": "ipython3",
   "version": "3.7.8"
  }
 },
 "nbformat": 4,
 "nbformat_minor": 4
}
